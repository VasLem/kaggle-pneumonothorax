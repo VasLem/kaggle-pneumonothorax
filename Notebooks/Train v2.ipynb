{
 "cells": [
  {
   "cell_type": "code",
   "execution_count": 1,
   "metadata": {},
   "outputs": [
    {
     "data": {
      "text/html": [
       "<style>.container { width:100% !important; }</style>"
      ],
      "text/plain": [
       "<IPython.core.display.HTML object>"
      ]
     },
     "metadata": {},
     "output_type": "display_data"
    }
   ],
   "source": [
    "%matplotlib inline\n",
    "from IPython.core.display import display, HTML\n",
    "display(HTML(\"<style>.container { width:100% !important; }</style>\"))"
   ]
  },
  {
   "cell_type": "code",
   "execution_count": 2,
   "metadata": {},
   "outputs": [],
   "source": [
    "%load_ext autoreload\n",
    "%autoreload 2"
   ]
  },
  {
   "cell_type": "code",
   "execution_count": 3,
   "metadata": {},
   "outputs": [
    {
     "name": "stdout",
     "output_type": "stream",
     "text": [
      "Training folder data size: 10675\n",
      "Testing folder data size: 1377\n"
     ]
    }
   ],
   "source": [
    "import os\n",
    "import sys\n",
    "import cv2\n",
    "import random\n",
    "import datetime\n",
    "import matplotlib.pyplot as plt\n",
    "import numpy as np\n",
    "import pandas as pd\n",
    "import pickle\n",
    "import pretrainedmodels.utils as utils\n",
    "import torch\n",
    "import torch.optim as optim\n",
    "from apex import amp\n",
    "from easydict import EasyDict\n",
    "from numpy.random import choice, seed\n",
    "from PIL import Image\n",
    "from pretrainedmodels import xception\n",
    "from torch import nn\n",
    "from torch import from_numpy\n",
    "from torch.utils.data import Dataset, SequentialSampler\n",
    "from torchvision import transforms as tt\n",
    "from torchvision.transforms.functional import to_tensor\n",
    "from tqdm import tqdm_notebook as tqdm\n",
    "# from unet.unet_model import UNet\n",
    "from segmentation_models_pytorch import Unet\n",
    "from custom_pytorch import custom_layers\n",
    "from custom_pytorch.custom_models import SamplingSegmentationV3 as SamplingSegmentation\n",
    "from custom_pytorch.custom_samplers import SubsetRandomSampler\n",
    "from custom_pytorch.custom_schedulers import CyclicLRWithRestarts\n",
    "from custom_pytorch.custom_losses.dice import *\n",
    "from custom_pytorch.metrics import DiceCoeff\n",
    "from custom_pytorch.custom_utils import params_number, submodules_number\n",
    "from custom_pytorch.custom_logs.segmentation import Logger\n",
    "from custom_pytorch.custom_visualizations.segmentation import Visualizer\n",
    "from custom_pytorch.custom_utils import get_model_name\n",
    "from custom_pytorch.optimizers.adabound import AdaBound\n",
    "from torchcontrib.optim import SWA\n",
    "\n",
    "# dice_loss = GeneralizedDiceLoss()\n",
    "import PyQt5\n",
    "sys.path.insert(0, '../')\n",
    "from shared import *\n",
    "from config import CONFIG\n",
    "import fastai"
   ]
  },
  {
   "cell_type": "code",
   "execution_count": 4,
   "metadata": {},
   "outputs": [],
   "source": [
    "from custom_pytorch.custom_models import SEXceptionXUnet"
   ]
  },
  {
   "cell_type": "code",
   "execution_count": 5,
   "metadata": {},
   "outputs": [],
   "source": [
    "ENCODER = 'se_resnext50_32x4d'\n",
    "ENCODER_WEIGHTS = 'imagenet'\n",
    "DEVICE = 'cuda'\n",
    "\n",
    "ACTIVATION = 'sigmoid'\n",
    "# create segmentation model with pretrained encoder\n",
    "# model = smp.Unet(\n",
    "#     encoder_name=ENCODER, \n",
    "#     encoder_weights=ENCODER_WEIGHTS, \n",
    "#     classes=1, \n",
    "#     activation=ACTIVATION,\n",
    "# )\n",
    "# model.name = 'unet'\n",
    "sample = get_dataset('train')[0]['image']\n",
    "sample = sample.unsqueeze(dim=0)\n",
    "\n",
    "from custom_pytorch.models.efficient_net_encoder import EfficientNetEncoder\n",
    "\n",
    "\n",
    "from efficientunet import *\n",
    "\n",
    "# encoder = EfficientNetEncoder('efficientnet-b2', pretrained=True)\n",
    "\n",
    "# model = SamplingSegmentation(3, 1, 5, 2)\n",
    "\n",
    "# model = SEXceptionXUnet(ENCODER, sample, 1, reversed_features=True).cuda()\n",
    "# model = SEXceptionXUnet(encoder, sample, 1, reversed_features=False).cuda()\n",
    "model = torch.load(\"best_sampling_segmentation_D_2019-08-18_04:59:59.346999_Size_256_Ep_64_TL_7.11_VL_7.11_TM_0.27_VM_0.27.pth\")\n",
    "# model = SamplingSegmentation(3, 1, CONFIG.net_params.depth, CONFIG.net_params.resolution).cuda()\n",
    "# net = NeuralNet().cuda()\n",
    "\n",
    "\n",
    "\n",
    "# print(\"Total number of trainable parameters:\", par_num(model))\n",
    "# print(\"Total number of encoder parameters:\", par_num(model.encoder))\n",
    "# print(\"Total number of decoder parameters:\", par_num(model.decoder))\n",
    "# print(\"Total number of output layer parameters:\", par_num(model.output_layer))\n",
    "# for c, col in enumerate(model.decoder['decoding_columns']):\n",
    "#     print('')\n",
    "#     print('Column ', c)\n",
    "#     print(\"Number of decoders: \", len(col.column_decoders))\n",
    "#     print(\"Dimensions of decoders: \", [sub_num(dec) for dec in col.column_decoders])\n",
    "#     print(\"Parameters of decoders: \", [par_num(dec) for dec in col.column_decoders])\n",
    "#     print(\"Number of downsamplers: \", len(col.column_downsamplers))\n",
    "#     print(\"Dimensions of downsamplers: \", [sub_num(dec) for dec in col.column_downsamplers])\n",
    "#     print(\"Number of modules: \", sub_num(col))\n",
    "#     column_parameters = filter(lambda p: p.requires_grad, col.parameters())\n",
    "#     params = sum([np.prod(p.size()) for p in column_parameters])\n",
    "#     print(\"Number of parameters: \", params)\n",
    "# print('')\n",
    "# print(\"Dimensions of output layer: \", sub_num(model.output_layer))"
   ]
  },
  {
   "cell_type": "code",
   "execution_count": 6,
   "metadata": {},
   "outputs": [],
   "source": [
    "# decoding_column_ind = 1\n",
    "# column_decoder_ind = 0\n",
    "# {key: (value.size(), np.prod(value.size())) for key, value in model.decoder['decoding_columns'][decoding_column_ind].column_decoders[column_decoder_ind].named_parameters()}"
   ]
  },
  {
   "cell_type": "code",
   "execution_count": 7,
   "metadata": {},
   "outputs": [],
   "source": [
    "# model.decoder['decoding_columns'][decoding_column_ind].column_decoders[column_decoder_ind].reps"
   ]
  },
  {
   "cell_type": "code",
   "execution_count": 8,
   "metadata": {
    "code_folding": [],
    "scrolled": true
   },
   "outputs": [],
   "source": [
    "from custom_pytorch.external.onecyclelr import OneCycleLR\n",
    "\n",
    "\n",
    "def train_model():\n",
    "    model.train()\n",
    "    lr = CONFIG.lr\n",
    "\n",
    "    \n",
    "    # scheduler = AdaptiveCyclicCosineAnnealing(CONFIG.lr,  optimizer, 200, CONFIG.train_batches_num, snapshots_num=8)\n",
    "\n",
    "\n",
    "    train_losses = {}\n",
    "    train_coeffs = {}\n",
    "    valid_losses = {}\n",
    "    valid_coeffs = {}\n",
    "    step = 0\n",
    "    run_validation_every_n_steps = 100\n",
    "\n",
    "    examples_savedir = os.path.join(LOGS_SAVE_DIR, 'visual')\n",
    "    try:\n",
    "        os.makedirs(examples_savedir)\n",
    "    except OSError:\n",
    "        pass\n",
    "\n",
    "\n",
    "    VISUAL_EXAMPLES_EVERY = 50\n",
    "    TRAIN_PLOT_EVERY = 50\n",
    "    partial_loss = 0\n",
    "    partial_coeff = 0\n",
    "\n",
    "    # visualizer = Visualizer(CONFIG, metric_used='Dice Coefficient', include_lr=True, examples_savedir=examples_savedir)\n",
    "\n",
    "#     loss = CEDiceLoss(with_logits=True)\n",
    "#     loss = WindowedCEDiceLoss()\n",
    "#     loss = MultiWindowedBCELoss(with_logits=True, win_num=20)\n",
    "#     loss = BCEAndMultiWindowedDiceLoss(with_logits=True, dice_loss_kwargs={'win_num': 10})\n",
    "    loss = MultiWindowedDiceLoss(with_logits=True, win_num=10)\n",
    "#     loss = BCEAndDiceLoss(with_logits=True)\n",
    "#     loss = ExpandedBCEDiceLoss(with_logits=True, win_num=10)\n",
    "#     loss = MultiWindowedDiceLoss(with_logits=True, win_num=10)\n",
    "    \n",
    "    metrics = [\n",
    "            smp.utils.metrics.IoUMetric(eps=1.),\n",
    "            smp.utils.metrics.FscoreMetric(eps=1.),\n",
    "        ]\n",
    "    optimizer = torch.optim.Adam(model.parameters(), lr=lr)\n",
    "    early_epochs = 0\n",
    "#     scheduler = OneCycleLR(optimizer, num_steps=early_epochs, lr_range=(lr, min(1, 10 * lr)))\n",
    "    trainer = Trainer(model, optimizer, loss, metrics)\n",
    "\n",
    "    # train model for 40 epochs\n",
    "\n",
    "    max_score = 0\n",
    "    i = 0\n",
    "    stale_epochs_num = 0\n",
    "    min_loss = 10000\n",
    "    ALLOWED_STALE = 2 * CONFIG.restart_period\n",
    "    SWA_START = 3 * CONFIG.restart_period\n",
    "    best_model_name = None\n",
    "    while True:\n",
    "        if i == early_epochs:\n",
    "            print(\"\\n\\nOne cycle policy finished, starting Cyclic LR schedule with lower LR\\n\\n\")\n",
    "            trainer.optimizer = SWA(torch.optim.SGD(model.parameters(), lr=CONFIG.lr), \n",
    "                                    swa_start=SWA_START * CONFIG.train_batches_number,\n",
    "                                    swa_freq=2 * CONFIG.train_batches_number,\n",
    "                                    swa_lr=1e-2 * CONFIG.lr)\n",
    "#             trainer.optimizer = torch.optim.Adam(model.parameters(), lr=CONFIG.lr)\n",
    "            scheduler = CyclicLRWithRestarts(trainer.optimizer, CONFIG.batch_size, CONFIG.train_size, restart_period=CONFIG.restart_period,\n",
    "                                          t_mult=1.2, min_lr= 1e-2 * CONFIG.lr)\n",
    "\n",
    "        print('\\nEpoch: {}, LR: {}'.format(i, trainer.optimizer.param_groups[0]['lr']))\n",
    "        train_logs = trainer.step(logs=trainer.train_loss_logs, valid=False)\n",
    "        trainer.write_logs(i, train_logs, valid=False)\n",
    "        valid_logs = trainer.step(logs=trainer.valid_loss_logs, valid=True)\n",
    "        trainer.write_logs(i, valid_logs, valid=True)\n",
    "\n",
    "\n",
    "        # do something (save model, change lr, etc.)\n",
    "        stale_epoch = True\n",
    "        if max_score < valid_logs['iou']:\n",
    "            stale_epochs_num = 0\n",
    "            max_score = valid_logs['iou']\n",
    "            best_model_name = get_model_name(CONFIG, epoch=i, valid_metric=max_score, train_metric=valid_logs['iou'], valid_loss=valid_logs[loss.__name__], train_loss=train_logs[loss.__name__])\n",
    "            best_model_name = f'./best_{best_model_name}.pth'\n",
    "            torch.save(model, best_model_name)\n",
    "            print('Model saved!')\n",
    "            stale_epoch = False\n",
    "        if valid_logs[loss.__name__] < min_loss:\n",
    "            min_loss = valid_logs[loss.__name__]\n",
    "            stale_epoch = False\n",
    "            print(\"Minimum valid loss was found, the stale counter has reset.\")\n",
    "        if stale_epoch:\n",
    "            stale_epochs_num += 1\n",
    "        if stale_epochs_num == ALLOWED_STALE:\n",
    "            print(f\"No improvements for the last {ALLOWED_STALE} epochs, the training has finished\")\n",
    "            print(f\"Best validation IoU score: {max_score}\")\n",
    "            break\n",
    "#         scheduler.step()\n",
    "        if i < SWA_START:\n",
    "            scheduler.step()\n",
    "        i += 1\n",
    "    trainer.optimizer.swap_swa_sgd()\n",
    "    model_name = get_model_name(CONFIG, epoch=i, valid_metric=max_score, train_metric=train_logs['iou'], valid_loss=valid_logs[loss.__name__], train_loss=train_logs[loss.__name__])\n",
    "    torch.save(model, f'./last__{model_name}.pth')\n",
    "    return best_model_name"
   ]
  },
  {
   "cell_type": "code",
   "execution_count": 9,
   "metadata": {},
   "outputs": [
    {
     "data": {
      "text/plain": [
       "68058744"
      ]
     },
     "execution_count": 9,
     "metadata": {},
     "output_type": "execute_result"
    }
   ],
   "source": [
    "params_number(model)"
   ]
  },
  {
   "cell_type": "code",
   "execution_count": 10,
   "metadata": {},
   "outputs": [
    {
     "data": {
      "text/plain": [
       "761"
      ]
     },
     "execution_count": 10,
     "metadata": {},
     "output_type": "execute_result"
    }
   ],
   "source": [
    "submodules_number(model)"
   ]
  },
  {
   "cell_type": "code",
   "execution_count": null,
   "metadata": {
    "scrolled": true
   },
   "outputs": [
    {
     "name": "stdout",
     "output_type": "stream",
     "text": [
      "\n",
      "\n",
      "One cycle policy finished, starting Cyclic LR schedule with lower LR\n",
      "\n",
      "\n",
      "\n",
      "Epoch: 0, LR: 0.001\n"
     ]
    },
    {
     "data": {
      "application/vnd.jupyter.widget-view+json": {
       "model_id": "100ed37b474c4bf4b2b09f6c6c3fcb52",
       "version_major": 2,
       "version_minor": 0
      },
      "text/plain": [
       "HBox(children=(IntProgress(value=0, description='train', max=2000), HTML(value='')))"
      ]
     },
     "metadata": {},
     "output_type": "display_data"
    },
    {
     "name": "stdout",
     "output_type": "stream",
     "text": [
      "\n"
     ]
    },
    {
     "data": {
      "application/vnd.jupyter.widget-view+json": {
       "model_id": "037bd1e95bf04b8bb2a5be5bd5cccb15",
       "version_major": 2,
       "version_minor": 0
      },
      "text/plain": [
       "HBox(children=(IntProgress(value=0, description='valid', max=84), HTML(value='')))"
      ]
     },
     "metadata": {},
     "output_type": "display_data"
    },
    {
     "name": "stdout",
     "output_type": "stream",
     "text": [
      "\n",
      "Model saved!\n",
      "Minimum valid loss was found, the stale counter has reset.\n",
      "\n",
      "Epoch: 1, LR: 0.001\n"
     ]
    },
    {
     "data": {
      "application/vnd.jupyter.widget-view+json": {
       "model_id": "53e1ca5b9b244e198c006913d18f5ea4",
       "version_major": 2,
       "version_minor": 0
      },
      "text/plain": [
       "HBox(children=(IntProgress(value=0, description='train', max=2000), HTML(value='')))"
      ]
     },
     "metadata": {},
     "output_type": "display_data"
    },
    {
     "name": "stdout",
     "output_type": "stream",
     "text": [
      "\n"
     ]
    },
    {
     "data": {
      "application/vnd.jupyter.widget-view+json": {
       "model_id": "9212bf53aed74bcc8abe50986c5ffa4e",
       "version_major": 2,
       "version_minor": 0
      },
      "text/plain": [
       "HBox(children=(IntProgress(value=0, description='valid', max=84), HTML(value='')))"
      ]
     },
     "metadata": {},
     "output_type": "display_data"
    },
    {
     "name": "stdout",
     "output_type": "stream",
     "text": [
      "\n",
      "\n",
      "Epoch: 2, LR: 0.0009990232305719944\n"
     ]
    },
    {
     "data": {
      "application/vnd.jupyter.widget-view+json": {
       "model_id": "eb5800ae1a0f4982b864f43895a7d51f",
       "version_major": 2,
       "version_minor": 0
      },
      "text/plain": [
       "HBox(children=(IntProgress(value=0, description='train', max=2000), HTML(value='')))"
      ]
     },
     "metadata": {},
     "output_type": "display_data"
    },
    {
     "name": "stdout",
     "output_type": "stream",
     "text": [
      "\n"
     ]
    },
    {
     "data": {
      "application/vnd.jupyter.widget-view+json": {
       "model_id": "c920f539fe844db69cc4bfd2c8867156",
       "version_major": 2,
       "version_minor": 0
      },
      "text/plain": [
       "HBox(children=(IntProgress(value=0, description='valid', max=84), HTML(value='')))"
      ]
     },
     "metadata": {},
     "output_type": "display_data"
    },
    {
     "name": "stdout",
     "output_type": "stream",
     "text": [
      "\n",
      "\n",
      "Epoch: 3, LR: 0.0009960967771506667\n"
     ]
    },
    {
     "data": {
      "application/vnd.jupyter.widget-view+json": {
       "model_id": "a9f8eb5dee08402e90d4ddceb01269bd",
       "version_major": 2,
       "version_minor": 0
      },
      "text/plain": [
       "HBox(children=(IntProgress(value=0, description='train', max=2000), HTML(value='')))"
      ]
     },
     "metadata": {},
     "output_type": "display_data"
    },
    {
     "name": "stdout",
     "output_type": "stream",
     "text": [
      "\n"
     ]
    },
    {
     "data": {
      "application/vnd.jupyter.widget-view+json": {
       "model_id": "047d18f2c02246dfa119119922187f3d",
       "version_major": 2,
       "version_minor": 0
      },
      "text/plain": [
       "HBox(children=(IntProgress(value=0, description='valid', max=84), HTML(value='')))"
      ]
     },
     "metadata": {},
     "output_type": "display_data"
    },
    {
     "name": "stdout",
     "output_type": "stream",
     "text": [
      "\n",
      "\n",
      "Epoch: 4, LR: 0.000991232189110701\n"
     ]
    },
    {
     "data": {
      "application/vnd.jupyter.widget-view+json": {
       "model_id": "0abb89e871054787857693dc52d600fa",
       "version_major": 2,
       "version_minor": 0
      },
      "text/plain": [
       "HBox(children=(IntProgress(value=0, description='train', max=2000), HTML(value='')))"
      ]
     },
     "metadata": {},
     "output_type": "display_data"
    },
    {
     "name": "stdout",
     "output_type": "stream",
     "text": [
      "\n"
     ]
    },
    {
     "data": {
      "application/vnd.jupyter.widget-view+json": {
       "model_id": "af4bd3ff421e43feb08d449e4e54646f",
       "version_major": 2,
       "version_minor": 0
      },
      "text/plain": [
       "HBox(children=(IntProgress(value=0, description='valid', max=84), HTML(value='')))"
      ]
     },
     "metadata": {},
     "output_type": "display_data"
    },
    {
     "name": "stdout",
     "output_type": "stream",
     "text": [
      "\n",
      "\n",
      "Epoch: 5, LR: 0.0009844486647586723\n"
     ]
    },
    {
     "data": {
      "application/vnd.jupyter.widget-view+json": {
       "model_id": "f5322675da4d44c58fd34a3ef7570d53",
       "version_major": 2,
       "version_minor": 0
      },
      "text/plain": [
       "HBox(children=(IntProgress(value=0, description='train', max=2000), HTML(value='')))"
      ]
     },
     "metadata": {},
     "output_type": "display_data"
    },
    {
     "name": "stdout",
     "output_type": "stream",
     "text": [
      "\n"
     ]
    },
    {
     "data": {
      "application/vnd.jupyter.widget-view+json": {
       "model_id": "8978722207464c64a52b6502e1939be6",
       "version_major": 2,
       "version_minor": 0
      },
      "text/plain": [
       "HBox(children=(IntProgress(value=0, description='valid', max=84), HTML(value='')))"
      ]
     },
     "metadata": {},
     "output_type": "display_data"
    },
    {
     "name": "stdout",
     "output_type": "stream",
     "text": [
      "\n",
      "\n",
      "Epoch: 6, LR: 0.0009757729755661011\n"
     ]
    },
    {
     "data": {
      "application/vnd.jupyter.widget-view+json": {
       "model_id": "f2c2c808aa0b47b39bad94bf2f442f98",
       "version_major": 2,
       "version_minor": 0
      },
      "text/plain": [
       "HBox(children=(IntProgress(value=0, description='train', max=2000), HTML(value='')))"
      ]
     },
     "metadata": {},
     "output_type": "display_data"
    },
    {
     "name": "stdout",
     "output_type": "stream",
     "text": [
      "\n"
     ]
    },
    {
     "data": {
      "application/vnd.jupyter.widget-view+json": {
       "model_id": "1d5554c7273443bda61368c03d640aa0",
       "version_major": 2,
       "version_minor": 0
      },
      "text/plain": [
       "HBox(children=(IntProgress(value=0, description='valid', max=84), HTML(value='')))"
      ]
     },
     "metadata": {},
     "output_type": "display_data"
    },
    {
     "name": "stdout",
     "output_type": "stream",
     "text": [
      "\n",
      "Model saved!\n",
      "Minimum valid loss was found, the stale counter has reset.\n",
      "\n",
      "Epoch: 7, LR: 0.0009652393605146844\n"
     ]
    },
    {
     "data": {
      "application/vnd.jupyter.widget-view+json": {
       "model_id": "ad3283deaae54d5080bfe6e8fd68b300",
       "version_major": 2,
       "version_minor": 0
      },
      "text/plain": [
       "HBox(children=(IntProgress(value=0, description='train', max=2000), HTML(value='')))"
      ]
     },
     "metadata": {},
     "output_type": "display_data"
    },
    {
     "name": "stdout",
     "output_type": "stream",
     "text": [
      "\n"
     ]
    },
    {
     "data": {
      "application/vnd.jupyter.widget-view+json": {
       "model_id": "b5b381fb3945442b92acbfcbeb3bb727",
       "version_major": 2,
       "version_minor": 0
      },
      "text/plain": [
       "HBox(children=(IntProgress(value=0, description='valid', max=84), HTML(value='')))"
      ]
     },
     "metadata": {},
     "output_type": "display_data"
    },
    {
     "name": "stdout",
     "output_type": "stream",
     "text": [
      "\n",
      "\n",
      "Epoch: 8, LR: 0.0009528893909706797\n"
     ]
    },
    {
     "data": {
      "application/vnd.jupyter.widget-view+json": {
       "model_id": "e8f5649abc6649a8bdda4a6e66316f40",
       "version_major": 2,
       "version_minor": 0
      },
      "text/plain": [
       "HBox(children=(IntProgress(value=0, description='train', max=2000), HTML(value='')))"
      ]
     },
     "metadata": {},
     "output_type": "display_data"
    },
    {
     "name": "stdout",
     "output_type": "stream",
     "text": [
      "\n"
     ]
    },
    {
     "data": {
      "application/vnd.jupyter.widget-view+json": {
       "model_id": "218746644b2d41c4b5844a700415ee87",
       "version_major": 2,
       "version_minor": 0
      },
      "text/plain": [
       "HBox(children=(IntProgress(value=0, description='valid', max=84), HTML(value='')))"
      ]
     },
     "metadata": {},
     "output_type": "display_data"
    },
    {
     "name": "stdout",
     "output_type": "stream",
     "text": [
      "\n",
      "Minimum valid loss was found, the stale counter has reset.\n",
      "\n",
      "Epoch: 9, LR: 0.0009387718066217125\n"
     ]
    },
    {
     "data": {
      "application/vnd.jupyter.widget-view+json": {
       "model_id": "51daec0c04ab4b88baf55a6429be32a7",
       "version_major": 2,
       "version_minor": 0
      },
      "text/plain": [
       "HBox(children=(IntProgress(value=0, description='train', max=2000), HTML(value='')))"
      ]
     },
     "metadata": {},
     "output_type": "display_data"
    },
    {
     "name": "stdout",
     "output_type": "stream",
     "text": [
      "\n"
     ]
    },
    {
     "data": {
      "application/vnd.jupyter.widget-view+json": {
       "model_id": "68f2e2352c274ff7832c7cc87ae71668",
       "version_major": 2,
       "version_minor": 0
      },
      "text/plain": [
       "HBox(children=(IntProgress(value=0, description='valid', max=84), HTML(value='')))"
      ]
     },
     "metadata": {},
     "output_type": "display_data"
    },
    {
     "name": "stdout",
     "output_type": "stream",
     "text": [
      "\n",
      "\n",
      "Epoch: 10, LR: 0.0009229423231234975\n"
     ]
    },
    {
     "data": {
      "application/vnd.jupyter.widget-view+json": {
       "model_id": "bf9cd1097428430aa97480f13d6c292b",
       "version_major": 2,
       "version_minor": 0
      },
      "text/plain": [
       "HBox(children=(IntProgress(value=0, description='train', max=2000), HTML(value='')))"
      ]
     },
     "metadata": {},
     "output_type": "display_data"
    },
    {
     "name": "stdout",
     "output_type": "stream",
     "text": [
      "\n"
     ]
    },
    {
     "data": {
      "application/vnd.jupyter.widget-view+json": {
       "model_id": "38fcb44cf1164a6ba77a4161d5d2b5f4",
       "version_major": 2,
       "version_minor": 0
      },
      "text/plain": [
       "HBox(children=(IntProgress(value=0, description='valid', max=84), HTML(value='')))"
      ]
     },
     "metadata": {},
     "output_type": "display_data"
    },
    {
     "name": "stdout",
     "output_type": "stream",
     "text": [
      "\n",
      "\n",
      "Epoch: 11, LR: 0.000905463412215599\n"
     ]
    },
    {
     "data": {
      "application/vnd.jupyter.widget-view+json": {
       "model_id": "53c4f22b35d44de88f946cabe3bb84e7",
       "version_major": 2,
       "version_minor": 0
      },
      "text/plain": [
       "HBox(children=(IntProgress(value=0, description='train', max=2000), HTML(value='')))"
      ]
     },
     "metadata": {},
     "output_type": "display_data"
    },
    {
     "name": "stdout",
     "output_type": "stream",
     "text": [
      "\n"
     ]
    },
    {
     "data": {
      "application/vnd.jupyter.widget-view+json": {
       "model_id": "857e89c91a7042baa5d1aea0f5aca21d",
       "version_major": 2,
       "version_minor": 0
      },
      "text/plain": [
       "HBox(children=(IntProgress(value=0, description='valid', max=84), HTML(value='')))"
      ]
     },
     "metadata": {},
     "output_type": "display_data"
    },
    {
     "name": "stdout",
     "output_type": "stream",
     "text": [
      "\n",
      "\n",
      "Epoch: 12, LR: 0.0008864040551740157\n"
     ]
    },
    {
     "data": {
      "application/vnd.jupyter.widget-view+json": {
       "model_id": "deeaa014db8e4280a0a119ca71b960f4",
       "version_major": 2,
       "version_minor": 0
      },
      "text/plain": [
       "HBox(children=(IntProgress(value=0, description='train', max=2000), HTML(value='')))"
      ]
     },
     "metadata": {},
     "output_type": "display_data"
    },
    {
     "name": "stdout",
     "output_type": "stream",
     "text": [
      "\n"
     ]
    },
    {
     "data": {
      "application/vnd.jupyter.widget-view+json": {
       "model_id": "0e03e00f0f074bc7b926d4f15c9d104d",
       "version_major": 2,
       "version_minor": 0
      },
      "text/plain": [
       "HBox(children=(IntProgress(value=0, description='valid', max=84), HTML(value='')))"
      ]
     },
     "metadata": {},
     "output_type": "display_data"
    },
    {
     "name": "stdout",
     "output_type": "stream",
     "text": [
      "\n",
      "\n",
      "Epoch: 13, LR: 0.0008658394705735987\n"
     ]
    },
    {
     "data": {
      "application/vnd.jupyter.widget-view+json": {
       "model_id": "fd4a1e84b7b04322aa6ccdbbbcbca9ab",
       "version_major": 2,
       "version_minor": 0
      },
      "text/plain": [
       "HBox(children=(IntProgress(value=0, description='train', max=2000), HTML(value='')))"
      ]
     },
     "metadata": {},
     "output_type": "display_data"
    },
    {
     "name": "stdout",
     "output_type": "stream",
     "text": [
      "\n"
     ]
    },
    {
     "data": {
      "application/vnd.jupyter.widget-view+json": {
       "model_id": "76f2509210734467bdcc607133e52d93",
       "version_major": 2,
       "version_minor": 0
      },
      "text/plain": [
       "HBox(children=(IntProgress(value=0, description='valid', max=84), HTML(value='')))"
      ]
     },
     "metadata": {},
     "output_type": "display_data"
    },
    {
     "name": "stdout",
     "output_type": "stream",
     "text": [
      "\n",
      "\n",
      "Epoch: 14, LR: 0.0008438508174347009\n"
     ]
    },
    {
     "data": {
      "application/vnd.jupyter.widget-view+json": {
       "model_id": "92d3dbd75023452a879236fd682410a7",
       "version_major": 2,
       "version_minor": 0
      },
      "text/plain": [
       "HBox(children=(IntProgress(value=0, description='train', max=2000), HTML(value='')))"
      ]
     },
     "metadata": {},
     "output_type": "display_data"
    },
    {
     "name": "stdout",
     "output_type": "stream",
     "text": [
      "\n"
     ]
    },
    {
     "data": {
      "application/vnd.jupyter.widget-view+json": {
       "model_id": "50e5904c547c4a40b200e1aad21d86df",
       "version_major": 2,
       "version_minor": 0
      },
      "text/plain": [
       "HBox(children=(IntProgress(value=0, description='valid', max=84), HTML(value='')))"
      ]
     },
     "metadata": {},
     "output_type": "display_data"
    },
    {
     "name": "stdout",
     "output_type": "stream",
     "text": [
      "\n",
      "\n",
      "Epoch: 15, LR: 0.0008205248749256015\n"
     ]
    },
    {
     "data": {
      "application/vnd.jupyter.widget-view+json": {
       "model_id": "e7178811716b436ab2d021030388196d",
       "version_major": 2,
       "version_minor": 0
      },
      "text/plain": [
       "HBox(children=(IntProgress(value=0, description='train', max=2000), HTML(value='')))"
      ]
     },
     "metadata": {},
     "output_type": "display_data"
    },
    {
     "name": "stdout",
     "output_type": "stream",
     "text": [
      "\n"
     ]
    },
    {
     "data": {
      "application/vnd.jupyter.widget-view+json": {
       "model_id": "21efa549ae074429acb717d1928e2238",
       "version_major": 2,
       "version_minor": 0
      },
      "text/plain": [
       "HBox(children=(IntProgress(value=0, description='valid', max=84), HTML(value='')))"
      ]
     },
     "metadata": {},
     "output_type": "display_data"
    },
    {
     "name": "stdout",
     "output_type": "stream",
     "text": [
      "\n",
      "\n",
      "Epoch: 16, LR: 0.0007959536998847742\n"
     ]
    },
    {
     "data": {
      "application/vnd.jupyter.widget-view+json": {
       "model_id": "fdab183752544ff5852d897c385678c2",
       "version_major": 2,
       "version_minor": 0
      },
      "text/plain": [
       "HBox(children=(IntProgress(value=0, description='train', max=2000), HTML(value='')))"
      ]
     },
     "metadata": {},
     "output_type": "display_data"
    },
    {
     "name": "stdout",
     "output_type": "stream",
     "text": [
      "\n"
     ]
    },
    {
     "data": {
      "application/vnd.jupyter.widget-view+json": {
       "model_id": "76b7301bbf5245ecbae0f5dc9fd9e9b6",
       "version_major": 2,
       "version_minor": 0
      },
      "text/plain": [
       "HBox(children=(IntProgress(value=0, description='valid', max=84), HTML(value='')))"
      ]
     },
     "metadata": {},
     "output_type": "display_data"
    },
    {
     "name": "stdout",
     "output_type": "stream",
     "text": [
      "\n",
      "\n",
      "Epoch: 17, LR: 0.0007702342635146033\n"
     ]
    },
    {
     "data": {
      "application/vnd.jupyter.widget-view+json": {
       "model_id": "a08f2086749841e38459d7d3b61bce33",
       "version_major": 2,
       "version_minor": 0
      },
      "text/plain": [
       "HBox(children=(IntProgress(value=0, description='train', max=2000), HTML(value='')))"
      ]
     },
     "metadata": {},
     "output_type": "display_data"
    },
    {
     "name": "stdout",
     "output_type": "stream",
     "text": [
      "\n"
     ]
    },
    {
     "data": {
      "application/vnd.jupyter.widget-view+json": {
       "model_id": "a517de0f94034c42a3491cc4287c3cae",
       "version_major": 2,
       "version_minor": 0
      },
      "text/plain": [
       "HBox(children=(IntProgress(value=0, description='valid', max=84), HTML(value='')))"
      ]
     },
     "metadata": {},
     "output_type": "display_data"
    },
    {
     "name": "stdout",
     "output_type": "stream",
     "text": [
      "\n",
      "\n",
      "Epoch: 18, LR: 0.000743468068680349\n"
     ]
    },
    {
     "data": {
      "application/vnd.jupyter.widget-view+json": {
       "model_id": "7600d91bba954bd589bba69afe5fd3dd",
       "version_major": 2,
       "version_minor": 0
      },
      "text/plain": [
       "HBox(children=(IntProgress(value=0, description='train', max=2000), HTML(value='')))"
      ]
     },
     "metadata": {},
     "output_type": "display_data"
    },
    {
     "name": "stdout",
     "output_type": "stream",
     "text": [
      "\n"
     ]
    },
    {
     "data": {
      "application/vnd.jupyter.widget-view+json": {
       "model_id": "2160098f0e064f56ba7ead37a7d7aae2",
       "version_major": 2,
       "version_minor": 0
      },
      "text/plain": [
       "HBox(children=(IntProgress(value=0, description='valid', max=84), HTML(value='')))"
      ]
     },
     "metadata": {},
     "output_type": "display_data"
    },
    {
     "name": "stdout",
     "output_type": "stream",
     "text": [
      "\n",
      "\n",
      "Epoch: 19, LR: 0.000715760749324711\n"
     ]
    },
    {
     "data": {
      "application/vnd.jupyter.widget-view+json": {
       "model_id": "5300af18f246454cbd892a6fbfe02ee2",
       "version_major": 2,
       "version_minor": 0
      },
      "text/plain": [
       "HBox(children=(IntProgress(value=0, description='train', max=2000), HTML(value='')))"
      ]
     },
     "metadata": {},
     "output_type": "display_data"
    }
   ],
   "source": [
    "best_model_name = train_model()"
   ]
  },
  {
   "cell_type": "code",
   "execution_count": null,
   "metadata": {
    "scrolled": false
   },
   "outputs": [],
   "source": [
    "print(\"Training model using same LR for both encoder and decoder\")\n",
    "# model = torch.load(\"best_xUnet_encoder_D_2019-07-27_01:35:05.984560_Ep_129_TL_0.49_VL_0.48_TM_0.57_VM_0.57.pth\")\n",
    "model = torch.load(best_model_name)\n",
    "best_model_name = train_model(mainly_encoder=False)"
   ]
  },
  {
   "cell_type": "code",
   "execution_count": null,
   "metadata": {},
   "outputs": [],
   "source": [
    "model = torch.load(model)\n",
    "best_model_name = train_model(mainly_encoder=False)"
   ]
  },
  {
   "cell_type": "code",
   "execution_count": null,
   "metadata": {},
   "outputs": [],
   "source": [
    "model = torch.load(best_model_name)\n",
    "best_model_name = train_model(mainly_encoder=False)"
   ]
  },
  {
   "cell_type": "code",
   "execution_count": null,
   "metadata": {},
   "outputs": [],
   "source": [
    "best_model_name"
   ]
  },
  {
   "cell_type": "code",
   "execution_count": null,
   "metadata": {},
   "outputs": [],
   "source": []
  }
 ],
 "metadata": {
  "kernelspec": {
   "display_name": "kaggle",
   "language": "python",
   "name": "kaggle"
  },
  "language_info": {
   "codemirror_mode": {
    "name": "ipython",
    "version": 3
   },
   "file_extension": ".py",
   "mimetype": "text/x-python",
   "name": "python",
   "nbconvert_exporter": "python",
   "pygments_lexer": "ipython3",
   "version": "3.6.8"
  },
  "toc": {
   "base_numbering": 1,
   "nav_menu": {},
   "number_sections": true,
   "sideBar": true,
   "skip_h1_title": false,
   "title_cell": "Table of Contents",
   "title_sidebar": "Contents",
   "toc_cell": false,
   "toc_position": {},
   "toc_section_display": true,
   "toc_window_display": false
  },
  "varInspector": {
   "cols": {
    "lenName": 16,
    "lenType": 16,
    "lenVar": 40
   },
   "kernels_config": {
    "python": {
     "delete_cmd_postfix": "",
     "delete_cmd_prefix": "del ",
     "library": "var_list.py",
     "varRefreshCmd": "print(var_dic_list())"
    },
    "r": {
     "delete_cmd_postfix": ") ",
     "delete_cmd_prefix": "rm(",
     "library": "var_list.r",
     "varRefreshCmd": "cat(var_dic_list()) "
    }
   },
   "types_to_exclude": [
    "module",
    "function",
    "builtin_function_or_method",
    "instance",
    "_Feature"
   ],
   "window_display": false
  }
 },
 "nbformat": 4,
 "nbformat_minor": 2
}
