{
 "cells": [
  {
   "cell_type": "code",
   "execution_count": 1,
   "metadata": {},
   "outputs": [
    {
     "data": {
      "text/html": [
       "<style>.container { width:100% !important; }</style>"
      ],
      "text/plain": [
       "<IPython.core.display.HTML object>"
      ]
     },
     "metadata": {},
     "output_type": "display_data"
    }
   ],
   "source": [
    "%matplotlib notebook \n",
    "from IPython.core.display import display, HTML\n",
    "display(HTML(\"<style>.container { width:100% !important; }</style>\"))"
   ]
  },
  {
   "cell_type": "code",
   "execution_count": 2,
   "metadata": {},
   "outputs": [],
   "source": [
    "%load_ext autoreload\n",
    "%autoreload 2"
   ]
  },
  {
   "cell_type": "code",
   "execution_count": 3,
   "metadata": {},
   "outputs": [
    {
     "name": "stdout",
     "output_type": "stream",
     "text": [
      "Training folder data size: 10712\n",
      "Testing folder data size: 1377\n"
     ]
    }
   ],
   "source": [
    "import os\n",
    "import sys\n",
    "import cv2\n",
    "import random\n",
    "import datetime\n",
    "import matplotlib.pyplot as plt\n",
    "import numpy as np\n",
    "import pandas as pd\n",
    "import pickle\n",
    "import pretrainedmodels.utils as utils\n",
    "import torch\n",
    "import torch.optim as optim\n",
    "from apex import amp\n",
    "from easydict import EasyDict\n",
    "from numpy.random import choice, seed\n",
    "from PIL import Image\n",
    "from pretrainedmodels import xception\n",
    "from torch import nn\n",
    "from torch import from_numpy\n",
    "from torch.utils.data import Dataset, SequentialSampler\n",
    "from torchvision import transforms as tt\n",
    "from torchvision.transforms.functional import to_tensor\n",
    "from tqdm import tqdm_notebook as tqdm\n",
    "# from unet.unet_model import UNet\n",
    "from segmentation_models_pytorch import Unet\n",
    "from custom_pytorch import custom_layers\n",
    "from custom_pytorch.custom_models import SamplingSegmentationV4 as SamplingSegmentation\n",
    "from custom_pytorch.custom_samplers import SubsetRandomSampler\n",
    "from custom_pytorch.custom_schedulers import AdaptiveCyclicCosineAnnealing\n",
    "from custom_pytorch.custom_losses.dice import BCEAndDiceLoss\n",
    "from custom_pytorch.metrics import DiceCoeff\n",
    "\n",
    "from custom_pytorch.custom_logs.segmentation import Logger\n",
    "from custom_pytorch.custom_visualizations.segmentation import Visualizer\n",
    "from custom_pytorch.custom_utils import get_model_name\n",
    "from custom_pytorch.optimizers.adabound import AdaBound\n",
    "from torchcontrib.optim import SWA\n",
    "\n",
    "# dice_loss = GeneralizedDiceLoss()\n",
    "import PyQt5\n",
    "sys.path.insert(0, '../')\n",
    "from shared import *\n",
    "from config import CONFIG\n",
    "import fastai"
   ]
  },
  {
   "cell_type": "code",
   "execution_count": 4,
   "metadata": {},
   "outputs": [],
   "source": [
    "# net = SamplingSegmentation(3, 1, CONFIG.net_params.depth, CONFIG.net_params.resolution).cuda()\n",
    "net = SamplingSegmentation(3, 1, CONFIG.net_params.depth).cuda()\n",
    "# net = NeuralNet().cuda()\n",
    "optimizer = optim.Adam(\n",
    "    net.parameters(), lr=CONFIG.lr, weight_decay=CONFIG.weight_decay)\n",
    "# optimizer = SWA(base_opt, swa_start=10, swa_freq=5, swa_lr=0.05)\n",
    "# net, optimizer = amp.initialize(net, optimizer, opt_level=\"O1\")\n",
    "# net, optimizer\n",
    "if CONFIG.warm_start_from:\n",
    "    loaded = torch.load(os.path.join(MODEL_SAVE_DIR, CONFIG.warm_start_from))\n",
    "    loaded_epoch = loaded['epoch'] + 1\n",
    "    net.load_state_dict(loaded['model_state_dict'], strict=False)\n",
    "else:\n",
    "    loaded_epoch = 0"
   ]
  },
  {
   "cell_type": "code",
   "execution_count": 5,
   "metadata": {},
   "outputs": [],
   "source": [
    "# pixels_weights = from_numpy(train_dataset.compute_pixels_weights(train_indices)).float().cuda()\n",
    "\n",
    "        \n",
    "loss_function = lambda x, y: BCEAndDiceLoss()(x, y, dice_loss_kwargs={'wrt_batch': False})#pos_weight=pixels_weights)\n",
    "# loss_function = nn.BCEWithLogitsLoss()"
   ]
  },
  {
   "cell_type": "code",
   "execution_count": 6,
   "metadata": {},
   "outputs": [],
   "source": [
    "dice_coeff = DiceCoeff()\n",
    "trainer = Trainer(net, loss_function, dice_coeff, True, True)\n",
    "tester = Tester(net, True, True)"
   ]
  },
  {
   "cell_type": "code",
   "execution_count": null,
   "metadata": {
    "code_folding": [],
    "scrolled": false
   },
   "outputs": [
    {
     "data": {
      "application/vnd.jupyter.widget-view+json": {
       "model_id": "be7feefb066d42b2bb0fd54c0c17fb5f",
       "version_major": 2,
       "version_minor": 0
      },
      "text/plain": [
       "HBox(children=(IntProgress(value=0, description='Epoch 1', max=2500), HTML(value='')))"
      ]
     },
     "metadata": {},
     "output_type": "display_data"
    },
    {
     "data": {
      "application/javascript": [
       "/* Put everything inside the global mpl namespace */\n",
       "window.mpl = {};\n",
       "\n",
       "\n",
       "mpl.get_websocket_type = function() {\n",
       "    if (typeof(WebSocket) !== 'undefined') {\n",
       "        return WebSocket;\n",
       "    } else if (typeof(MozWebSocket) !== 'undefined') {\n",
       "        return MozWebSocket;\n",
       "    } else {\n",
       "        alert('Your browser does not have WebSocket support. ' +\n",
       "              'Please try Chrome, Safari or Firefox ≥ 6. ' +\n",
       "              'Firefox 4 and 5 are also supported but you ' +\n",
       "              'have to enable WebSockets in about:config.');\n",
       "    };\n",
       "}\n",
       "\n",
       "mpl.figure = function(figure_id, websocket, ondownload, parent_element) {\n",
       "    this.id = figure_id;\n",
       "\n",
       "    this.ws = websocket;\n",
       "\n",
       "    this.supports_binary = (this.ws.binaryType != undefined);\n",
       "\n",
       "    if (!this.supports_binary) {\n",
       "        var warnings = document.getElementById(\"mpl-warnings\");\n",
       "        if (warnings) {\n",
       "            warnings.style.display = 'block';\n",
       "            warnings.textContent = (\n",
       "                \"This browser does not support binary websocket messages. \" +\n",
       "                    \"Performance may be slow.\");\n",
       "        }\n",
       "    }\n",
       "\n",
       "    this.imageObj = new Image();\n",
       "\n",
       "    this.context = undefined;\n",
       "    this.message = undefined;\n",
       "    this.canvas = undefined;\n",
       "    this.rubberband_canvas = undefined;\n",
       "    this.rubberband_context = undefined;\n",
       "    this.format_dropdown = undefined;\n",
       "\n",
       "    this.image_mode = 'full';\n",
       "\n",
       "    this.root = $('<div/>');\n",
       "    this._root_extra_style(this.root)\n",
       "    this.root.attr('style', 'display: inline-block');\n",
       "\n",
       "    $(parent_element).append(this.root);\n",
       "\n",
       "    this._init_header(this);\n",
       "    this._init_canvas(this);\n",
       "    this._init_toolbar(this);\n",
       "\n",
       "    var fig = this;\n",
       "\n",
       "    this.waiting = false;\n",
       "\n",
       "    this.ws.onopen =  function () {\n",
       "            fig.send_message(\"supports_binary\", {value: fig.supports_binary});\n",
       "            fig.send_message(\"send_image_mode\", {});\n",
       "            if (mpl.ratio != 1) {\n",
       "                fig.send_message(\"set_dpi_ratio\", {'dpi_ratio': mpl.ratio});\n",
       "            }\n",
       "            fig.send_message(\"refresh\", {});\n",
       "        }\n",
       "\n",
       "    this.imageObj.onload = function() {\n",
       "            if (fig.image_mode == 'full') {\n",
       "                // Full images could contain transparency (where diff images\n",
       "                // almost always do), so we need to clear the canvas so that\n",
       "                // there is no ghosting.\n",
       "                fig.context.clearRect(0, 0, fig.canvas.width, fig.canvas.height);\n",
       "            }\n",
       "            fig.context.drawImage(fig.imageObj, 0, 0);\n",
       "        };\n",
       "\n",
       "    this.imageObj.onunload = function() {\n",
       "        fig.ws.close();\n",
       "    }\n",
       "\n",
       "    this.ws.onmessage = this._make_on_message_function(this);\n",
       "\n",
       "    this.ondownload = ondownload;\n",
       "}\n",
       "\n",
       "mpl.figure.prototype._init_header = function() {\n",
       "    var titlebar = $(\n",
       "        '<div class=\"ui-dialog-titlebar ui-widget-header ui-corner-all ' +\n",
       "        'ui-helper-clearfix\"/>');\n",
       "    var titletext = $(\n",
       "        '<div class=\"ui-dialog-title\" style=\"width: 100%; ' +\n",
       "        'text-align: center; padding: 3px;\"/>');\n",
       "    titlebar.append(titletext)\n",
       "    this.root.append(titlebar);\n",
       "    this.header = titletext[0];\n",
       "}\n",
       "\n",
       "\n",
       "\n",
       "mpl.figure.prototype._canvas_extra_style = function(canvas_div) {\n",
       "\n",
       "}\n",
       "\n",
       "\n",
       "mpl.figure.prototype._root_extra_style = function(canvas_div) {\n",
       "\n",
       "}\n",
       "\n",
       "mpl.figure.prototype._init_canvas = function() {\n",
       "    var fig = this;\n",
       "\n",
       "    var canvas_div = $('<div/>');\n",
       "\n",
       "    canvas_div.attr('style', 'position: relative; clear: both; outline: 0');\n",
       "\n",
       "    function canvas_keyboard_event(event) {\n",
       "        return fig.key_event(event, event['data']);\n",
       "    }\n",
       "\n",
       "    canvas_div.keydown('key_press', canvas_keyboard_event);\n",
       "    canvas_div.keyup('key_release', canvas_keyboard_event);\n",
       "    this.canvas_div = canvas_div\n",
       "    this._canvas_extra_style(canvas_div)\n",
       "    this.root.append(canvas_div);\n",
       "\n",
       "    var canvas = $('<canvas/>');\n",
       "    canvas.addClass('mpl-canvas');\n",
       "    canvas.attr('style', \"left: 0; top: 0; z-index: 0; outline: 0\")\n",
       "\n",
       "    this.canvas = canvas[0];\n",
       "    this.context = canvas[0].getContext(\"2d\");\n",
       "\n",
       "    var backingStore = this.context.backingStorePixelRatio ||\n",
       "\tthis.context.webkitBackingStorePixelRatio ||\n",
       "\tthis.context.mozBackingStorePixelRatio ||\n",
       "\tthis.context.msBackingStorePixelRatio ||\n",
       "\tthis.context.oBackingStorePixelRatio ||\n",
       "\tthis.context.backingStorePixelRatio || 1;\n",
       "\n",
       "    mpl.ratio = (window.devicePixelRatio || 1) / backingStore;\n",
       "\n",
       "    var rubberband = $('<canvas/>');\n",
       "    rubberband.attr('style', \"position: absolute; left: 0; top: 0; z-index: 1;\")\n",
       "\n",
       "    var pass_mouse_events = true;\n",
       "\n",
       "    canvas_div.resizable({\n",
       "        start: function(event, ui) {\n",
       "            pass_mouse_events = false;\n",
       "        },\n",
       "        resize: function(event, ui) {\n",
       "            fig.request_resize(ui.size.width, ui.size.height);\n",
       "        },\n",
       "        stop: function(event, ui) {\n",
       "            pass_mouse_events = true;\n",
       "            fig.request_resize(ui.size.width, ui.size.height);\n",
       "        },\n",
       "    });\n",
       "\n",
       "    function mouse_event_fn(event) {\n",
       "        if (pass_mouse_events)\n",
       "            return fig.mouse_event(event, event['data']);\n",
       "    }\n",
       "\n",
       "    rubberband.mousedown('button_press', mouse_event_fn);\n",
       "    rubberband.mouseup('button_release', mouse_event_fn);\n",
       "    // Throttle sequential mouse events to 1 every 20ms.\n",
       "    rubberband.mousemove('motion_notify', mouse_event_fn);\n",
       "\n",
       "    rubberband.mouseenter('figure_enter', mouse_event_fn);\n",
       "    rubberband.mouseleave('figure_leave', mouse_event_fn);\n",
       "\n",
       "    canvas_div.on(\"wheel\", function (event) {\n",
       "        event = event.originalEvent;\n",
       "        event['data'] = 'scroll'\n",
       "        if (event.deltaY < 0) {\n",
       "            event.step = 1;\n",
       "        } else {\n",
       "            event.step = -1;\n",
       "        }\n",
       "        mouse_event_fn(event);\n",
       "    });\n",
       "\n",
       "    canvas_div.append(canvas);\n",
       "    canvas_div.append(rubberband);\n",
       "\n",
       "    this.rubberband = rubberband;\n",
       "    this.rubberband_canvas = rubberband[0];\n",
       "    this.rubberband_context = rubberband[0].getContext(\"2d\");\n",
       "    this.rubberband_context.strokeStyle = \"#000000\";\n",
       "\n",
       "    this._resize_canvas = function(width, height) {\n",
       "        // Keep the size of the canvas, canvas container, and rubber band\n",
       "        // canvas in synch.\n",
       "        canvas_div.css('width', width)\n",
       "        canvas_div.css('height', height)\n",
       "\n",
       "        canvas.attr('width', width * mpl.ratio);\n",
       "        canvas.attr('height', height * mpl.ratio);\n",
       "        canvas.attr('style', 'width: ' + width + 'px; height: ' + height + 'px;');\n",
       "\n",
       "        rubberband.attr('width', width);\n",
       "        rubberband.attr('height', height);\n",
       "    }\n",
       "\n",
       "    // Set the figure to an initial 600x600px, this will subsequently be updated\n",
       "    // upon first draw.\n",
       "    this._resize_canvas(600, 600);\n",
       "\n",
       "    // Disable right mouse context menu.\n",
       "    $(this.rubberband_canvas).bind(\"contextmenu\",function(e){\n",
       "        return false;\n",
       "    });\n",
       "\n",
       "    function set_focus () {\n",
       "        canvas.focus();\n",
       "        canvas_div.focus();\n",
       "    }\n",
       "\n",
       "    window.setTimeout(set_focus, 100);\n",
       "}\n",
       "\n",
       "mpl.figure.prototype._init_toolbar = function() {\n",
       "    var fig = this;\n",
       "\n",
       "    var nav_element = $('<div/>');\n",
       "    nav_element.attr('style', 'width: 100%');\n",
       "    this.root.append(nav_element);\n",
       "\n",
       "    // Define a callback function for later on.\n",
       "    function toolbar_event(event) {\n",
       "        return fig.toolbar_button_onclick(event['data']);\n",
       "    }\n",
       "    function toolbar_mouse_event(event) {\n",
       "        return fig.toolbar_button_onmouseover(event['data']);\n",
       "    }\n",
       "\n",
       "    for(var toolbar_ind in mpl.toolbar_items) {\n",
       "        var name = mpl.toolbar_items[toolbar_ind][0];\n",
       "        var tooltip = mpl.toolbar_items[toolbar_ind][1];\n",
       "        var image = mpl.toolbar_items[toolbar_ind][2];\n",
       "        var method_name = mpl.toolbar_items[toolbar_ind][3];\n",
       "\n",
       "        if (!name) {\n",
       "            // put a spacer in here.\n",
       "            continue;\n",
       "        }\n",
       "        var button = $('<button/>');\n",
       "        button.addClass('ui-button ui-widget ui-state-default ui-corner-all ' +\n",
       "                        'ui-button-icon-only');\n",
       "        button.attr('role', 'button');\n",
       "        button.attr('aria-disabled', 'false');\n",
       "        button.click(method_name, toolbar_event);\n",
       "        button.mouseover(tooltip, toolbar_mouse_event);\n",
       "\n",
       "        var icon_img = $('<span/>');\n",
       "        icon_img.addClass('ui-button-icon-primary ui-icon');\n",
       "        icon_img.addClass(image);\n",
       "        icon_img.addClass('ui-corner-all');\n",
       "\n",
       "        var tooltip_span = $('<span/>');\n",
       "        tooltip_span.addClass('ui-button-text');\n",
       "        tooltip_span.html(tooltip);\n",
       "\n",
       "        button.append(icon_img);\n",
       "        button.append(tooltip_span);\n",
       "\n",
       "        nav_element.append(button);\n",
       "    }\n",
       "\n",
       "    var fmt_picker_span = $('<span/>');\n",
       "\n",
       "    var fmt_picker = $('<select/>');\n",
       "    fmt_picker.addClass('mpl-toolbar-option ui-widget ui-widget-content');\n",
       "    fmt_picker_span.append(fmt_picker);\n",
       "    nav_element.append(fmt_picker_span);\n",
       "    this.format_dropdown = fmt_picker[0];\n",
       "\n",
       "    for (var ind in mpl.extensions) {\n",
       "        var fmt = mpl.extensions[ind];\n",
       "        var option = $(\n",
       "            '<option/>', {selected: fmt === mpl.default_extension}).html(fmt);\n",
       "        fmt_picker.append(option);\n",
       "    }\n",
       "\n",
       "    // Add hover states to the ui-buttons\n",
       "    $( \".ui-button\" ).hover(\n",
       "        function() { $(this).addClass(\"ui-state-hover\");},\n",
       "        function() { $(this).removeClass(\"ui-state-hover\");}\n",
       "    );\n",
       "\n",
       "    var status_bar = $('<span class=\"mpl-message\"/>');\n",
       "    nav_element.append(status_bar);\n",
       "    this.message = status_bar[0];\n",
       "}\n",
       "\n",
       "mpl.figure.prototype.request_resize = function(x_pixels, y_pixels) {\n",
       "    // Request matplotlib to resize the figure. Matplotlib will then trigger a resize in the client,\n",
       "    // which will in turn request a refresh of the image.\n",
       "    this.send_message('resize', {'width': x_pixels, 'height': y_pixels});\n",
       "}\n",
       "\n",
       "mpl.figure.prototype.send_message = function(type, properties) {\n",
       "    properties['type'] = type;\n",
       "    properties['figure_id'] = this.id;\n",
       "    this.ws.send(JSON.stringify(properties));\n",
       "}\n",
       "\n",
       "mpl.figure.prototype.send_draw_message = function() {\n",
       "    if (!this.waiting) {\n",
       "        this.waiting = true;\n",
       "        this.ws.send(JSON.stringify({type: \"draw\", figure_id: this.id}));\n",
       "    }\n",
       "}\n",
       "\n",
       "\n",
       "mpl.figure.prototype.handle_save = function(fig, msg) {\n",
       "    var format_dropdown = fig.format_dropdown;\n",
       "    var format = format_dropdown.options[format_dropdown.selectedIndex].value;\n",
       "    fig.ondownload(fig, format);\n",
       "}\n",
       "\n",
       "\n",
       "mpl.figure.prototype.handle_resize = function(fig, msg) {\n",
       "    var size = msg['size'];\n",
       "    if (size[0] != fig.canvas.width || size[1] != fig.canvas.height) {\n",
       "        fig._resize_canvas(size[0], size[1]);\n",
       "        fig.send_message(\"refresh\", {});\n",
       "    };\n",
       "}\n",
       "\n",
       "mpl.figure.prototype.handle_rubberband = function(fig, msg) {\n",
       "    var x0 = msg['x0'] / mpl.ratio;\n",
       "    var y0 = (fig.canvas.height - msg['y0']) / mpl.ratio;\n",
       "    var x1 = msg['x1'] / mpl.ratio;\n",
       "    var y1 = (fig.canvas.height - msg['y1']) / mpl.ratio;\n",
       "    x0 = Math.floor(x0) + 0.5;\n",
       "    y0 = Math.floor(y0) + 0.5;\n",
       "    x1 = Math.floor(x1) + 0.5;\n",
       "    y1 = Math.floor(y1) + 0.5;\n",
       "    var min_x = Math.min(x0, x1);\n",
       "    var min_y = Math.min(y0, y1);\n",
       "    var width = Math.abs(x1 - x0);\n",
       "    var height = Math.abs(y1 - y0);\n",
       "\n",
       "    fig.rubberband_context.clearRect(\n",
       "        0, 0, fig.canvas.width, fig.canvas.height);\n",
       "\n",
       "    fig.rubberband_context.strokeRect(min_x, min_y, width, height);\n",
       "}\n",
       "\n",
       "mpl.figure.prototype.handle_figure_label = function(fig, msg) {\n",
       "    // Updates the figure title.\n",
       "    fig.header.textContent = msg['label'];\n",
       "}\n",
       "\n",
       "mpl.figure.prototype.handle_cursor = function(fig, msg) {\n",
       "    var cursor = msg['cursor'];\n",
       "    switch(cursor)\n",
       "    {\n",
       "    case 0:\n",
       "        cursor = 'pointer';\n",
       "        break;\n",
       "    case 1:\n",
       "        cursor = 'default';\n",
       "        break;\n",
       "    case 2:\n",
       "        cursor = 'crosshair';\n",
       "        break;\n",
       "    case 3:\n",
       "        cursor = 'move';\n",
       "        break;\n",
       "    }\n",
       "    fig.rubberband_canvas.style.cursor = cursor;\n",
       "}\n",
       "\n",
       "mpl.figure.prototype.handle_message = function(fig, msg) {\n",
       "    fig.message.textContent = msg['message'];\n",
       "}\n",
       "\n",
       "mpl.figure.prototype.handle_draw = function(fig, msg) {\n",
       "    // Request the server to send over a new figure.\n",
       "    fig.send_draw_message();\n",
       "}\n",
       "\n",
       "mpl.figure.prototype.handle_image_mode = function(fig, msg) {\n",
       "    fig.image_mode = msg['mode'];\n",
       "}\n",
       "\n",
       "mpl.figure.prototype.updated_canvas_event = function() {\n",
       "    // Called whenever the canvas gets updated.\n",
       "    this.send_message(\"ack\", {});\n",
       "}\n",
       "\n",
       "// A function to construct a web socket function for onmessage handling.\n",
       "// Called in the figure constructor.\n",
       "mpl.figure.prototype._make_on_message_function = function(fig) {\n",
       "    return function socket_on_message(evt) {\n",
       "        if (evt.data instanceof Blob) {\n",
       "            /* FIXME: We get \"Resource interpreted as Image but\n",
       "             * transferred with MIME type text/plain:\" errors on\n",
       "             * Chrome.  But how to set the MIME type?  It doesn't seem\n",
       "             * to be part of the websocket stream */\n",
       "            evt.data.type = \"image/png\";\n",
       "\n",
       "            /* Free the memory for the previous frames */\n",
       "            if (fig.imageObj.src) {\n",
       "                (window.URL || window.webkitURL).revokeObjectURL(\n",
       "                    fig.imageObj.src);\n",
       "            }\n",
       "\n",
       "            fig.imageObj.src = (window.URL || window.webkitURL).createObjectURL(\n",
       "                evt.data);\n",
       "            fig.updated_canvas_event();\n",
       "            fig.waiting = false;\n",
       "            return;\n",
       "        }\n",
       "        else if (typeof evt.data === 'string' && evt.data.slice(0, 21) == \"data:image/png;base64\") {\n",
       "            fig.imageObj.src = evt.data;\n",
       "            fig.updated_canvas_event();\n",
       "            fig.waiting = false;\n",
       "            return;\n",
       "        }\n",
       "\n",
       "        var msg = JSON.parse(evt.data);\n",
       "        var msg_type = msg['type'];\n",
       "\n",
       "        // Call the  \"handle_{type}\" callback, which takes\n",
       "        // the figure and JSON message as its only arguments.\n",
       "        try {\n",
       "            var callback = fig[\"handle_\" + msg_type];\n",
       "        } catch (e) {\n",
       "            console.log(\"No handler for the '\" + msg_type + \"' message type: \", msg);\n",
       "            return;\n",
       "        }\n",
       "\n",
       "        if (callback) {\n",
       "            try {\n",
       "                // console.log(\"Handling '\" + msg_type + \"' message: \", msg);\n",
       "                callback(fig, msg);\n",
       "            } catch (e) {\n",
       "                console.log(\"Exception inside the 'handler_\" + msg_type + \"' callback:\", e, e.stack, msg);\n",
       "            }\n",
       "        }\n",
       "    };\n",
       "}\n",
       "\n",
       "// from http://stackoverflow.com/questions/1114465/getting-mouse-location-in-canvas\n",
       "mpl.findpos = function(e) {\n",
       "    //this section is from http://www.quirksmode.org/js/events_properties.html\n",
       "    var targ;\n",
       "    if (!e)\n",
       "        e = window.event;\n",
       "    if (e.target)\n",
       "        targ = e.target;\n",
       "    else if (e.srcElement)\n",
       "        targ = e.srcElement;\n",
       "    if (targ.nodeType == 3) // defeat Safari bug\n",
       "        targ = targ.parentNode;\n",
       "\n",
       "    // jQuery normalizes the pageX and pageY\n",
       "    // pageX,Y are the mouse positions relative to the document\n",
       "    // offset() returns the position of the element relative to the document\n",
       "    var x = e.pageX - $(targ).offset().left;\n",
       "    var y = e.pageY - $(targ).offset().top;\n",
       "\n",
       "    return {\"x\": x, \"y\": y};\n",
       "};\n",
       "\n",
       "/*\n",
       " * return a copy of an object with only non-object keys\n",
       " * we need this to avoid circular references\n",
       " * http://stackoverflow.com/a/24161582/3208463\n",
       " */\n",
       "function simpleKeys (original) {\n",
       "  return Object.keys(original).reduce(function (obj, key) {\n",
       "    if (typeof original[key] !== 'object')\n",
       "        obj[key] = original[key]\n",
       "    return obj;\n",
       "  }, {});\n",
       "}\n",
       "\n",
       "mpl.figure.prototype.mouse_event = function(event, name) {\n",
       "    var canvas_pos = mpl.findpos(event)\n",
       "\n",
       "    if (name === 'button_press')\n",
       "    {\n",
       "        this.canvas.focus();\n",
       "        this.canvas_div.focus();\n",
       "    }\n",
       "\n",
       "    var x = canvas_pos.x * mpl.ratio;\n",
       "    var y = canvas_pos.y * mpl.ratio;\n",
       "\n",
       "    this.send_message(name, {x: x, y: y, button: event.button,\n",
       "                             step: event.step,\n",
       "                             guiEvent: simpleKeys(event)});\n",
       "\n",
       "    /* This prevents the web browser from automatically changing to\n",
       "     * the text insertion cursor when the button is pressed.  We want\n",
       "     * to control all of the cursor setting manually through the\n",
       "     * 'cursor' event from matplotlib */\n",
       "    event.preventDefault();\n",
       "    return false;\n",
       "}\n",
       "\n",
       "mpl.figure.prototype._key_event_extra = function(event, name) {\n",
       "    // Handle any extra behaviour associated with a key event\n",
       "}\n",
       "\n",
       "mpl.figure.prototype.key_event = function(event, name) {\n",
       "\n",
       "    // Prevent repeat events\n",
       "    if (name == 'key_press')\n",
       "    {\n",
       "        if (event.which === this._key)\n",
       "            return;\n",
       "        else\n",
       "            this._key = event.which;\n",
       "    }\n",
       "    if (name == 'key_release')\n",
       "        this._key = null;\n",
       "\n",
       "    var value = '';\n",
       "    if (event.ctrlKey && event.which != 17)\n",
       "        value += \"ctrl+\";\n",
       "    if (event.altKey && event.which != 18)\n",
       "        value += \"alt+\";\n",
       "    if (event.shiftKey && event.which != 16)\n",
       "        value += \"shift+\";\n",
       "\n",
       "    value += 'k';\n",
       "    value += event.which.toString();\n",
       "\n",
       "    this._key_event_extra(event, name);\n",
       "\n",
       "    this.send_message(name, {key: value,\n",
       "                             guiEvent: simpleKeys(event)});\n",
       "    return false;\n",
       "}\n",
       "\n",
       "mpl.figure.prototype.toolbar_button_onclick = function(name) {\n",
       "    if (name == 'download') {\n",
       "        this.handle_save(this, null);\n",
       "    } else {\n",
       "        this.send_message(\"toolbar_button\", {name: name});\n",
       "    }\n",
       "};\n",
       "\n",
       "mpl.figure.prototype.toolbar_button_onmouseover = function(tooltip) {\n",
       "    this.message.textContent = tooltip;\n",
       "};\n",
       "mpl.toolbar_items = [[\"Home\", \"Reset original view\", \"fa fa-home icon-home\", \"home\"], [\"Back\", \"Back to previous view\", \"fa fa-arrow-left icon-arrow-left\", \"back\"], [\"Forward\", \"Forward to next view\", \"fa fa-arrow-right icon-arrow-right\", \"forward\"], [\"\", \"\", \"\", \"\"], [\"Pan\", \"Pan axes with left mouse, zoom with right\", \"fa fa-arrows icon-move\", \"pan\"], [\"Zoom\", \"Zoom to rectangle\", \"fa fa-square-o icon-check-empty\", \"zoom\"], [\"\", \"\", \"\", \"\"], [\"Download\", \"Download plot\", \"fa fa-floppy-o icon-save\", \"download\"]];\n",
       "\n",
       "mpl.extensions = [\"eps\", \"jpeg\", \"pdf\", \"png\", \"ps\", \"raw\", \"svg\", \"tif\"];\n",
       "\n",
       "mpl.default_extension = \"png\";var comm_websocket_adapter = function(comm) {\n",
       "    // Create a \"websocket\"-like object which calls the given IPython comm\n",
       "    // object with the appropriate methods. Currently this is a non binary\n",
       "    // socket, so there is still some room for performance tuning.\n",
       "    var ws = {};\n",
       "\n",
       "    ws.close = function() {\n",
       "        comm.close()\n",
       "    };\n",
       "    ws.send = function(m) {\n",
       "        //console.log('sending', m);\n",
       "        comm.send(m);\n",
       "    };\n",
       "    // Register the callback with on_msg.\n",
       "    comm.on_msg(function(msg) {\n",
       "        //console.log('receiving', msg['content']['data'], msg);\n",
       "        // Pass the mpl event to the overridden (by mpl) onmessage function.\n",
       "        ws.onmessage(msg['content']['data'])\n",
       "    });\n",
       "    return ws;\n",
       "}\n",
       "\n",
       "mpl.mpl_figure_comm = function(comm, msg) {\n",
       "    // This is the function which gets called when the mpl process\n",
       "    // starts-up an IPython Comm through the \"matplotlib\" channel.\n",
       "\n",
       "    var id = msg.content.data.id;\n",
       "    // Get hold of the div created by the display call when the Comm\n",
       "    // socket was opened in Python.\n",
       "    var element = $(\"#\" + id);\n",
       "    var ws_proxy = comm_websocket_adapter(comm)\n",
       "\n",
       "    function ondownload(figure, format) {\n",
       "        window.open(figure.imageObj.src);\n",
       "    }\n",
       "\n",
       "    var fig = new mpl.figure(id, ws_proxy,\n",
       "                           ondownload,\n",
       "                           element.get(0));\n",
       "\n",
       "    // Call onopen now - mpl needs it, as it is assuming we've passed it a real\n",
       "    // web socket which is closed, not our websocket->open comm proxy.\n",
       "    ws_proxy.onopen();\n",
       "\n",
       "    fig.parent_element = element.get(0);\n",
       "    fig.cell_info = mpl.find_output_cell(\"<div id='\" + id + \"'></div>\");\n",
       "    if (!fig.cell_info) {\n",
       "        console.error(\"Failed to find cell for figure\", id, fig);\n",
       "        return;\n",
       "    }\n",
       "\n",
       "    var output_index = fig.cell_info[2]\n",
       "    var cell = fig.cell_info[0];\n",
       "\n",
       "};\n",
       "\n",
       "mpl.figure.prototype.handle_close = function(fig, msg) {\n",
       "    var width = fig.canvas.width/mpl.ratio\n",
       "    fig.root.unbind('remove')\n",
       "\n",
       "    // Update the output cell to use the data from the current canvas.\n",
       "    fig.push_to_output();\n",
       "    var dataURL = fig.canvas.toDataURL();\n",
       "    // Re-enable the keyboard manager in IPython - without this line, in FF,\n",
       "    // the notebook keyboard shortcuts fail.\n",
       "    IPython.keyboard_manager.enable()\n",
       "    $(fig.parent_element).html('<img src=\"' + dataURL + '\" width=\"' + width + '\">');\n",
       "    fig.close_ws(fig, msg);\n",
       "}\n",
       "\n",
       "mpl.figure.prototype.close_ws = function(fig, msg){\n",
       "    fig.send_message('closing', msg);\n",
       "    // fig.ws.close()\n",
       "}\n",
       "\n",
       "mpl.figure.prototype.push_to_output = function(remove_interactive) {\n",
       "    // Turn the data on the canvas into data in the output cell.\n",
       "    var width = this.canvas.width/mpl.ratio\n",
       "    var dataURL = this.canvas.toDataURL();\n",
       "    this.cell_info[1]['text/html'] = '<img src=\"' + dataURL + '\" width=\"' + width + '\">';\n",
       "}\n",
       "\n",
       "mpl.figure.prototype.updated_canvas_event = function() {\n",
       "    // Tell IPython that the notebook contents must change.\n",
       "    IPython.notebook.set_dirty(true);\n",
       "    this.send_message(\"ack\", {});\n",
       "    var fig = this;\n",
       "    // Wait a second, then push the new image to the DOM so\n",
       "    // that it is saved nicely (might be nice to debounce this).\n",
       "    setTimeout(function () { fig.push_to_output() }, 1000);\n",
       "}\n",
       "\n",
       "mpl.figure.prototype._init_toolbar = function() {\n",
       "    var fig = this;\n",
       "\n",
       "    var nav_element = $('<div/>');\n",
       "    nav_element.attr('style', 'width: 100%');\n",
       "    this.root.append(nav_element);\n",
       "\n",
       "    // Define a callback function for later on.\n",
       "    function toolbar_event(event) {\n",
       "        return fig.toolbar_button_onclick(event['data']);\n",
       "    }\n",
       "    function toolbar_mouse_event(event) {\n",
       "        return fig.toolbar_button_onmouseover(event['data']);\n",
       "    }\n",
       "\n",
       "    for(var toolbar_ind in mpl.toolbar_items){\n",
       "        var name = mpl.toolbar_items[toolbar_ind][0];\n",
       "        var tooltip = mpl.toolbar_items[toolbar_ind][1];\n",
       "        var image = mpl.toolbar_items[toolbar_ind][2];\n",
       "        var method_name = mpl.toolbar_items[toolbar_ind][3];\n",
       "\n",
       "        if (!name) { continue; };\n",
       "\n",
       "        var button = $('<button class=\"btn btn-default\" href=\"#\" title=\"' + name + '\"><i class=\"fa ' + image + ' fa-lg\"></i></button>');\n",
       "        button.click(method_name, toolbar_event);\n",
       "        button.mouseover(tooltip, toolbar_mouse_event);\n",
       "        nav_element.append(button);\n",
       "    }\n",
       "\n",
       "    // Add the status bar.\n",
       "    var status_bar = $('<span class=\"mpl-message\" style=\"text-align:right; float: right;\"/>');\n",
       "    nav_element.append(status_bar);\n",
       "    this.message = status_bar[0];\n",
       "\n",
       "    // Add the close button to the window.\n",
       "    var buttongrp = $('<div class=\"btn-group inline pull-right\"></div>');\n",
       "    var button = $('<button class=\"btn btn-mini btn-primary\" href=\"#\" title=\"Stop Interaction\"><i class=\"fa fa-power-off icon-remove icon-large\"></i></button>');\n",
       "    button.click(function (evt) { fig.handle_close(fig, {}); } );\n",
       "    button.mouseover('Stop Interaction', toolbar_mouse_event);\n",
       "    buttongrp.append(button);\n",
       "    var titlebar = this.root.find($('.ui-dialog-titlebar'));\n",
       "    titlebar.prepend(buttongrp);\n",
       "}\n",
       "\n",
       "mpl.figure.prototype._root_extra_style = function(el){\n",
       "    var fig = this\n",
       "    el.on(\"remove\", function(){\n",
       "\tfig.close_ws(fig, {});\n",
       "    });\n",
       "}\n",
       "\n",
       "mpl.figure.prototype._canvas_extra_style = function(el){\n",
       "    // this is important to make the div 'focusable\n",
       "    el.attr('tabindex', 0)\n",
       "    // reach out to IPython and tell the keyboard manager to turn it's self\n",
       "    // off when our div gets focus\n",
       "\n",
       "    // location in version 3\n",
       "    if (IPython.notebook.keyboard_manager) {\n",
       "        IPython.notebook.keyboard_manager.register_events(el);\n",
       "    }\n",
       "    else {\n",
       "        // location in version 2\n",
       "        IPython.keyboard_manager.register_events(el);\n",
       "    }\n",
       "\n",
       "}\n",
       "\n",
       "mpl.figure.prototype._key_event_extra = function(event, name) {\n",
       "    var manager = IPython.notebook.keyboard_manager;\n",
       "    if (!manager)\n",
       "        manager = IPython.keyboard_manager;\n",
       "\n",
       "    // Check for shift+enter\n",
       "    if (event.shiftKey && event.which == 13) {\n",
       "        this.canvas_div.blur();\n",
       "        event.shiftKey = false;\n",
       "        // Send a \"J\" for go to next cell\n",
       "        event.which = 74;\n",
       "        event.keyCode = 74;\n",
       "        manager.command_mode();\n",
       "        manager.handle_keydown(event);\n",
       "    }\n",
       "}\n",
       "\n",
       "mpl.figure.prototype.handle_save = function(fig, msg) {\n",
       "    fig.ondownload(fig, null);\n",
       "}\n",
       "\n",
       "\n",
       "mpl.find_output_cell = function(html_output) {\n",
       "    // Return the cell and output element which can be found *uniquely* in the notebook.\n",
       "    // Note - this is a bit hacky, but it is done because the \"notebook_saving.Notebook\"\n",
       "    // IPython event is triggered only after the cells have been serialised, which for\n",
       "    // our purposes (turning an active figure into a static one), is too late.\n",
       "    var cells = IPython.notebook.get_cells();\n",
       "    var ncells = cells.length;\n",
       "    for (var i=0; i<ncells; i++) {\n",
       "        var cell = cells[i];\n",
       "        if (cell.cell_type === 'code'){\n",
       "            for (var j=0; j<cell.output_area.outputs.length; j++) {\n",
       "                var data = cell.output_area.outputs[j];\n",
       "                if (data.data) {\n",
       "                    // IPython >= 3 moved mimebundle to data attribute of output\n",
       "                    data = data.data;\n",
       "                }\n",
       "                if (data['text/html'] == html_output) {\n",
       "                    return [cell, data, j];\n",
       "                }\n",
       "            }\n",
       "        }\n",
       "    }\n",
       "}\n",
       "\n",
       "// Register the function which deals with the matplotlib target/channel.\n",
       "// The kernel may be null if the page has been refreshed.\n",
       "if (IPython.notebook.kernel != null) {\n",
       "    IPython.notebook.kernel.comm_manager.register_target('matplotlib', mpl.mpl_figure_comm);\n",
       "}\n"
      ],
      "text/plain": [
       "<IPython.core.display.Javascript object>"
      ]
     },
     "metadata": {},
     "output_type": "display_data"
    },
    {
     "data": {
      "text/html": [
       "<img src=\"data:image/png;base64,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\" width=\"640\">"
      ],
      "text/plain": [
       "<IPython.core.display.HTML object>"
      ]
     },
     "metadata": {},
     "output_type": "display_data"
    },
    {
     "data": {
      "application/javascript": [
       "/* Put everything inside the global mpl namespace */\n",
       "window.mpl = {};\n",
       "\n",
       "\n",
       "mpl.get_websocket_type = function() {\n",
       "    if (typeof(WebSocket) !== 'undefined') {\n",
       "        return WebSocket;\n",
       "    } else if (typeof(MozWebSocket) !== 'undefined') {\n",
       "        return MozWebSocket;\n",
       "    } else {\n",
       "        alert('Your browser does not have WebSocket support. ' +\n",
       "              'Please try Chrome, Safari or Firefox ≥ 6. ' +\n",
       "              'Firefox 4 and 5 are also supported but you ' +\n",
       "              'have to enable WebSockets in about:config.');\n",
       "    };\n",
       "}\n",
       "\n",
       "mpl.figure = function(figure_id, websocket, ondownload, parent_element) {\n",
       "    this.id = figure_id;\n",
       "\n",
       "    this.ws = websocket;\n",
       "\n",
       "    this.supports_binary = (this.ws.binaryType != undefined);\n",
       "\n",
       "    if (!this.supports_binary) {\n",
       "        var warnings = document.getElementById(\"mpl-warnings\");\n",
       "        if (warnings) {\n",
       "            warnings.style.display = 'block';\n",
       "            warnings.textContent = (\n",
       "                \"This browser does not support binary websocket messages. \" +\n",
       "                    \"Performance may be slow.\");\n",
       "        }\n",
       "    }\n",
       "\n",
       "    this.imageObj = new Image();\n",
       "\n",
       "    this.context = undefined;\n",
       "    this.message = undefined;\n",
       "    this.canvas = undefined;\n",
       "    this.rubberband_canvas = undefined;\n",
       "    this.rubberband_context = undefined;\n",
       "    this.format_dropdown = undefined;\n",
       "\n",
       "    this.image_mode = 'full';\n",
       "\n",
       "    this.root = $('<div/>');\n",
       "    this._root_extra_style(this.root)\n",
       "    this.root.attr('style', 'display: inline-block');\n",
       "\n",
       "    $(parent_element).append(this.root);\n",
       "\n",
       "    this._init_header(this);\n",
       "    this._init_canvas(this);\n",
       "    this._init_toolbar(this);\n",
       "\n",
       "    var fig = this;\n",
       "\n",
       "    this.waiting = false;\n",
       "\n",
       "    this.ws.onopen =  function () {\n",
       "            fig.send_message(\"supports_binary\", {value: fig.supports_binary});\n",
       "            fig.send_message(\"send_image_mode\", {});\n",
       "            if (mpl.ratio != 1) {\n",
       "                fig.send_message(\"set_dpi_ratio\", {'dpi_ratio': mpl.ratio});\n",
       "            }\n",
       "            fig.send_message(\"refresh\", {});\n",
       "        }\n",
       "\n",
       "    this.imageObj.onload = function() {\n",
       "            if (fig.image_mode == 'full') {\n",
       "                // Full images could contain transparency (where diff images\n",
       "                // almost always do), so we need to clear the canvas so that\n",
       "                // there is no ghosting.\n",
       "                fig.context.clearRect(0, 0, fig.canvas.width, fig.canvas.height);\n",
       "            }\n",
       "            fig.context.drawImage(fig.imageObj, 0, 0);\n",
       "        };\n",
       "\n",
       "    this.imageObj.onunload = function() {\n",
       "        fig.ws.close();\n",
       "    }\n",
       "\n",
       "    this.ws.onmessage = this._make_on_message_function(this);\n",
       "\n",
       "    this.ondownload = ondownload;\n",
       "}\n",
       "\n",
       "mpl.figure.prototype._init_header = function() {\n",
       "    var titlebar = $(\n",
       "        '<div class=\"ui-dialog-titlebar ui-widget-header ui-corner-all ' +\n",
       "        'ui-helper-clearfix\"/>');\n",
       "    var titletext = $(\n",
       "        '<div class=\"ui-dialog-title\" style=\"width: 100%; ' +\n",
       "        'text-align: center; padding: 3px;\"/>');\n",
       "    titlebar.append(titletext)\n",
       "    this.root.append(titlebar);\n",
       "    this.header = titletext[0];\n",
       "}\n",
       "\n",
       "\n",
       "\n",
       "mpl.figure.prototype._canvas_extra_style = function(canvas_div) {\n",
       "\n",
       "}\n",
       "\n",
       "\n",
       "mpl.figure.prototype._root_extra_style = function(canvas_div) {\n",
       "\n",
       "}\n",
       "\n",
       "mpl.figure.prototype._init_canvas = function() {\n",
       "    var fig = this;\n",
       "\n",
       "    var canvas_div = $('<div/>');\n",
       "\n",
       "    canvas_div.attr('style', 'position: relative; clear: both; outline: 0');\n",
       "\n",
       "    function canvas_keyboard_event(event) {\n",
       "        return fig.key_event(event, event['data']);\n",
       "    }\n",
       "\n",
       "    canvas_div.keydown('key_press', canvas_keyboard_event);\n",
       "    canvas_div.keyup('key_release', canvas_keyboard_event);\n",
       "    this.canvas_div = canvas_div\n",
       "    this._canvas_extra_style(canvas_div)\n",
       "    this.root.append(canvas_div);\n",
       "\n",
       "    var canvas = $('<canvas/>');\n",
       "    canvas.addClass('mpl-canvas');\n",
       "    canvas.attr('style', \"left: 0; top: 0; z-index: 0; outline: 0\")\n",
       "\n",
       "    this.canvas = canvas[0];\n",
       "    this.context = canvas[0].getContext(\"2d\");\n",
       "\n",
       "    var backingStore = this.context.backingStorePixelRatio ||\n",
       "\tthis.context.webkitBackingStorePixelRatio ||\n",
       "\tthis.context.mozBackingStorePixelRatio ||\n",
       "\tthis.context.msBackingStorePixelRatio ||\n",
       "\tthis.context.oBackingStorePixelRatio ||\n",
       "\tthis.context.backingStorePixelRatio || 1;\n",
       "\n",
       "    mpl.ratio = (window.devicePixelRatio || 1) / backingStore;\n",
       "\n",
       "    var rubberband = $('<canvas/>');\n",
       "    rubberband.attr('style', \"position: absolute; left: 0; top: 0; z-index: 1;\")\n",
       "\n",
       "    var pass_mouse_events = true;\n",
       "\n",
       "    canvas_div.resizable({\n",
       "        start: function(event, ui) {\n",
       "            pass_mouse_events = false;\n",
       "        },\n",
       "        resize: function(event, ui) {\n",
       "            fig.request_resize(ui.size.width, ui.size.height);\n",
       "        },\n",
       "        stop: function(event, ui) {\n",
       "            pass_mouse_events = true;\n",
       "            fig.request_resize(ui.size.width, ui.size.height);\n",
       "        },\n",
       "    });\n",
       "\n",
       "    function mouse_event_fn(event) {\n",
       "        if (pass_mouse_events)\n",
       "            return fig.mouse_event(event, event['data']);\n",
       "    }\n",
       "\n",
       "    rubberband.mousedown('button_press', mouse_event_fn);\n",
       "    rubberband.mouseup('button_release', mouse_event_fn);\n",
       "    // Throttle sequential mouse events to 1 every 20ms.\n",
       "    rubberband.mousemove('motion_notify', mouse_event_fn);\n",
       "\n",
       "    rubberband.mouseenter('figure_enter', mouse_event_fn);\n",
       "    rubberband.mouseleave('figure_leave', mouse_event_fn);\n",
       "\n",
       "    canvas_div.on(\"wheel\", function (event) {\n",
       "        event = event.originalEvent;\n",
       "        event['data'] = 'scroll'\n",
       "        if (event.deltaY < 0) {\n",
       "            event.step = 1;\n",
       "        } else {\n",
       "            event.step = -1;\n",
       "        }\n",
       "        mouse_event_fn(event);\n",
       "    });\n",
       "\n",
       "    canvas_div.append(canvas);\n",
       "    canvas_div.append(rubberband);\n",
       "\n",
       "    this.rubberband = rubberband;\n",
       "    this.rubberband_canvas = rubberband[0];\n",
       "    this.rubberband_context = rubberband[0].getContext(\"2d\");\n",
       "    this.rubberband_context.strokeStyle = \"#000000\";\n",
       "\n",
       "    this._resize_canvas = function(width, height) {\n",
       "        // Keep the size of the canvas, canvas container, and rubber band\n",
       "        // canvas in synch.\n",
       "        canvas_div.css('width', width)\n",
       "        canvas_div.css('height', height)\n",
       "\n",
       "        canvas.attr('width', width * mpl.ratio);\n",
       "        canvas.attr('height', height * mpl.ratio);\n",
       "        canvas.attr('style', 'width: ' + width + 'px; height: ' + height + 'px;');\n",
       "\n",
       "        rubberband.attr('width', width);\n",
       "        rubberband.attr('height', height);\n",
       "    }\n",
       "\n",
       "    // Set the figure to an initial 600x600px, this will subsequently be updated\n",
       "    // upon first draw.\n",
       "    this._resize_canvas(600, 600);\n",
       "\n",
       "    // Disable right mouse context menu.\n",
       "    $(this.rubberband_canvas).bind(\"contextmenu\",function(e){\n",
       "        return false;\n",
       "    });\n",
       "\n",
       "    function set_focus () {\n",
       "        canvas.focus();\n",
       "        canvas_div.focus();\n",
       "    }\n",
       "\n",
       "    window.setTimeout(set_focus, 100);\n",
       "}\n",
       "\n",
       "mpl.figure.prototype._init_toolbar = function() {\n",
       "    var fig = this;\n",
       "\n",
       "    var nav_element = $('<div/>');\n",
       "    nav_element.attr('style', 'width: 100%');\n",
       "    this.root.append(nav_element);\n",
       "\n",
       "    // Define a callback function for later on.\n",
       "    function toolbar_event(event) {\n",
       "        return fig.toolbar_button_onclick(event['data']);\n",
       "    }\n",
       "    function toolbar_mouse_event(event) {\n",
       "        return fig.toolbar_button_onmouseover(event['data']);\n",
       "    }\n",
       "\n",
       "    for(var toolbar_ind in mpl.toolbar_items) {\n",
       "        var name = mpl.toolbar_items[toolbar_ind][0];\n",
       "        var tooltip = mpl.toolbar_items[toolbar_ind][1];\n",
       "        var image = mpl.toolbar_items[toolbar_ind][2];\n",
       "        var method_name = mpl.toolbar_items[toolbar_ind][3];\n",
       "\n",
       "        if (!name) {\n",
       "            // put a spacer in here.\n",
       "            continue;\n",
       "        }\n",
       "        var button = $('<button/>');\n",
       "        button.addClass('ui-button ui-widget ui-state-default ui-corner-all ' +\n",
       "                        'ui-button-icon-only');\n",
       "        button.attr('role', 'button');\n",
       "        button.attr('aria-disabled', 'false');\n",
       "        button.click(method_name, toolbar_event);\n",
       "        button.mouseover(tooltip, toolbar_mouse_event);\n",
       "\n",
       "        var icon_img = $('<span/>');\n",
       "        icon_img.addClass('ui-button-icon-primary ui-icon');\n",
       "        icon_img.addClass(image);\n",
       "        icon_img.addClass('ui-corner-all');\n",
       "\n",
       "        var tooltip_span = $('<span/>');\n",
       "        tooltip_span.addClass('ui-button-text');\n",
       "        tooltip_span.html(tooltip);\n",
       "\n",
       "        button.append(icon_img);\n",
       "        button.append(tooltip_span);\n",
       "\n",
       "        nav_element.append(button);\n",
       "    }\n",
       "\n",
       "    var fmt_picker_span = $('<span/>');\n",
       "\n",
       "    var fmt_picker = $('<select/>');\n",
       "    fmt_picker.addClass('mpl-toolbar-option ui-widget ui-widget-content');\n",
       "    fmt_picker_span.append(fmt_picker);\n",
       "    nav_element.append(fmt_picker_span);\n",
       "    this.format_dropdown = fmt_picker[0];\n",
       "\n",
       "    for (var ind in mpl.extensions) {\n",
       "        var fmt = mpl.extensions[ind];\n",
       "        var option = $(\n",
       "            '<option/>', {selected: fmt === mpl.default_extension}).html(fmt);\n",
       "        fmt_picker.append(option);\n",
       "    }\n",
       "\n",
       "    // Add hover states to the ui-buttons\n",
       "    $( \".ui-button\" ).hover(\n",
       "        function() { $(this).addClass(\"ui-state-hover\");},\n",
       "        function() { $(this).removeClass(\"ui-state-hover\");}\n",
       "    );\n",
       "\n",
       "    var status_bar = $('<span class=\"mpl-message\"/>');\n",
       "    nav_element.append(status_bar);\n",
       "    this.message = status_bar[0];\n",
       "}\n",
       "\n",
       "mpl.figure.prototype.request_resize = function(x_pixels, y_pixels) {\n",
       "    // Request matplotlib to resize the figure. Matplotlib will then trigger a resize in the client,\n",
       "    // which will in turn request a refresh of the image.\n",
       "    this.send_message('resize', {'width': x_pixels, 'height': y_pixels});\n",
       "}\n",
       "\n",
       "mpl.figure.prototype.send_message = function(type, properties) {\n",
       "    properties['type'] = type;\n",
       "    properties['figure_id'] = this.id;\n",
       "    this.ws.send(JSON.stringify(properties));\n",
       "}\n",
       "\n",
       "mpl.figure.prototype.send_draw_message = function() {\n",
       "    if (!this.waiting) {\n",
       "        this.waiting = true;\n",
       "        this.ws.send(JSON.stringify({type: \"draw\", figure_id: this.id}));\n",
       "    }\n",
       "}\n",
       "\n",
       "\n",
       "mpl.figure.prototype.handle_save = function(fig, msg) {\n",
       "    var format_dropdown = fig.format_dropdown;\n",
       "    var format = format_dropdown.options[format_dropdown.selectedIndex].value;\n",
       "    fig.ondownload(fig, format);\n",
       "}\n",
       "\n",
       "\n",
       "mpl.figure.prototype.handle_resize = function(fig, msg) {\n",
       "    var size = msg['size'];\n",
       "    if (size[0] != fig.canvas.width || size[1] != fig.canvas.height) {\n",
       "        fig._resize_canvas(size[0], size[1]);\n",
       "        fig.send_message(\"refresh\", {});\n",
       "    };\n",
       "}\n",
       "\n",
       "mpl.figure.prototype.handle_rubberband = function(fig, msg) {\n",
       "    var x0 = msg['x0'] / mpl.ratio;\n",
       "    var y0 = (fig.canvas.height - msg['y0']) / mpl.ratio;\n",
       "    var x1 = msg['x1'] / mpl.ratio;\n",
       "    var y1 = (fig.canvas.height - msg['y1']) / mpl.ratio;\n",
       "    x0 = Math.floor(x0) + 0.5;\n",
       "    y0 = Math.floor(y0) + 0.5;\n",
       "    x1 = Math.floor(x1) + 0.5;\n",
       "    y1 = Math.floor(y1) + 0.5;\n",
       "    var min_x = Math.min(x0, x1);\n",
       "    var min_y = Math.min(y0, y1);\n",
       "    var width = Math.abs(x1 - x0);\n",
       "    var height = Math.abs(y1 - y0);\n",
       "\n",
       "    fig.rubberband_context.clearRect(\n",
       "        0, 0, fig.canvas.width, fig.canvas.height);\n",
       "\n",
       "    fig.rubberband_context.strokeRect(min_x, min_y, width, height);\n",
       "}\n",
       "\n",
       "mpl.figure.prototype.handle_figure_label = function(fig, msg) {\n",
       "    // Updates the figure title.\n",
       "    fig.header.textContent = msg['label'];\n",
       "}\n",
       "\n",
       "mpl.figure.prototype.handle_cursor = function(fig, msg) {\n",
       "    var cursor = msg['cursor'];\n",
       "    switch(cursor)\n",
       "    {\n",
       "    case 0:\n",
       "        cursor = 'pointer';\n",
       "        break;\n",
       "    case 1:\n",
       "        cursor = 'default';\n",
       "        break;\n",
       "    case 2:\n",
       "        cursor = 'crosshair';\n",
       "        break;\n",
       "    case 3:\n",
       "        cursor = 'move';\n",
       "        break;\n",
       "    }\n",
       "    fig.rubberband_canvas.style.cursor = cursor;\n",
       "}\n",
       "\n",
       "mpl.figure.prototype.handle_message = function(fig, msg) {\n",
       "    fig.message.textContent = msg['message'];\n",
       "}\n",
       "\n",
       "mpl.figure.prototype.handle_draw = function(fig, msg) {\n",
       "    // Request the server to send over a new figure.\n",
       "    fig.send_draw_message();\n",
       "}\n",
       "\n",
       "mpl.figure.prototype.handle_image_mode = function(fig, msg) {\n",
       "    fig.image_mode = msg['mode'];\n",
       "}\n",
       "\n",
       "mpl.figure.prototype.updated_canvas_event = function() {\n",
       "    // Called whenever the canvas gets updated.\n",
       "    this.send_message(\"ack\", {});\n",
       "}\n",
       "\n",
       "// A function to construct a web socket function for onmessage handling.\n",
       "// Called in the figure constructor.\n",
       "mpl.figure.prototype._make_on_message_function = function(fig) {\n",
       "    return function socket_on_message(evt) {\n",
       "        if (evt.data instanceof Blob) {\n",
       "            /* FIXME: We get \"Resource interpreted as Image but\n",
       "             * transferred with MIME type text/plain:\" errors on\n",
       "             * Chrome.  But how to set the MIME type?  It doesn't seem\n",
       "             * to be part of the websocket stream */\n",
       "            evt.data.type = \"image/png\";\n",
       "\n",
       "            /* Free the memory for the previous frames */\n",
       "            if (fig.imageObj.src) {\n",
       "                (window.URL || window.webkitURL).revokeObjectURL(\n",
       "                    fig.imageObj.src);\n",
       "            }\n",
       "\n",
       "            fig.imageObj.src = (window.URL || window.webkitURL).createObjectURL(\n",
       "                evt.data);\n",
       "            fig.updated_canvas_event();\n",
       "            fig.waiting = false;\n",
       "            return;\n",
       "        }\n",
       "        else if (typeof evt.data === 'string' && evt.data.slice(0, 21) == \"data:image/png;base64\") {\n",
       "            fig.imageObj.src = evt.data;\n",
       "            fig.updated_canvas_event();\n",
       "            fig.waiting = false;\n",
       "            return;\n",
       "        }\n",
       "\n",
       "        var msg = JSON.parse(evt.data);\n",
       "        var msg_type = msg['type'];\n",
       "\n",
       "        // Call the  \"handle_{type}\" callback, which takes\n",
       "        // the figure and JSON message as its only arguments.\n",
       "        try {\n",
       "            var callback = fig[\"handle_\" + msg_type];\n",
       "        } catch (e) {\n",
       "            console.log(\"No handler for the '\" + msg_type + \"' message type: \", msg);\n",
       "            return;\n",
       "        }\n",
       "\n",
       "        if (callback) {\n",
       "            try {\n",
       "                // console.log(\"Handling '\" + msg_type + \"' message: \", msg);\n",
       "                callback(fig, msg);\n",
       "            } catch (e) {\n",
       "                console.log(\"Exception inside the 'handler_\" + msg_type + \"' callback:\", e, e.stack, msg);\n",
       "            }\n",
       "        }\n",
       "    };\n",
       "}\n",
       "\n",
       "// from http://stackoverflow.com/questions/1114465/getting-mouse-location-in-canvas\n",
       "mpl.findpos = function(e) {\n",
       "    //this section is from http://www.quirksmode.org/js/events_properties.html\n",
       "    var targ;\n",
       "    if (!e)\n",
       "        e = window.event;\n",
       "    if (e.target)\n",
       "        targ = e.target;\n",
       "    else if (e.srcElement)\n",
       "        targ = e.srcElement;\n",
       "    if (targ.nodeType == 3) // defeat Safari bug\n",
       "        targ = targ.parentNode;\n",
       "\n",
       "    // jQuery normalizes the pageX and pageY\n",
       "    // pageX,Y are the mouse positions relative to the document\n",
       "    // offset() returns the position of the element relative to the document\n",
       "    var x = e.pageX - $(targ).offset().left;\n",
       "    var y = e.pageY - $(targ).offset().top;\n",
       "\n",
       "    return {\"x\": x, \"y\": y};\n",
       "};\n",
       "\n",
       "/*\n",
       " * return a copy of an object with only non-object keys\n",
       " * we need this to avoid circular references\n",
       " * http://stackoverflow.com/a/24161582/3208463\n",
       " */\n",
       "function simpleKeys (original) {\n",
       "  return Object.keys(original).reduce(function (obj, key) {\n",
       "    if (typeof original[key] !== 'object')\n",
       "        obj[key] = original[key]\n",
       "    return obj;\n",
       "  }, {});\n",
       "}\n",
       "\n",
       "mpl.figure.prototype.mouse_event = function(event, name) {\n",
       "    var canvas_pos = mpl.findpos(event)\n",
       "\n",
       "    if (name === 'button_press')\n",
       "    {\n",
       "        this.canvas.focus();\n",
       "        this.canvas_div.focus();\n",
       "    }\n",
       "\n",
       "    var x = canvas_pos.x * mpl.ratio;\n",
       "    var y = canvas_pos.y * mpl.ratio;\n",
       "\n",
       "    this.send_message(name, {x: x, y: y, button: event.button,\n",
       "                             step: event.step,\n",
       "                             guiEvent: simpleKeys(event)});\n",
       "\n",
       "    /* This prevents the web browser from automatically changing to\n",
       "     * the text insertion cursor when the button is pressed.  We want\n",
       "     * to control all of the cursor setting manually through the\n",
       "     * 'cursor' event from matplotlib */\n",
       "    event.preventDefault();\n",
       "    return false;\n",
       "}\n",
       "\n",
       "mpl.figure.prototype._key_event_extra = function(event, name) {\n",
       "    // Handle any extra behaviour associated with a key event\n",
       "}\n",
       "\n",
       "mpl.figure.prototype.key_event = function(event, name) {\n",
       "\n",
       "    // Prevent repeat events\n",
       "    if (name == 'key_press')\n",
       "    {\n",
       "        if (event.which === this._key)\n",
       "            return;\n",
       "        else\n",
       "            this._key = event.which;\n",
       "    }\n",
       "    if (name == 'key_release')\n",
       "        this._key = null;\n",
       "\n",
       "    var value = '';\n",
       "    if (event.ctrlKey && event.which != 17)\n",
       "        value += \"ctrl+\";\n",
       "    if (event.altKey && event.which != 18)\n",
       "        value += \"alt+\";\n",
       "    if (event.shiftKey && event.which != 16)\n",
       "        value += \"shift+\";\n",
       "\n",
       "    value += 'k';\n",
       "    value += event.which.toString();\n",
       "\n",
       "    this._key_event_extra(event, name);\n",
       "\n",
       "    this.send_message(name, {key: value,\n",
       "                             guiEvent: simpleKeys(event)});\n",
       "    return false;\n",
       "}\n",
       "\n",
       "mpl.figure.prototype.toolbar_button_onclick = function(name) {\n",
       "    if (name == 'download') {\n",
       "        this.handle_save(this, null);\n",
       "    } else {\n",
       "        this.send_message(\"toolbar_button\", {name: name});\n",
       "    }\n",
       "};\n",
       "\n",
       "mpl.figure.prototype.toolbar_button_onmouseover = function(tooltip) {\n",
       "    this.message.textContent = tooltip;\n",
       "};\n",
       "mpl.toolbar_items = [[\"Home\", \"Reset original view\", \"fa fa-home icon-home\", \"home\"], [\"Back\", \"Back to previous view\", \"fa fa-arrow-left icon-arrow-left\", \"back\"], [\"Forward\", \"Forward to next view\", \"fa fa-arrow-right icon-arrow-right\", \"forward\"], [\"\", \"\", \"\", \"\"], [\"Pan\", \"Pan axes with left mouse, zoom with right\", \"fa fa-arrows icon-move\", \"pan\"], [\"Zoom\", \"Zoom to rectangle\", \"fa fa-square-o icon-check-empty\", \"zoom\"], [\"\", \"\", \"\", \"\"], [\"Download\", \"Download plot\", \"fa fa-floppy-o icon-save\", \"download\"]];\n",
       "\n",
       "mpl.extensions = [\"eps\", \"jpeg\", \"pdf\", \"png\", \"ps\", \"raw\", \"svg\", \"tif\"];\n",
       "\n",
       "mpl.default_extension = \"png\";var comm_websocket_adapter = function(comm) {\n",
       "    // Create a \"websocket\"-like object which calls the given IPython comm\n",
       "    // object with the appropriate methods. Currently this is a non binary\n",
       "    // socket, so there is still some room for performance tuning.\n",
       "    var ws = {};\n",
       "\n",
       "    ws.close = function() {\n",
       "        comm.close()\n",
       "    };\n",
       "    ws.send = function(m) {\n",
       "        //console.log('sending', m);\n",
       "        comm.send(m);\n",
       "    };\n",
       "    // Register the callback with on_msg.\n",
       "    comm.on_msg(function(msg) {\n",
       "        //console.log('receiving', msg['content']['data'], msg);\n",
       "        // Pass the mpl event to the overridden (by mpl) onmessage function.\n",
       "        ws.onmessage(msg['content']['data'])\n",
       "    });\n",
       "    return ws;\n",
       "}\n",
       "\n",
       "mpl.mpl_figure_comm = function(comm, msg) {\n",
       "    // This is the function which gets called when the mpl process\n",
       "    // starts-up an IPython Comm through the \"matplotlib\" channel.\n",
       "\n",
       "    var id = msg.content.data.id;\n",
       "    // Get hold of the div created by the display call when the Comm\n",
       "    // socket was opened in Python.\n",
       "    var element = $(\"#\" + id);\n",
       "    var ws_proxy = comm_websocket_adapter(comm)\n",
       "\n",
       "    function ondownload(figure, format) {\n",
       "        window.open(figure.imageObj.src);\n",
       "    }\n",
       "\n",
       "    var fig = new mpl.figure(id, ws_proxy,\n",
       "                           ondownload,\n",
       "                           element.get(0));\n",
       "\n",
       "    // Call onopen now - mpl needs it, as it is assuming we've passed it a real\n",
       "    // web socket which is closed, not our websocket->open comm proxy.\n",
       "    ws_proxy.onopen();\n",
       "\n",
       "    fig.parent_element = element.get(0);\n",
       "    fig.cell_info = mpl.find_output_cell(\"<div id='\" + id + \"'></div>\");\n",
       "    if (!fig.cell_info) {\n",
       "        console.error(\"Failed to find cell for figure\", id, fig);\n",
       "        return;\n",
       "    }\n",
       "\n",
       "    var output_index = fig.cell_info[2]\n",
       "    var cell = fig.cell_info[0];\n",
       "\n",
       "};\n",
       "\n",
       "mpl.figure.prototype.handle_close = function(fig, msg) {\n",
       "    var width = fig.canvas.width/mpl.ratio\n",
       "    fig.root.unbind('remove')\n",
       "\n",
       "    // Update the output cell to use the data from the current canvas.\n",
       "    fig.push_to_output();\n",
       "    var dataURL = fig.canvas.toDataURL();\n",
       "    // Re-enable the keyboard manager in IPython - without this line, in FF,\n",
       "    // the notebook keyboard shortcuts fail.\n",
       "    IPython.keyboard_manager.enable()\n",
       "    $(fig.parent_element).html('<img src=\"' + dataURL + '\" width=\"' + width + '\">');\n",
       "    fig.close_ws(fig, msg);\n",
       "}\n",
       "\n",
       "mpl.figure.prototype.close_ws = function(fig, msg){\n",
       "    fig.send_message('closing', msg);\n",
       "    // fig.ws.close()\n",
       "}\n",
       "\n",
       "mpl.figure.prototype.push_to_output = function(remove_interactive) {\n",
       "    // Turn the data on the canvas into data in the output cell.\n",
       "    var width = this.canvas.width/mpl.ratio\n",
       "    var dataURL = this.canvas.toDataURL();\n",
       "    this.cell_info[1]['text/html'] = '<img src=\"' + dataURL + '\" width=\"' + width + '\">';\n",
       "}\n",
       "\n",
       "mpl.figure.prototype.updated_canvas_event = function() {\n",
       "    // Tell IPython that the notebook contents must change.\n",
       "    IPython.notebook.set_dirty(true);\n",
       "    this.send_message(\"ack\", {});\n",
       "    var fig = this;\n",
       "    // Wait a second, then push the new image to the DOM so\n",
       "    // that it is saved nicely (might be nice to debounce this).\n",
       "    setTimeout(function () { fig.push_to_output() }, 1000);\n",
       "}\n",
       "\n",
       "mpl.figure.prototype._init_toolbar = function() {\n",
       "    var fig = this;\n",
       "\n",
       "    var nav_element = $('<div/>');\n",
       "    nav_element.attr('style', 'width: 100%');\n",
       "    this.root.append(nav_element);\n",
       "\n",
       "    // Define a callback function for later on.\n",
       "    function toolbar_event(event) {\n",
       "        return fig.toolbar_button_onclick(event['data']);\n",
       "    }\n",
       "    function toolbar_mouse_event(event) {\n",
       "        return fig.toolbar_button_onmouseover(event['data']);\n",
       "    }\n",
       "\n",
       "    for(var toolbar_ind in mpl.toolbar_items){\n",
       "        var name = mpl.toolbar_items[toolbar_ind][0];\n",
       "        var tooltip = mpl.toolbar_items[toolbar_ind][1];\n",
       "        var image = mpl.toolbar_items[toolbar_ind][2];\n",
       "        var method_name = mpl.toolbar_items[toolbar_ind][3];\n",
       "\n",
       "        if (!name) { continue; };\n",
       "\n",
       "        var button = $('<button class=\"btn btn-default\" href=\"#\" title=\"' + name + '\"><i class=\"fa ' + image + ' fa-lg\"></i></button>');\n",
       "        button.click(method_name, toolbar_event);\n",
       "        button.mouseover(tooltip, toolbar_mouse_event);\n",
       "        nav_element.append(button);\n",
       "    }\n",
       "\n",
       "    // Add the status bar.\n",
       "    var status_bar = $('<span class=\"mpl-message\" style=\"text-align:right; float: right;\"/>');\n",
       "    nav_element.append(status_bar);\n",
       "    this.message = status_bar[0];\n",
       "\n",
       "    // Add the close button to the window.\n",
       "    var buttongrp = $('<div class=\"btn-group inline pull-right\"></div>');\n",
       "    var button = $('<button class=\"btn btn-mini btn-primary\" href=\"#\" title=\"Stop Interaction\"><i class=\"fa fa-power-off icon-remove icon-large\"></i></button>');\n",
       "    button.click(function (evt) { fig.handle_close(fig, {}); } );\n",
       "    button.mouseover('Stop Interaction', toolbar_mouse_event);\n",
       "    buttongrp.append(button);\n",
       "    var titlebar = this.root.find($('.ui-dialog-titlebar'));\n",
       "    titlebar.prepend(buttongrp);\n",
       "}\n",
       "\n",
       "mpl.figure.prototype._root_extra_style = function(el){\n",
       "    var fig = this\n",
       "    el.on(\"remove\", function(){\n",
       "\tfig.close_ws(fig, {});\n",
       "    });\n",
       "}\n",
       "\n",
       "mpl.figure.prototype._canvas_extra_style = function(el){\n",
       "    // this is important to make the div 'focusable\n",
       "    el.attr('tabindex', 0)\n",
       "    // reach out to IPython and tell the keyboard manager to turn it's self\n",
       "    // off when our div gets focus\n",
       "\n",
       "    // location in version 3\n",
       "    if (IPython.notebook.keyboard_manager) {\n",
       "        IPython.notebook.keyboard_manager.register_events(el);\n",
       "    }\n",
       "    else {\n",
       "        // location in version 2\n",
       "        IPython.keyboard_manager.register_events(el);\n",
       "    }\n",
       "\n",
       "}\n",
       "\n",
       "mpl.figure.prototype._key_event_extra = function(event, name) {\n",
       "    var manager = IPython.notebook.keyboard_manager;\n",
       "    if (!manager)\n",
       "        manager = IPython.keyboard_manager;\n",
       "\n",
       "    // Check for shift+enter\n",
       "    if (event.shiftKey && event.which == 13) {\n",
       "        this.canvas_div.blur();\n",
       "        event.shiftKey = false;\n",
       "        // Send a \"J\" for go to next cell\n",
       "        event.which = 74;\n",
       "        event.keyCode = 74;\n",
       "        manager.command_mode();\n",
       "        manager.handle_keydown(event);\n",
       "    }\n",
       "}\n",
       "\n",
       "mpl.figure.prototype.handle_save = function(fig, msg) {\n",
       "    fig.ondownload(fig, null);\n",
       "}\n",
       "\n",
       "\n",
       "mpl.find_output_cell = function(html_output) {\n",
       "    // Return the cell and output element which can be found *uniquely* in the notebook.\n",
       "    // Note - this is a bit hacky, but it is done because the \"notebook_saving.Notebook\"\n",
       "    // IPython event is triggered only after the cells have been serialised, which for\n",
       "    // our purposes (turning an active figure into a static one), is too late.\n",
       "    var cells = IPython.notebook.get_cells();\n",
       "    var ncells = cells.length;\n",
       "    for (var i=0; i<ncells; i++) {\n",
       "        var cell = cells[i];\n",
       "        if (cell.cell_type === 'code'){\n",
       "            for (var j=0; j<cell.output_area.outputs.length; j++) {\n",
       "                var data = cell.output_area.outputs[j];\n",
       "                if (data.data) {\n",
       "                    // IPython >= 3 moved mimebundle to data attribute of output\n",
       "                    data = data.data;\n",
       "                }\n",
       "                if (data['text/html'] == html_output) {\n",
       "                    return [cell, data, j];\n",
       "                }\n",
       "            }\n",
       "        }\n",
       "    }\n",
       "}\n",
       "\n",
       "// Register the function which deals with the matplotlib target/channel.\n",
       "// The kernel may be null if the page has been refreshed.\n",
       "if (IPython.notebook.kernel != null) {\n",
       "    IPython.notebook.kernel.comm_manager.register_target('matplotlib', mpl.mpl_figure_comm);\n",
       "}\n"
      ],
      "text/plain": [
       "<IPython.core.display.Javascript object>"
      ]
     },
     "metadata": {},
     "output_type": "display_data"
    },
    {
     "data": {
      "text/html": [
       "<img src=\"data:image/png;base64,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\" width=\"640\">"
      ],
      "text/plain": [
       "<IPython.core.display.HTML object>"
      ]
     },
     "metadata": {},
     "output_type": "display_data"
    },
    {
     "data": {
      "application/vnd.jupyter.widget-view+json": {
       "model_id": "9f8527a55ef54f3c92785897efe2766c",
       "version_major": 2,
       "version_minor": 0
      },
      "text/plain": [
       "HBox(children=(IntProgress(value=0, description='Performing validation', max=50), HTML(value='')))"
      ]
     },
     "metadata": {},
     "output_type": "display_data"
    },
    {
     "data": {
      "application/vnd.jupyter.widget-view+json": {
       "model_id": "358f5ddb0b794442a7075d44fc51b52e",
       "version_major": 2,
       "version_minor": 0
      },
      "text/plain": [
       "HBox(children=(IntProgress(value=0, description='Performing validation', max=50), HTML(value='')))"
      ]
     },
     "metadata": {},
     "output_type": "display_data"
    },
    {
     "data": {
      "application/vnd.jupyter.widget-view+json": {
       "model_id": "f0d97ae3d68d410cb102f63b3b5ff789",
       "version_major": 2,
       "version_minor": 0
      },
      "text/plain": [
       "HBox(children=(IntProgress(value=0, description='Performing validation', max=50), HTML(value='')))"
      ]
     },
     "metadata": {},
     "output_type": "display_data"
    },
    {
     "data": {
      "application/vnd.jupyter.widget-view+json": {
       "model_id": "69760f53acc44be3bbeb4d4e387fa5a0",
       "version_major": 2,
       "version_minor": 0
      },
      "text/plain": [
       "HBox(children=(IntProgress(value=0, description='Performing validation', max=50), HTML(value='')))"
      ]
     },
     "metadata": {},
     "output_type": "display_data"
    },
    {
     "data": {
      "application/vnd.jupyter.widget-view+json": {
       "model_id": "229952898e42426cbe1bb25379447ee9",
       "version_major": 2,
       "version_minor": 0
      },
      "text/plain": [
       "HBox(children=(IntProgress(value=0, description='Performing validation', max=50), HTML(value='')))"
      ]
     },
     "metadata": {},
     "output_type": "display_data"
    },
    {
     "data": {
      "application/vnd.jupyter.widget-view+json": {
       "model_id": "086fbba58f3149e19f05e39b0ceddf18",
       "version_major": 2,
       "version_minor": 0
      },
      "text/plain": [
       "HBox(children=(IntProgress(value=0, description='Performing validation', max=50), HTML(value='')))"
      ]
     },
     "metadata": {},
     "output_type": "display_data"
    },
    {
     "data": {
      "application/vnd.jupyter.widget-view+json": {
       "model_id": "3e3726155e5048419353bc2607d6bcec",
       "version_major": 2,
       "version_minor": 0
      },
      "text/plain": [
       "HBox(children=(IntProgress(value=0, description='Performing validation', max=50), HTML(value='')))"
      ]
     },
     "metadata": {},
     "output_type": "display_data"
    },
    {
     "data": {
      "application/vnd.jupyter.widget-view+json": {
       "model_id": "cd21aefe4ffb4f579baf3754e74a47fe",
       "version_major": 2,
       "version_minor": 0
      },
      "text/plain": [
       "HBox(children=(IntProgress(value=0, description='Performing validation', max=50), HTML(value='')))"
      ]
     },
     "metadata": {},
     "output_type": "display_data"
    },
    {
     "data": {
      "application/vnd.jupyter.widget-view+json": {
       "model_id": "acb3a650cd2c4e8496d1604735695373",
       "version_major": 2,
       "version_minor": 0
      },
      "text/plain": [
       "HBox(children=(IntProgress(value=0, description='Performing validation', max=50), HTML(value='')))"
      ]
     },
     "metadata": {},
     "output_type": "display_data"
    },
    {
     "data": {
      "application/vnd.jupyter.widget-view+json": {
       "model_id": "3fec99b19ef9491da34a8c7b575fc16e",
       "version_major": 2,
       "version_minor": 0
      },
      "text/plain": [
       "HBox(children=(IntProgress(value=0, description='Performing validation', max=50), HTML(value='')))"
      ]
     },
     "metadata": {},
     "output_type": "display_data"
    },
    {
     "data": {
      "application/vnd.jupyter.widget-view+json": {
       "model_id": "b0acda2c1d7845d3af9ea433d009be64",
       "version_major": 2,
       "version_minor": 0
      },
      "text/plain": [
       "HBox(children=(IntProgress(value=0, description='Performing validation', max=50), HTML(value='')))"
      ]
     },
     "metadata": {},
     "output_type": "display_data"
    },
    {
     "data": {
      "application/vnd.jupyter.widget-view+json": {
       "model_id": "ae932a2c878541d885fb0805d7d68510",
       "version_major": 2,
       "version_minor": 0
      },
      "text/plain": [
       "HBox(children=(IntProgress(value=0, description='Performing validation', max=50), HTML(value='')))"
      ]
     },
     "metadata": {},
     "output_type": "display_data"
    },
    {
     "data": {
      "application/vnd.jupyter.widget-view+json": {
       "model_id": "a61065861f6a4201b748fc73152e331d",
       "version_major": 2,
       "version_minor": 0
      },
      "text/plain": [
       "HBox(children=(IntProgress(value=0, description='Performing validation', max=50), HTML(value='')))"
      ]
     },
     "metadata": {},
     "output_type": "display_data"
    },
    {
     "data": {
      "application/vnd.jupyter.widget-view+json": {
       "model_id": "e45d07f3408143a3a9615838e00c7ad1",
       "version_major": 2,
       "version_minor": 0
      },
      "text/plain": [
       "HBox(children=(IntProgress(value=0, description='Performing validation', max=50), HTML(value='')))"
      ]
     },
     "metadata": {},
     "output_type": "display_data"
    },
    {
     "data": {
      "application/vnd.jupyter.widget-view+json": {
       "model_id": "5044409fe6374c9c86e7d5dbcf5ab120",
       "version_major": 2,
       "version_minor": 0
      },
      "text/plain": [
       "HBox(children=(IntProgress(value=0, description='Performing validation', max=50), HTML(value='')))"
      ]
     },
     "metadata": {},
     "output_type": "display_data"
    },
    {
     "data": {
      "application/vnd.jupyter.widget-view+json": {
       "model_id": "9776bd4b02db456682662af94c1a97d2",
       "version_major": 2,
       "version_minor": 0
      },
      "text/plain": [
       "HBox(children=(IntProgress(value=0, description='Performing validation', max=50), HTML(value='')))"
      ]
     },
     "metadata": {},
     "output_type": "display_data"
    },
    {
     "data": {
      "application/vnd.jupyter.widget-view+json": {
       "model_id": "150223e7d26e411c8747fd907a3208f0",
       "version_major": 2,
       "version_minor": 0
      },
      "text/plain": [
       "HBox(children=(IntProgress(value=0, description='Performing validation', max=50), HTML(value='')))"
      ]
     },
     "metadata": {},
     "output_type": "display_data"
    },
    {
     "data": {
      "application/vnd.jupyter.widget-view+json": {
       "model_id": "66fb892b932043debe45725001916ae7",
       "version_major": 2,
       "version_minor": 0
      },
      "text/plain": [
       "HBox(children=(IntProgress(value=0, description='Performing validation', max=50), HTML(value='')))"
      ]
     },
     "metadata": {},
     "output_type": "display_data"
    },
    {
     "data": {
      "application/vnd.jupyter.widget-view+json": {
       "model_id": "3adf0b6b514947daadacfddf6f146947",
       "version_major": 2,
       "version_minor": 0
      },
      "text/plain": [
       "HBox(children=(IntProgress(value=0, description='Performing validation', max=50), HTML(value='')))"
      ]
     },
     "metadata": {},
     "output_type": "display_data"
    },
    {
     "data": {
      "application/vnd.jupyter.widget-view+json": {
       "model_id": "089211b757cc4d458a3caab8dec77fab",
       "version_major": 2,
       "version_minor": 0
      },
      "text/plain": [
       "HBox(children=(IntProgress(value=0, description='Performing validation', max=50), HTML(value='')))"
      ]
     },
     "metadata": {},
     "output_type": "display_data"
    },
    {
     "data": {
      "application/vnd.jupyter.widget-view+json": {
       "model_id": "f2922dbe840b4db6a4a8c2716fd8fe3f",
       "version_major": 2,
       "version_minor": 0
      },
      "text/plain": [
       "HBox(children=(IntProgress(value=0, description='Performing validation', max=50), HTML(value='')))"
      ]
     },
     "metadata": {},
     "output_type": "display_data"
    },
    {
     "data": {
      "application/vnd.jupyter.widget-view+json": {
       "model_id": "1f6af5e0ce464ba3af4fb2d96d3fa939",
       "version_major": 2,
       "version_minor": 0
      },
      "text/plain": [
       "HBox(children=(IntProgress(value=0, description='Performing validation', max=50), HTML(value='')))"
      ]
     },
     "metadata": {},
     "output_type": "display_data"
    },
    {
     "data": {
      "application/vnd.jupyter.widget-view+json": {
       "model_id": "3e16c4269fe34560a982c6ba85333a20",
       "version_major": 2,
       "version_minor": 0
      },
      "text/plain": [
       "HBox(children=(IntProgress(value=0, description='Performing validation', max=50), HTML(value='')))"
      ]
     },
     "metadata": {},
     "output_type": "display_data"
    },
    {
     "data": {
      "application/vnd.jupyter.widget-view+json": {
       "model_id": "0127c8020863446ea500967b6d1361f1",
       "version_major": 2,
       "version_minor": 0
      },
      "text/plain": [
       "HBox(children=(IntProgress(value=0, description='Performing validation', max=50), HTML(value='')))"
      ]
     },
     "metadata": {},
     "output_type": "display_data"
    },
    {
     "data": {
      "application/vnd.jupyter.widget-view+json": {
       "model_id": "ae01a82655c147778ee0bcbbe8cfd615",
       "version_major": 2,
       "version_minor": 0
      },
      "text/plain": [
       "HBox(children=(IntProgress(value=0, description='Performing validation', max=50), HTML(value='')))"
      ]
     },
     "metadata": {},
     "output_type": "display_data"
    },
    {
     "name": "stdout",
     "output_type": "stream",
     "text": [
      "\n"
     ]
    },
    {
     "data": {
      "application/vnd.jupyter.widget-view+json": {
       "model_id": "7c7d9303e13e4c7999df05f8a6ca3d3b",
       "version_major": 2,
       "version_minor": 0
      },
      "text/plain": [
       "HBox(children=(IntProgress(value=0, description='Epoch 2', max=2500), HTML(value='')))"
      ]
     },
     "metadata": {},
     "output_type": "display_data"
    },
    {
     "data": {
      "application/vnd.jupyter.widget-view+json": {
       "model_id": "726a291b1a6b4745a57cc9acb5e5cf03",
       "version_major": 2,
       "version_minor": 0
      },
      "text/plain": [
       "HBox(children=(IntProgress(value=0, description='Performing validation', max=50), HTML(value='')))"
      ]
     },
     "metadata": {},
     "output_type": "display_data"
    },
    {
     "data": {
      "application/vnd.jupyter.widget-view+json": {
       "model_id": "9cbde14a660d40d9aaa0ce457d044a7a",
       "version_major": 2,
       "version_minor": 0
      },
      "text/plain": [
       "HBox(children=(IntProgress(value=0, description='Performing validation', max=50), HTML(value='')))"
      ]
     },
     "metadata": {},
     "output_type": "display_data"
    },
    {
     "data": {
      "application/vnd.jupyter.widget-view+json": {
       "model_id": "a77afb72e60446a4a5902795479c8320",
       "version_major": 2,
       "version_minor": 0
      },
      "text/plain": [
       "HBox(children=(IntProgress(value=0, description='Performing validation', max=50), HTML(value='')))"
      ]
     },
     "metadata": {},
     "output_type": "display_data"
    },
    {
     "data": {
      "application/vnd.jupyter.widget-view+json": {
       "model_id": "a7ed833855894770b77e0cdd8eefe847",
       "version_major": 2,
       "version_minor": 0
      },
      "text/plain": [
       "HBox(children=(IntProgress(value=0, description='Performing validation', max=50), HTML(value='')))"
      ]
     },
     "metadata": {},
     "output_type": "display_data"
    },
    {
     "data": {
      "application/vnd.jupyter.widget-view+json": {
       "model_id": "deee36e9be074014a68ff9bf00f42b87",
       "version_major": 2,
       "version_minor": 0
      },
      "text/plain": [
       "HBox(children=(IntProgress(value=0, description='Performing validation', max=50), HTML(value='')))"
      ]
     },
     "metadata": {},
     "output_type": "display_data"
    },
    {
     "data": {
      "application/vnd.jupyter.widget-view+json": {
       "model_id": "aad31489fb594da588b9ec66ea0d0988",
       "version_major": 2,
       "version_minor": 0
      },
      "text/plain": [
       "HBox(children=(IntProgress(value=0, description='Performing validation', max=50), HTML(value='')))"
      ]
     },
     "metadata": {},
     "output_type": "display_data"
    },
    {
     "data": {
      "application/vnd.jupyter.widget-view+json": {
       "model_id": "4fe5fef955b641e5b609e94010fb77e8",
       "version_major": 2,
       "version_minor": 0
      },
      "text/plain": [
       "HBox(children=(IntProgress(value=0, description='Performing validation', max=50), HTML(value='')))"
      ]
     },
     "metadata": {},
     "output_type": "display_data"
    },
    {
     "data": {
      "application/vnd.jupyter.widget-view+json": {
       "model_id": "0fe67e7d436b4232beb15517ac23c1a6",
       "version_major": 2,
       "version_minor": 0
      },
      "text/plain": [
       "HBox(children=(IntProgress(value=0, description='Performing validation', max=50), HTML(value='')))"
      ]
     },
     "metadata": {},
     "output_type": "display_data"
    },
    {
     "data": {
      "application/vnd.jupyter.widget-view+json": {
       "model_id": "7abe2326562742e3b24ac2a6caa77092",
       "version_major": 2,
       "version_minor": 0
      },
      "text/plain": [
       "HBox(children=(IntProgress(value=0, description='Performing validation', max=50), HTML(value='')))"
      ]
     },
     "metadata": {},
     "output_type": "display_data"
    },
    {
     "data": {
      "application/vnd.jupyter.widget-view+json": {
       "model_id": "8b0fbec648a74295939335be260c5103",
       "version_major": 2,
       "version_minor": 0
      },
      "text/plain": [
       "HBox(children=(IntProgress(value=0, description='Performing validation', max=50), HTML(value='')))"
      ]
     },
     "metadata": {},
     "output_type": "display_data"
    },
    {
     "data": {
      "application/vnd.jupyter.widget-view+json": {
       "model_id": "08f99cf1e4bc4a9ca356fade6e2fa1a8",
       "version_major": 2,
       "version_minor": 0
      },
      "text/plain": [
       "HBox(children=(IntProgress(value=0, description='Performing validation', max=50), HTML(value='')))"
      ]
     },
     "metadata": {},
     "output_type": "display_data"
    },
    {
     "data": {
      "application/vnd.jupyter.widget-view+json": {
       "model_id": "ec807a85ee344f759d64bceab1e59b44",
       "version_major": 2,
       "version_minor": 0
      },
      "text/plain": [
       "HBox(children=(IntProgress(value=0, description='Performing validation', max=50), HTML(value='')))"
      ]
     },
     "metadata": {},
     "output_type": "display_data"
    },
    {
     "data": {
      "application/vnd.jupyter.widget-view+json": {
       "model_id": "1f9d05c8b1ca4171bb89b41bf1ef0252",
       "version_major": 2,
       "version_minor": 0
      },
      "text/plain": [
       "HBox(children=(IntProgress(value=0, description='Performing validation', max=50), HTML(value='')))"
      ]
     },
     "metadata": {},
     "output_type": "display_data"
    },
    {
     "data": {
      "application/vnd.jupyter.widget-view+json": {
       "model_id": "480769839eac46acb925b52e238078da",
       "version_major": 2,
       "version_minor": 0
      },
      "text/plain": [
       "HBox(children=(IntProgress(value=0, description='Performing validation', max=50), HTML(value='')))"
      ]
     },
     "metadata": {},
     "output_type": "display_data"
    },
    {
     "data": {
      "application/vnd.jupyter.widget-view+json": {
       "model_id": "4b7b411bf11c4719925c5cc05db62723",
       "version_major": 2,
       "version_minor": 0
      },
      "text/plain": [
       "HBox(children=(IntProgress(value=0, description='Performing validation', max=50), HTML(value='')))"
      ]
     },
     "metadata": {},
     "output_type": "display_data"
    },
    {
     "data": {
      "application/vnd.jupyter.widget-view+json": {
       "model_id": "1b5b80b933c94a898c4ca26a3aaac29e",
       "version_major": 2,
       "version_minor": 0
      },
      "text/plain": [
       "HBox(children=(IntProgress(value=0, description='Performing validation', max=50), HTML(value='')))"
      ]
     },
     "metadata": {},
     "output_type": "display_data"
    },
    {
     "data": {
      "application/vnd.jupyter.widget-view+json": {
       "model_id": "6dd0af759ff046e29acbabea310a250e",
       "version_major": 2,
       "version_minor": 0
      },
      "text/plain": [
       "HBox(children=(IntProgress(value=0, description='Performing validation', max=50), HTML(value='')))"
      ]
     },
     "metadata": {},
     "output_type": "display_data"
    },
    {
     "data": {
      "application/vnd.jupyter.widget-view+json": {
       "model_id": "14697f18eb4743b4bb227f4ba5cb7cc8",
       "version_major": 2,
       "version_minor": 0
      },
      "text/plain": [
       "HBox(children=(IntProgress(value=0, description='Performing validation', max=50), HTML(value='')))"
      ]
     },
     "metadata": {},
     "output_type": "display_data"
    },
    {
     "data": {
      "application/vnd.jupyter.widget-view+json": {
       "model_id": "ece66c5d39334e20aa2d4eeb42561c4e",
       "version_major": 2,
       "version_minor": 0
      },
      "text/plain": [
       "HBox(children=(IntProgress(value=0, description='Performing validation', max=50), HTML(value='')))"
      ]
     },
     "metadata": {},
     "output_type": "display_data"
    },
    {
     "data": {
      "application/vnd.jupyter.widget-view+json": {
       "model_id": "3d55bca2e74441e28b48ae52991a2084",
       "version_major": 2,
       "version_minor": 0
      },
      "text/plain": [
       "HBox(children=(IntProgress(value=0, description='Performing validation', max=50), HTML(value='')))"
      ]
     },
     "metadata": {},
     "output_type": "display_data"
    },
    {
     "data": {
      "application/vnd.jupyter.widget-view+json": {
       "model_id": "09490213b3ba4b19860ca3a5110f8c62",
       "version_major": 2,
       "version_minor": 0
      },
      "text/plain": [
       "HBox(children=(IntProgress(value=0, description='Performing validation', max=50), HTML(value='')))"
      ]
     },
     "metadata": {},
     "output_type": "display_data"
    },
    {
     "data": {
      "application/vnd.jupyter.widget-view+json": {
       "model_id": "1793b0118d334f48b6bf9b3b9b299ff1",
       "version_major": 2,
       "version_minor": 0
      },
      "text/plain": [
       "HBox(children=(IntProgress(value=0, description='Performing validation', max=50), HTML(value='')))"
      ]
     },
     "metadata": {},
     "output_type": "display_data"
    },
    {
     "data": {
      "application/vnd.jupyter.widget-view+json": {
       "model_id": "fb3f8cd85b424be0b5129c824da3d29e",
       "version_major": 2,
       "version_minor": 0
      },
      "text/plain": [
       "HBox(children=(IntProgress(value=0, description='Performing validation', max=50), HTML(value='')))"
      ]
     },
     "metadata": {},
     "output_type": "display_data"
    },
    {
     "data": {
      "application/vnd.jupyter.widget-view+json": {
       "model_id": "c4eb4a2194264611982c2d6dfa23cbbe",
       "version_major": 2,
       "version_minor": 0
      },
      "text/plain": [
       "HBox(children=(IntProgress(value=0, description='Performing validation', max=50), HTML(value='')))"
      ]
     },
     "metadata": {},
     "output_type": "display_data"
    },
    {
     "data": {
      "application/vnd.jupyter.widget-view+json": {
       "model_id": "14474038729a4a0789f8537dc0204a6b",
       "version_major": 2,
       "version_minor": 0
      },
      "text/plain": [
       "HBox(children=(IntProgress(value=0, description='Performing validation', max=50), HTML(value='')))"
      ]
     },
     "metadata": {},
     "output_type": "display_data"
    },
    {
     "name": "stdout",
     "output_type": "stream",
     "text": [
      "\n"
     ]
    },
    {
     "data": {
      "application/vnd.jupyter.widget-view+json": {
       "model_id": "7b2689a7e4e54580b5351a0e5c77d4b6",
       "version_major": 2,
       "version_minor": 0
      },
      "text/plain": [
       "HBox(children=(IntProgress(value=0, description='Epoch 3', max=2500), HTML(value='')))"
      ]
     },
     "metadata": {},
     "output_type": "display_data"
    },
    {
     "data": {
      "application/vnd.jupyter.widget-view+json": {
       "model_id": "3c4079593f9249718b5c3ce47c74710d",
       "version_major": 2,
       "version_minor": 0
      },
      "text/plain": [
       "HBox(children=(IntProgress(value=0, description='Performing validation', max=50), HTML(value='')))"
      ]
     },
     "metadata": {},
     "output_type": "display_data"
    },
    {
     "data": {
      "application/vnd.jupyter.widget-view+json": {
       "model_id": "d212be7ce97448b8bca231279ac0ff84",
       "version_major": 2,
       "version_minor": 0
      },
      "text/plain": [
       "HBox(children=(IntProgress(value=0, description='Performing validation', max=50), HTML(value='')))"
      ]
     },
     "metadata": {},
     "output_type": "display_data"
    },
    {
     "data": {
      "application/vnd.jupyter.widget-view+json": {
       "model_id": "c7375b81f7704e66a92e0361d0c3cbd1",
       "version_major": 2,
       "version_minor": 0
      },
      "text/plain": [
       "HBox(children=(IntProgress(value=0, description='Performing validation', max=50), HTML(value='')))"
      ]
     },
     "metadata": {},
     "output_type": "display_data"
    },
    {
     "data": {
      "application/vnd.jupyter.widget-view+json": {
       "model_id": "4b4fe2783c614b0ba6ab80076199eefc",
       "version_major": 2,
       "version_minor": 0
      },
      "text/plain": [
       "HBox(children=(IntProgress(value=0, description='Performing validation', max=50), HTML(value='')))"
      ]
     },
     "metadata": {},
     "output_type": "display_data"
    },
    {
     "data": {
      "application/vnd.jupyter.widget-view+json": {
       "model_id": "a7a80c2649894751bda9bd90371539ae",
       "version_major": 2,
       "version_minor": 0
      },
      "text/plain": [
       "HBox(children=(IntProgress(value=0, description='Performing validation', max=50), HTML(value='')))"
      ]
     },
     "metadata": {},
     "output_type": "display_data"
    },
    {
     "data": {
      "application/vnd.jupyter.widget-view+json": {
       "model_id": "36febcfc5e514a4bab98284b4c74261a",
       "version_major": 2,
       "version_minor": 0
      },
      "text/plain": [
       "HBox(children=(IntProgress(value=0, description='Performing validation', max=50), HTML(value='')))"
      ]
     },
     "metadata": {},
     "output_type": "display_data"
    },
    {
     "data": {
      "application/vnd.jupyter.widget-view+json": {
       "model_id": "2390e390c5c244a68e22ac3ce1c13ee8",
       "version_major": 2,
       "version_minor": 0
      },
      "text/plain": [
       "HBox(children=(IntProgress(value=0, description='Performing validation', max=50), HTML(value='')))"
      ]
     },
     "metadata": {},
     "output_type": "display_data"
    },
    {
     "data": {
      "application/vnd.jupyter.widget-view+json": {
       "model_id": "d3991fa3f02848f8b75cb2403a064a76",
       "version_major": 2,
       "version_minor": 0
      },
      "text/plain": [
       "HBox(children=(IntProgress(value=0, description='Performing validation', max=50), HTML(value='')))"
      ]
     },
     "metadata": {},
     "output_type": "display_data"
    },
    {
     "data": {
      "application/vnd.jupyter.widget-view+json": {
       "model_id": "7317fc6ed3ca4ac8aaf05b562011557b",
       "version_major": 2,
       "version_minor": 0
      },
      "text/plain": [
       "HBox(children=(IntProgress(value=0, description='Performing validation', max=50), HTML(value='')))"
      ]
     },
     "metadata": {},
     "output_type": "display_data"
    },
    {
     "data": {
      "application/vnd.jupyter.widget-view+json": {
       "model_id": "2c376ac08544466a9139a9d4f176155e",
       "version_major": 2,
       "version_minor": 0
      },
      "text/plain": [
       "HBox(children=(IntProgress(value=0, description='Performing validation', max=50), HTML(value='')))"
      ]
     },
     "metadata": {},
     "output_type": "display_data"
    },
    {
     "data": {
      "application/vnd.jupyter.widget-view+json": {
       "model_id": "d31b9bfbc3f242879270dcb58c94ff83",
       "version_major": 2,
       "version_minor": 0
      },
      "text/plain": [
       "HBox(children=(IntProgress(value=0, description='Performing validation', max=50), HTML(value='')))"
      ]
     },
     "metadata": {},
     "output_type": "display_data"
    },
    {
     "data": {
      "application/vnd.jupyter.widget-view+json": {
       "model_id": "057ece189e7446d1a48b1161eb87bfa4",
       "version_major": 2,
       "version_minor": 0
      },
      "text/plain": [
       "HBox(children=(IntProgress(value=0, description='Performing validation', max=50), HTML(value='')))"
      ]
     },
     "metadata": {},
     "output_type": "display_data"
    },
    {
     "data": {
      "application/vnd.jupyter.widget-view+json": {
       "model_id": "186505a436b9496182e983dd3865de5b",
       "version_major": 2,
       "version_minor": 0
      },
      "text/plain": [
       "HBox(children=(IntProgress(value=0, description='Performing validation', max=50), HTML(value='')))"
      ]
     },
     "metadata": {},
     "output_type": "display_data"
    },
    {
     "data": {
      "application/vnd.jupyter.widget-view+json": {
       "model_id": "6b5b86de02ad4b15aae3ec56989c9fb1",
       "version_major": 2,
       "version_minor": 0
      },
      "text/plain": [
       "HBox(children=(IntProgress(value=0, description='Performing validation', max=50), HTML(value='')))"
      ]
     },
     "metadata": {},
     "output_type": "display_data"
    },
    {
     "data": {
      "application/vnd.jupyter.widget-view+json": {
       "model_id": "e830ecb862944b29817c83886d2dc473",
       "version_major": 2,
       "version_minor": 0
      },
      "text/plain": [
       "HBox(children=(IntProgress(value=0, description='Performing validation', max=50), HTML(value='')))"
      ]
     },
     "metadata": {},
     "output_type": "display_data"
    },
    {
     "data": {
      "application/vnd.jupyter.widget-view+json": {
       "model_id": "1b9ff4540d79478eafdda1495cb704b7",
       "version_major": 2,
       "version_minor": 0
      },
      "text/plain": [
       "HBox(children=(IntProgress(value=0, description='Performing validation', max=50), HTML(value='')))"
      ]
     },
     "metadata": {},
     "output_type": "display_data"
    },
    {
     "data": {
      "application/vnd.jupyter.widget-view+json": {
       "model_id": "2f19f0f8fdb94d23842e480ba9991481",
       "version_major": 2,
       "version_minor": 0
      },
      "text/plain": [
       "HBox(children=(IntProgress(value=0, description='Performing validation', max=50), HTML(value='')))"
      ]
     },
     "metadata": {},
     "output_type": "display_data"
    },
    {
     "data": {
      "application/vnd.jupyter.widget-view+json": {
       "model_id": "749c7aae5ebf40b19a3837222fe72847",
       "version_major": 2,
       "version_minor": 0
      },
      "text/plain": [
       "HBox(children=(IntProgress(value=0, description='Performing validation', max=50), HTML(value='')))"
      ]
     },
     "metadata": {},
     "output_type": "display_data"
    },
    {
     "data": {
      "application/vnd.jupyter.widget-view+json": {
       "model_id": "cc9198c004904f5ea6d4f49b28cc8633",
       "version_major": 2,
       "version_minor": 0
      },
      "text/plain": [
       "HBox(children=(IntProgress(value=0, description='Performing validation', max=50), HTML(value='')))"
      ]
     },
     "metadata": {},
     "output_type": "display_data"
    },
    {
     "data": {
      "application/vnd.jupyter.widget-view+json": {
       "model_id": "efa9c35024af4da6a0a5be857f275099",
       "version_major": 2,
       "version_minor": 0
      },
      "text/plain": [
       "HBox(children=(IntProgress(value=0, description='Performing validation', max=50), HTML(value='')))"
      ]
     },
     "metadata": {},
     "output_type": "display_data"
    },
    {
     "data": {
      "application/vnd.jupyter.widget-view+json": {
       "model_id": "2b48548f77ff419786b6afe68556ef2e",
       "version_major": 2,
       "version_minor": 0
      },
      "text/plain": [
       "HBox(children=(IntProgress(value=0, description='Performing validation', max=50), HTML(value='')))"
      ]
     },
     "metadata": {},
     "output_type": "display_data"
    },
    {
     "data": {
      "application/vnd.jupyter.widget-view+json": {
       "model_id": "dc9839832aaf4927ad871d6fc3b994bc",
       "version_major": 2,
       "version_minor": 0
      },
      "text/plain": [
       "HBox(children=(IntProgress(value=0, description='Performing validation', max=50), HTML(value='')))"
      ]
     },
     "metadata": {},
     "output_type": "display_data"
    },
    {
     "data": {
      "application/vnd.jupyter.widget-view+json": {
       "model_id": "fba3a502132245449445626312746929",
       "version_major": 2,
       "version_minor": 0
      },
      "text/plain": [
       "HBox(children=(IntProgress(value=0, description='Performing validation', max=50), HTML(value='')))"
      ]
     },
     "metadata": {},
     "output_type": "display_data"
    },
    {
     "data": {
      "application/vnd.jupyter.widget-view+json": {
       "model_id": "5af74ffa5fcb48bbb316a95a2a54f446",
       "version_major": 2,
       "version_minor": 0
      },
      "text/plain": [
       "HBox(children=(IntProgress(value=0, description='Performing validation', max=50), HTML(value='')))"
      ]
     },
     "metadata": {},
     "output_type": "display_data"
    },
    {
     "data": {
      "application/vnd.jupyter.widget-view+json": {
       "model_id": "4306fe09702e46a0bc3dbe46bb4fb3e9",
       "version_major": 2,
       "version_minor": 0
      },
      "text/plain": [
       "HBox(children=(IntProgress(value=0, description='Performing validation', max=50), HTML(value='')))"
      ]
     },
     "metadata": {},
     "output_type": "display_data"
    },
    {
     "name": "stdout",
     "output_type": "stream",
     "text": [
      "\n"
     ]
    },
    {
     "data": {
      "application/vnd.jupyter.widget-view+json": {
       "model_id": "9aa6abfdd0e644d58b979a4a62569d8c",
       "version_major": 2,
       "version_minor": 0
      },
      "text/plain": [
       "HBox(children=(IntProgress(value=0, description='Epoch 4', max=2500), HTML(value='')))"
      ]
     },
     "metadata": {},
     "output_type": "display_data"
    },
    {
     "data": {
      "application/vnd.jupyter.widget-view+json": {
       "model_id": "a67afc2fe31646de897d18fd2964b773",
       "version_major": 2,
       "version_minor": 0
      },
      "text/plain": [
       "HBox(children=(IntProgress(value=0, description='Performing validation', max=50), HTML(value='')))"
      ]
     },
     "metadata": {},
     "output_type": "display_data"
    },
    {
     "data": {
      "application/vnd.jupyter.widget-view+json": {
       "model_id": "d9704eb823dd401daf81a1a3c87300f8",
       "version_major": 2,
       "version_minor": 0
      },
      "text/plain": [
       "HBox(children=(IntProgress(value=0, description='Performing validation', max=50), HTML(value='')))"
      ]
     },
     "metadata": {},
     "output_type": "display_data"
    },
    {
     "data": {
      "application/vnd.jupyter.widget-view+json": {
       "model_id": "d87f2deeb3554b66b3e0db61514ddf18",
       "version_major": 2,
       "version_minor": 0
      },
      "text/plain": [
       "HBox(children=(IntProgress(value=0, description='Performing validation', max=50), HTML(value='')))"
      ]
     },
     "metadata": {},
     "output_type": "display_data"
    },
    {
     "data": {
      "application/vnd.jupyter.widget-view+json": {
       "model_id": "20d784ae4dfc4226a5ca6f410c657e24",
       "version_major": 2,
       "version_minor": 0
      },
      "text/plain": [
       "HBox(children=(IntProgress(value=0, description='Performing validation', max=50), HTML(value='')))"
      ]
     },
     "metadata": {},
     "output_type": "display_data"
    },
    {
     "data": {
      "application/vnd.jupyter.widget-view+json": {
       "model_id": "363162578d3f4327b09676fee66c28eb",
       "version_major": 2,
       "version_minor": 0
      },
      "text/plain": [
       "HBox(children=(IntProgress(value=0, description='Performing validation', max=50), HTML(value='')))"
      ]
     },
     "metadata": {},
     "output_type": "display_data"
    },
    {
     "data": {
      "application/vnd.jupyter.widget-view+json": {
       "model_id": "7dadd874f5224f8d82d2b650aa79c7f2",
       "version_major": 2,
       "version_minor": 0
      },
      "text/plain": [
       "HBox(children=(IntProgress(value=0, description='Performing validation', max=50), HTML(value='')))"
      ]
     },
     "metadata": {},
     "output_type": "display_data"
    },
    {
     "data": {
      "application/vnd.jupyter.widget-view+json": {
       "model_id": "3aaa700d609645f3ad11ffe0e1831e57",
       "version_major": 2,
       "version_minor": 0
      },
      "text/plain": [
       "HBox(children=(IntProgress(value=0, description='Performing validation', max=50), HTML(value='')))"
      ]
     },
     "metadata": {},
     "output_type": "display_data"
    },
    {
     "data": {
      "application/vnd.jupyter.widget-view+json": {
       "model_id": "8e2c76ca943a43a08ee8efa37eb727a6",
       "version_major": 2,
       "version_minor": 0
      },
      "text/plain": [
       "HBox(children=(IntProgress(value=0, description='Performing validation', max=50), HTML(value='')))"
      ]
     },
     "metadata": {},
     "output_type": "display_data"
    },
    {
     "data": {
      "application/vnd.jupyter.widget-view+json": {
       "model_id": "c5a3c0c40e6741f0b60e60f2e640d09d",
       "version_major": 2,
       "version_minor": 0
      },
      "text/plain": [
       "HBox(children=(IntProgress(value=0, description='Performing validation', max=50), HTML(value='')))"
      ]
     },
     "metadata": {},
     "output_type": "display_data"
    },
    {
     "data": {
      "application/vnd.jupyter.widget-view+json": {
       "model_id": "a3ad0572e1af4368be484265cf4c8922",
       "version_major": 2,
       "version_minor": 0
      },
      "text/plain": [
       "HBox(children=(IntProgress(value=0, description='Performing validation', max=50), HTML(value='')))"
      ]
     },
     "metadata": {},
     "output_type": "display_data"
    },
    {
     "data": {
      "application/vnd.jupyter.widget-view+json": {
       "model_id": "36eff9b207244e7ca084a6e209e5aca5",
       "version_major": 2,
       "version_minor": 0
      },
      "text/plain": [
       "HBox(children=(IntProgress(value=0, description='Performing validation', max=50), HTML(value='')))"
      ]
     },
     "metadata": {},
     "output_type": "display_data"
    },
    {
     "data": {
      "application/vnd.jupyter.widget-view+json": {
       "model_id": "d7e51cfe3a714250b90b3996cbf86b52",
       "version_major": 2,
       "version_minor": 0
      },
      "text/plain": [
       "HBox(children=(IntProgress(value=0, description='Performing validation', max=50), HTML(value='')))"
      ]
     },
     "metadata": {},
     "output_type": "display_data"
    },
    {
     "data": {
      "application/vnd.jupyter.widget-view+json": {
       "model_id": "36d17ebd4f294c0db81cbca088f94afe",
       "version_major": 2,
       "version_minor": 0
      },
      "text/plain": [
       "HBox(children=(IntProgress(value=0, description='Performing validation', max=50), HTML(value='')))"
      ]
     },
     "metadata": {},
     "output_type": "display_data"
    },
    {
     "data": {
      "application/vnd.jupyter.widget-view+json": {
       "model_id": "c3d06c8346654296920dcb7430bbdcca",
       "version_major": 2,
       "version_minor": 0
      },
      "text/plain": [
       "HBox(children=(IntProgress(value=0, description='Performing validation', max=50), HTML(value='')))"
      ]
     },
     "metadata": {},
     "output_type": "display_data"
    },
    {
     "data": {
      "application/vnd.jupyter.widget-view+json": {
       "model_id": "3716e7d22f20499599b6142db9897e83",
       "version_major": 2,
       "version_minor": 0
      },
      "text/plain": [
       "HBox(children=(IntProgress(value=0, description='Performing validation', max=50), HTML(value='')))"
      ]
     },
     "metadata": {},
     "output_type": "display_data"
    },
    {
     "data": {
      "application/vnd.jupyter.widget-view+json": {
       "model_id": "ab61123162154e8f85f6f62f22a247c2",
       "version_major": 2,
       "version_minor": 0
      },
      "text/plain": [
       "HBox(children=(IntProgress(value=0, description='Performing validation', max=50), HTML(value='')))"
      ]
     },
     "metadata": {},
     "output_type": "display_data"
    },
    {
     "data": {
      "application/vnd.jupyter.widget-view+json": {
       "model_id": "922b8162357745a29255d0b2d9fed24e",
       "version_major": 2,
       "version_minor": 0
      },
      "text/plain": [
       "HBox(children=(IntProgress(value=0, description='Performing validation', max=50), HTML(value='')))"
      ]
     },
     "metadata": {},
     "output_type": "display_data"
    },
    {
     "data": {
      "application/vnd.jupyter.widget-view+json": {
       "model_id": "17e6456f2bb74c4496046301c02ed9a9",
       "version_major": 2,
       "version_minor": 0
      },
      "text/plain": [
       "HBox(children=(IntProgress(value=0, description='Performing validation', max=50), HTML(value='')))"
      ]
     },
     "metadata": {},
     "output_type": "display_data"
    },
    {
     "data": {
      "application/vnd.jupyter.widget-view+json": {
       "model_id": "72678e314a384477bae3e90db084f611",
       "version_major": 2,
       "version_minor": 0
      },
      "text/plain": [
       "HBox(children=(IntProgress(value=0, description='Performing validation', max=50), HTML(value='')))"
      ]
     },
     "metadata": {},
     "output_type": "display_data"
    },
    {
     "data": {
      "application/vnd.jupyter.widget-view+json": {
       "model_id": "f6007485b28f4c9986200319d5cb1185",
       "version_major": 2,
       "version_minor": 0
      },
      "text/plain": [
       "HBox(children=(IntProgress(value=0, description='Performing validation', max=50), HTML(value='')))"
      ]
     },
     "metadata": {},
     "output_type": "display_data"
    },
    {
     "data": {
      "application/vnd.jupyter.widget-view+json": {
       "model_id": "0045c99da8a94258b2c36d680731abde",
       "version_major": 2,
       "version_minor": 0
      },
      "text/plain": [
       "HBox(children=(IntProgress(value=0, description='Performing validation', max=50), HTML(value='')))"
      ]
     },
     "metadata": {},
     "output_type": "display_data"
    },
    {
     "data": {
      "application/vnd.jupyter.widget-view+json": {
       "model_id": "af271e0ad86a478baaf8d6fc1364c259",
       "version_major": 2,
       "version_minor": 0
      },
      "text/plain": [
       "HBox(children=(IntProgress(value=0, description='Performing validation', max=50), HTML(value='')))"
      ]
     },
     "metadata": {},
     "output_type": "display_data"
    },
    {
     "data": {
      "application/vnd.jupyter.widget-view+json": {
       "model_id": "66124c06dd2c421fbe84efede7e1c814",
       "version_major": 2,
       "version_minor": 0
      },
      "text/plain": [
       "HBox(children=(IntProgress(value=0, description='Performing validation', max=50), HTML(value='')))"
      ]
     },
     "metadata": {},
     "output_type": "display_data"
    },
    {
     "data": {
      "application/vnd.jupyter.widget-view+json": {
       "model_id": "4773e50a42de4c3f8680cce4d9066e39",
       "version_major": 2,
       "version_minor": 0
      },
      "text/plain": [
       "HBox(children=(IntProgress(value=0, description='Performing validation', max=50), HTML(value='')))"
      ]
     },
     "metadata": {},
     "output_type": "display_data"
    },
    {
     "data": {
      "application/vnd.jupyter.widget-view+json": {
       "model_id": "f302d97c6c404825bdd5a08fab406858",
       "version_major": 2,
       "version_minor": 0
      },
      "text/plain": [
       "HBox(children=(IntProgress(value=0, description='Performing validation', max=50), HTML(value='')))"
      ]
     },
     "metadata": {},
     "output_type": "display_data"
    },
    {
     "name": "stdout",
     "output_type": "stream",
     "text": [
      "\n"
     ]
    },
    {
     "data": {
      "application/vnd.jupyter.widget-view+json": {
       "model_id": "ceb24cc4f42c4181bcf19e9b32f50189",
       "version_major": 2,
       "version_minor": 0
      },
      "text/plain": [
       "HBox(children=(IntProgress(value=0, description='Epoch 5', max=2500), HTML(value='')))"
      ]
     },
     "metadata": {},
     "output_type": "display_data"
    },
    {
     "data": {
      "application/vnd.jupyter.widget-view+json": {
       "model_id": "db7e4f5e4c09427d88addbd1e1373314",
       "version_major": 2,
       "version_minor": 0
      },
      "text/plain": [
       "HBox(children=(IntProgress(value=0, description='Performing validation', max=50), HTML(value='')))"
      ]
     },
     "metadata": {},
     "output_type": "display_data"
    },
    {
     "data": {
      "application/vnd.jupyter.widget-view+json": {
       "model_id": "99112b9f8abd4113b8ea5bf6ace364fc",
       "version_major": 2,
       "version_minor": 0
      },
      "text/plain": [
       "HBox(children=(IntProgress(value=0, description='Performing validation', max=50), HTML(value='')))"
      ]
     },
     "metadata": {},
     "output_type": "display_data"
    },
    {
     "data": {
      "application/vnd.jupyter.widget-view+json": {
       "model_id": "e04c09ac30ab444c9efda490e73d7ce3",
       "version_major": 2,
       "version_minor": 0
      },
      "text/plain": [
       "HBox(children=(IntProgress(value=0, description='Performing validation', max=50), HTML(value='')))"
      ]
     },
     "metadata": {},
     "output_type": "display_data"
    },
    {
     "data": {
      "application/vnd.jupyter.widget-view+json": {
       "model_id": "d6e92b1ac5f74ccaa249e0e5275b67a7",
       "version_major": 2,
       "version_minor": 0
      },
      "text/plain": [
       "HBox(children=(IntProgress(value=0, description='Performing validation', max=50), HTML(value='')))"
      ]
     },
     "metadata": {},
     "output_type": "display_data"
    },
    {
     "data": {
      "application/vnd.jupyter.widget-view+json": {
       "model_id": "16f62ce5f4214d0fbc98ccab0f110a35",
       "version_major": 2,
       "version_minor": 0
      },
      "text/plain": [
       "HBox(children=(IntProgress(value=0, description='Performing validation', max=50), HTML(value='')))"
      ]
     },
     "metadata": {},
     "output_type": "display_data"
    },
    {
     "data": {
      "application/vnd.jupyter.widget-view+json": {
       "model_id": "4d7ed62df648441baa483bfafa853255",
       "version_major": 2,
       "version_minor": 0
      },
      "text/plain": [
       "HBox(children=(IntProgress(value=0, description='Performing validation', max=50), HTML(value='')))"
      ]
     },
     "metadata": {},
     "output_type": "display_data"
    },
    {
     "data": {
      "application/vnd.jupyter.widget-view+json": {
       "model_id": "0c920bda29554b03abafea9d32dd3db0",
       "version_major": 2,
       "version_minor": 0
      },
      "text/plain": [
       "HBox(children=(IntProgress(value=0, description='Performing validation', max=50), HTML(value='')))"
      ]
     },
     "metadata": {},
     "output_type": "display_data"
    },
    {
     "data": {
      "application/vnd.jupyter.widget-view+json": {
       "model_id": "7c2f2d8840954550a6148fe47b093342",
       "version_major": 2,
       "version_minor": 0
      },
      "text/plain": [
       "HBox(children=(IntProgress(value=0, description='Performing validation', max=50), HTML(value='')))"
      ]
     },
     "metadata": {},
     "output_type": "display_data"
    },
    {
     "data": {
      "application/vnd.jupyter.widget-view+json": {
       "model_id": "b01ad9b2d41341f28aae122deacd5b79",
       "version_major": 2,
       "version_minor": 0
      },
      "text/plain": [
       "HBox(children=(IntProgress(value=0, description='Performing validation', max=50), HTML(value='')))"
      ]
     },
     "metadata": {},
     "output_type": "display_data"
    },
    {
     "data": {
      "application/vnd.jupyter.widget-view+json": {
       "model_id": "374179d70f8b4881b035ec00cb2fe3b3",
       "version_major": 2,
       "version_minor": 0
      },
      "text/plain": [
       "HBox(children=(IntProgress(value=0, description='Performing validation', max=50), HTML(value='')))"
      ]
     },
     "metadata": {},
     "output_type": "display_data"
    },
    {
     "data": {
      "application/vnd.jupyter.widget-view+json": {
       "model_id": "86ed3d322c824f47bb70cf1c9d11e469",
       "version_major": 2,
       "version_minor": 0
      },
      "text/plain": [
       "HBox(children=(IntProgress(value=0, description='Performing validation', max=50), HTML(value='')))"
      ]
     },
     "metadata": {},
     "output_type": "display_data"
    },
    {
     "data": {
      "application/vnd.jupyter.widget-view+json": {
       "model_id": "b49b292bdf0c491fb27a3b860df1eb23",
       "version_major": 2,
       "version_minor": 0
      },
      "text/plain": [
       "HBox(children=(IntProgress(value=0, description='Performing validation', max=50), HTML(value='')))"
      ]
     },
     "metadata": {},
     "output_type": "display_data"
    },
    {
     "data": {
      "application/vnd.jupyter.widget-view+json": {
       "model_id": "929ba0e6b77c498fb4de2771a84db8ad",
       "version_major": 2,
       "version_minor": 0
      },
      "text/plain": [
       "HBox(children=(IntProgress(value=0, description='Performing validation', max=50), HTML(value='')))"
      ]
     },
     "metadata": {},
     "output_type": "display_data"
    },
    {
     "data": {
      "application/vnd.jupyter.widget-view+json": {
       "model_id": "225aaf4fa60a458bb2e2b5f2f9a7858d",
       "version_major": 2,
       "version_minor": 0
      },
      "text/plain": [
       "HBox(children=(IntProgress(value=0, description='Performing validation', max=50), HTML(value='')))"
      ]
     },
     "metadata": {},
     "output_type": "display_data"
    },
    {
     "data": {
      "application/vnd.jupyter.widget-view+json": {
       "model_id": "966cba3603654f88b56cfd656c7cdeb1",
       "version_major": 2,
       "version_minor": 0
      },
      "text/plain": [
       "HBox(children=(IntProgress(value=0, description='Performing validation', max=50), HTML(value='')))"
      ]
     },
     "metadata": {},
     "output_type": "display_data"
    },
    {
     "data": {
      "application/vnd.jupyter.widget-view+json": {
       "model_id": "eda4667112ba47369fd82777f5a40842",
       "version_major": 2,
       "version_minor": 0
      },
      "text/plain": [
       "HBox(children=(IntProgress(value=0, description='Performing validation', max=50), HTML(value='')))"
      ]
     },
     "metadata": {},
     "output_type": "display_data"
    },
    {
     "data": {
      "application/vnd.jupyter.widget-view+json": {
       "model_id": "cb75615e452843ceabff8cd17842b514",
       "version_major": 2,
       "version_minor": 0
      },
      "text/plain": [
       "HBox(children=(IntProgress(value=0, description='Performing validation', max=50), HTML(value='')))"
      ]
     },
     "metadata": {},
     "output_type": "display_data"
    },
    {
     "data": {
      "application/vnd.jupyter.widget-view+json": {
       "model_id": "4347cbad38594866bfc611b29d26bc2d",
       "version_major": 2,
       "version_minor": 0
      },
      "text/plain": [
       "HBox(children=(IntProgress(value=0, description='Performing validation', max=50), HTML(value='')))"
      ]
     },
     "metadata": {},
     "output_type": "display_data"
    },
    {
     "data": {
      "application/vnd.jupyter.widget-view+json": {
       "model_id": "0e5bb795346c4db3b139dbe7adae0173",
       "version_major": 2,
       "version_minor": 0
      },
      "text/plain": [
       "HBox(children=(IntProgress(value=0, description='Performing validation', max=50), HTML(value='')))"
      ]
     },
     "metadata": {},
     "output_type": "display_data"
    },
    {
     "data": {
      "application/vnd.jupyter.widget-view+json": {
       "model_id": "6166baf04bcc4bf0aaae608a312ac1e0",
       "version_major": 2,
       "version_minor": 0
      },
      "text/plain": [
       "HBox(children=(IntProgress(value=0, description='Performing validation', max=50), HTML(value='')))"
      ]
     },
     "metadata": {},
     "output_type": "display_data"
    },
    {
     "data": {
      "application/vnd.jupyter.widget-view+json": {
       "model_id": "a231efda70264e77bab512fb6f88bbe6",
       "version_major": 2,
       "version_minor": 0
      },
      "text/plain": [
       "HBox(children=(IntProgress(value=0, description='Performing validation', max=50), HTML(value='')))"
      ]
     },
     "metadata": {},
     "output_type": "display_data"
    },
    {
     "data": {
      "application/vnd.jupyter.widget-view+json": {
       "model_id": "f9cbe5967aac493a9786532d9a1a2644",
       "version_major": 2,
       "version_minor": 0
      },
      "text/plain": [
       "HBox(children=(IntProgress(value=0, description='Performing validation', max=50), HTML(value='')))"
      ]
     },
     "metadata": {},
     "output_type": "display_data"
    },
    {
     "data": {
      "application/vnd.jupyter.widget-view+json": {
       "model_id": "98a8ffd56a3b47d4a904a3baa2cf66a9",
       "version_major": 2,
       "version_minor": 0
      },
      "text/plain": [
       "HBox(children=(IntProgress(value=0, description='Performing validation', max=50), HTML(value='')))"
      ]
     },
     "metadata": {},
     "output_type": "display_data"
    },
    {
     "data": {
      "application/vnd.jupyter.widget-view+json": {
       "model_id": "1caa4cc079b54fd1a83a1e40cc5cdc95",
       "version_major": 2,
       "version_minor": 0
      },
      "text/plain": [
       "HBox(children=(IntProgress(value=0, description='Performing validation', max=50), HTML(value='')))"
      ]
     },
     "metadata": {},
     "output_type": "display_data"
    },
    {
     "data": {
      "application/vnd.jupyter.widget-view+json": {
       "model_id": "300ff6793ae44690ac4a2cef6764eeef",
       "version_major": 2,
       "version_minor": 0
      },
      "text/plain": [
       "HBox(children=(IntProgress(value=0, description='Performing validation', max=50), HTML(value='')))"
      ]
     },
     "metadata": {},
     "output_type": "display_data"
    },
    {
     "name": "stdout",
     "output_type": "stream",
     "text": [
      "\n"
     ]
    },
    {
     "data": {
      "application/vnd.jupyter.widget-view+json": {
       "model_id": "25044f2bb9414db297af55f525051102",
       "version_major": 2,
       "version_minor": 0
      },
      "text/plain": [
       "HBox(children=(IntProgress(value=0, description='Epoch 6', max=2500), HTML(value='')))"
      ]
     },
     "metadata": {},
     "output_type": "display_data"
    },
    {
     "data": {
      "application/vnd.jupyter.widget-view+json": {
       "model_id": "d96c66244fd849dfaf8124e561c30456",
       "version_major": 2,
       "version_minor": 0
      },
      "text/plain": [
       "HBox(children=(IntProgress(value=0, description='Performing validation', max=50), HTML(value='')))"
      ]
     },
     "metadata": {},
     "output_type": "display_data"
    },
    {
     "data": {
      "application/vnd.jupyter.widget-view+json": {
       "model_id": "4570da926b8b40ddb4ae7f975b0dd57f",
       "version_major": 2,
       "version_minor": 0
      },
      "text/plain": [
       "HBox(children=(IntProgress(value=0, description='Performing validation', max=50), HTML(value='')))"
      ]
     },
     "metadata": {},
     "output_type": "display_data"
    },
    {
     "data": {
      "application/vnd.jupyter.widget-view+json": {
       "model_id": "a250ecefdbea44ab8c0daa7d9939042e",
       "version_major": 2,
       "version_minor": 0
      },
      "text/plain": [
       "HBox(children=(IntProgress(value=0, description='Performing validation', max=50), HTML(value='')))"
      ]
     },
     "metadata": {},
     "output_type": "display_data"
    },
    {
     "data": {
      "application/vnd.jupyter.widget-view+json": {
       "model_id": "9d7b215f2c6f4d0ebe667f8612f93dc1",
       "version_major": 2,
       "version_minor": 0
      },
      "text/plain": [
       "HBox(children=(IntProgress(value=0, description='Performing validation', max=50), HTML(value='')))"
      ]
     },
     "metadata": {},
     "output_type": "display_data"
    },
    {
     "data": {
      "application/vnd.jupyter.widget-view+json": {
       "model_id": "033671166a8e415a8145fb26e7a3e69c",
       "version_major": 2,
       "version_minor": 0
      },
      "text/plain": [
       "HBox(children=(IntProgress(value=0, description='Performing validation', max=50), HTML(value='')))"
      ]
     },
     "metadata": {},
     "output_type": "display_data"
    },
    {
     "data": {
      "application/vnd.jupyter.widget-view+json": {
       "model_id": "346580190a854bcb871e4ac7f8dd97bf",
       "version_major": 2,
       "version_minor": 0
      },
      "text/plain": [
       "HBox(children=(IntProgress(value=0, description='Performing validation', max=50), HTML(value='')))"
      ]
     },
     "metadata": {},
     "output_type": "display_data"
    },
    {
     "data": {
      "application/vnd.jupyter.widget-view+json": {
       "model_id": "a53ddee0071c44ef925fcf6d6b5611c2",
       "version_major": 2,
       "version_minor": 0
      },
      "text/plain": [
       "HBox(children=(IntProgress(value=0, description='Performing validation', max=50), HTML(value='')))"
      ]
     },
     "metadata": {},
     "output_type": "display_data"
    },
    {
     "data": {
      "application/vnd.jupyter.widget-view+json": {
       "model_id": "9eb8b02d7a1a4bd9a252ebdfd65437b9",
       "version_major": 2,
       "version_minor": 0
      },
      "text/plain": [
       "HBox(children=(IntProgress(value=0, description='Performing validation', max=50), HTML(value='')))"
      ]
     },
     "metadata": {},
     "output_type": "display_data"
    },
    {
     "data": {
      "application/vnd.jupyter.widget-view+json": {
       "model_id": "202a4c230605402e80df79e48f448562",
       "version_major": 2,
       "version_minor": 0
      },
      "text/plain": [
       "HBox(children=(IntProgress(value=0, description='Performing validation', max=50), HTML(value='')))"
      ]
     },
     "metadata": {},
     "output_type": "display_data"
    },
    {
     "data": {
      "application/vnd.jupyter.widget-view+json": {
       "model_id": "64daf8ae97a94ae1a48ada037f6f7894",
       "version_major": 2,
       "version_minor": 0
      },
      "text/plain": [
       "HBox(children=(IntProgress(value=0, description='Performing validation', max=50), HTML(value='')))"
      ]
     },
     "metadata": {},
     "output_type": "display_data"
    },
    {
     "data": {
      "application/vnd.jupyter.widget-view+json": {
       "model_id": "d0f2569ae1e1404a9b46cde2c35b1a2b",
       "version_major": 2,
       "version_minor": 0
      },
      "text/plain": [
       "HBox(children=(IntProgress(value=0, description='Performing validation', max=50), HTML(value='')))"
      ]
     },
     "metadata": {},
     "output_type": "display_data"
    },
    {
     "data": {
      "application/vnd.jupyter.widget-view+json": {
       "model_id": "2f25adf4469c44d49ed81a595ea74bed",
       "version_major": 2,
       "version_minor": 0
      },
      "text/plain": [
       "HBox(children=(IntProgress(value=0, description='Performing validation', max=50), HTML(value='')))"
      ]
     },
     "metadata": {},
     "output_type": "display_data"
    },
    {
     "data": {
      "application/vnd.jupyter.widget-view+json": {
       "model_id": "c023170eab614206850248a1d5651184",
       "version_major": 2,
       "version_minor": 0
      },
      "text/plain": [
       "HBox(children=(IntProgress(value=0, description='Performing validation', max=50), HTML(value='')))"
      ]
     },
     "metadata": {},
     "output_type": "display_data"
    },
    {
     "data": {
      "application/vnd.jupyter.widget-view+json": {
       "model_id": "7ed59fc8e300409580d715fc9f954cfc",
       "version_major": 2,
       "version_minor": 0
      },
      "text/plain": [
       "HBox(children=(IntProgress(value=0, description='Performing validation', max=50), HTML(value='')))"
      ]
     },
     "metadata": {},
     "output_type": "display_data"
    },
    {
     "data": {
      "application/vnd.jupyter.widget-view+json": {
       "model_id": "a98a497a324e47d8a92c1c36aea77d17",
       "version_major": 2,
       "version_minor": 0
      },
      "text/plain": [
       "HBox(children=(IntProgress(value=0, description='Performing validation', max=50), HTML(value='')))"
      ]
     },
     "metadata": {},
     "output_type": "display_data"
    },
    {
     "data": {
      "application/vnd.jupyter.widget-view+json": {
       "model_id": "39c23249d3764e56830e5b1fb9b2a5bc",
       "version_major": 2,
       "version_minor": 0
      },
      "text/plain": [
       "HBox(children=(IntProgress(value=0, description='Performing validation', max=50), HTML(value='')))"
      ]
     },
     "metadata": {},
     "output_type": "display_data"
    },
    {
     "data": {
      "application/vnd.jupyter.widget-view+json": {
       "model_id": "ef945757f7c24b61b1af962f1a5dfcb2",
       "version_major": 2,
       "version_minor": 0
      },
      "text/plain": [
       "HBox(children=(IntProgress(value=0, description='Performing validation', max=50), HTML(value='')))"
      ]
     },
     "metadata": {},
     "output_type": "display_data"
    },
    {
     "data": {
      "application/vnd.jupyter.widget-view+json": {
       "model_id": "bf0dd09bfd3545acb9f79116412f7bef",
       "version_major": 2,
       "version_minor": 0
      },
      "text/plain": [
       "HBox(children=(IntProgress(value=0, description='Performing validation', max=50), HTML(value='')))"
      ]
     },
     "metadata": {},
     "output_type": "display_data"
    },
    {
     "data": {
      "application/vnd.jupyter.widget-view+json": {
       "model_id": "325fe0fa013b47d28de7221568eee994",
       "version_major": 2,
       "version_minor": 0
      },
      "text/plain": [
       "HBox(children=(IntProgress(value=0, description='Performing validation', max=50), HTML(value='')))"
      ]
     },
     "metadata": {},
     "output_type": "display_data"
    },
    {
     "data": {
      "application/vnd.jupyter.widget-view+json": {
       "model_id": "346c8553279b4445a9b6cd9b6d374adf",
       "version_major": 2,
       "version_minor": 0
      },
      "text/plain": [
       "HBox(children=(IntProgress(value=0, description='Performing validation', max=50), HTML(value='')))"
      ]
     },
     "metadata": {},
     "output_type": "display_data"
    },
    {
     "data": {
      "application/vnd.jupyter.widget-view+json": {
       "model_id": "6f2d05e6417c426c9f3c7e63667187e8",
       "version_major": 2,
       "version_minor": 0
      },
      "text/plain": [
       "HBox(children=(IntProgress(value=0, description='Performing validation', max=50), HTML(value='')))"
      ]
     },
     "metadata": {},
     "output_type": "display_data"
    },
    {
     "data": {
      "application/vnd.jupyter.widget-view+json": {
       "model_id": "1c6b864483034af897da01fcb544f873",
       "version_major": 2,
       "version_minor": 0
      },
      "text/plain": [
       "HBox(children=(IntProgress(value=0, description='Performing validation', max=50), HTML(value='')))"
      ]
     },
     "metadata": {},
     "output_type": "display_data"
    },
    {
     "data": {
      "application/vnd.jupyter.widget-view+json": {
       "model_id": "7cef347aaa624823b7dca82c827609b3",
       "version_major": 2,
       "version_minor": 0
      },
      "text/plain": [
       "HBox(children=(IntProgress(value=0, description='Performing validation', max=50), HTML(value='')))"
      ]
     },
     "metadata": {},
     "output_type": "display_data"
    },
    {
     "data": {
      "application/vnd.jupyter.widget-view+json": {
       "model_id": "9169235cf9b44f3cb25ca6c668927944",
       "version_major": 2,
       "version_minor": 0
      },
      "text/plain": [
       "HBox(children=(IntProgress(value=0, description='Performing validation', max=50), HTML(value='')))"
      ]
     },
     "metadata": {},
     "output_type": "display_data"
    },
    {
     "data": {
      "application/vnd.jupyter.widget-view+json": {
       "model_id": "f24e028f3cf74e728b773a0fa6b72987",
       "version_major": 2,
       "version_minor": 0
      },
      "text/plain": [
       "HBox(children=(IntProgress(value=0, description='Performing validation', max=50), HTML(value='')))"
      ]
     },
     "metadata": {},
     "output_type": "display_data"
    },
    {
     "name": "stdout",
     "output_type": "stream",
     "text": [
      "\n"
     ]
    },
    {
     "data": {
      "application/vnd.jupyter.widget-view+json": {
       "model_id": "f4209b4a023a4d888f8cc865fbde6829",
       "version_major": 2,
       "version_minor": 0
      },
      "text/plain": [
       "HBox(children=(IntProgress(value=0, description='Epoch 7', max=2500), HTML(value='')))"
      ]
     },
     "metadata": {},
     "output_type": "display_data"
    },
    {
     "data": {
      "application/vnd.jupyter.widget-view+json": {
       "model_id": "bd695535ea6840a78022fcd3e2ee2b42",
       "version_major": 2,
       "version_minor": 0
      },
      "text/plain": [
       "HBox(children=(IntProgress(value=0, description='Performing validation', max=50), HTML(value='')))"
      ]
     },
     "metadata": {},
     "output_type": "display_data"
    },
    {
     "data": {
      "application/vnd.jupyter.widget-view+json": {
       "model_id": "bc9cb7cae2bc4da289fa15e16e115c31",
       "version_major": 2,
       "version_minor": 0
      },
      "text/plain": [
       "HBox(children=(IntProgress(value=0, description='Performing validation', max=50), HTML(value='')))"
      ]
     },
     "metadata": {},
     "output_type": "display_data"
    },
    {
     "data": {
      "application/vnd.jupyter.widget-view+json": {
       "model_id": "59d911d3700e49ceb024b6978e290c6f",
       "version_major": 2,
       "version_minor": 0
      },
      "text/plain": [
       "HBox(children=(IntProgress(value=0, description='Performing validation', max=50), HTML(value='')))"
      ]
     },
     "metadata": {},
     "output_type": "display_data"
    },
    {
     "data": {
      "application/vnd.jupyter.widget-view+json": {
       "model_id": "ac3552eb5d6d41eba7e30fda81fe9817",
       "version_major": 2,
       "version_minor": 0
      },
      "text/plain": [
       "HBox(children=(IntProgress(value=0, description='Performing validation', max=50), HTML(value='')))"
      ]
     },
     "metadata": {},
     "output_type": "display_data"
    },
    {
     "data": {
      "application/vnd.jupyter.widget-view+json": {
       "model_id": "b4406d339ea24357bf45b1652a0d9c9e",
       "version_major": 2,
       "version_minor": 0
      },
      "text/plain": [
       "HBox(children=(IntProgress(value=0, description='Performing validation', max=50), HTML(value='')))"
      ]
     },
     "metadata": {},
     "output_type": "display_data"
    },
    {
     "data": {
      "application/vnd.jupyter.widget-view+json": {
       "model_id": "a231bd1f5b134888a585a614f4f38441",
       "version_major": 2,
       "version_minor": 0
      },
      "text/plain": [
       "HBox(children=(IntProgress(value=0, description='Performing validation', max=50), HTML(value='')))"
      ]
     },
     "metadata": {},
     "output_type": "display_data"
    },
    {
     "data": {
      "application/vnd.jupyter.widget-view+json": {
       "model_id": "2f92e8e6145e4cbfab2fb91da33f3bf9",
       "version_major": 2,
       "version_minor": 0
      },
      "text/plain": [
       "HBox(children=(IntProgress(value=0, description='Performing validation', max=50), HTML(value='')))"
      ]
     },
     "metadata": {},
     "output_type": "display_data"
    },
    {
     "data": {
      "application/vnd.jupyter.widget-view+json": {
       "model_id": "3b67905b521d493bacef00b4ac154c4a",
       "version_major": 2,
       "version_minor": 0
      },
      "text/plain": [
       "HBox(children=(IntProgress(value=0, description='Performing validation', max=50), HTML(value='')))"
      ]
     },
     "metadata": {},
     "output_type": "display_data"
    },
    {
     "data": {
      "application/vnd.jupyter.widget-view+json": {
       "model_id": "1b98e24b2b504cf89c1906d973f3c106",
       "version_major": 2,
       "version_minor": 0
      },
      "text/plain": [
       "HBox(children=(IntProgress(value=0, description='Performing validation', max=50), HTML(value='')))"
      ]
     },
     "metadata": {},
     "output_type": "display_data"
    },
    {
     "data": {
      "application/vnd.jupyter.widget-view+json": {
       "model_id": "1feb28b5646544f5b5deab4ed008cde4",
       "version_major": 2,
       "version_minor": 0
      },
      "text/plain": [
       "HBox(children=(IntProgress(value=0, description='Performing validation', max=50), HTML(value='')))"
      ]
     },
     "metadata": {},
     "output_type": "display_data"
    },
    {
     "data": {
      "application/vnd.jupyter.widget-view+json": {
       "model_id": "3d3b4f0f7c3b4fa3a579d1e7a840d65a",
       "version_major": 2,
       "version_minor": 0
      },
      "text/plain": [
       "HBox(children=(IntProgress(value=0, description='Performing validation', max=50), HTML(value='')))"
      ]
     },
     "metadata": {},
     "output_type": "display_data"
    },
    {
     "data": {
      "application/vnd.jupyter.widget-view+json": {
       "model_id": "7106f6aa6bc04eefa2f7ff4c6bf877b7",
       "version_major": 2,
       "version_minor": 0
      },
      "text/plain": [
       "HBox(children=(IntProgress(value=0, description='Performing validation', max=50), HTML(value='')))"
      ]
     },
     "metadata": {},
     "output_type": "display_data"
    },
    {
     "data": {
      "application/vnd.jupyter.widget-view+json": {
       "model_id": "462c66e8e3f24815ae80b75210c1c305",
       "version_major": 2,
       "version_minor": 0
      },
      "text/plain": [
       "HBox(children=(IntProgress(value=0, description='Performing validation', max=50), HTML(value='')))"
      ]
     },
     "metadata": {},
     "output_type": "display_data"
    },
    {
     "data": {
      "application/vnd.jupyter.widget-view+json": {
       "model_id": "b80a14cfe12948adb8e19d14b3a804e5",
       "version_major": 2,
       "version_minor": 0
      },
      "text/plain": [
       "HBox(children=(IntProgress(value=0, description='Performing validation', max=50), HTML(value='')))"
      ]
     },
     "metadata": {},
     "output_type": "display_data"
    },
    {
     "data": {
      "application/vnd.jupyter.widget-view+json": {
       "model_id": "1b10882849bd44f79b5f792670e2d20f",
       "version_major": 2,
       "version_minor": 0
      },
      "text/plain": [
       "HBox(children=(IntProgress(value=0, description='Performing validation', max=50), HTML(value='')))"
      ]
     },
     "metadata": {},
     "output_type": "display_data"
    },
    {
     "data": {
      "application/vnd.jupyter.widget-view+json": {
       "model_id": "99629b53d2aa48a8839749b1a8370342",
       "version_major": 2,
       "version_minor": 0
      },
      "text/plain": [
       "HBox(children=(IntProgress(value=0, description='Performing validation', max=50), HTML(value='')))"
      ]
     },
     "metadata": {},
     "output_type": "display_data"
    },
    {
     "data": {
      "application/vnd.jupyter.widget-view+json": {
       "model_id": "f276bfc810d34a558f43363a5d733dc3",
       "version_major": 2,
       "version_minor": 0
      },
      "text/plain": [
       "HBox(children=(IntProgress(value=0, description='Performing validation', max=50), HTML(value='')))"
      ]
     },
     "metadata": {},
     "output_type": "display_data"
    },
    {
     "data": {
      "application/vnd.jupyter.widget-view+json": {
       "model_id": "e3b37880110740649332ac481c7d5df6",
       "version_major": 2,
       "version_minor": 0
      },
      "text/plain": [
       "HBox(children=(IntProgress(value=0, description='Performing validation', max=50), HTML(value='')))"
      ]
     },
     "metadata": {},
     "output_type": "display_data"
    },
    {
     "data": {
      "application/vnd.jupyter.widget-view+json": {
       "model_id": "78a58b7c76d148b39813d6517816b508",
       "version_major": 2,
       "version_minor": 0
      },
      "text/plain": [
       "HBox(children=(IntProgress(value=0, description='Performing validation', max=50), HTML(value='')))"
      ]
     },
     "metadata": {},
     "output_type": "display_data"
    },
    {
     "data": {
      "application/vnd.jupyter.widget-view+json": {
       "model_id": "d62caee3f0e643f9a6befd4d7c6b2e30",
       "version_major": 2,
       "version_minor": 0
      },
      "text/plain": [
       "HBox(children=(IntProgress(value=0, description='Performing validation', max=50), HTML(value='')))"
      ]
     },
     "metadata": {},
     "output_type": "display_data"
    },
    {
     "data": {
      "application/vnd.jupyter.widget-view+json": {
       "model_id": "30b3af8b0a4845838e6c6a0f234392ee",
       "version_major": 2,
       "version_minor": 0
      },
      "text/plain": [
       "HBox(children=(IntProgress(value=0, description='Performing validation', max=50), HTML(value='')))"
      ]
     },
     "metadata": {},
     "output_type": "display_data"
    },
    {
     "data": {
      "application/vnd.jupyter.widget-view+json": {
       "model_id": "475abd117698405bb9b02dc4bbd82f33",
       "version_major": 2,
       "version_minor": 0
      },
      "text/plain": [
       "HBox(children=(IntProgress(value=0, description='Performing validation', max=50), HTML(value='')))"
      ]
     },
     "metadata": {},
     "output_type": "display_data"
    },
    {
     "data": {
      "application/vnd.jupyter.widget-view+json": {
       "model_id": "1eb2a48ee69b4480b27b125eb3a5de04",
       "version_major": 2,
       "version_minor": 0
      },
      "text/plain": [
       "HBox(children=(IntProgress(value=0, description='Performing validation', max=50), HTML(value='')))"
      ]
     },
     "metadata": {},
     "output_type": "display_data"
    },
    {
     "data": {
      "application/vnd.jupyter.widget-view+json": {
       "model_id": "26aa7e34605b4e7a98e0fb1541cef010",
       "version_major": 2,
       "version_minor": 0
      },
      "text/plain": [
       "HBox(children=(IntProgress(value=0, description='Performing validation', max=50), HTML(value='')))"
      ]
     },
     "metadata": {},
     "output_type": "display_data"
    },
    {
     "data": {
      "application/vnd.jupyter.widget-view+json": {
       "model_id": "379c2fc49fa946928d7f8d77d7d452d3",
       "version_major": 2,
       "version_minor": 0
      },
      "text/plain": [
       "HBox(children=(IntProgress(value=0, description='Performing validation', max=50), HTML(value='')))"
      ]
     },
     "metadata": {},
     "output_type": "display_data"
    },
    {
     "name": "stdout",
     "output_type": "stream",
     "text": [
      "\n"
     ]
    },
    {
     "data": {
      "application/vnd.jupyter.widget-view+json": {
       "model_id": "8179702103694eee97266967156e207c",
       "version_major": 2,
       "version_minor": 0
      },
      "text/plain": [
       "HBox(children=(IntProgress(value=0, description='Epoch 8', max=2500), HTML(value='')))"
      ]
     },
     "metadata": {},
     "output_type": "display_data"
    },
    {
     "data": {
      "application/vnd.jupyter.widget-view+json": {
       "model_id": "eb90ae899bd6414b8e514753b1a547fd",
       "version_major": 2,
       "version_minor": 0
      },
      "text/plain": [
       "HBox(children=(IntProgress(value=0, description='Performing validation', max=50), HTML(value='')))"
      ]
     },
     "metadata": {},
     "output_type": "display_data"
    },
    {
     "data": {
      "application/vnd.jupyter.widget-view+json": {
       "model_id": "b2c7cc8319774dd9a758dfc54ec8af4a",
       "version_major": 2,
       "version_minor": 0
      },
      "text/plain": [
       "HBox(children=(IntProgress(value=0, description='Performing validation', max=50), HTML(value='')))"
      ]
     },
     "metadata": {},
     "output_type": "display_data"
    },
    {
     "data": {
      "application/vnd.jupyter.widget-view+json": {
       "model_id": "c9cf5c87d7d94e80b387d73f63b85245",
       "version_major": 2,
       "version_minor": 0
      },
      "text/plain": [
       "HBox(children=(IntProgress(value=0, description='Performing validation', max=50), HTML(value='')))"
      ]
     },
     "metadata": {},
     "output_type": "display_data"
    },
    {
     "data": {
      "application/vnd.jupyter.widget-view+json": {
       "model_id": "c4aa60cc33fe41b4bd91fcd3f7936787",
       "version_major": 2,
       "version_minor": 0
      },
      "text/plain": [
       "HBox(children=(IntProgress(value=0, description='Performing validation', max=50), HTML(value='')))"
      ]
     },
     "metadata": {},
     "output_type": "display_data"
    },
    {
     "data": {
      "application/vnd.jupyter.widget-view+json": {
       "model_id": "c7c944227a0640ba89a4329aaa26bbdd",
       "version_major": 2,
       "version_minor": 0
      },
      "text/plain": [
       "HBox(children=(IntProgress(value=0, description='Performing validation', max=50), HTML(value='')))"
      ]
     },
     "metadata": {},
     "output_type": "display_data"
    },
    {
     "data": {
      "application/vnd.jupyter.widget-view+json": {
       "model_id": "504492b138c64f42813fbc02ddde1992",
       "version_major": 2,
       "version_minor": 0
      },
      "text/plain": [
       "HBox(children=(IntProgress(value=0, description='Performing validation', max=50), HTML(value='')))"
      ]
     },
     "metadata": {},
     "output_type": "display_data"
    },
    {
     "data": {
      "application/vnd.jupyter.widget-view+json": {
       "model_id": "55a0eab8a3be4446bd271dbdaff2c8fd",
       "version_major": 2,
       "version_minor": 0
      },
      "text/plain": [
       "HBox(children=(IntProgress(value=0, description='Performing validation', max=50), HTML(value='')))"
      ]
     },
     "metadata": {},
     "output_type": "display_data"
    },
    {
     "data": {
      "application/vnd.jupyter.widget-view+json": {
       "model_id": "88af07b493ca40fdb2b68409b52d8d55",
       "version_major": 2,
       "version_minor": 0
      },
      "text/plain": [
       "HBox(children=(IntProgress(value=0, description='Performing validation', max=50), HTML(value='')))"
      ]
     },
     "metadata": {},
     "output_type": "display_data"
    },
    {
     "data": {
      "application/vnd.jupyter.widget-view+json": {
       "model_id": "f143ca7978784df1bc7a791452d0047e",
       "version_major": 2,
       "version_minor": 0
      },
      "text/plain": [
       "HBox(children=(IntProgress(value=0, description='Performing validation', max=50), HTML(value='')))"
      ]
     },
     "metadata": {},
     "output_type": "display_data"
    },
    {
     "data": {
      "application/vnd.jupyter.widget-view+json": {
       "model_id": "b3723edbae8345ce9257ff956d27db9c",
       "version_major": 2,
       "version_minor": 0
      },
      "text/plain": [
       "HBox(children=(IntProgress(value=0, description='Performing validation', max=50), HTML(value='')))"
      ]
     },
     "metadata": {},
     "output_type": "display_data"
    },
    {
     "data": {
      "application/vnd.jupyter.widget-view+json": {
       "model_id": "f24c970632674e209cb7029b443ed59a",
       "version_major": 2,
       "version_minor": 0
      },
      "text/plain": [
       "HBox(children=(IntProgress(value=0, description='Performing validation', max=50), HTML(value='')))"
      ]
     },
     "metadata": {},
     "output_type": "display_data"
    },
    {
     "data": {
      "application/vnd.jupyter.widget-view+json": {
       "model_id": "9e5588885d1c4f7ea24be9cd75bef928",
       "version_major": 2,
       "version_minor": 0
      },
      "text/plain": [
       "HBox(children=(IntProgress(value=0, description='Performing validation', max=50), HTML(value='')))"
      ]
     },
     "metadata": {},
     "output_type": "display_data"
    },
    {
     "data": {
      "application/vnd.jupyter.widget-view+json": {
       "model_id": "633199adc4c34d70b0fe8f47eb49f747",
       "version_major": 2,
       "version_minor": 0
      },
      "text/plain": [
       "HBox(children=(IntProgress(value=0, description='Performing validation', max=50), HTML(value='')))"
      ]
     },
     "metadata": {},
     "output_type": "display_data"
    },
    {
     "data": {
      "application/vnd.jupyter.widget-view+json": {
       "model_id": "52641faba35c4f599d6a02a4acd53613",
       "version_major": 2,
       "version_minor": 0
      },
      "text/plain": [
       "HBox(children=(IntProgress(value=0, description='Performing validation', max=50), HTML(value='')))"
      ]
     },
     "metadata": {},
     "output_type": "display_data"
    },
    {
     "data": {
      "application/vnd.jupyter.widget-view+json": {
       "model_id": "ea93849ff7cb453199e698153564c0ee",
       "version_major": 2,
       "version_minor": 0
      },
      "text/plain": [
       "HBox(children=(IntProgress(value=0, description='Performing validation', max=50), HTML(value='')))"
      ]
     },
     "metadata": {},
     "output_type": "display_data"
    },
    {
     "data": {
      "application/vnd.jupyter.widget-view+json": {
       "model_id": "cc9330c935764bfabca82eecfb6a0f33",
       "version_major": 2,
       "version_minor": 0
      },
      "text/plain": [
       "HBox(children=(IntProgress(value=0, description='Performing validation', max=50), HTML(value='')))"
      ]
     },
     "metadata": {},
     "output_type": "display_data"
    },
    {
     "data": {
      "application/vnd.jupyter.widget-view+json": {
       "model_id": "f5de7732392b47988f1e9afd5d1f0742",
       "version_major": 2,
       "version_minor": 0
      },
      "text/plain": [
       "HBox(children=(IntProgress(value=0, description='Performing validation', max=50), HTML(value='')))"
      ]
     },
     "metadata": {},
     "output_type": "display_data"
    },
    {
     "data": {
      "application/vnd.jupyter.widget-view+json": {
       "model_id": "21e14c88a8134c5c9058346e13f43bde",
       "version_major": 2,
       "version_minor": 0
      },
      "text/plain": [
       "HBox(children=(IntProgress(value=0, description='Performing validation', max=50), HTML(value='')))"
      ]
     },
     "metadata": {},
     "output_type": "display_data"
    },
    {
     "data": {
      "application/vnd.jupyter.widget-view+json": {
       "model_id": "f12b05290f974795a4fa15a68dfa6654",
       "version_major": 2,
       "version_minor": 0
      },
      "text/plain": [
       "HBox(children=(IntProgress(value=0, description='Performing validation', max=50), HTML(value='')))"
      ]
     },
     "metadata": {},
     "output_type": "display_data"
    },
    {
     "data": {
      "application/vnd.jupyter.widget-view+json": {
       "model_id": "58d729fdfb8e48fd909fa384058204c4",
       "version_major": 2,
       "version_minor": 0
      },
      "text/plain": [
       "HBox(children=(IntProgress(value=0, description='Performing validation', max=50), HTML(value='')))"
      ]
     },
     "metadata": {},
     "output_type": "display_data"
    },
    {
     "data": {
      "application/vnd.jupyter.widget-view+json": {
       "model_id": "bbc8a049863c4bde8dff88cf61a39bf9",
       "version_major": 2,
       "version_minor": 0
      },
      "text/plain": [
       "HBox(children=(IntProgress(value=0, description='Performing validation', max=50), HTML(value='')))"
      ]
     },
     "metadata": {},
     "output_type": "display_data"
    },
    {
     "data": {
      "application/vnd.jupyter.widget-view+json": {
       "model_id": "74c3a85bff2a4abeb716a5e893e2396e",
       "version_major": 2,
       "version_minor": 0
      },
      "text/plain": [
       "HBox(children=(IntProgress(value=0, description='Performing validation', max=50), HTML(value='')))"
      ]
     },
     "metadata": {},
     "output_type": "display_data"
    },
    {
     "data": {
      "application/vnd.jupyter.widget-view+json": {
       "model_id": "e3f7269509984e34a86e76d213385251",
       "version_major": 2,
       "version_minor": 0
      },
      "text/plain": [
       "HBox(children=(IntProgress(value=0, description='Performing validation', max=50), HTML(value='')))"
      ]
     },
     "metadata": {},
     "output_type": "display_data"
    },
    {
     "data": {
      "application/vnd.jupyter.widget-view+json": {
       "model_id": "483aea37728c42f480a43a767de1632d",
       "version_major": 2,
       "version_minor": 0
      },
      "text/plain": [
       "HBox(children=(IntProgress(value=0, description='Performing validation', max=50), HTML(value='')))"
      ]
     },
     "metadata": {},
     "output_type": "display_data"
    },
    {
     "data": {
      "application/vnd.jupyter.widget-view+json": {
       "model_id": "2f1f1a4dd81745d58141b9919bbc6d36",
       "version_major": 2,
       "version_minor": 0
      },
      "text/plain": [
       "HBox(children=(IntProgress(value=0, description='Performing validation', max=50), HTML(value='')))"
      ]
     },
     "metadata": {},
     "output_type": "display_data"
    },
    {
     "name": "stdout",
     "output_type": "stream",
     "text": [
      "\n"
     ]
    },
    {
     "data": {
      "application/vnd.jupyter.widget-view+json": {
       "model_id": "a891de26b1b74758b7a3196f61daa88a",
       "version_major": 2,
       "version_minor": 0
      },
      "text/plain": [
       "HBox(children=(IntProgress(value=0, description='Epoch 9', max=2500), HTML(value='')))"
      ]
     },
     "metadata": {},
     "output_type": "display_data"
    },
    {
     "data": {
      "application/vnd.jupyter.widget-view+json": {
       "model_id": "f60cca96499e444996e544fb587d725d",
       "version_major": 2,
       "version_minor": 0
      },
      "text/plain": [
       "HBox(children=(IntProgress(value=0, description='Performing validation', max=50), HTML(value='')))"
      ]
     },
     "metadata": {},
     "output_type": "display_data"
    },
    {
     "data": {
      "application/vnd.jupyter.widget-view+json": {
       "model_id": "ded47053ec0c4957b715faa19ad9e0a3",
       "version_major": 2,
       "version_minor": 0
      },
      "text/plain": [
       "HBox(children=(IntProgress(value=0, description='Performing validation', max=50), HTML(value='')))"
      ]
     },
     "metadata": {},
     "output_type": "display_data"
    },
    {
     "data": {
      "application/vnd.jupyter.widget-view+json": {
       "model_id": "3dc2481ee0cd42f8bb209b15ccb924b0",
       "version_major": 2,
       "version_minor": 0
      },
      "text/plain": [
       "HBox(children=(IntProgress(value=0, description='Performing validation', max=50), HTML(value='')))"
      ]
     },
     "metadata": {},
     "output_type": "display_data"
    },
    {
     "data": {
      "application/vnd.jupyter.widget-view+json": {
       "model_id": "fb904e474eb544a7bcbc229452a85e87",
       "version_major": 2,
       "version_minor": 0
      },
      "text/plain": [
       "HBox(children=(IntProgress(value=0, description='Performing validation', max=50), HTML(value='')))"
      ]
     },
     "metadata": {},
     "output_type": "display_data"
    },
    {
     "data": {
      "application/vnd.jupyter.widget-view+json": {
       "model_id": "392faca616504f77b2121c7339c5fef6",
       "version_major": 2,
       "version_minor": 0
      },
      "text/plain": [
       "HBox(children=(IntProgress(value=0, description='Performing validation', max=50), HTML(value='')))"
      ]
     },
     "metadata": {},
     "output_type": "display_data"
    },
    {
     "data": {
      "application/vnd.jupyter.widget-view+json": {
       "model_id": "9eca2b0a7b9a461ebc4f7e11d1fae3a3",
       "version_major": 2,
       "version_minor": 0
      },
      "text/plain": [
       "HBox(children=(IntProgress(value=0, description='Performing validation', max=50), HTML(value='')))"
      ]
     },
     "metadata": {},
     "output_type": "display_data"
    },
    {
     "data": {
      "application/vnd.jupyter.widget-view+json": {
       "model_id": "7ad8d83fea8e40499d2aa569e8e4b296",
       "version_major": 2,
       "version_minor": 0
      },
      "text/plain": [
       "HBox(children=(IntProgress(value=0, description='Performing validation', max=50), HTML(value='')))"
      ]
     },
     "metadata": {},
     "output_type": "display_data"
    },
    {
     "data": {
      "application/vnd.jupyter.widget-view+json": {
       "model_id": "ef6c35a66f914767b9e6227f574e3e97",
       "version_major": 2,
       "version_minor": 0
      },
      "text/plain": [
       "HBox(children=(IntProgress(value=0, description='Performing validation', max=50), HTML(value='')))"
      ]
     },
     "metadata": {},
     "output_type": "display_data"
    },
    {
     "data": {
      "application/vnd.jupyter.widget-view+json": {
       "model_id": "ad64e83122574240b049c70edbc1fe3b",
       "version_major": 2,
       "version_minor": 0
      },
      "text/plain": [
       "HBox(children=(IntProgress(value=0, description='Performing validation', max=50), HTML(value='')))"
      ]
     },
     "metadata": {},
     "output_type": "display_data"
    },
    {
     "data": {
      "application/vnd.jupyter.widget-view+json": {
       "model_id": "947d61f69a6a497bab70a7d72a173307",
       "version_major": 2,
       "version_minor": 0
      },
      "text/plain": [
       "HBox(children=(IntProgress(value=0, description='Performing validation', max=50), HTML(value='')))"
      ]
     },
     "metadata": {},
     "output_type": "display_data"
    },
    {
     "data": {
      "application/vnd.jupyter.widget-view+json": {
       "model_id": "50841b98c6084c75a513b02e378be73e",
       "version_major": 2,
       "version_minor": 0
      },
      "text/plain": [
       "HBox(children=(IntProgress(value=0, description='Performing validation', max=50), HTML(value='')))"
      ]
     },
     "metadata": {},
     "output_type": "display_data"
    },
    {
     "data": {
      "application/vnd.jupyter.widget-view+json": {
       "model_id": "bb6733b51b70435c9f09e9a65af0e82c",
       "version_major": 2,
       "version_minor": 0
      },
      "text/plain": [
       "HBox(children=(IntProgress(value=0, description='Performing validation', max=50), HTML(value='')))"
      ]
     },
     "metadata": {},
     "output_type": "display_data"
    },
    {
     "data": {
      "application/vnd.jupyter.widget-view+json": {
       "model_id": "459b181ba7a94253a0072421e27c35db",
       "version_major": 2,
       "version_minor": 0
      },
      "text/plain": [
       "HBox(children=(IntProgress(value=0, description='Performing validation', max=50), HTML(value='')))"
      ]
     },
     "metadata": {},
     "output_type": "display_data"
    },
    {
     "data": {
      "application/vnd.jupyter.widget-view+json": {
       "model_id": "e74848d6e6dd4bd28ba5a71a759bd1f0",
       "version_major": 2,
       "version_minor": 0
      },
      "text/plain": [
       "HBox(children=(IntProgress(value=0, description='Performing validation', max=50), HTML(value='')))"
      ]
     },
     "metadata": {},
     "output_type": "display_data"
    },
    {
     "data": {
      "application/vnd.jupyter.widget-view+json": {
       "model_id": "7c060a4ee7f741429d87743f038bdbc8",
       "version_major": 2,
       "version_minor": 0
      },
      "text/plain": [
       "HBox(children=(IntProgress(value=0, description='Performing validation', max=50), HTML(value='')))"
      ]
     },
     "metadata": {},
     "output_type": "display_data"
    },
    {
     "data": {
      "application/vnd.jupyter.widget-view+json": {
       "model_id": "7f59ab43415a44f9a14cd959cfdab105",
       "version_major": 2,
       "version_minor": 0
      },
      "text/plain": [
       "HBox(children=(IntProgress(value=0, description='Performing validation', max=50), HTML(value='')))"
      ]
     },
     "metadata": {},
     "output_type": "display_data"
    },
    {
     "data": {
      "application/vnd.jupyter.widget-view+json": {
       "model_id": "5e4250f3b53c4b319129d9c1bcea6df2",
       "version_major": 2,
       "version_minor": 0
      },
      "text/plain": [
       "HBox(children=(IntProgress(value=0, description='Performing validation', max=50), HTML(value='')))"
      ]
     },
     "metadata": {},
     "output_type": "display_data"
    },
    {
     "data": {
      "application/vnd.jupyter.widget-view+json": {
       "model_id": "b5ae19d9341c4f06870e649d265ccd60",
       "version_major": 2,
       "version_minor": 0
      },
      "text/plain": [
       "HBox(children=(IntProgress(value=0, description='Performing validation', max=50), HTML(value='')))"
      ]
     },
     "metadata": {},
     "output_type": "display_data"
    },
    {
     "data": {
      "application/vnd.jupyter.widget-view+json": {
       "model_id": "1ac16f2f49934624a5cd50f62b5d839b",
       "version_major": 2,
       "version_minor": 0
      },
      "text/plain": [
       "HBox(children=(IntProgress(value=0, description='Performing validation', max=50), HTML(value='')))"
      ]
     },
     "metadata": {},
     "output_type": "display_data"
    },
    {
     "data": {
      "application/vnd.jupyter.widget-view+json": {
       "model_id": "28f5518773234b8e8ef7373ccaca4263",
       "version_major": 2,
       "version_minor": 0
      },
      "text/plain": [
       "HBox(children=(IntProgress(value=0, description='Performing validation', max=50), HTML(value='')))"
      ]
     },
     "metadata": {},
     "output_type": "display_data"
    },
    {
     "data": {
      "application/vnd.jupyter.widget-view+json": {
       "model_id": "0f2b0f5e3a0e415185f71acc1ac8da84",
       "version_major": 2,
       "version_minor": 0
      },
      "text/plain": [
       "HBox(children=(IntProgress(value=0, description='Performing validation', max=50), HTML(value='')))"
      ]
     },
     "metadata": {},
     "output_type": "display_data"
    },
    {
     "data": {
      "application/vnd.jupyter.widget-view+json": {
       "model_id": "22337d2309e843268d6b0a49529ac47e",
       "version_major": 2,
       "version_minor": 0
      },
      "text/plain": [
       "HBox(children=(IntProgress(value=0, description='Performing validation', max=50), HTML(value='')))"
      ]
     },
     "metadata": {},
     "output_type": "display_data"
    },
    {
     "data": {
      "application/vnd.jupyter.widget-view+json": {
       "model_id": "b8eda653a905499fbd22b51bf601f3db",
       "version_major": 2,
       "version_minor": 0
      },
      "text/plain": [
       "HBox(children=(IntProgress(value=0, description='Performing validation', max=50), HTML(value='')))"
      ]
     },
     "metadata": {},
     "output_type": "display_data"
    },
    {
     "data": {
      "application/vnd.jupyter.widget-view+json": {
       "model_id": "d1e90cb54b334ca5bd32b4fe9acff258",
       "version_major": 2,
       "version_minor": 0
      },
      "text/plain": [
       "HBox(children=(IntProgress(value=0, description='Performing validation', max=50), HTML(value='')))"
      ]
     },
     "metadata": {},
     "output_type": "display_data"
    },
    {
     "data": {
      "application/vnd.jupyter.widget-view+json": {
       "model_id": "5ec22c3bcf564bb0bb8af9c132bb03ae",
       "version_major": 2,
       "version_minor": 0
      },
      "text/plain": [
       "HBox(children=(IntProgress(value=0, description='Performing validation', max=50), HTML(value='')))"
      ]
     },
     "metadata": {},
     "output_type": "display_data"
    },
    {
     "name": "stdout",
     "output_type": "stream",
     "text": [
      "\n"
     ]
    },
    {
     "data": {
      "application/vnd.jupyter.widget-view+json": {
       "model_id": "aea669abfefc4c128c9c4b0ad4a7e950",
       "version_major": 2,
       "version_minor": 0
      },
      "text/plain": [
       "HBox(children=(IntProgress(value=0, description='Epoch 10', max=2500), HTML(value='')))"
      ]
     },
     "metadata": {},
     "output_type": "display_data"
    },
    {
     "data": {
      "application/vnd.jupyter.widget-view+json": {
       "model_id": "2ff6e452cab7483aad8a61049264d295",
       "version_major": 2,
       "version_minor": 0
      },
      "text/plain": [
       "HBox(children=(IntProgress(value=0, description='Performing validation', max=50), HTML(value='')))"
      ]
     },
     "metadata": {},
     "output_type": "display_data"
    },
    {
     "data": {
      "application/vnd.jupyter.widget-view+json": {
       "model_id": "278e5c103d804a5ca611e33dad43d8cc",
       "version_major": 2,
       "version_minor": 0
      },
      "text/plain": [
       "HBox(children=(IntProgress(value=0, description='Performing validation', max=50), HTML(value='')))"
      ]
     },
     "metadata": {},
     "output_type": "display_data"
    },
    {
     "data": {
      "application/vnd.jupyter.widget-view+json": {
       "model_id": "d5d63fe31c7a44f98947d198bc22e0d8",
       "version_major": 2,
       "version_minor": 0
      },
      "text/plain": [
       "HBox(children=(IntProgress(value=0, description='Performing validation', max=50), HTML(value='')))"
      ]
     },
     "metadata": {},
     "output_type": "display_data"
    },
    {
     "data": {
      "application/vnd.jupyter.widget-view+json": {
       "model_id": "ca7c2a21f4174983965a8d708859bfdf",
       "version_major": 2,
       "version_minor": 0
      },
      "text/plain": [
       "HBox(children=(IntProgress(value=0, description='Performing validation', max=50), HTML(value='')))"
      ]
     },
     "metadata": {},
     "output_type": "display_data"
    },
    {
     "data": {
      "application/vnd.jupyter.widget-view+json": {
       "model_id": "e097042e3ba44e0a95c1f954a37be440",
       "version_major": 2,
       "version_minor": 0
      },
      "text/plain": [
       "HBox(children=(IntProgress(value=0, description='Performing validation', max=50), HTML(value='')))"
      ]
     },
     "metadata": {},
     "output_type": "display_data"
    },
    {
     "data": {
      "application/vnd.jupyter.widget-view+json": {
       "model_id": "e1a39980df094a1ba8101ff1f22eacac",
       "version_major": 2,
       "version_minor": 0
      },
      "text/plain": [
       "HBox(children=(IntProgress(value=0, description='Performing validation', max=50), HTML(value='')))"
      ]
     },
     "metadata": {},
     "output_type": "display_data"
    },
    {
     "data": {
      "application/vnd.jupyter.widget-view+json": {
       "model_id": "53dd828ef5e84c4a98112ffac1b3670f",
       "version_major": 2,
       "version_minor": 0
      },
      "text/plain": [
       "HBox(children=(IntProgress(value=0, description='Performing validation', max=50), HTML(value='')))"
      ]
     },
     "metadata": {},
     "output_type": "display_data"
    },
    {
     "data": {
      "application/vnd.jupyter.widget-view+json": {
       "model_id": "9e243660106948a0b3c58b314fb78203",
       "version_major": 2,
       "version_minor": 0
      },
      "text/plain": [
       "HBox(children=(IntProgress(value=0, description='Performing validation', max=50), HTML(value='')))"
      ]
     },
     "metadata": {},
     "output_type": "display_data"
    },
    {
     "data": {
      "application/vnd.jupyter.widget-view+json": {
       "model_id": "1e8ed153b6ba45b9bd631305b3a43d81",
       "version_major": 2,
       "version_minor": 0
      },
      "text/plain": [
       "HBox(children=(IntProgress(value=0, description='Performing validation', max=50), HTML(value='')))"
      ]
     },
     "metadata": {},
     "output_type": "display_data"
    },
    {
     "data": {
      "application/vnd.jupyter.widget-view+json": {
       "model_id": "0a2a3801caa8481f9ad7e4b46b9dd52c",
       "version_major": 2,
       "version_minor": 0
      },
      "text/plain": [
       "HBox(children=(IntProgress(value=0, description='Performing validation', max=50), HTML(value='')))"
      ]
     },
     "metadata": {},
     "output_type": "display_data"
    },
    {
     "data": {
      "application/vnd.jupyter.widget-view+json": {
       "model_id": "0a6e2257a97f42bc8ba4e17178367537",
       "version_major": 2,
       "version_minor": 0
      },
      "text/plain": [
       "HBox(children=(IntProgress(value=0, description='Performing validation', max=50), HTML(value='')))"
      ]
     },
     "metadata": {},
     "output_type": "display_data"
    },
    {
     "data": {
      "application/vnd.jupyter.widget-view+json": {
       "model_id": "ee1890b86f5f4a619c7d43c50407f6c9",
       "version_major": 2,
       "version_minor": 0
      },
      "text/plain": [
       "HBox(children=(IntProgress(value=0, description='Performing validation', max=50), HTML(value='')))"
      ]
     },
     "metadata": {},
     "output_type": "display_data"
    },
    {
     "data": {
      "application/vnd.jupyter.widget-view+json": {
       "model_id": "4f071e2545254a5f882f35c9970c866c",
       "version_major": 2,
       "version_minor": 0
      },
      "text/plain": [
       "HBox(children=(IntProgress(value=0, description='Performing validation', max=50), HTML(value='')))"
      ]
     },
     "metadata": {},
     "output_type": "display_data"
    },
    {
     "data": {
      "application/vnd.jupyter.widget-view+json": {
       "model_id": "3ac67bcdcc674b0a82f8f4cf719f9cbc",
       "version_major": 2,
       "version_minor": 0
      },
      "text/plain": [
       "HBox(children=(IntProgress(value=0, description='Performing validation', max=50), HTML(value='')))"
      ]
     },
     "metadata": {},
     "output_type": "display_data"
    },
    {
     "data": {
      "application/vnd.jupyter.widget-view+json": {
       "model_id": "b76cf4495004407ebca133197d131549",
       "version_major": 2,
       "version_minor": 0
      },
      "text/plain": [
       "HBox(children=(IntProgress(value=0, description='Performing validation', max=50), HTML(value='')))"
      ]
     },
     "metadata": {},
     "output_type": "display_data"
    },
    {
     "data": {
      "application/vnd.jupyter.widget-view+json": {
       "model_id": "367e6dacf45d4b2eb9cc7833485a5e81",
       "version_major": 2,
       "version_minor": 0
      },
      "text/plain": [
       "HBox(children=(IntProgress(value=0, description='Performing validation', max=50), HTML(value='')))"
      ]
     },
     "metadata": {},
     "output_type": "display_data"
    },
    {
     "data": {
      "application/vnd.jupyter.widget-view+json": {
       "model_id": "d2a2309c478e4e2c8a6dbd69419747bd",
       "version_major": 2,
       "version_minor": 0
      },
      "text/plain": [
       "HBox(children=(IntProgress(value=0, description='Performing validation', max=50), HTML(value='')))"
      ]
     },
     "metadata": {},
     "output_type": "display_data"
    },
    {
     "data": {
      "application/vnd.jupyter.widget-view+json": {
       "model_id": "de0c8e856a684d4799061cdf23604f04",
       "version_major": 2,
       "version_minor": 0
      },
      "text/plain": [
       "HBox(children=(IntProgress(value=0, description='Performing validation', max=50), HTML(value='')))"
      ]
     },
     "metadata": {},
     "output_type": "display_data"
    },
    {
     "data": {
      "application/vnd.jupyter.widget-view+json": {
       "model_id": "f1a5f9e7d5d044f5b6fb2f6e04523afb",
       "version_major": 2,
       "version_minor": 0
      },
      "text/plain": [
       "HBox(children=(IntProgress(value=0, description='Performing validation', max=50), HTML(value='')))"
      ]
     },
     "metadata": {},
     "output_type": "display_data"
    },
    {
     "data": {
      "application/vnd.jupyter.widget-view+json": {
       "model_id": "236d37e4365c47c1ac89b59270a29973",
       "version_major": 2,
       "version_minor": 0
      },
      "text/plain": [
       "HBox(children=(IntProgress(value=0, description='Performing validation', max=50), HTML(value='')))"
      ]
     },
     "metadata": {},
     "output_type": "display_data"
    },
    {
     "data": {
      "application/vnd.jupyter.widget-view+json": {
       "model_id": "8a311175cec44ad8b9f64b348bc07b0d",
       "version_major": 2,
       "version_minor": 0
      },
      "text/plain": [
       "HBox(children=(IntProgress(value=0, description='Performing validation', max=50), HTML(value='')))"
      ]
     },
     "metadata": {},
     "output_type": "display_data"
    },
    {
     "data": {
      "application/vnd.jupyter.widget-view+json": {
       "model_id": "0bdce3c970564910bc57fdfdcfe48ca3",
       "version_major": 2,
       "version_minor": 0
      },
      "text/plain": [
       "HBox(children=(IntProgress(value=0, description='Performing validation', max=50), HTML(value='')))"
      ]
     },
     "metadata": {},
     "output_type": "display_data"
    },
    {
     "data": {
      "application/vnd.jupyter.widget-view+json": {
       "model_id": "3a8310b7a84f45049be3baaef4259c9e",
       "version_major": 2,
       "version_minor": 0
      },
      "text/plain": [
       "HBox(children=(IntProgress(value=0, description='Performing validation', max=50), HTML(value='')))"
      ]
     },
     "metadata": {},
     "output_type": "display_data"
    },
    {
     "data": {
      "application/vnd.jupyter.widget-view+json": {
       "model_id": "d655665e59324f90af45cf1950917ac8",
       "version_major": 2,
       "version_minor": 0
      },
      "text/plain": [
       "HBox(children=(IntProgress(value=0, description='Performing validation', max=50), HTML(value='')))"
      ]
     },
     "metadata": {},
     "output_type": "display_data"
    },
    {
     "data": {
      "application/vnd.jupyter.widget-view+json": {
       "model_id": "25876024be604df5adfbba4f5429f91f",
       "version_major": 2,
       "version_minor": 0
      },
      "text/plain": [
       "HBox(children=(IntProgress(value=0, description='Performing validation', max=50), HTML(value='')))"
      ]
     },
     "metadata": {},
     "output_type": "display_data"
    },
    {
     "name": "stdout",
     "output_type": "stream",
     "text": [
      "\n"
     ]
    },
    {
     "data": {
      "application/vnd.jupyter.widget-view+json": {
       "model_id": "f0b2586e69e6456495c29d6449204a58",
       "version_major": 2,
       "version_minor": 0
      },
      "text/plain": [
       "HBox(children=(IntProgress(value=0, description='Epoch 11', max=2500), HTML(value='')))"
      ]
     },
     "metadata": {},
     "output_type": "display_data"
    },
    {
     "data": {
      "application/vnd.jupyter.widget-view+json": {
       "model_id": "9c64df61fb9248339fad89c3ca7840d0",
       "version_major": 2,
       "version_minor": 0
      },
      "text/plain": [
       "HBox(children=(IntProgress(value=0, description='Performing validation', max=50), HTML(value='')))"
      ]
     },
     "metadata": {},
     "output_type": "display_data"
    },
    {
     "data": {
      "application/vnd.jupyter.widget-view+json": {
       "model_id": "dcbab9cd836049f192b94905dc48fafb",
       "version_major": 2,
       "version_minor": 0
      },
      "text/plain": [
       "HBox(children=(IntProgress(value=0, description='Performing validation', max=50), HTML(value='')))"
      ]
     },
     "metadata": {},
     "output_type": "display_data"
    },
    {
     "data": {
      "application/vnd.jupyter.widget-view+json": {
       "model_id": "483071ea2c1b46df9c87c2e57d2b36cf",
       "version_major": 2,
       "version_minor": 0
      },
      "text/plain": [
       "HBox(children=(IntProgress(value=0, description='Performing validation', max=50), HTML(value='')))"
      ]
     },
     "metadata": {},
     "output_type": "display_data"
    },
    {
     "data": {
      "application/vnd.jupyter.widget-view+json": {
       "model_id": "a440092ffadc427c89a0ac7c58f208f7",
       "version_major": 2,
       "version_minor": 0
      },
      "text/plain": [
       "HBox(children=(IntProgress(value=0, description='Performing validation', max=50), HTML(value='')))"
      ]
     },
     "metadata": {},
     "output_type": "display_data"
    },
    {
     "data": {
      "application/vnd.jupyter.widget-view+json": {
       "model_id": "cea296c2f0e3408a80e0cbfd2687f39f",
       "version_major": 2,
       "version_minor": 0
      },
      "text/plain": [
       "HBox(children=(IntProgress(value=0, description='Performing validation', max=50), HTML(value='')))"
      ]
     },
     "metadata": {},
     "output_type": "display_data"
    },
    {
     "data": {
      "application/vnd.jupyter.widget-view+json": {
       "model_id": "b175d7ea8beb4d049e34f7c8cc1c7212",
       "version_major": 2,
       "version_minor": 0
      },
      "text/plain": [
       "HBox(children=(IntProgress(value=0, description='Performing validation', max=50), HTML(value='')))"
      ]
     },
     "metadata": {},
     "output_type": "display_data"
    },
    {
     "data": {
      "application/vnd.jupyter.widget-view+json": {
       "model_id": "ffddfaa6c63342898d7f6d18101a8072",
       "version_major": 2,
       "version_minor": 0
      },
      "text/plain": [
       "HBox(children=(IntProgress(value=0, description='Performing validation', max=50), HTML(value='')))"
      ]
     },
     "metadata": {},
     "output_type": "display_data"
    },
    {
     "data": {
      "application/vnd.jupyter.widget-view+json": {
       "model_id": "6ccda615736a4fe1bad80ecbd3ad8139",
       "version_major": 2,
       "version_minor": 0
      },
      "text/plain": [
       "HBox(children=(IntProgress(value=0, description='Performing validation', max=50), HTML(value='')))"
      ]
     },
     "metadata": {},
     "output_type": "display_data"
    },
    {
     "data": {
      "application/vnd.jupyter.widget-view+json": {
       "model_id": "5a56a93e4b40443fbdf808b6d7e5bbd4",
       "version_major": 2,
       "version_minor": 0
      },
      "text/plain": [
       "HBox(children=(IntProgress(value=0, description='Performing validation', max=50), HTML(value='')))"
      ]
     },
     "metadata": {},
     "output_type": "display_data"
    },
    {
     "data": {
      "application/vnd.jupyter.widget-view+json": {
       "model_id": "ee0313dcbb53494db68c565530e3948a",
       "version_major": 2,
       "version_minor": 0
      },
      "text/plain": [
       "HBox(children=(IntProgress(value=0, description='Performing validation', max=50), HTML(value='')))"
      ]
     },
     "metadata": {},
     "output_type": "display_data"
    },
    {
     "data": {
      "application/vnd.jupyter.widget-view+json": {
       "model_id": "f1e74f10522d4e99ab03d6c61055b292",
       "version_major": 2,
       "version_minor": 0
      },
      "text/plain": [
       "HBox(children=(IntProgress(value=0, description='Performing validation', max=50), HTML(value='')))"
      ]
     },
     "metadata": {},
     "output_type": "display_data"
    },
    {
     "data": {
      "application/vnd.jupyter.widget-view+json": {
       "model_id": "d5ec6ffa39d14890bb22c5156a69c925",
       "version_major": 2,
       "version_minor": 0
      },
      "text/plain": [
       "HBox(children=(IntProgress(value=0, description='Performing validation', max=50), HTML(value='')))"
      ]
     },
     "metadata": {},
     "output_type": "display_data"
    },
    {
     "data": {
      "application/vnd.jupyter.widget-view+json": {
       "model_id": "bdee749f49b64034a3976370fc9ec17a",
       "version_major": 2,
       "version_minor": 0
      },
      "text/plain": [
       "HBox(children=(IntProgress(value=0, description='Performing validation', max=50), HTML(value='')))"
      ]
     },
     "metadata": {},
     "output_type": "display_data"
    },
    {
     "data": {
      "application/vnd.jupyter.widget-view+json": {
       "model_id": "a1c392232411400e8f05a4b11f588839",
       "version_major": 2,
       "version_minor": 0
      },
      "text/plain": [
       "HBox(children=(IntProgress(value=0, description='Performing validation', max=50), HTML(value='')))"
      ]
     },
     "metadata": {},
     "output_type": "display_data"
    },
    {
     "data": {
      "application/vnd.jupyter.widget-view+json": {
       "model_id": "536fc91aa1974bc7ba87dbcf87ed0e4f",
       "version_major": 2,
       "version_minor": 0
      },
      "text/plain": [
       "HBox(children=(IntProgress(value=0, description='Performing validation', max=50), HTML(value='')))"
      ]
     },
     "metadata": {},
     "output_type": "display_data"
    },
    {
     "data": {
      "application/vnd.jupyter.widget-view+json": {
       "model_id": "0dc0f5505f3746bfaddeb75019a9fe2c",
       "version_major": 2,
       "version_minor": 0
      },
      "text/plain": [
       "HBox(children=(IntProgress(value=0, description='Performing validation', max=50), HTML(value='')))"
      ]
     },
     "metadata": {},
     "output_type": "display_data"
    },
    {
     "data": {
      "application/vnd.jupyter.widget-view+json": {
       "model_id": "c5757c3d62624cb4b56d85c965291b8b",
       "version_major": 2,
       "version_minor": 0
      },
      "text/plain": [
       "HBox(children=(IntProgress(value=0, description='Performing validation', max=50), HTML(value='')))"
      ]
     },
     "metadata": {},
     "output_type": "display_data"
    },
    {
     "data": {
      "application/vnd.jupyter.widget-view+json": {
       "model_id": "76e957460a214fd69f29111a62a65640",
       "version_major": 2,
       "version_minor": 0
      },
      "text/plain": [
       "HBox(children=(IntProgress(value=0, description='Performing validation', max=50), HTML(value='')))"
      ]
     },
     "metadata": {},
     "output_type": "display_data"
    },
    {
     "data": {
      "application/vnd.jupyter.widget-view+json": {
       "model_id": "3baf7534310a458c8e5631557de6c77d",
       "version_major": 2,
       "version_minor": 0
      },
      "text/plain": [
       "HBox(children=(IntProgress(value=0, description='Performing validation', max=50), HTML(value='')))"
      ]
     },
     "metadata": {},
     "output_type": "display_data"
    },
    {
     "data": {
      "application/vnd.jupyter.widget-view+json": {
       "model_id": "088f7e8c170b4d5ca502bb66ca80e493",
       "version_major": 2,
       "version_minor": 0
      },
      "text/plain": [
       "HBox(children=(IntProgress(value=0, description='Performing validation', max=50), HTML(value='')))"
      ]
     },
     "metadata": {},
     "output_type": "display_data"
    },
    {
     "data": {
      "application/vnd.jupyter.widget-view+json": {
       "model_id": "6d48aa05a34f4bcd946ca34b39fcda3a",
       "version_major": 2,
       "version_minor": 0
      },
      "text/plain": [
       "HBox(children=(IntProgress(value=0, description='Performing validation', max=50), HTML(value='')))"
      ]
     },
     "metadata": {},
     "output_type": "display_data"
    },
    {
     "data": {
      "application/vnd.jupyter.widget-view+json": {
       "model_id": "9ebb107da89b40aea6c8a200e3e808b7",
       "version_major": 2,
       "version_minor": 0
      },
      "text/plain": [
       "HBox(children=(IntProgress(value=0, description='Performing validation', max=50), HTML(value='')))"
      ]
     },
     "metadata": {},
     "output_type": "display_data"
    },
    {
     "data": {
      "application/vnd.jupyter.widget-view+json": {
       "model_id": "f2228e4c406f42a9a49bee61d9106d15",
       "version_major": 2,
       "version_minor": 0
      },
      "text/plain": [
       "HBox(children=(IntProgress(value=0, description='Performing validation', max=50), HTML(value='')))"
      ]
     },
     "metadata": {},
     "output_type": "display_data"
    },
    {
     "data": {
      "application/vnd.jupyter.widget-view+json": {
       "model_id": "5aed0d7150da4c728566ff1bb6059953",
       "version_major": 2,
       "version_minor": 0
      },
      "text/plain": [
       "HBox(children=(IntProgress(value=0, description='Performing validation', max=50), HTML(value='')))"
      ]
     },
     "metadata": {},
     "output_type": "display_data"
    },
    {
     "data": {
      "application/vnd.jupyter.widget-view+json": {
       "model_id": "450f782c95be4822ab83b48e8d497819",
       "version_major": 2,
       "version_minor": 0
      },
      "text/plain": [
       "HBox(children=(IntProgress(value=0, description='Performing validation', max=50), HTML(value='')))"
      ]
     },
     "metadata": {},
     "output_type": "display_data"
    },
    {
     "name": "stdout",
     "output_type": "stream",
     "text": [
      "\n"
     ]
    },
    {
     "data": {
      "application/vnd.jupyter.widget-view+json": {
       "model_id": "2754a1ffcfb14fa4a92449684ce8486c",
       "version_major": 2,
       "version_minor": 0
      },
      "text/plain": [
       "HBox(children=(IntProgress(value=0, description='Epoch 12', max=2500), HTML(value='')))"
      ]
     },
     "metadata": {},
     "output_type": "display_data"
    },
    {
     "data": {
      "application/vnd.jupyter.widget-view+json": {
       "model_id": "f2e9e673807c4fc18bd6ebf7216609ef",
       "version_major": 2,
       "version_minor": 0
      },
      "text/plain": [
       "HBox(children=(IntProgress(value=0, description='Performing validation', max=50), HTML(value='')))"
      ]
     },
     "metadata": {},
     "output_type": "display_data"
    },
    {
     "data": {
      "application/vnd.jupyter.widget-view+json": {
       "model_id": "75daa6194208422b8c147df589830672",
       "version_major": 2,
       "version_minor": 0
      },
      "text/plain": [
       "HBox(children=(IntProgress(value=0, description='Performing validation', max=50), HTML(value='')))"
      ]
     },
     "metadata": {},
     "output_type": "display_data"
    },
    {
     "data": {
      "application/vnd.jupyter.widget-view+json": {
       "model_id": "235e3275c5ff41bc87bb911e6d6a1768",
       "version_major": 2,
       "version_minor": 0
      },
      "text/plain": [
       "HBox(children=(IntProgress(value=0, description='Performing validation', max=50), HTML(value='')))"
      ]
     },
     "metadata": {},
     "output_type": "display_data"
    },
    {
     "data": {
      "application/vnd.jupyter.widget-view+json": {
       "model_id": "ca3d0f8b1f62482789b195c132e3953b",
       "version_major": 2,
       "version_minor": 0
      },
      "text/plain": [
       "HBox(children=(IntProgress(value=0, description='Performing validation', max=50), HTML(value='')))"
      ]
     },
     "metadata": {},
     "output_type": "display_data"
    },
    {
     "data": {
      "application/vnd.jupyter.widget-view+json": {
       "model_id": "d222e551127341bc919fe7ec324dca17",
       "version_major": 2,
       "version_minor": 0
      },
      "text/plain": [
       "HBox(children=(IntProgress(value=0, description='Performing validation', max=50), HTML(value='')))"
      ]
     },
     "metadata": {},
     "output_type": "display_data"
    },
    {
     "data": {
      "application/vnd.jupyter.widget-view+json": {
       "model_id": "94b43a876fd14af2ba08b6e275c851d6",
       "version_major": 2,
       "version_minor": 0
      },
      "text/plain": [
       "HBox(children=(IntProgress(value=0, description='Performing validation', max=50), HTML(value='')))"
      ]
     },
     "metadata": {},
     "output_type": "display_data"
    },
    {
     "data": {
      "application/vnd.jupyter.widget-view+json": {
       "model_id": "46d775af852e4ed68a899916085cf090",
       "version_major": 2,
       "version_minor": 0
      },
      "text/plain": [
       "HBox(children=(IntProgress(value=0, description='Performing validation', max=50), HTML(value='')))"
      ]
     },
     "metadata": {},
     "output_type": "display_data"
    },
    {
     "data": {
      "application/vnd.jupyter.widget-view+json": {
       "model_id": "045d1c5fd119424eb5fcde69c92291ce",
       "version_major": 2,
       "version_minor": 0
      },
      "text/plain": [
       "HBox(children=(IntProgress(value=0, description='Performing validation', max=50), HTML(value='')))"
      ]
     },
     "metadata": {},
     "output_type": "display_data"
    },
    {
     "data": {
      "application/vnd.jupyter.widget-view+json": {
       "model_id": "96d0de2d90b84bc0af60814b5ceb6b1b",
       "version_major": 2,
       "version_minor": 0
      },
      "text/plain": [
       "HBox(children=(IntProgress(value=0, description='Performing validation', max=50), HTML(value='')))"
      ]
     },
     "metadata": {},
     "output_type": "display_data"
    },
    {
     "data": {
      "application/vnd.jupyter.widget-view+json": {
       "model_id": "941de29161be47ad9771316d57bc9f89",
       "version_major": 2,
       "version_minor": 0
      },
      "text/plain": [
       "HBox(children=(IntProgress(value=0, description='Performing validation', max=50), HTML(value='')))"
      ]
     },
     "metadata": {},
     "output_type": "display_data"
    },
    {
     "data": {
      "application/vnd.jupyter.widget-view+json": {
       "model_id": "cfc0c205ee654d22b613531a8d304309",
       "version_major": 2,
       "version_minor": 0
      },
      "text/plain": [
       "HBox(children=(IntProgress(value=0, description='Performing validation', max=50), HTML(value='')))"
      ]
     },
     "metadata": {},
     "output_type": "display_data"
    },
    {
     "data": {
      "application/vnd.jupyter.widget-view+json": {
       "model_id": "2b260908df3a41d29c1776bc673233ed",
       "version_major": 2,
       "version_minor": 0
      },
      "text/plain": [
       "HBox(children=(IntProgress(value=0, description='Performing validation', max=50), HTML(value='')))"
      ]
     },
     "metadata": {},
     "output_type": "display_data"
    },
    {
     "data": {
      "application/vnd.jupyter.widget-view+json": {
       "model_id": "c5c4ce5aafc54b999c68afb6f187961c",
       "version_major": 2,
       "version_minor": 0
      },
      "text/plain": [
       "HBox(children=(IntProgress(value=0, description='Performing validation', max=50), HTML(value='')))"
      ]
     },
     "metadata": {},
     "output_type": "display_data"
    },
    {
     "data": {
      "application/vnd.jupyter.widget-view+json": {
       "model_id": "10e023a79b6a4cd9bc773e9f9aaa6498",
       "version_major": 2,
       "version_minor": 0
      },
      "text/plain": [
       "HBox(children=(IntProgress(value=0, description='Performing validation', max=50), HTML(value='')))"
      ]
     },
     "metadata": {},
     "output_type": "display_data"
    },
    {
     "data": {
      "application/vnd.jupyter.widget-view+json": {
       "model_id": "1c3b93e017444336ad25c5ed675b15c2",
       "version_major": 2,
       "version_minor": 0
      },
      "text/plain": [
       "HBox(children=(IntProgress(value=0, description='Performing validation', max=50), HTML(value='')))"
      ]
     },
     "metadata": {},
     "output_type": "display_data"
    },
    {
     "data": {
      "application/vnd.jupyter.widget-view+json": {
       "model_id": "c7d5d745e1c34f5494890bdac301aa5b",
       "version_major": 2,
       "version_minor": 0
      },
      "text/plain": [
       "HBox(children=(IntProgress(value=0, description='Performing validation', max=50), HTML(value='')))"
      ]
     },
     "metadata": {},
     "output_type": "display_data"
    },
    {
     "data": {
      "application/vnd.jupyter.widget-view+json": {
       "model_id": "388d848d67654561b572931521e77934",
       "version_major": 2,
       "version_minor": 0
      },
      "text/plain": [
       "HBox(children=(IntProgress(value=0, description='Performing validation', max=50), HTML(value='')))"
      ]
     },
     "metadata": {},
     "output_type": "display_data"
    },
    {
     "data": {
      "application/vnd.jupyter.widget-view+json": {
       "model_id": "221631e1f1c241ce9c54a862912588dd",
       "version_major": 2,
       "version_minor": 0
      },
      "text/plain": [
       "HBox(children=(IntProgress(value=0, description='Performing validation', max=50), HTML(value='')))"
      ]
     },
     "metadata": {},
     "output_type": "display_data"
    },
    {
     "data": {
      "application/vnd.jupyter.widget-view+json": {
       "model_id": "50fa0ff363cc4942b52f0968fd1b548b",
       "version_major": 2,
       "version_minor": 0
      },
      "text/plain": [
       "HBox(children=(IntProgress(value=0, description='Performing validation', max=50), HTML(value='')))"
      ]
     },
     "metadata": {},
     "output_type": "display_data"
    },
    {
     "data": {
      "application/vnd.jupyter.widget-view+json": {
       "model_id": "19a06742fcef4092b336219d2418a8bb",
       "version_major": 2,
       "version_minor": 0
      },
      "text/plain": [
       "HBox(children=(IntProgress(value=0, description='Performing validation', max=50), HTML(value='')))"
      ]
     },
     "metadata": {},
     "output_type": "display_data"
    },
    {
     "data": {
      "application/vnd.jupyter.widget-view+json": {
       "model_id": "8124c0ffcd6f49bcaf8ef16d7e6ef0f8",
       "version_major": 2,
       "version_minor": 0
      },
      "text/plain": [
       "HBox(children=(IntProgress(value=0, description='Performing validation', max=50), HTML(value='')))"
      ]
     },
     "metadata": {},
     "output_type": "display_data"
    },
    {
     "data": {
      "application/vnd.jupyter.widget-view+json": {
       "model_id": "a97782392fc2484eb6ac7217bd6dc707",
       "version_major": 2,
       "version_minor": 0
      },
      "text/plain": [
       "HBox(children=(IntProgress(value=0, description='Performing validation', max=50), HTML(value='')))"
      ]
     },
     "metadata": {},
     "output_type": "display_data"
    },
    {
     "data": {
      "application/vnd.jupyter.widget-view+json": {
       "model_id": "5e1894de367a47af87bf342bc8f8f30a",
       "version_major": 2,
       "version_minor": 0
      },
      "text/plain": [
       "HBox(children=(IntProgress(value=0, description='Performing validation', max=50), HTML(value='')))"
      ]
     },
     "metadata": {},
     "output_type": "display_data"
    },
    {
     "data": {
      "application/vnd.jupyter.widget-view+json": {
       "model_id": "6b7c532814024680a8d5bf9097242947",
       "version_major": 2,
       "version_minor": 0
      },
      "text/plain": [
       "HBox(children=(IntProgress(value=0, description='Performing validation', max=50), HTML(value='')))"
      ]
     },
     "metadata": {},
     "output_type": "display_data"
    },
    {
     "data": {
      "application/vnd.jupyter.widget-view+json": {
       "model_id": "a734cfd3c5d645b2b6fdfabbcc8af816",
       "version_major": 2,
       "version_minor": 0
      },
      "text/plain": [
       "HBox(children=(IntProgress(value=0, description='Performing validation', max=50), HTML(value='')))"
      ]
     },
     "metadata": {},
     "output_type": "display_data"
    },
    {
     "name": "stdout",
     "output_type": "stream",
     "text": [
      "\n"
     ]
    },
    {
     "data": {
      "application/vnd.jupyter.widget-view+json": {
       "model_id": "66b8cc58fe244587a01faf73c9e7ad00",
       "version_major": 2,
       "version_minor": 0
      },
      "text/plain": [
       "HBox(children=(IntProgress(value=0, description='Epoch 13', max=2500), HTML(value='')))"
      ]
     },
     "metadata": {},
     "output_type": "display_data"
    },
    {
     "data": {
      "application/vnd.jupyter.widget-view+json": {
       "model_id": "e83cdbb49cbd4c7ca83912995aa91d02",
       "version_major": 2,
       "version_minor": 0
      },
      "text/plain": [
       "HBox(children=(IntProgress(value=0, description='Performing validation', max=50), HTML(value='')))"
      ]
     },
     "metadata": {},
     "output_type": "display_data"
    },
    {
     "data": {
      "application/vnd.jupyter.widget-view+json": {
       "model_id": "38eb2025bb50429ab27f28a03c5da5fd",
       "version_major": 2,
       "version_minor": 0
      },
      "text/plain": [
       "HBox(children=(IntProgress(value=0, description='Performing validation', max=50), HTML(value='')))"
      ]
     },
     "metadata": {},
     "output_type": "display_data"
    },
    {
     "data": {
      "application/vnd.jupyter.widget-view+json": {
       "model_id": "443e0b649002493f9ff923609b460e06",
       "version_major": 2,
       "version_minor": 0
      },
      "text/plain": [
       "HBox(children=(IntProgress(value=0, description='Performing validation', max=50), HTML(value='')))"
      ]
     },
     "metadata": {},
     "output_type": "display_data"
    },
    {
     "data": {
      "application/vnd.jupyter.widget-view+json": {
       "model_id": "8de2d6c2439c4fbbb1bb9fcd2f7c75b7",
       "version_major": 2,
       "version_minor": 0
      },
      "text/plain": [
       "HBox(children=(IntProgress(value=0, description='Performing validation', max=50), HTML(value='')))"
      ]
     },
     "metadata": {},
     "output_type": "display_data"
    },
    {
     "data": {
      "application/vnd.jupyter.widget-view+json": {
       "model_id": "98a4eb2194e045588076aac77816bfb9",
       "version_major": 2,
       "version_minor": 0
      },
      "text/plain": [
       "HBox(children=(IntProgress(value=0, description='Performing validation', max=50), HTML(value='')))"
      ]
     },
     "metadata": {},
     "output_type": "display_data"
    },
    {
     "data": {
      "application/vnd.jupyter.widget-view+json": {
       "model_id": "40b107c7d9154fedbc720b5bb10e1b28",
       "version_major": 2,
       "version_minor": 0
      },
      "text/plain": [
       "HBox(children=(IntProgress(value=0, description='Performing validation', max=50), HTML(value='')))"
      ]
     },
     "metadata": {},
     "output_type": "display_data"
    },
    {
     "data": {
      "application/vnd.jupyter.widget-view+json": {
       "model_id": "77c423d09fd0417db640fa0e8fafd214",
       "version_major": 2,
       "version_minor": 0
      },
      "text/plain": [
       "HBox(children=(IntProgress(value=0, description='Performing validation', max=50), HTML(value='')))"
      ]
     },
     "metadata": {},
     "output_type": "display_data"
    },
    {
     "data": {
      "application/vnd.jupyter.widget-view+json": {
       "model_id": "563c0483244a47f286a42a37e4280376",
       "version_major": 2,
       "version_minor": 0
      },
      "text/plain": [
       "HBox(children=(IntProgress(value=0, description='Performing validation', max=50), HTML(value='')))"
      ]
     },
     "metadata": {},
     "output_type": "display_data"
    },
    {
     "data": {
      "application/vnd.jupyter.widget-view+json": {
       "model_id": "69534ab080644b61ba451b20c7df431e",
       "version_major": 2,
       "version_minor": 0
      },
      "text/plain": [
       "HBox(children=(IntProgress(value=0, description='Performing validation', max=50), HTML(value='')))"
      ]
     },
     "metadata": {},
     "output_type": "display_data"
    },
    {
     "data": {
      "application/vnd.jupyter.widget-view+json": {
       "model_id": "7e8794e676ad4743a08bd5a8c86bea54",
       "version_major": 2,
       "version_minor": 0
      },
      "text/plain": [
       "HBox(children=(IntProgress(value=0, description='Performing validation', max=50), HTML(value='')))"
      ]
     },
     "metadata": {},
     "output_type": "display_data"
    },
    {
     "data": {
      "application/vnd.jupyter.widget-view+json": {
       "model_id": "bc8b8110e3f74362b1bde2f613e0c858",
       "version_major": 2,
       "version_minor": 0
      },
      "text/plain": [
       "HBox(children=(IntProgress(value=0, description='Performing validation', max=50), HTML(value='')))"
      ]
     },
     "metadata": {},
     "output_type": "display_data"
    },
    {
     "data": {
      "application/vnd.jupyter.widget-view+json": {
       "model_id": "f625b1179d1c46fe815da3b4a18b2f5f",
       "version_major": 2,
       "version_minor": 0
      },
      "text/plain": [
       "HBox(children=(IntProgress(value=0, description='Performing validation', max=50), HTML(value='')))"
      ]
     },
     "metadata": {},
     "output_type": "display_data"
    },
    {
     "data": {
      "application/vnd.jupyter.widget-view+json": {
       "model_id": "4b7ecfceaf404e8682b9b0e30a6ed19e",
       "version_major": 2,
       "version_minor": 0
      },
      "text/plain": [
       "HBox(children=(IntProgress(value=0, description='Performing validation', max=50), HTML(value='')))"
      ]
     },
     "metadata": {},
     "output_type": "display_data"
    },
    {
     "data": {
      "application/vnd.jupyter.widget-view+json": {
       "model_id": "f46d070a2c8b4972b06762e9998d1b74",
       "version_major": 2,
       "version_minor": 0
      },
      "text/plain": [
       "HBox(children=(IntProgress(value=0, description='Performing validation', max=50), HTML(value='')))"
      ]
     },
     "metadata": {},
     "output_type": "display_data"
    },
    {
     "data": {
      "application/vnd.jupyter.widget-view+json": {
       "model_id": "78d0a1271e1f43639f444b45d9d75ca7",
       "version_major": 2,
       "version_minor": 0
      },
      "text/plain": [
       "HBox(children=(IntProgress(value=0, description='Performing validation', max=50), HTML(value='')))"
      ]
     },
     "metadata": {},
     "output_type": "display_data"
    },
    {
     "data": {
      "application/vnd.jupyter.widget-view+json": {
       "model_id": "873dd1ffe2eb4479bced52c1e8922bb4",
       "version_major": 2,
       "version_minor": 0
      },
      "text/plain": [
       "HBox(children=(IntProgress(value=0, description='Performing validation', max=50), HTML(value='')))"
      ]
     },
     "metadata": {},
     "output_type": "display_data"
    },
    {
     "data": {
      "application/vnd.jupyter.widget-view+json": {
       "model_id": "80bd5a29dced437e9d4ccf1ee7cb49d7",
       "version_major": 2,
       "version_minor": 0
      },
      "text/plain": [
       "HBox(children=(IntProgress(value=0, description='Performing validation', max=50), HTML(value='')))"
      ]
     },
     "metadata": {},
     "output_type": "display_data"
    },
    {
     "data": {
      "application/vnd.jupyter.widget-view+json": {
       "model_id": "5eb51327e4774f54b4466141f024b927",
       "version_major": 2,
       "version_minor": 0
      },
      "text/plain": [
       "HBox(children=(IntProgress(value=0, description='Performing validation', max=50), HTML(value='')))"
      ]
     },
     "metadata": {},
     "output_type": "display_data"
    },
    {
     "data": {
      "application/vnd.jupyter.widget-view+json": {
       "model_id": "8b1b61e148684c1f8f31b60448887f5c",
       "version_major": 2,
       "version_minor": 0
      },
      "text/plain": [
       "HBox(children=(IntProgress(value=0, description='Performing validation', max=50), HTML(value='')))"
      ]
     },
     "metadata": {},
     "output_type": "display_data"
    },
    {
     "data": {
      "application/vnd.jupyter.widget-view+json": {
       "model_id": "c83858802c234149a8774bc0f1aecba9",
       "version_major": 2,
       "version_minor": 0
      },
      "text/plain": [
       "HBox(children=(IntProgress(value=0, description='Performing validation', max=50), HTML(value='')))"
      ]
     },
     "metadata": {},
     "output_type": "display_data"
    },
    {
     "data": {
      "application/vnd.jupyter.widget-view+json": {
       "model_id": "31110ab674104ff2845d825e8329ca44",
       "version_major": 2,
       "version_minor": 0
      },
      "text/plain": [
       "HBox(children=(IntProgress(value=0, description='Performing validation', max=50), HTML(value='')))"
      ]
     },
     "metadata": {},
     "output_type": "display_data"
    },
    {
     "data": {
      "application/vnd.jupyter.widget-view+json": {
       "model_id": "94f1ff3534db4d5a86d0308d4ed10e02",
       "version_major": 2,
       "version_minor": 0
      },
      "text/plain": [
       "HBox(children=(IntProgress(value=0, description='Performing validation', max=50), HTML(value='')))"
      ]
     },
     "metadata": {},
     "output_type": "display_data"
    },
    {
     "data": {
      "application/vnd.jupyter.widget-view+json": {
       "model_id": "94da13c03064474fa780987dc26936bf",
       "version_major": 2,
       "version_minor": 0
      },
      "text/plain": [
       "HBox(children=(IntProgress(value=0, description='Performing validation', max=50), HTML(value='')))"
      ]
     },
     "metadata": {},
     "output_type": "display_data"
    },
    {
     "data": {
      "application/vnd.jupyter.widget-view+json": {
       "model_id": "82331046038f4178b92db1a2394ca65a",
       "version_major": 2,
       "version_minor": 0
      },
      "text/plain": [
       "HBox(children=(IntProgress(value=0, description='Performing validation', max=50), HTML(value='')))"
      ]
     },
     "metadata": {},
     "output_type": "display_data"
    },
    {
     "data": {
      "application/vnd.jupyter.widget-view+json": {
       "model_id": "35c976dfef4d4107a85d0a3732dc08b2",
       "version_major": 2,
       "version_minor": 0
      },
      "text/plain": [
       "HBox(children=(IntProgress(value=0, description='Performing validation', max=50), HTML(value='')))"
      ]
     },
     "metadata": {},
     "output_type": "display_data"
    },
    {
     "name": "stdout",
     "output_type": "stream",
     "text": [
      "\n"
     ]
    },
    {
     "data": {
      "application/vnd.jupyter.widget-view+json": {
       "model_id": "f5c3ece0e8244a88b78264be9295215b",
       "version_major": 2,
       "version_minor": 0
      },
      "text/plain": [
       "HBox(children=(IntProgress(value=0, description='Epoch 14', max=2500), HTML(value='')))"
      ]
     },
     "metadata": {},
     "output_type": "display_data"
    },
    {
     "data": {
      "application/vnd.jupyter.widget-view+json": {
       "model_id": "67ef62ef508a4570beb552ba681c8e25",
       "version_major": 2,
       "version_minor": 0
      },
      "text/plain": [
       "HBox(children=(IntProgress(value=0, description='Performing validation', max=50), HTML(value='')))"
      ]
     },
     "metadata": {},
     "output_type": "display_data"
    },
    {
     "data": {
      "application/vnd.jupyter.widget-view+json": {
       "model_id": "c1ce65d880964d3389490ed967b75f84",
       "version_major": 2,
       "version_minor": 0
      },
      "text/plain": [
       "HBox(children=(IntProgress(value=0, description='Performing validation', max=50), HTML(value='')))"
      ]
     },
     "metadata": {},
     "output_type": "display_data"
    },
    {
     "data": {
      "application/vnd.jupyter.widget-view+json": {
       "model_id": "ff2786760cb649a9a0b665ffcfc97591",
       "version_major": 2,
       "version_minor": 0
      },
      "text/plain": [
       "HBox(children=(IntProgress(value=0, description='Performing validation', max=50), HTML(value='')))"
      ]
     },
     "metadata": {},
     "output_type": "display_data"
    },
    {
     "data": {
      "application/vnd.jupyter.widget-view+json": {
       "model_id": "506f7565644f4aa98f86c044906d0aa8",
       "version_major": 2,
       "version_minor": 0
      },
      "text/plain": [
       "HBox(children=(IntProgress(value=0, description='Performing validation', max=50), HTML(value='')))"
      ]
     },
     "metadata": {},
     "output_type": "display_data"
    },
    {
     "data": {
      "application/vnd.jupyter.widget-view+json": {
       "model_id": "820aff3edea945e9ba15bb79c7ef354c",
       "version_major": 2,
       "version_minor": 0
      },
      "text/plain": [
       "HBox(children=(IntProgress(value=0, description='Performing validation', max=50), HTML(value='')))"
      ]
     },
     "metadata": {},
     "output_type": "display_data"
    },
    {
     "data": {
      "application/vnd.jupyter.widget-view+json": {
       "model_id": "97362bdf09f648cc9dc2f2db8e817fc2",
       "version_major": 2,
       "version_minor": 0
      },
      "text/plain": [
       "HBox(children=(IntProgress(value=0, description='Performing validation', max=50), HTML(value='')))"
      ]
     },
     "metadata": {},
     "output_type": "display_data"
    },
    {
     "data": {
      "application/vnd.jupyter.widget-view+json": {
       "model_id": "877418df59f34edbb4f483ce13430c84",
       "version_major": 2,
       "version_minor": 0
      },
      "text/plain": [
       "HBox(children=(IntProgress(value=0, description='Performing validation', max=50), HTML(value='')))"
      ]
     },
     "metadata": {},
     "output_type": "display_data"
    },
    {
     "data": {
      "application/vnd.jupyter.widget-view+json": {
       "model_id": "1ad6678a4f06442ba5fabe521c5da89d",
       "version_major": 2,
       "version_minor": 0
      },
      "text/plain": [
       "HBox(children=(IntProgress(value=0, description='Performing validation', max=50), HTML(value='')))"
      ]
     },
     "metadata": {},
     "output_type": "display_data"
    },
    {
     "data": {
      "application/vnd.jupyter.widget-view+json": {
       "model_id": "62a71f958b9b4c2b983f1336b5184b14",
       "version_major": 2,
       "version_minor": 0
      },
      "text/plain": [
       "HBox(children=(IntProgress(value=0, description='Performing validation', max=50), HTML(value='')))"
      ]
     },
     "metadata": {},
     "output_type": "display_data"
    },
    {
     "data": {
      "application/vnd.jupyter.widget-view+json": {
       "model_id": "1dc978a6715044f9b2eba9ec788b2a50",
       "version_major": 2,
       "version_minor": 0
      },
      "text/plain": [
       "HBox(children=(IntProgress(value=0, description='Performing validation', max=50), HTML(value='')))"
      ]
     },
     "metadata": {},
     "output_type": "display_data"
    },
    {
     "data": {
      "application/vnd.jupyter.widget-view+json": {
       "model_id": "8ca646be9fcc4b1f8586dfa26084552f",
       "version_major": 2,
       "version_minor": 0
      },
      "text/plain": [
       "HBox(children=(IntProgress(value=0, description='Performing validation', max=50), HTML(value='')))"
      ]
     },
     "metadata": {},
     "output_type": "display_data"
    },
    {
     "data": {
      "application/vnd.jupyter.widget-view+json": {
       "model_id": "4752c1a189da4b5e9d41ca0be68a8dc3",
       "version_major": 2,
       "version_minor": 0
      },
      "text/plain": [
       "HBox(children=(IntProgress(value=0, description='Performing validation', max=50), HTML(value='')))"
      ]
     },
     "metadata": {},
     "output_type": "display_data"
    },
    {
     "data": {
      "application/vnd.jupyter.widget-view+json": {
       "model_id": "8f263805f6144270860735c8f1fb0312",
       "version_major": 2,
       "version_minor": 0
      },
      "text/plain": [
       "HBox(children=(IntProgress(value=0, description='Performing validation', max=50), HTML(value='')))"
      ]
     },
     "metadata": {},
     "output_type": "display_data"
    },
    {
     "data": {
      "application/vnd.jupyter.widget-view+json": {
       "model_id": "8af9a27f11fd41a19bc3865b82f60890",
       "version_major": 2,
       "version_minor": 0
      },
      "text/plain": [
       "HBox(children=(IntProgress(value=0, description='Performing validation', max=50), HTML(value='')))"
      ]
     },
     "metadata": {},
     "output_type": "display_data"
    },
    {
     "data": {
      "application/vnd.jupyter.widget-view+json": {
       "model_id": "ca92f84c6c574592ae3dc3fb231ef248",
       "version_major": 2,
       "version_minor": 0
      },
      "text/plain": [
       "HBox(children=(IntProgress(value=0, description='Performing validation', max=50), HTML(value='')))"
      ]
     },
     "metadata": {},
     "output_type": "display_data"
    },
    {
     "data": {
      "application/vnd.jupyter.widget-view+json": {
       "model_id": "0d7826d2a2404093ac62e52ff312fb95",
       "version_major": 2,
       "version_minor": 0
      },
      "text/plain": [
       "HBox(children=(IntProgress(value=0, description='Performing validation', max=50), HTML(value='')))"
      ]
     },
     "metadata": {},
     "output_type": "display_data"
    },
    {
     "data": {
      "application/vnd.jupyter.widget-view+json": {
       "model_id": "b991d919f2bd4e7ca94d2ad36bbc7a28",
       "version_major": 2,
       "version_minor": 0
      },
      "text/plain": [
       "HBox(children=(IntProgress(value=0, description='Performing validation', max=50), HTML(value='')))"
      ]
     },
     "metadata": {},
     "output_type": "display_data"
    },
    {
     "data": {
      "application/vnd.jupyter.widget-view+json": {
       "model_id": "8d30f77b172144298e37ea7ee023004d",
       "version_major": 2,
       "version_minor": 0
      },
      "text/plain": [
       "HBox(children=(IntProgress(value=0, description='Performing validation', max=50), HTML(value='')))"
      ]
     },
     "metadata": {},
     "output_type": "display_data"
    },
    {
     "data": {
      "application/vnd.jupyter.widget-view+json": {
       "model_id": "7e0f0135dc144ba6979568ad5faba801",
       "version_major": 2,
       "version_minor": 0
      },
      "text/plain": [
       "HBox(children=(IntProgress(value=0, description='Performing validation', max=50), HTML(value='')))"
      ]
     },
     "metadata": {},
     "output_type": "display_data"
    },
    {
     "data": {
      "application/vnd.jupyter.widget-view+json": {
       "model_id": "734f8469c86b4e8b928f876b75bec766",
       "version_major": 2,
       "version_minor": 0
      },
      "text/plain": [
       "HBox(children=(IntProgress(value=0, description='Performing validation', max=50), HTML(value='')))"
      ]
     },
     "metadata": {},
     "output_type": "display_data"
    },
    {
     "data": {
      "application/vnd.jupyter.widget-view+json": {
       "model_id": "04048a15862d4023b36c433b53f453d2",
       "version_major": 2,
       "version_minor": 0
      },
      "text/plain": [
       "HBox(children=(IntProgress(value=0, description='Performing validation', max=50), HTML(value='')))"
      ]
     },
     "metadata": {},
     "output_type": "display_data"
    },
    {
     "data": {
      "application/vnd.jupyter.widget-view+json": {
       "model_id": "3f390756b44b4bc3a4d54db5f01f804e",
       "version_major": 2,
       "version_minor": 0
      },
      "text/plain": [
       "HBox(children=(IntProgress(value=0, description='Performing validation', max=50), HTML(value='')))"
      ]
     },
     "metadata": {},
     "output_type": "display_data"
    },
    {
     "data": {
      "application/vnd.jupyter.widget-view+json": {
       "model_id": "eb45b305af0945e0ab3944d0a6c47b22",
       "version_major": 2,
       "version_minor": 0
      },
      "text/plain": [
       "HBox(children=(IntProgress(value=0, description='Performing validation', max=50), HTML(value='')))"
      ]
     },
     "metadata": {},
     "output_type": "display_data"
    },
    {
     "data": {
      "application/vnd.jupyter.widget-view+json": {
       "model_id": "e5415bd6e36d46acb290e31227b19225",
       "version_major": 2,
       "version_minor": 0
      },
      "text/plain": [
       "HBox(children=(IntProgress(value=0, description='Performing validation', max=50), HTML(value='')))"
      ]
     },
     "metadata": {},
     "output_type": "display_data"
    },
    {
     "data": {
      "application/vnd.jupyter.widget-view+json": {
       "model_id": "9167e73a36144d20988cd3d3f1a72ab0",
       "version_major": 2,
       "version_minor": 0
      },
      "text/plain": [
       "HBox(children=(IntProgress(value=0, description='Performing validation', max=50), HTML(value='')))"
      ]
     },
     "metadata": {},
     "output_type": "display_data"
    },
    {
     "name": "stdout",
     "output_type": "stream",
     "text": [
      "\n"
     ]
    },
    {
     "data": {
      "application/vnd.jupyter.widget-view+json": {
       "model_id": "8cbcb788f0524ad18c650cd7628a1cfb",
       "version_major": 2,
       "version_minor": 0
      },
      "text/plain": [
       "HBox(children=(IntProgress(value=0, description='Epoch 15', max=2500), HTML(value='')))"
      ]
     },
     "metadata": {},
     "output_type": "display_data"
    },
    {
     "data": {
      "application/vnd.jupyter.widget-view+json": {
       "model_id": "65f6eaaabbf04fef8dbeafdbe0f4d190",
       "version_major": 2,
       "version_minor": 0
      },
      "text/plain": [
       "HBox(children=(IntProgress(value=0, description='Performing validation', max=50), HTML(value='')))"
      ]
     },
     "metadata": {},
     "output_type": "display_data"
    },
    {
     "data": {
      "application/vnd.jupyter.widget-view+json": {
       "model_id": "7581fc855804492a9a186ba933b894ea",
       "version_major": 2,
       "version_minor": 0
      },
      "text/plain": [
       "HBox(children=(IntProgress(value=0, description='Performing validation', max=50), HTML(value='')))"
      ]
     },
     "metadata": {},
     "output_type": "display_data"
    },
    {
     "data": {
      "application/vnd.jupyter.widget-view+json": {
       "model_id": "76c50b88c32c450f8acc7788bb655ea1",
       "version_major": 2,
       "version_minor": 0
      },
      "text/plain": [
       "HBox(children=(IntProgress(value=0, description='Performing validation', max=50), HTML(value='')))"
      ]
     },
     "metadata": {},
     "output_type": "display_data"
    },
    {
     "data": {
      "application/vnd.jupyter.widget-view+json": {
       "model_id": "713beb3e7a8e4a46918cf4fc8781de49",
       "version_major": 2,
       "version_minor": 0
      },
      "text/plain": [
       "HBox(children=(IntProgress(value=0, description='Performing validation', max=50), HTML(value='')))"
      ]
     },
     "metadata": {},
     "output_type": "display_data"
    },
    {
     "data": {
      "application/vnd.jupyter.widget-view+json": {
       "model_id": "897a426eacb443b7a699dadd9b459400",
       "version_major": 2,
       "version_minor": 0
      },
      "text/plain": [
       "HBox(children=(IntProgress(value=0, description='Performing validation', max=50), HTML(value='')))"
      ]
     },
     "metadata": {},
     "output_type": "display_data"
    },
    {
     "data": {
      "application/vnd.jupyter.widget-view+json": {
       "model_id": "dbb85b291e3447f6a74c8ace32ee053f",
       "version_major": 2,
       "version_minor": 0
      },
      "text/plain": [
       "HBox(children=(IntProgress(value=0, description='Performing validation', max=50), HTML(value='')))"
      ]
     },
     "metadata": {},
     "output_type": "display_data"
    },
    {
     "data": {
      "application/vnd.jupyter.widget-view+json": {
       "model_id": "2b109c6aad264beda6a43c0620ecb3e8",
       "version_major": 2,
       "version_minor": 0
      },
      "text/plain": [
       "HBox(children=(IntProgress(value=0, description='Performing validation', max=50), HTML(value='')))"
      ]
     },
     "metadata": {},
     "output_type": "display_data"
    },
    {
     "data": {
      "application/vnd.jupyter.widget-view+json": {
       "model_id": "856b8725d7df4362bdf334842845cb5a",
       "version_major": 2,
       "version_minor": 0
      },
      "text/plain": [
       "HBox(children=(IntProgress(value=0, description='Performing validation', max=50), HTML(value='')))"
      ]
     },
     "metadata": {},
     "output_type": "display_data"
    },
    {
     "data": {
      "application/vnd.jupyter.widget-view+json": {
       "model_id": "5620b40b37164733bc12160b80670d03",
       "version_major": 2,
       "version_minor": 0
      },
      "text/plain": [
       "HBox(children=(IntProgress(value=0, description='Performing validation', max=50), HTML(value='')))"
      ]
     },
     "metadata": {},
     "output_type": "display_data"
    },
    {
     "data": {
      "application/vnd.jupyter.widget-view+json": {
       "model_id": "ebde3ddf70b643c59db33efd48464cdf",
       "version_major": 2,
       "version_minor": 0
      },
      "text/plain": [
       "HBox(children=(IntProgress(value=0, description='Performing validation', max=50), HTML(value='')))"
      ]
     },
     "metadata": {},
     "output_type": "display_data"
    },
    {
     "data": {
      "application/vnd.jupyter.widget-view+json": {
       "model_id": "a2425fdea5784bc69172e0ade7c0149b",
       "version_major": 2,
       "version_minor": 0
      },
      "text/plain": [
       "HBox(children=(IntProgress(value=0, description='Performing validation', max=50), HTML(value='')))"
      ]
     },
     "metadata": {},
     "output_type": "display_data"
    },
    {
     "data": {
      "application/vnd.jupyter.widget-view+json": {
       "model_id": "7a48030f791641a1b796551e2207ace8",
       "version_major": 2,
       "version_minor": 0
      },
      "text/plain": [
       "HBox(children=(IntProgress(value=0, description='Performing validation', max=50), HTML(value='')))"
      ]
     },
     "metadata": {},
     "output_type": "display_data"
    },
    {
     "data": {
      "application/vnd.jupyter.widget-view+json": {
       "model_id": "f0f49817e7464c9589cde414a241f31d",
       "version_major": 2,
       "version_minor": 0
      },
      "text/plain": [
       "HBox(children=(IntProgress(value=0, description='Performing validation', max=50), HTML(value='')))"
      ]
     },
     "metadata": {},
     "output_type": "display_data"
    },
    {
     "data": {
      "application/vnd.jupyter.widget-view+json": {
       "model_id": "580dd4b8b8a74a63882a9ca0831b202a",
       "version_major": 2,
       "version_minor": 0
      },
      "text/plain": [
       "HBox(children=(IntProgress(value=0, description='Performing validation', max=50), HTML(value='')))"
      ]
     },
     "metadata": {},
     "output_type": "display_data"
    },
    {
     "data": {
      "application/vnd.jupyter.widget-view+json": {
       "model_id": "1c0ae96be7a347f797f2b4700209ecc5",
       "version_major": 2,
       "version_minor": 0
      },
      "text/plain": [
       "HBox(children=(IntProgress(value=0, description='Performing validation', max=50), HTML(value='')))"
      ]
     },
     "metadata": {},
     "output_type": "display_data"
    },
    {
     "data": {
      "application/vnd.jupyter.widget-view+json": {
       "model_id": "e6e6f57352d747c5bbd7f2183cd1611c",
       "version_major": 2,
       "version_minor": 0
      },
      "text/plain": [
       "HBox(children=(IntProgress(value=0, description='Performing validation', max=50), HTML(value='')))"
      ]
     },
     "metadata": {},
     "output_type": "display_data"
    },
    {
     "data": {
      "application/vnd.jupyter.widget-view+json": {
       "model_id": "b830887034124cc0a96e8c131eb70379",
       "version_major": 2,
       "version_minor": 0
      },
      "text/plain": [
       "HBox(children=(IntProgress(value=0, description='Performing validation', max=50), HTML(value='')))"
      ]
     },
     "metadata": {},
     "output_type": "display_data"
    },
    {
     "data": {
      "application/vnd.jupyter.widget-view+json": {
       "model_id": "33c374abf6fa460382e31beb2fee2c7b",
       "version_major": 2,
       "version_minor": 0
      },
      "text/plain": [
       "HBox(children=(IntProgress(value=0, description='Performing validation', max=50), HTML(value='')))"
      ]
     },
     "metadata": {},
     "output_type": "display_data"
    },
    {
     "data": {
      "application/vnd.jupyter.widget-view+json": {
       "model_id": "b7e6bb22271741a1bc34a9c187d2bb44",
       "version_major": 2,
       "version_minor": 0
      },
      "text/plain": [
       "HBox(children=(IntProgress(value=0, description='Performing validation', max=50), HTML(value='')))"
      ]
     },
     "metadata": {},
     "output_type": "display_data"
    },
    {
     "data": {
      "application/vnd.jupyter.widget-view+json": {
       "model_id": "e8f0bba8a57d41ecac426f95dcaea7fd",
       "version_major": 2,
       "version_minor": 0
      },
      "text/plain": [
       "HBox(children=(IntProgress(value=0, description='Performing validation', max=50), HTML(value='')))"
      ]
     },
     "metadata": {},
     "output_type": "display_data"
    },
    {
     "data": {
      "application/vnd.jupyter.widget-view+json": {
       "model_id": "09ffc4fff6214a8e8993ab56272ec332",
       "version_major": 2,
       "version_minor": 0
      },
      "text/plain": [
       "HBox(children=(IntProgress(value=0, description='Performing validation', max=50), HTML(value='')))"
      ]
     },
     "metadata": {},
     "output_type": "display_data"
    },
    {
     "data": {
      "application/vnd.jupyter.widget-view+json": {
       "model_id": "34a4494f06bf4f0f8c71871152449223",
       "version_major": 2,
       "version_minor": 0
      },
      "text/plain": [
       "HBox(children=(IntProgress(value=0, description='Performing validation', max=50), HTML(value='')))"
      ]
     },
     "metadata": {},
     "output_type": "display_data"
    },
    {
     "data": {
      "application/vnd.jupyter.widget-view+json": {
       "model_id": "b682352522a84f1b80d37946fcbf215b",
       "version_major": 2,
       "version_minor": 0
      },
      "text/plain": [
       "HBox(children=(IntProgress(value=0, description='Performing validation', max=50), HTML(value='')))"
      ]
     },
     "metadata": {},
     "output_type": "display_data"
    },
    {
     "data": {
      "application/vnd.jupyter.widget-view+json": {
       "model_id": "16868a9f581f4855b503b77d2b14b3d3",
       "version_major": 2,
       "version_minor": 0
      },
      "text/plain": [
       "HBox(children=(IntProgress(value=0, description='Performing validation', max=50), HTML(value='')))"
      ]
     },
     "metadata": {},
     "output_type": "display_data"
    },
    {
     "data": {
      "application/vnd.jupyter.widget-view+json": {
       "model_id": "3fc7dd4af40a48e6ba2057ec9bfe5622",
       "version_major": 2,
       "version_minor": 0
      },
      "text/plain": [
       "HBox(children=(IntProgress(value=0, description='Performing validation', max=50), HTML(value='')))"
      ]
     },
     "metadata": {},
     "output_type": "display_data"
    },
    {
     "name": "stdout",
     "output_type": "stream",
     "text": [
      "\n"
     ]
    },
    {
     "data": {
      "application/vnd.jupyter.widget-view+json": {
       "model_id": "f5e9fd4757f14e9fa1d032431b2a417a",
       "version_major": 2,
       "version_minor": 0
      },
      "text/plain": [
       "HBox(children=(IntProgress(value=0, description='Epoch 16', max=2500), HTML(value='')))"
      ]
     },
     "metadata": {},
     "output_type": "display_data"
    },
    {
     "data": {
      "application/vnd.jupyter.widget-view+json": {
       "model_id": "980056b09e50448292624116e379b4a3",
       "version_major": 2,
       "version_minor": 0
      },
      "text/plain": [
       "HBox(children=(IntProgress(value=0, description='Performing validation', max=50), HTML(value='')))"
      ]
     },
     "metadata": {},
     "output_type": "display_data"
    },
    {
     "data": {
      "application/vnd.jupyter.widget-view+json": {
       "model_id": "bce9e3ce72c54daaaac32578e59d984d",
       "version_major": 2,
       "version_minor": 0
      },
      "text/plain": [
       "HBox(children=(IntProgress(value=0, description='Performing validation', max=50), HTML(value='')))"
      ]
     },
     "metadata": {},
     "output_type": "display_data"
    },
    {
     "data": {
      "application/vnd.jupyter.widget-view+json": {
       "model_id": "487d1c6bd7684b2db3f095d6059cced0",
       "version_major": 2,
       "version_minor": 0
      },
      "text/plain": [
       "HBox(children=(IntProgress(value=0, description='Performing validation', max=50), HTML(value='')))"
      ]
     },
     "metadata": {},
     "output_type": "display_data"
    },
    {
     "data": {
      "application/vnd.jupyter.widget-view+json": {
       "model_id": "0ff87ecf46ff442992e6645b8d7d67f2",
       "version_major": 2,
       "version_minor": 0
      },
      "text/plain": [
       "HBox(children=(IntProgress(value=0, description='Performing validation', max=50), HTML(value='')))"
      ]
     },
     "metadata": {},
     "output_type": "display_data"
    },
    {
     "data": {
      "application/vnd.jupyter.widget-view+json": {
       "model_id": "f18f6c5a35cd476fb49a8410ac101ee2",
       "version_major": 2,
       "version_minor": 0
      },
      "text/plain": [
       "HBox(children=(IntProgress(value=0, description='Performing validation', max=50), HTML(value='')))"
      ]
     },
     "metadata": {},
     "output_type": "display_data"
    },
    {
     "data": {
      "application/vnd.jupyter.widget-view+json": {
       "model_id": "11ab699b2e8744b39ad60beb4ddeec0d",
       "version_major": 2,
       "version_minor": 0
      },
      "text/plain": [
       "HBox(children=(IntProgress(value=0, description='Performing validation', max=50), HTML(value='')))"
      ]
     },
     "metadata": {},
     "output_type": "display_data"
    },
    {
     "data": {
      "application/vnd.jupyter.widget-view+json": {
       "model_id": "22da5efb348448c8aeb828c6b1f4b9c0",
       "version_major": 2,
       "version_minor": 0
      },
      "text/plain": [
       "HBox(children=(IntProgress(value=0, description='Performing validation', max=50), HTML(value='')))"
      ]
     },
     "metadata": {},
     "output_type": "display_data"
    },
    {
     "data": {
      "application/vnd.jupyter.widget-view+json": {
       "model_id": "6c159ec5cf414f859376c9abe1fd8dee",
       "version_major": 2,
       "version_minor": 0
      },
      "text/plain": [
       "HBox(children=(IntProgress(value=0, description='Performing validation', max=50), HTML(value='')))"
      ]
     },
     "metadata": {},
     "output_type": "display_data"
    },
    {
     "data": {
      "application/vnd.jupyter.widget-view+json": {
       "model_id": "59ee1b84c9a54e9abd12ebbef59bd51a",
       "version_major": 2,
       "version_minor": 0
      },
      "text/plain": [
       "HBox(children=(IntProgress(value=0, description='Performing validation', max=50), HTML(value='')))"
      ]
     },
     "metadata": {},
     "output_type": "display_data"
    },
    {
     "data": {
      "application/vnd.jupyter.widget-view+json": {
       "model_id": "c19fbbffbf414a30bfb82419c77871ea",
       "version_major": 2,
       "version_minor": 0
      },
      "text/plain": [
       "HBox(children=(IntProgress(value=0, description='Performing validation', max=50), HTML(value='')))"
      ]
     },
     "metadata": {},
     "output_type": "display_data"
    },
    {
     "data": {
      "application/vnd.jupyter.widget-view+json": {
       "model_id": "785f817e6b0946d8972e85543f4645d8",
       "version_major": 2,
       "version_minor": 0
      },
      "text/plain": [
       "HBox(children=(IntProgress(value=0, description='Performing validation', max=50), HTML(value='')))"
      ]
     },
     "metadata": {},
     "output_type": "display_data"
    },
    {
     "data": {
      "application/vnd.jupyter.widget-view+json": {
       "model_id": "19134eda40664399a74b4c072dfae14c",
       "version_major": 2,
       "version_minor": 0
      },
      "text/plain": [
       "HBox(children=(IntProgress(value=0, description='Performing validation', max=50), HTML(value='')))"
      ]
     },
     "metadata": {},
     "output_type": "display_data"
    },
    {
     "data": {
      "application/vnd.jupyter.widget-view+json": {
       "model_id": "0a83e9721f9341cf99724d4a9854f1a2",
       "version_major": 2,
       "version_minor": 0
      },
      "text/plain": [
       "HBox(children=(IntProgress(value=0, description='Performing validation', max=50), HTML(value='')))"
      ]
     },
     "metadata": {},
     "output_type": "display_data"
    },
    {
     "data": {
      "application/vnd.jupyter.widget-view+json": {
       "model_id": "460e0b6f18764cd48203d97738e9bd67",
       "version_major": 2,
       "version_minor": 0
      },
      "text/plain": [
       "HBox(children=(IntProgress(value=0, description='Performing validation', max=50), HTML(value='')))"
      ]
     },
     "metadata": {},
     "output_type": "display_data"
    },
    {
     "data": {
      "application/vnd.jupyter.widget-view+json": {
       "model_id": "07944684dcd049bdb7973133a2a3bde7",
       "version_major": 2,
       "version_minor": 0
      },
      "text/plain": [
       "HBox(children=(IntProgress(value=0, description='Performing validation', max=50), HTML(value='')))"
      ]
     },
     "metadata": {},
     "output_type": "display_data"
    },
    {
     "data": {
      "application/vnd.jupyter.widget-view+json": {
       "model_id": "a4f8fab69377493780cbbf798be9ca97",
       "version_major": 2,
       "version_minor": 0
      },
      "text/plain": [
       "HBox(children=(IntProgress(value=0, description='Performing validation', max=50), HTML(value='')))"
      ]
     },
     "metadata": {},
     "output_type": "display_data"
    },
    {
     "data": {
      "application/vnd.jupyter.widget-view+json": {
       "model_id": "1a91fae8a54245ee9c5425ec984a8164",
       "version_major": 2,
       "version_minor": 0
      },
      "text/plain": [
       "HBox(children=(IntProgress(value=0, description='Performing validation', max=50), HTML(value='')))"
      ]
     },
     "metadata": {},
     "output_type": "display_data"
    },
    {
     "data": {
      "application/vnd.jupyter.widget-view+json": {
       "model_id": "be96b3aa9ae1400db6f8b5c42c464bc7",
       "version_major": 2,
       "version_minor": 0
      },
      "text/plain": [
       "HBox(children=(IntProgress(value=0, description='Performing validation', max=50), HTML(value='')))"
      ]
     },
     "metadata": {},
     "output_type": "display_data"
    },
    {
     "data": {
      "application/vnd.jupyter.widget-view+json": {
       "model_id": "c0fdb6f8c93448a1b16608321b1fff4d",
       "version_major": 2,
       "version_minor": 0
      },
      "text/plain": [
       "HBox(children=(IntProgress(value=0, description='Performing validation', max=50), HTML(value='')))"
      ]
     },
     "metadata": {},
     "output_type": "display_data"
    },
    {
     "data": {
      "application/vnd.jupyter.widget-view+json": {
       "model_id": "c56503f6776548f9b1c947e9437c1d8b",
       "version_major": 2,
       "version_minor": 0
      },
      "text/plain": [
       "HBox(children=(IntProgress(value=0, description='Performing validation', max=50), HTML(value='')))"
      ]
     },
     "metadata": {},
     "output_type": "display_data"
    },
    {
     "data": {
      "application/vnd.jupyter.widget-view+json": {
       "model_id": "89b7a28660fd408cb8610e344baa4794",
       "version_major": 2,
       "version_minor": 0
      },
      "text/plain": [
       "HBox(children=(IntProgress(value=0, description='Performing validation', max=50), HTML(value='')))"
      ]
     },
     "metadata": {},
     "output_type": "display_data"
    },
    {
     "data": {
      "application/vnd.jupyter.widget-view+json": {
       "model_id": "70fa1e79fa3345d080066e27f8a38c01",
       "version_major": 2,
       "version_minor": 0
      },
      "text/plain": [
       "HBox(children=(IntProgress(value=0, description='Performing validation', max=50), HTML(value='')))"
      ]
     },
     "metadata": {},
     "output_type": "display_data"
    },
    {
     "data": {
      "application/vnd.jupyter.widget-view+json": {
       "model_id": "2c180364cdbe401298c6d36af2ca6a76",
       "version_major": 2,
       "version_minor": 0
      },
      "text/plain": [
       "HBox(children=(IntProgress(value=0, description='Performing validation', max=50), HTML(value='')))"
      ]
     },
     "metadata": {},
     "output_type": "display_data"
    },
    {
     "data": {
      "application/vnd.jupyter.widget-view+json": {
       "model_id": "004edd092ebe40e8b6e2e3b562b7dfc1",
       "version_major": 2,
       "version_minor": 0
      },
      "text/plain": [
       "HBox(children=(IntProgress(value=0, description='Performing validation', max=50), HTML(value='')))"
      ]
     },
     "metadata": {},
     "output_type": "display_data"
    },
    {
     "data": {
      "application/vnd.jupyter.widget-view+json": {
       "model_id": "3f9d405e5d5047af90e30327bddd1bc1",
       "version_major": 2,
       "version_minor": 0
      },
      "text/plain": [
       "HBox(children=(IntProgress(value=0, description='Performing validation', max=50), HTML(value='')))"
      ]
     },
     "metadata": {},
     "output_type": "display_data"
    },
    {
     "name": "stdout",
     "output_type": "stream",
     "text": [
      "\n"
     ]
    },
    {
     "data": {
      "application/vnd.jupyter.widget-view+json": {
       "model_id": "c20c85f1d603493cbc16e6a374a5e47c",
       "version_major": 2,
       "version_minor": 0
      },
      "text/plain": [
       "HBox(children=(IntProgress(value=0, description='Epoch 17', max=2500), HTML(value='')))"
      ]
     },
     "metadata": {},
     "output_type": "display_data"
    },
    {
     "data": {
      "application/vnd.jupyter.widget-view+json": {
       "model_id": "43cb9de8a140473899c255489336ebd4",
       "version_major": 2,
       "version_minor": 0
      },
      "text/plain": [
       "HBox(children=(IntProgress(value=0, description='Performing validation', max=50), HTML(value='')))"
      ]
     },
     "metadata": {},
     "output_type": "display_data"
    },
    {
     "data": {
      "application/vnd.jupyter.widget-view+json": {
       "model_id": "88253a216307472e84928a3d38629be3",
       "version_major": 2,
       "version_minor": 0
      },
      "text/plain": [
       "HBox(children=(IntProgress(value=0, description='Performing validation', max=50), HTML(value='')))"
      ]
     },
     "metadata": {},
     "output_type": "display_data"
    },
    {
     "data": {
      "application/vnd.jupyter.widget-view+json": {
       "model_id": "f08f0297a4114e48b01612ad2d18a044",
       "version_major": 2,
       "version_minor": 0
      },
      "text/plain": [
       "HBox(children=(IntProgress(value=0, description='Performing validation', max=50), HTML(value='')))"
      ]
     },
     "metadata": {},
     "output_type": "display_data"
    },
    {
     "data": {
      "application/vnd.jupyter.widget-view+json": {
       "model_id": "f52d532ed2c14bca888509d1715b71e1",
       "version_major": 2,
       "version_minor": 0
      },
      "text/plain": [
       "HBox(children=(IntProgress(value=0, description='Performing validation', max=50), HTML(value='')))"
      ]
     },
     "metadata": {},
     "output_type": "display_data"
    },
    {
     "data": {
      "application/vnd.jupyter.widget-view+json": {
       "model_id": "8efce5cfb0af4282b618945c24799f98",
       "version_major": 2,
       "version_minor": 0
      },
      "text/plain": [
       "HBox(children=(IntProgress(value=0, description='Performing validation', max=50), HTML(value='')))"
      ]
     },
     "metadata": {},
     "output_type": "display_data"
    },
    {
     "data": {
      "application/vnd.jupyter.widget-view+json": {
       "model_id": "47b48d079f6c4020a327590f351310c7",
       "version_major": 2,
       "version_minor": 0
      },
      "text/plain": [
       "HBox(children=(IntProgress(value=0, description='Performing validation', max=50), HTML(value='')))"
      ]
     },
     "metadata": {},
     "output_type": "display_data"
    },
    {
     "data": {
      "application/vnd.jupyter.widget-view+json": {
       "model_id": "a59530dad2b1414a8c541652ae004514",
       "version_major": 2,
       "version_minor": 0
      },
      "text/plain": [
       "HBox(children=(IntProgress(value=0, description='Performing validation', max=50), HTML(value='')))"
      ]
     },
     "metadata": {},
     "output_type": "display_data"
    },
    {
     "data": {
      "application/vnd.jupyter.widget-view+json": {
       "model_id": "601f587d8e4544b48abff53f7d037da0",
       "version_major": 2,
       "version_minor": 0
      },
      "text/plain": [
       "HBox(children=(IntProgress(value=0, description='Performing validation', max=50), HTML(value='')))"
      ]
     },
     "metadata": {},
     "output_type": "display_data"
    },
    {
     "data": {
      "application/vnd.jupyter.widget-view+json": {
       "model_id": "576793c71ce5446eb1098f7fab7100b9",
       "version_major": 2,
       "version_minor": 0
      },
      "text/plain": [
       "HBox(children=(IntProgress(value=0, description='Performing validation', max=50), HTML(value='')))"
      ]
     },
     "metadata": {},
     "output_type": "display_data"
    },
    {
     "data": {
      "application/vnd.jupyter.widget-view+json": {
       "model_id": "6ee2352483cd4759a733c82414d5b028",
       "version_major": 2,
       "version_minor": 0
      },
      "text/plain": [
       "HBox(children=(IntProgress(value=0, description='Performing validation', max=50), HTML(value='')))"
      ]
     },
     "metadata": {},
     "output_type": "display_data"
    },
    {
     "data": {
      "application/vnd.jupyter.widget-view+json": {
       "model_id": "d0ffeb1d1a2a4c4089e583ab3517088c",
       "version_major": 2,
       "version_minor": 0
      },
      "text/plain": [
       "HBox(children=(IntProgress(value=0, description='Performing validation', max=50), HTML(value='')))"
      ]
     },
     "metadata": {},
     "output_type": "display_data"
    },
    {
     "data": {
      "application/vnd.jupyter.widget-view+json": {
       "model_id": "16490c4a0c504a64938c35fd6f8b2c83",
       "version_major": 2,
       "version_minor": 0
      },
      "text/plain": [
       "HBox(children=(IntProgress(value=0, description='Performing validation', max=50), HTML(value='')))"
      ]
     },
     "metadata": {},
     "output_type": "display_data"
    },
    {
     "data": {
      "application/vnd.jupyter.widget-view+json": {
       "model_id": "5cc48bff64ab47de9bdcdeebac91fbed",
       "version_major": 2,
       "version_minor": 0
      },
      "text/plain": [
       "HBox(children=(IntProgress(value=0, description='Performing validation', max=50), HTML(value='')))"
      ]
     },
     "metadata": {},
     "output_type": "display_data"
    },
    {
     "data": {
      "application/vnd.jupyter.widget-view+json": {
       "model_id": "287d297a2660416a86e851ba049314e5",
       "version_major": 2,
       "version_minor": 0
      },
      "text/plain": [
       "HBox(children=(IntProgress(value=0, description='Performing validation', max=50), HTML(value='')))"
      ]
     },
     "metadata": {},
     "output_type": "display_data"
    },
    {
     "data": {
      "application/vnd.jupyter.widget-view+json": {
       "model_id": "1a609d36b9c0402bab1b987eaf6e9aa9",
       "version_major": 2,
       "version_minor": 0
      },
      "text/plain": [
       "HBox(children=(IntProgress(value=0, description='Performing validation', max=50), HTML(value='')))"
      ]
     },
     "metadata": {},
     "output_type": "display_data"
    },
    {
     "data": {
      "application/vnd.jupyter.widget-view+json": {
       "model_id": "8cff82de471d45708dcd9ed10b7207cd",
       "version_major": 2,
       "version_minor": 0
      },
      "text/plain": [
       "HBox(children=(IntProgress(value=0, description='Performing validation', max=50), HTML(value='')))"
      ]
     },
     "metadata": {},
     "output_type": "display_data"
    },
    {
     "data": {
      "application/vnd.jupyter.widget-view+json": {
       "model_id": "18f9f39e413b4acd8dac3d7b9dbb8c54",
       "version_major": 2,
       "version_minor": 0
      },
      "text/plain": [
       "HBox(children=(IntProgress(value=0, description='Performing validation', max=50), HTML(value='')))"
      ]
     },
     "metadata": {},
     "output_type": "display_data"
    },
    {
     "data": {
      "application/vnd.jupyter.widget-view+json": {
       "model_id": "07546905bb0a44a5a53a9737c641965e",
       "version_major": 2,
       "version_minor": 0
      },
      "text/plain": [
       "HBox(children=(IntProgress(value=0, description='Performing validation', max=50), HTML(value='')))"
      ]
     },
     "metadata": {},
     "output_type": "display_data"
    },
    {
     "data": {
      "application/vnd.jupyter.widget-view+json": {
       "model_id": "7daea3e4d5744a28a7d369883d0fd21a",
       "version_major": 2,
       "version_minor": 0
      },
      "text/plain": [
       "HBox(children=(IntProgress(value=0, description='Performing validation', max=50), HTML(value='')))"
      ]
     },
     "metadata": {},
     "output_type": "display_data"
    },
    {
     "data": {
      "application/vnd.jupyter.widget-view+json": {
       "model_id": "36b70cc89adf4091b28798d5364155a0",
       "version_major": 2,
       "version_minor": 0
      },
      "text/plain": [
       "HBox(children=(IntProgress(value=0, description='Performing validation', max=50), HTML(value='')))"
      ]
     },
     "metadata": {},
     "output_type": "display_data"
    },
    {
     "data": {
      "application/vnd.jupyter.widget-view+json": {
       "model_id": "abd5762e181f4e23a515ffa18894b902",
       "version_major": 2,
       "version_minor": 0
      },
      "text/plain": [
       "HBox(children=(IntProgress(value=0, description='Performing validation', max=50), HTML(value='')))"
      ]
     },
     "metadata": {},
     "output_type": "display_data"
    },
    {
     "data": {
      "application/vnd.jupyter.widget-view+json": {
       "model_id": "c8a4cd0a16654863ae85d5b206fde44b",
       "version_major": 2,
       "version_minor": 0
      },
      "text/plain": [
       "HBox(children=(IntProgress(value=0, description='Performing validation', max=50), HTML(value='')))"
      ]
     },
     "metadata": {},
     "output_type": "display_data"
    },
    {
     "data": {
      "application/vnd.jupyter.widget-view+json": {
       "model_id": "01f4a8abcc3f4df8931c4b2b5ce7be2b",
       "version_major": 2,
       "version_minor": 0
      },
      "text/plain": [
       "HBox(children=(IntProgress(value=0, description='Performing validation', max=50), HTML(value='')))"
      ]
     },
     "metadata": {},
     "output_type": "display_data"
    },
    {
     "data": {
      "application/vnd.jupyter.widget-view+json": {
       "model_id": "22a3c9170032439890c800ce29b25605",
       "version_major": 2,
       "version_minor": 0
      },
      "text/plain": [
       "HBox(children=(IntProgress(value=0, description='Performing validation', max=50), HTML(value='')))"
      ]
     },
     "metadata": {},
     "output_type": "display_data"
    },
    {
     "data": {
      "application/vnd.jupyter.widget-view+json": {
       "model_id": "1207c6ec7ab84cffa9596245dda7f3cd",
       "version_major": 2,
       "version_minor": 0
      },
      "text/plain": [
       "HBox(children=(IntProgress(value=0, description='Performing validation', max=50), HTML(value='')))"
      ]
     },
     "metadata": {},
     "output_type": "display_data"
    },
    {
     "name": "stdout",
     "output_type": "stream",
     "text": [
      "\n"
     ]
    },
    {
     "data": {
      "application/vnd.jupyter.widget-view+json": {
       "model_id": "e0923e849fcb427685b6148b9c313b94",
       "version_major": 2,
       "version_minor": 0
      },
      "text/plain": [
       "HBox(children=(IntProgress(value=0, description='Epoch 18', max=2500), HTML(value='')))"
      ]
     },
     "metadata": {},
     "output_type": "display_data"
    },
    {
     "data": {
      "application/vnd.jupyter.widget-view+json": {
       "model_id": "73177ed6fd244bf1be4d2c05ce96332e",
       "version_major": 2,
       "version_minor": 0
      },
      "text/plain": [
       "HBox(children=(IntProgress(value=0, description='Performing validation', max=50), HTML(value='')))"
      ]
     },
     "metadata": {},
     "output_type": "display_data"
    },
    {
     "data": {
      "application/vnd.jupyter.widget-view+json": {
       "model_id": "9917a63319e947e8a916521ffa949c3d",
       "version_major": 2,
       "version_minor": 0
      },
      "text/plain": [
       "HBox(children=(IntProgress(value=0, description='Performing validation', max=50), HTML(value='')))"
      ]
     },
     "metadata": {},
     "output_type": "display_data"
    },
    {
     "data": {
      "application/vnd.jupyter.widget-view+json": {
       "model_id": "92a307a92206497480aba309323789ca",
       "version_major": 2,
       "version_minor": 0
      },
      "text/plain": [
       "HBox(children=(IntProgress(value=0, description='Performing validation', max=50), HTML(value='')))"
      ]
     },
     "metadata": {},
     "output_type": "display_data"
    },
    {
     "data": {
      "application/vnd.jupyter.widget-view+json": {
       "model_id": "2ad6c41507f841af8880d60542885b98",
       "version_major": 2,
       "version_minor": 0
      },
      "text/plain": [
       "HBox(children=(IntProgress(value=0, description='Performing validation', max=50), HTML(value='')))"
      ]
     },
     "metadata": {},
     "output_type": "display_data"
    },
    {
     "data": {
      "application/vnd.jupyter.widget-view+json": {
       "model_id": "ef2a002dcb404f5c8c1c891e2e2aedfa",
       "version_major": 2,
       "version_minor": 0
      },
      "text/plain": [
       "HBox(children=(IntProgress(value=0, description='Performing validation', max=50), HTML(value='')))"
      ]
     },
     "metadata": {},
     "output_type": "display_data"
    },
    {
     "data": {
      "application/vnd.jupyter.widget-view+json": {
       "model_id": "ec13892c1b4342c9b4112e4a435cc0fe",
       "version_major": 2,
       "version_minor": 0
      },
      "text/plain": [
       "HBox(children=(IntProgress(value=0, description='Performing validation', max=50), HTML(value='')))"
      ]
     },
     "metadata": {},
     "output_type": "display_data"
    },
    {
     "data": {
      "application/vnd.jupyter.widget-view+json": {
       "model_id": "ceba89fa089c4be4a249023ef559ca72",
       "version_major": 2,
       "version_minor": 0
      },
      "text/plain": [
       "HBox(children=(IntProgress(value=0, description='Performing validation', max=50), HTML(value='')))"
      ]
     },
     "metadata": {},
     "output_type": "display_data"
    },
    {
     "data": {
      "application/vnd.jupyter.widget-view+json": {
       "model_id": "eead7283c801402d80e3927bcd60eda8",
       "version_major": 2,
       "version_minor": 0
      },
      "text/plain": [
       "HBox(children=(IntProgress(value=0, description='Performing validation', max=50), HTML(value='')))"
      ]
     },
     "metadata": {},
     "output_type": "display_data"
    },
    {
     "data": {
      "application/vnd.jupyter.widget-view+json": {
       "model_id": "cb4f98ae66af454e811bc9312e008ec9",
       "version_major": 2,
       "version_minor": 0
      },
      "text/plain": [
       "HBox(children=(IntProgress(value=0, description='Performing validation', max=50), HTML(value='')))"
      ]
     },
     "metadata": {},
     "output_type": "display_data"
    },
    {
     "data": {
      "application/vnd.jupyter.widget-view+json": {
       "model_id": "ffed6659ee4544dd98752108ed976c66",
       "version_major": 2,
       "version_minor": 0
      },
      "text/plain": [
       "HBox(children=(IntProgress(value=0, description='Performing validation', max=50), HTML(value='')))"
      ]
     },
     "metadata": {},
     "output_type": "display_data"
    },
    {
     "data": {
      "application/vnd.jupyter.widget-view+json": {
       "model_id": "ae01775872114454b77ba7f3f7ab2a17",
       "version_major": 2,
       "version_minor": 0
      },
      "text/plain": [
       "HBox(children=(IntProgress(value=0, description='Performing validation', max=50), HTML(value='')))"
      ]
     },
     "metadata": {},
     "output_type": "display_data"
    },
    {
     "data": {
      "application/vnd.jupyter.widget-view+json": {
       "model_id": "2e4f20fd6f104a8a98f8de87fb9b64ec",
       "version_major": 2,
       "version_minor": 0
      },
      "text/plain": [
       "HBox(children=(IntProgress(value=0, description='Performing validation', max=50), HTML(value='')))"
      ]
     },
     "metadata": {},
     "output_type": "display_data"
    },
    {
     "data": {
      "application/vnd.jupyter.widget-view+json": {
       "model_id": "1fa2fbe807294cffb9d37bcafcc08388",
       "version_major": 2,
       "version_minor": 0
      },
      "text/plain": [
       "HBox(children=(IntProgress(value=0, description='Performing validation', max=50), HTML(value='')))"
      ]
     },
     "metadata": {},
     "output_type": "display_data"
    },
    {
     "data": {
      "application/vnd.jupyter.widget-view+json": {
       "model_id": "0d0b3c5a68374a2cb8cf497ab59c0b66",
       "version_major": 2,
       "version_minor": 0
      },
      "text/plain": [
       "HBox(children=(IntProgress(value=0, description='Performing validation', max=50), HTML(value='')))"
      ]
     },
     "metadata": {},
     "output_type": "display_data"
    },
    {
     "data": {
      "application/vnd.jupyter.widget-view+json": {
       "model_id": "693a33a2b7a54d88a720efcbcbda8ea2",
       "version_major": 2,
       "version_minor": 0
      },
      "text/plain": [
       "HBox(children=(IntProgress(value=0, description='Performing validation', max=50), HTML(value='')))"
      ]
     },
     "metadata": {},
     "output_type": "display_data"
    },
    {
     "data": {
      "application/vnd.jupyter.widget-view+json": {
       "model_id": "b8aa08a7b3ba49f59cb500a8eaf17d36",
       "version_major": 2,
       "version_minor": 0
      },
      "text/plain": [
       "HBox(children=(IntProgress(value=0, description='Performing validation', max=50), HTML(value='')))"
      ]
     },
     "metadata": {},
     "output_type": "display_data"
    },
    {
     "data": {
      "application/vnd.jupyter.widget-view+json": {
       "model_id": "df295676c7894dbd922afd91dc50c18e",
       "version_major": 2,
       "version_minor": 0
      },
      "text/plain": [
       "HBox(children=(IntProgress(value=0, description='Performing validation', max=50), HTML(value='')))"
      ]
     },
     "metadata": {},
     "output_type": "display_data"
    },
    {
     "data": {
      "application/vnd.jupyter.widget-view+json": {
       "model_id": "15231a356386496ea94a4d9e834085e8",
       "version_major": 2,
       "version_minor": 0
      },
      "text/plain": [
       "HBox(children=(IntProgress(value=0, description='Performing validation', max=50), HTML(value='')))"
      ]
     },
     "metadata": {},
     "output_type": "display_data"
    },
    {
     "data": {
      "application/vnd.jupyter.widget-view+json": {
       "model_id": "6ba9109ab65a4946bf8782c1cfa44c41",
       "version_major": 2,
       "version_minor": 0
      },
      "text/plain": [
       "HBox(children=(IntProgress(value=0, description='Performing validation', max=50), HTML(value='')))"
      ]
     },
     "metadata": {},
     "output_type": "display_data"
    },
    {
     "data": {
      "application/vnd.jupyter.widget-view+json": {
       "model_id": "bb3bbc77b2ac44c4ba2e7d63d66eb0df",
       "version_major": 2,
       "version_minor": 0
      },
      "text/plain": [
       "HBox(children=(IntProgress(value=0, description='Performing validation', max=50), HTML(value='')))"
      ]
     },
     "metadata": {},
     "output_type": "display_data"
    },
    {
     "data": {
      "application/vnd.jupyter.widget-view+json": {
       "model_id": "ea461cb56cd24a4486b2459856c15171",
       "version_major": 2,
       "version_minor": 0
      },
      "text/plain": [
       "HBox(children=(IntProgress(value=0, description='Performing validation', max=50), HTML(value='')))"
      ]
     },
     "metadata": {},
     "output_type": "display_data"
    },
    {
     "data": {
      "application/vnd.jupyter.widget-view+json": {
       "model_id": "451357708ecf4cc9b72277c3597bf46f",
       "version_major": 2,
       "version_minor": 0
      },
      "text/plain": [
       "HBox(children=(IntProgress(value=0, description='Performing validation', max=50), HTML(value='')))"
      ]
     },
     "metadata": {},
     "output_type": "display_data"
    },
    {
     "data": {
      "application/vnd.jupyter.widget-view+json": {
       "model_id": "43d4920a864e49b3b240de94cf056fbb",
       "version_major": 2,
       "version_minor": 0
      },
      "text/plain": [
       "HBox(children=(IntProgress(value=0, description='Performing validation', max=50), HTML(value='')))"
      ]
     },
     "metadata": {},
     "output_type": "display_data"
    },
    {
     "data": {
      "application/vnd.jupyter.widget-view+json": {
       "model_id": "e537b5f0561f4d25ae57cdcd7f572d34",
       "version_major": 2,
       "version_minor": 0
      },
      "text/plain": [
       "HBox(children=(IntProgress(value=0, description='Performing validation', max=50), HTML(value='')))"
      ]
     },
     "metadata": {},
     "output_type": "display_data"
    },
    {
     "data": {
      "application/vnd.jupyter.widget-view+json": {
       "model_id": "c9694cf07889473b8e39cbc4ba325808",
       "version_major": 2,
       "version_minor": 0
      },
      "text/plain": [
       "HBox(children=(IntProgress(value=0, description='Performing validation', max=50), HTML(value='')))"
      ]
     },
     "metadata": {},
     "output_type": "display_data"
    },
    {
     "name": "stdout",
     "output_type": "stream",
     "text": [
      "\n"
     ]
    },
    {
     "data": {
      "application/vnd.jupyter.widget-view+json": {
       "model_id": "fa50e2debde54b0dbccdaffd70d4f828",
       "version_major": 2,
       "version_minor": 0
      },
      "text/plain": [
       "HBox(children=(IntProgress(value=0, description='Epoch 19', max=2500), HTML(value='')))"
      ]
     },
     "metadata": {},
     "output_type": "display_data"
    },
    {
     "data": {
      "application/vnd.jupyter.widget-view+json": {
       "model_id": "be76f26c18bb41eea0e0e36ffc1eaa2f",
       "version_major": 2,
       "version_minor": 0
      },
      "text/plain": [
       "HBox(children=(IntProgress(value=0, description='Performing validation', max=50), HTML(value='')))"
      ]
     },
     "metadata": {},
     "output_type": "display_data"
    },
    {
     "data": {
      "application/vnd.jupyter.widget-view+json": {
       "model_id": "6e208dbaa67548f5a1d9d149a6a235f2",
       "version_major": 2,
       "version_minor": 0
      },
      "text/plain": [
       "HBox(children=(IntProgress(value=0, description='Performing validation', max=50), HTML(value='')))"
      ]
     },
     "metadata": {},
     "output_type": "display_data"
    },
    {
     "data": {
      "application/vnd.jupyter.widget-view+json": {
       "model_id": "a74f96c0217644ee9173bb39381c2d54",
       "version_major": 2,
       "version_minor": 0
      },
      "text/plain": [
       "HBox(children=(IntProgress(value=0, description='Performing validation', max=50), HTML(value='')))"
      ]
     },
     "metadata": {},
     "output_type": "display_data"
    },
    {
     "data": {
      "application/vnd.jupyter.widget-view+json": {
       "model_id": "c3d9b23165ef4733980e4ac72b714810",
       "version_major": 2,
       "version_minor": 0
      },
      "text/plain": [
       "HBox(children=(IntProgress(value=0, description='Performing validation', max=50), HTML(value='')))"
      ]
     },
     "metadata": {},
     "output_type": "display_data"
    },
    {
     "data": {
      "application/vnd.jupyter.widget-view+json": {
       "model_id": "aa51a8b8ed0c400790d48609770e7c52",
       "version_major": 2,
       "version_minor": 0
      },
      "text/plain": [
       "HBox(children=(IntProgress(value=0, description='Performing validation', max=50), HTML(value='')))"
      ]
     },
     "metadata": {},
     "output_type": "display_data"
    },
    {
     "data": {
      "application/vnd.jupyter.widget-view+json": {
       "model_id": "551ccb3ca6264765a5bd7d69f414840d",
       "version_major": 2,
       "version_minor": 0
      },
      "text/plain": [
       "HBox(children=(IntProgress(value=0, description='Performing validation', max=50), HTML(value='')))"
      ]
     },
     "metadata": {},
     "output_type": "display_data"
    },
    {
     "data": {
      "application/vnd.jupyter.widget-view+json": {
       "model_id": "dbe968e73fec412c8707e48aee5ecbc8",
       "version_major": 2,
       "version_minor": 0
      },
      "text/plain": [
       "HBox(children=(IntProgress(value=0, description='Performing validation', max=50), HTML(value='')))"
      ]
     },
     "metadata": {},
     "output_type": "display_data"
    },
    {
     "data": {
      "application/vnd.jupyter.widget-view+json": {
       "model_id": "503c4f0f5485451289274251674f9052",
       "version_major": 2,
       "version_minor": 0
      },
      "text/plain": [
       "HBox(children=(IntProgress(value=0, description='Performing validation', max=50), HTML(value='')))"
      ]
     },
     "metadata": {},
     "output_type": "display_data"
    },
    {
     "data": {
      "application/vnd.jupyter.widget-view+json": {
       "model_id": "e7612070be864f85bc564cef31ec54c7",
       "version_major": 2,
       "version_minor": 0
      },
      "text/plain": [
       "HBox(children=(IntProgress(value=0, description='Performing validation', max=50), HTML(value='')))"
      ]
     },
     "metadata": {},
     "output_type": "display_data"
    },
    {
     "data": {
      "application/vnd.jupyter.widget-view+json": {
       "model_id": "3564e4eebb644747af1eee2291cf3bf9",
       "version_major": 2,
       "version_minor": 0
      },
      "text/plain": [
       "HBox(children=(IntProgress(value=0, description='Performing validation', max=50), HTML(value='')))"
      ]
     },
     "metadata": {},
     "output_type": "display_data"
    },
    {
     "data": {
      "application/vnd.jupyter.widget-view+json": {
       "model_id": "c171c44a90d84229adbec43ed7cd517d",
       "version_major": 2,
       "version_minor": 0
      },
      "text/plain": [
       "HBox(children=(IntProgress(value=0, description='Performing validation', max=50), HTML(value='')))"
      ]
     },
     "metadata": {},
     "output_type": "display_data"
    },
    {
     "data": {
      "application/vnd.jupyter.widget-view+json": {
       "model_id": "efaad4c5e4f64b82a581b2e6ddd65817",
       "version_major": 2,
       "version_minor": 0
      },
      "text/plain": [
       "HBox(children=(IntProgress(value=0, description='Performing validation', max=50), HTML(value='')))"
      ]
     },
     "metadata": {},
     "output_type": "display_data"
    },
    {
     "data": {
      "application/vnd.jupyter.widget-view+json": {
       "model_id": "1d0b8b44737241fbaddc18171c24606b",
       "version_major": 2,
       "version_minor": 0
      },
      "text/plain": [
       "HBox(children=(IntProgress(value=0, description='Performing validation', max=50), HTML(value='')))"
      ]
     },
     "metadata": {},
     "output_type": "display_data"
    },
    {
     "data": {
      "application/vnd.jupyter.widget-view+json": {
       "model_id": "1fc2307bc0274ef49ee275207d956b24",
       "version_major": 2,
       "version_minor": 0
      },
      "text/plain": [
       "HBox(children=(IntProgress(value=0, description='Performing validation', max=50), HTML(value='')))"
      ]
     },
     "metadata": {},
     "output_type": "display_data"
    },
    {
     "data": {
      "application/vnd.jupyter.widget-view+json": {
       "model_id": "ab77a78be5ff4f17a272172839fa5f24",
       "version_major": 2,
       "version_minor": 0
      },
      "text/plain": [
       "HBox(children=(IntProgress(value=0, description='Performing validation', max=50), HTML(value='')))"
      ]
     },
     "metadata": {},
     "output_type": "display_data"
    },
    {
     "data": {
      "application/vnd.jupyter.widget-view+json": {
       "model_id": "2910d712f1344fb39aea510cc095cc4f",
       "version_major": 2,
       "version_minor": 0
      },
      "text/plain": [
       "HBox(children=(IntProgress(value=0, description='Performing validation', max=50), HTML(value='')))"
      ]
     },
     "metadata": {},
     "output_type": "display_data"
    },
    {
     "data": {
      "application/vnd.jupyter.widget-view+json": {
       "model_id": "c7ca652f07964df3a5b768f771a3ef83",
       "version_major": 2,
       "version_minor": 0
      },
      "text/plain": [
       "HBox(children=(IntProgress(value=0, description='Performing validation', max=50), HTML(value='')))"
      ]
     },
     "metadata": {},
     "output_type": "display_data"
    },
    {
     "data": {
      "application/vnd.jupyter.widget-view+json": {
       "model_id": "eabba4633d8642168473471770d4cca3",
       "version_major": 2,
       "version_minor": 0
      },
      "text/plain": [
       "HBox(children=(IntProgress(value=0, description='Performing validation', max=50), HTML(value='')))"
      ]
     },
     "metadata": {},
     "output_type": "display_data"
    },
    {
     "data": {
      "application/vnd.jupyter.widget-view+json": {
       "model_id": "8a368a36e0cc4fcbafc135ce2330b14a",
       "version_major": 2,
       "version_minor": 0
      },
      "text/plain": [
       "HBox(children=(IntProgress(value=0, description='Performing validation', max=50), HTML(value='')))"
      ]
     },
     "metadata": {},
     "output_type": "display_data"
    },
    {
     "data": {
      "application/vnd.jupyter.widget-view+json": {
       "model_id": "af8018efe9b643d5b744e754f2c611d6",
       "version_major": 2,
       "version_minor": 0
      },
      "text/plain": [
       "HBox(children=(IntProgress(value=0, description='Performing validation', max=50), HTML(value='')))"
      ]
     },
     "metadata": {},
     "output_type": "display_data"
    },
    {
     "data": {
      "application/vnd.jupyter.widget-view+json": {
       "model_id": "3dee2ba12cbd42c0b48a35dfb13b6919",
       "version_major": 2,
       "version_minor": 0
      },
      "text/plain": [
       "HBox(children=(IntProgress(value=0, description='Performing validation', max=50), HTML(value='')))"
      ]
     },
     "metadata": {},
     "output_type": "display_data"
    },
    {
     "data": {
      "application/vnd.jupyter.widget-view+json": {
       "model_id": "df2784b3c4ef41a89b1fc083b307f55c",
       "version_major": 2,
       "version_minor": 0
      },
      "text/plain": [
       "HBox(children=(IntProgress(value=0, description='Performing validation', max=50), HTML(value='')))"
      ]
     },
     "metadata": {},
     "output_type": "display_data"
    },
    {
     "data": {
      "application/vnd.jupyter.widget-view+json": {
       "model_id": "1531eda701164fcd92c657d4f0d6addc",
       "version_major": 2,
       "version_minor": 0
      },
      "text/plain": [
       "HBox(children=(IntProgress(value=0, description='Performing validation', max=50), HTML(value='')))"
      ]
     },
     "metadata": {},
     "output_type": "display_data"
    },
    {
     "data": {
      "application/vnd.jupyter.widget-view+json": {
       "model_id": "72715c91038045d5b24b1fe9bae4e8ec",
       "version_major": 2,
       "version_minor": 0
      },
      "text/plain": [
       "HBox(children=(IntProgress(value=0, description='Performing validation', max=50), HTML(value='')))"
      ]
     },
     "metadata": {},
     "output_type": "display_data"
    },
    {
     "data": {
      "application/vnd.jupyter.widget-view+json": {
       "model_id": "4dc593d86cd84563a8c87c5e1ca57e3b",
       "version_major": 2,
       "version_minor": 0
      },
      "text/plain": [
       "HBox(children=(IntProgress(value=0, description='Performing validation', max=50), HTML(value='')))"
      ]
     },
     "metadata": {},
     "output_type": "display_data"
    },
    {
     "name": "stdout",
     "output_type": "stream",
     "text": [
      "\n"
     ]
    },
    {
     "data": {
      "application/vnd.jupyter.widget-view+json": {
       "model_id": "55f74533f9c3437881f2b1095d88b2fa",
       "version_major": 2,
       "version_minor": 0
      },
      "text/plain": [
       "HBox(children=(IntProgress(value=0, description='Epoch 20', max=2500), HTML(value='')))"
      ]
     },
     "metadata": {},
     "output_type": "display_data"
    },
    {
     "data": {
      "application/vnd.jupyter.widget-view+json": {
       "model_id": "9be79687bd004cc19aa304a4e9cafb60",
       "version_major": 2,
       "version_minor": 0
      },
      "text/plain": [
       "HBox(children=(IntProgress(value=0, description='Performing validation', max=50), HTML(value='')))"
      ]
     },
     "metadata": {},
     "output_type": "display_data"
    },
    {
     "data": {
      "application/vnd.jupyter.widget-view+json": {
       "model_id": "9fcf3b93d9b049559ac9e5f3dd563291",
       "version_major": 2,
       "version_minor": 0
      },
      "text/plain": [
       "HBox(children=(IntProgress(value=0, description='Performing validation', max=50), HTML(value='')))"
      ]
     },
     "metadata": {},
     "output_type": "display_data"
    },
    {
     "data": {
      "application/vnd.jupyter.widget-view+json": {
       "model_id": "0410e9859b954df396af0e633dd1e35a",
       "version_major": 2,
       "version_minor": 0
      },
      "text/plain": [
       "HBox(children=(IntProgress(value=0, description='Performing validation', max=50), HTML(value='')))"
      ]
     },
     "metadata": {},
     "output_type": "display_data"
    },
    {
     "data": {
      "application/vnd.jupyter.widget-view+json": {
       "model_id": "ef73b429286e4e9dab282c9389a4ef38",
       "version_major": 2,
       "version_minor": 0
      },
      "text/plain": [
       "HBox(children=(IntProgress(value=0, description='Performing validation', max=50), HTML(value='')))"
      ]
     },
     "metadata": {},
     "output_type": "display_data"
    },
    {
     "data": {
      "application/vnd.jupyter.widget-view+json": {
       "model_id": "f2d00a0c9b784ea68ea34334f3bbfd61",
       "version_major": 2,
       "version_minor": 0
      },
      "text/plain": [
       "HBox(children=(IntProgress(value=0, description='Performing validation', max=50), HTML(value='')))"
      ]
     },
     "metadata": {},
     "output_type": "display_data"
    },
    {
     "data": {
      "application/vnd.jupyter.widget-view+json": {
       "model_id": "32c0527979d045b18dbafac02d2ce3b7",
       "version_major": 2,
       "version_minor": 0
      },
      "text/plain": [
       "HBox(children=(IntProgress(value=0, description='Performing validation', max=50), HTML(value='')))"
      ]
     },
     "metadata": {},
     "output_type": "display_data"
    },
    {
     "data": {
      "application/vnd.jupyter.widget-view+json": {
       "model_id": "49b7953857c34ab6b2ba68a73e42888d",
       "version_major": 2,
       "version_minor": 0
      },
      "text/plain": [
       "HBox(children=(IntProgress(value=0, description='Performing validation', max=50), HTML(value='')))"
      ]
     },
     "metadata": {},
     "output_type": "display_data"
    },
    {
     "data": {
      "application/vnd.jupyter.widget-view+json": {
       "model_id": "72d32a9175e34d85a266620b64c8b309",
       "version_major": 2,
       "version_minor": 0
      },
      "text/plain": [
       "HBox(children=(IntProgress(value=0, description='Performing validation', max=50), HTML(value='')))"
      ]
     },
     "metadata": {},
     "output_type": "display_data"
    },
    {
     "data": {
      "application/vnd.jupyter.widget-view+json": {
       "model_id": "abdfaccb83084943ae83c448d08ca8d5",
       "version_major": 2,
       "version_minor": 0
      },
      "text/plain": [
       "HBox(children=(IntProgress(value=0, description='Performing validation', max=50), HTML(value='')))"
      ]
     },
     "metadata": {},
     "output_type": "display_data"
    },
    {
     "data": {
      "application/vnd.jupyter.widget-view+json": {
       "model_id": "f9040b704af04fc38965f6ace7fbb672",
       "version_major": 2,
       "version_minor": 0
      },
      "text/plain": [
       "HBox(children=(IntProgress(value=0, description='Performing validation', max=50), HTML(value='')))"
      ]
     },
     "metadata": {},
     "output_type": "display_data"
    },
    {
     "data": {
      "application/vnd.jupyter.widget-view+json": {
       "model_id": "1fedcf484fa744b6bf33a05af28afeda",
       "version_major": 2,
       "version_minor": 0
      },
      "text/plain": [
       "HBox(children=(IntProgress(value=0, description='Performing validation', max=50), HTML(value='')))"
      ]
     },
     "metadata": {},
     "output_type": "display_data"
    },
    {
     "data": {
      "application/vnd.jupyter.widget-view+json": {
       "model_id": "f375dbd954594b179a0b65c9139bd06c",
       "version_major": 2,
       "version_minor": 0
      },
      "text/plain": [
       "HBox(children=(IntProgress(value=0, description='Performing validation', max=50), HTML(value='')))"
      ]
     },
     "metadata": {},
     "output_type": "display_data"
    },
    {
     "data": {
      "application/vnd.jupyter.widget-view+json": {
       "model_id": "a69d968da1de400a95cba5e6a0fb8677",
       "version_major": 2,
       "version_minor": 0
      },
      "text/plain": [
       "HBox(children=(IntProgress(value=0, description='Performing validation', max=50), HTML(value='')))"
      ]
     },
     "metadata": {},
     "output_type": "display_data"
    },
    {
     "data": {
      "application/vnd.jupyter.widget-view+json": {
       "model_id": "ebc394b2c2e84357a45e897127d1ee5c",
       "version_major": 2,
       "version_minor": 0
      },
      "text/plain": [
       "HBox(children=(IntProgress(value=0, description='Performing validation', max=50), HTML(value='')))"
      ]
     },
     "metadata": {},
     "output_type": "display_data"
    },
    {
     "data": {
      "application/vnd.jupyter.widget-view+json": {
       "model_id": "ad606e4bdcad46679ffad7e284ecf567",
       "version_major": 2,
       "version_minor": 0
      },
      "text/plain": [
       "HBox(children=(IntProgress(value=0, description='Performing validation', max=50), HTML(value='')))"
      ]
     },
     "metadata": {},
     "output_type": "display_data"
    },
    {
     "data": {
      "application/vnd.jupyter.widget-view+json": {
       "model_id": "af661da083c242eaa6b59f4622de7c4f",
       "version_major": 2,
       "version_minor": 0
      },
      "text/plain": [
       "HBox(children=(IntProgress(value=0, description='Performing validation', max=50), HTML(value='')))"
      ]
     },
     "metadata": {},
     "output_type": "display_data"
    },
    {
     "data": {
      "application/vnd.jupyter.widget-view+json": {
       "model_id": "0be2fd79638f439d9ed7e5f4808737db",
       "version_major": 2,
       "version_minor": 0
      },
      "text/plain": [
       "HBox(children=(IntProgress(value=0, description='Performing validation', max=50), HTML(value='')))"
      ]
     },
     "metadata": {},
     "output_type": "display_data"
    },
    {
     "data": {
      "application/vnd.jupyter.widget-view+json": {
       "model_id": "5b545daf4c114d27a362e31abe3edc2e",
       "version_major": 2,
       "version_minor": 0
      },
      "text/plain": [
       "HBox(children=(IntProgress(value=0, description='Performing validation', max=50), HTML(value='')))"
      ]
     },
     "metadata": {},
     "output_type": "display_data"
    },
    {
     "data": {
      "application/vnd.jupyter.widget-view+json": {
       "model_id": "887417f51030487ca30b41c92e20d5f7",
       "version_major": 2,
       "version_minor": 0
      },
      "text/plain": [
       "HBox(children=(IntProgress(value=0, description='Performing validation', max=50), HTML(value='')))"
      ]
     },
     "metadata": {},
     "output_type": "display_data"
    },
    {
     "data": {
      "application/vnd.jupyter.widget-view+json": {
       "model_id": "b73486c66b944190b3d9211e0c141ab9",
       "version_major": 2,
       "version_minor": 0
      },
      "text/plain": [
       "HBox(children=(IntProgress(value=0, description='Performing validation', max=50), HTML(value='')))"
      ]
     },
     "metadata": {},
     "output_type": "display_data"
    },
    {
     "data": {
      "application/vnd.jupyter.widget-view+json": {
       "model_id": "96333dce09fa4c5e8a7988a2cc6858a7",
       "version_major": 2,
       "version_minor": 0
      },
      "text/plain": [
       "HBox(children=(IntProgress(value=0, description='Performing validation', max=50), HTML(value='')))"
      ]
     },
     "metadata": {},
     "output_type": "display_data"
    },
    {
     "data": {
      "application/vnd.jupyter.widget-view+json": {
       "model_id": "6710958a4caf43249de0304309a076e6",
       "version_major": 2,
       "version_minor": 0
      },
      "text/plain": [
       "HBox(children=(IntProgress(value=0, description='Performing validation', max=50), HTML(value='')))"
      ]
     },
     "metadata": {},
     "output_type": "display_data"
    },
    {
     "data": {
      "application/vnd.jupyter.widget-view+json": {
       "model_id": "755c6c99a7ca42cbb8b2203e5d5f5c65",
       "version_major": 2,
       "version_minor": 0
      },
      "text/plain": [
       "HBox(children=(IntProgress(value=0, description='Performing validation', max=50), HTML(value='')))"
      ]
     },
     "metadata": {},
     "output_type": "display_data"
    },
    {
     "data": {
      "application/vnd.jupyter.widget-view+json": {
       "model_id": "354e44bc6cde46aebd320b9b088e8a8f",
       "version_major": 2,
       "version_minor": 0
      },
      "text/plain": [
       "HBox(children=(IntProgress(value=0, description='Performing validation', max=50), HTML(value='')))"
      ]
     },
     "metadata": {},
     "output_type": "display_data"
    },
    {
     "data": {
      "application/vnd.jupyter.widget-view+json": {
       "model_id": "59fcc471f38841c38258b72cb4e2f638",
       "version_major": 2,
       "version_minor": 0
      },
      "text/plain": [
       "HBox(children=(IntProgress(value=0, description='Performing validation', max=50), HTML(value='')))"
      ]
     },
     "metadata": {},
     "output_type": "display_data"
    },
    {
     "name": "stdout",
     "output_type": "stream",
     "text": [
      "\n"
     ]
    },
    {
     "data": {
      "application/vnd.jupyter.widget-view+json": {
       "model_id": "865fb836257b456e860d6efaa7a8ff55",
       "version_major": 2,
       "version_minor": 0
      },
      "text/plain": [
       "HBox(children=(IntProgress(value=0, description='Epoch 21', max=2500), HTML(value='')))"
      ]
     },
     "metadata": {},
     "output_type": "display_data"
    },
    {
     "data": {
      "application/vnd.jupyter.widget-view+json": {
       "model_id": "97bd8f67c1e7457f91c1bfb951487e15",
       "version_major": 2,
       "version_minor": 0
      },
      "text/plain": [
       "HBox(children=(IntProgress(value=0, description='Performing validation', max=50), HTML(value='')))"
      ]
     },
     "metadata": {},
     "output_type": "display_data"
    },
    {
     "data": {
      "application/vnd.jupyter.widget-view+json": {
       "model_id": "fbe8caa4ac7e400aac6c70ed0c4a6e51",
       "version_major": 2,
       "version_minor": 0
      },
      "text/plain": [
       "HBox(children=(IntProgress(value=0, description='Performing validation', max=50), HTML(value='')))"
      ]
     },
     "metadata": {},
     "output_type": "display_data"
    },
    {
     "data": {
      "application/vnd.jupyter.widget-view+json": {
       "model_id": "9a9739b21c564666b043f3b061720465",
       "version_major": 2,
       "version_minor": 0
      },
      "text/plain": [
       "HBox(children=(IntProgress(value=0, description='Performing validation', max=50), HTML(value='')))"
      ]
     },
     "metadata": {},
     "output_type": "display_data"
    },
    {
     "data": {
      "application/vnd.jupyter.widget-view+json": {
       "model_id": "ed31e752c4c1492899c8651b0f16444d",
       "version_major": 2,
       "version_minor": 0
      },
      "text/plain": [
       "HBox(children=(IntProgress(value=0, description='Performing validation', max=50), HTML(value='')))"
      ]
     },
     "metadata": {},
     "output_type": "display_data"
    },
    {
     "data": {
      "application/vnd.jupyter.widget-view+json": {
       "model_id": "78c55b044f2b4557822fa59a087bf000",
       "version_major": 2,
       "version_minor": 0
      },
      "text/plain": [
       "HBox(children=(IntProgress(value=0, description='Performing validation', max=50), HTML(value='')))"
      ]
     },
     "metadata": {},
     "output_type": "display_data"
    },
    {
     "data": {
      "application/vnd.jupyter.widget-view+json": {
       "model_id": "f17055bdb50b49389f46b01086410b18",
       "version_major": 2,
       "version_minor": 0
      },
      "text/plain": [
       "HBox(children=(IntProgress(value=0, description='Performing validation', max=50), HTML(value='')))"
      ]
     },
     "metadata": {},
     "output_type": "display_data"
    },
    {
     "data": {
      "application/vnd.jupyter.widget-view+json": {
       "model_id": "a98d6effd1394c9fb9cf1ae2b61dbc94",
       "version_major": 2,
       "version_minor": 0
      },
      "text/plain": [
       "HBox(children=(IntProgress(value=0, description='Performing validation', max=50), HTML(value='')))"
      ]
     },
     "metadata": {},
     "output_type": "display_data"
    },
    {
     "data": {
      "application/vnd.jupyter.widget-view+json": {
       "model_id": "b893a9388afc47818c603847fb1dbb5c",
       "version_major": 2,
       "version_minor": 0
      },
      "text/plain": [
       "HBox(children=(IntProgress(value=0, description='Performing validation', max=50), HTML(value='')))"
      ]
     },
     "metadata": {},
     "output_type": "display_data"
    },
    {
     "data": {
      "application/vnd.jupyter.widget-view+json": {
       "model_id": "471573fe7c1d42a7ae5e2d2266c27fd3",
       "version_major": 2,
       "version_minor": 0
      },
      "text/plain": [
       "HBox(children=(IntProgress(value=0, description='Performing validation', max=50), HTML(value='')))"
      ]
     },
     "metadata": {},
     "output_type": "display_data"
    },
    {
     "data": {
      "application/vnd.jupyter.widget-view+json": {
       "model_id": "7ddd43524c1142abae52131ea0038e46",
       "version_major": 2,
       "version_minor": 0
      },
      "text/plain": [
       "HBox(children=(IntProgress(value=0, description='Performing validation', max=50), HTML(value='')))"
      ]
     },
     "metadata": {},
     "output_type": "display_data"
    },
    {
     "data": {
      "application/vnd.jupyter.widget-view+json": {
       "model_id": "beb023aedc8b46d1934a48ffe4089e8a",
       "version_major": 2,
       "version_minor": 0
      },
      "text/plain": [
       "HBox(children=(IntProgress(value=0, description='Performing validation', max=50), HTML(value='')))"
      ]
     },
     "metadata": {},
     "output_type": "display_data"
    },
    {
     "data": {
      "application/vnd.jupyter.widget-view+json": {
       "model_id": "a5f9e6b47e804f8fb57c2aeb73ebb128",
       "version_major": 2,
       "version_minor": 0
      },
      "text/plain": [
       "HBox(children=(IntProgress(value=0, description='Performing validation', max=50), HTML(value='')))"
      ]
     },
     "metadata": {},
     "output_type": "display_data"
    },
    {
     "data": {
      "application/vnd.jupyter.widget-view+json": {
       "model_id": "4ab283171f2745afbb5eec57049ce3a0",
       "version_major": 2,
       "version_minor": 0
      },
      "text/plain": [
       "HBox(children=(IntProgress(value=0, description='Performing validation', max=50), HTML(value='')))"
      ]
     },
     "metadata": {},
     "output_type": "display_data"
    },
    {
     "data": {
      "application/vnd.jupyter.widget-view+json": {
       "model_id": "323d3afad4c84ed0b8c595b7892a058d",
       "version_major": 2,
       "version_minor": 0
      },
      "text/plain": [
       "HBox(children=(IntProgress(value=0, description='Performing validation', max=50), HTML(value='')))"
      ]
     },
     "metadata": {},
     "output_type": "display_data"
    },
    {
     "data": {
      "application/vnd.jupyter.widget-view+json": {
       "model_id": "9e2f54cb415e46bd98c0286139a2dd53",
       "version_major": 2,
       "version_minor": 0
      },
      "text/plain": [
       "HBox(children=(IntProgress(value=0, description='Performing validation', max=50), HTML(value='')))"
      ]
     },
     "metadata": {},
     "output_type": "display_data"
    },
    {
     "data": {
      "application/vnd.jupyter.widget-view+json": {
       "model_id": "df46ab7562734874aeae933ba2281018",
       "version_major": 2,
       "version_minor": 0
      },
      "text/plain": [
       "HBox(children=(IntProgress(value=0, description='Performing validation', max=50), HTML(value='')))"
      ]
     },
     "metadata": {},
     "output_type": "display_data"
    },
    {
     "data": {
      "application/vnd.jupyter.widget-view+json": {
       "model_id": "ddbf3dca09e44c6eb14749e4456b8ce4",
       "version_major": 2,
       "version_minor": 0
      },
      "text/plain": [
       "HBox(children=(IntProgress(value=0, description='Performing validation', max=50), HTML(value='')))"
      ]
     },
     "metadata": {},
     "output_type": "display_data"
    },
    {
     "data": {
      "application/vnd.jupyter.widget-view+json": {
       "model_id": "bea88612853c444e8c57358f6e7b36fa",
       "version_major": 2,
       "version_minor": 0
      },
      "text/plain": [
       "HBox(children=(IntProgress(value=0, description='Performing validation', max=50), HTML(value='')))"
      ]
     },
     "metadata": {},
     "output_type": "display_data"
    },
    {
     "data": {
      "application/vnd.jupyter.widget-view+json": {
       "model_id": "b0f8e9318bef42d79c5ae4829f1e0382",
       "version_major": 2,
       "version_minor": 0
      },
      "text/plain": [
       "HBox(children=(IntProgress(value=0, description='Performing validation', max=50), HTML(value='')))"
      ]
     },
     "metadata": {},
     "output_type": "display_data"
    },
    {
     "data": {
      "application/vnd.jupyter.widget-view+json": {
       "model_id": "fc7179c12d7f4bdf941470b4ba4dd5ac",
       "version_major": 2,
       "version_minor": 0
      },
      "text/plain": [
       "HBox(children=(IntProgress(value=0, description='Performing validation', max=50), HTML(value='')))"
      ]
     },
     "metadata": {},
     "output_type": "display_data"
    },
    {
     "data": {
      "application/vnd.jupyter.widget-view+json": {
       "model_id": "738c42e284d64dbeb987c67e8d1d8451",
       "version_major": 2,
       "version_minor": 0
      },
      "text/plain": [
       "HBox(children=(IntProgress(value=0, description='Performing validation', max=50), HTML(value='')))"
      ]
     },
     "metadata": {},
     "output_type": "display_data"
    },
    {
     "data": {
      "application/vnd.jupyter.widget-view+json": {
       "model_id": "0cdb5185a2a7446197ad8a7eec0100e2",
       "version_major": 2,
       "version_minor": 0
      },
      "text/plain": [
       "HBox(children=(IntProgress(value=0, description='Performing validation', max=50), HTML(value='')))"
      ]
     },
     "metadata": {},
     "output_type": "display_data"
    },
    {
     "data": {
      "application/vnd.jupyter.widget-view+json": {
       "model_id": "77d210610b0c45e2bebb75003cfd4085",
       "version_major": 2,
       "version_minor": 0
      },
      "text/plain": [
       "HBox(children=(IntProgress(value=0, description='Performing validation', max=50), HTML(value='')))"
      ]
     },
     "metadata": {},
     "output_type": "display_data"
    },
    {
     "data": {
      "application/vnd.jupyter.widget-view+json": {
       "model_id": "df64dd970c014558a2b8a14ec5ed92b8",
       "version_major": 2,
       "version_minor": 0
      },
      "text/plain": [
       "HBox(children=(IntProgress(value=0, description='Performing validation', max=50), HTML(value='')))"
      ]
     },
     "metadata": {},
     "output_type": "display_data"
    },
    {
     "data": {
      "application/vnd.jupyter.widget-view+json": {
       "model_id": "9bf46d7f278c4164862d921ce5a4d472",
       "version_major": 2,
       "version_minor": 0
      },
      "text/plain": [
       "HBox(children=(IntProgress(value=0, description='Performing validation', max=50), HTML(value='')))"
      ]
     },
     "metadata": {},
     "output_type": "display_data"
    },
    {
     "name": "stdout",
     "output_type": "stream",
     "text": [
      "\n"
     ]
    },
    {
     "data": {
      "application/vnd.jupyter.widget-view+json": {
       "model_id": "2679737fd0f745da90a41608d06cb383",
       "version_major": 2,
       "version_minor": 0
      },
      "text/plain": [
       "HBox(children=(IntProgress(value=0, description='Epoch 22', max=2500), HTML(value='')))"
      ]
     },
     "metadata": {},
     "output_type": "display_data"
    },
    {
     "data": {
      "application/vnd.jupyter.widget-view+json": {
       "model_id": "0b5bf09ff08b4898aec37a28fb643e54",
       "version_major": 2,
       "version_minor": 0
      },
      "text/plain": [
       "HBox(children=(IntProgress(value=0, description='Performing validation', max=50), HTML(value='')))"
      ]
     },
     "metadata": {},
     "output_type": "display_data"
    },
    {
     "data": {
      "application/vnd.jupyter.widget-view+json": {
       "model_id": "148ec8c58a544d1db9be030754f72116",
       "version_major": 2,
       "version_minor": 0
      },
      "text/plain": [
       "HBox(children=(IntProgress(value=0, description='Performing validation', max=50), HTML(value='')))"
      ]
     },
     "metadata": {},
     "output_type": "display_data"
    },
    {
     "data": {
      "application/vnd.jupyter.widget-view+json": {
       "model_id": "a7907e64b40d4add877c3e9676f79ffa",
       "version_major": 2,
       "version_minor": 0
      },
      "text/plain": [
       "HBox(children=(IntProgress(value=0, description='Performing validation', max=50), HTML(value='')))"
      ]
     },
     "metadata": {},
     "output_type": "display_data"
    },
    {
     "data": {
      "application/vnd.jupyter.widget-view+json": {
       "model_id": "c4a2ea6ff0704f47b8827993ee23163a",
       "version_major": 2,
       "version_minor": 0
      },
      "text/plain": [
       "HBox(children=(IntProgress(value=0, description='Performing validation', max=50), HTML(value='')))"
      ]
     },
     "metadata": {},
     "output_type": "display_data"
    },
    {
     "data": {
      "application/vnd.jupyter.widget-view+json": {
       "model_id": "dddbfcab10b34b0eba07f188b7ee8607",
       "version_major": 2,
       "version_minor": 0
      },
      "text/plain": [
       "HBox(children=(IntProgress(value=0, description='Performing validation', max=50), HTML(value='')))"
      ]
     },
     "metadata": {},
     "output_type": "display_data"
    },
    {
     "data": {
      "application/vnd.jupyter.widget-view+json": {
       "model_id": "88af803677cb454ba2d68fec0a999a4d",
       "version_major": 2,
       "version_minor": 0
      },
      "text/plain": [
       "HBox(children=(IntProgress(value=0, description='Performing validation', max=50), HTML(value='')))"
      ]
     },
     "metadata": {},
     "output_type": "display_data"
    },
    {
     "data": {
      "application/vnd.jupyter.widget-view+json": {
       "model_id": "b5f0ed709e0945bf9f6245c75219d52c",
       "version_major": 2,
       "version_minor": 0
      },
      "text/plain": [
       "HBox(children=(IntProgress(value=0, description='Performing validation', max=50), HTML(value='')))"
      ]
     },
     "metadata": {},
     "output_type": "display_data"
    },
    {
     "data": {
      "application/vnd.jupyter.widget-view+json": {
       "model_id": "51567232ef1245b0bb34b65e477f0c8d",
       "version_major": 2,
       "version_minor": 0
      },
      "text/plain": [
       "HBox(children=(IntProgress(value=0, description='Performing validation', max=50), HTML(value='')))"
      ]
     },
     "metadata": {},
     "output_type": "display_data"
    },
    {
     "data": {
      "application/vnd.jupyter.widget-view+json": {
       "model_id": "2f5de6358bea46d9b219ee493b534cc4",
       "version_major": 2,
       "version_minor": 0
      },
      "text/plain": [
       "HBox(children=(IntProgress(value=0, description='Performing validation', max=50), HTML(value='')))"
      ]
     },
     "metadata": {},
     "output_type": "display_data"
    },
    {
     "data": {
      "application/vnd.jupyter.widget-view+json": {
       "model_id": "4e6db82956bb429cb39528bf7781490a",
       "version_major": 2,
       "version_minor": 0
      },
      "text/plain": [
       "HBox(children=(IntProgress(value=0, description='Performing validation', max=50), HTML(value='')))"
      ]
     },
     "metadata": {},
     "output_type": "display_data"
    },
    {
     "data": {
      "application/vnd.jupyter.widget-view+json": {
       "model_id": "8d1ddc12f5b94f05975f17050782b0d1",
       "version_major": 2,
       "version_minor": 0
      },
      "text/plain": [
       "HBox(children=(IntProgress(value=0, description='Performing validation', max=50), HTML(value='')))"
      ]
     },
     "metadata": {},
     "output_type": "display_data"
    },
    {
     "data": {
      "application/vnd.jupyter.widget-view+json": {
       "model_id": "06b1dbda1d8744d1a0ad14102ea62131",
       "version_major": 2,
       "version_minor": 0
      },
      "text/plain": [
       "HBox(children=(IntProgress(value=0, description='Performing validation', max=50), HTML(value='')))"
      ]
     },
     "metadata": {},
     "output_type": "display_data"
    },
    {
     "data": {
      "application/vnd.jupyter.widget-view+json": {
       "model_id": "26a796465cfd4c7c988842a684ac90b0",
       "version_major": 2,
       "version_minor": 0
      },
      "text/plain": [
       "HBox(children=(IntProgress(value=0, description='Performing validation', max=50), HTML(value='')))"
      ]
     },
     "metadata": {},
     "output_type": "display_data"
    },
    {
     "data": {
      "application/vnd.jupyter.widget-view+json": {
       "model_id": "ec2eb883f13847a29bbe150dcc52bcac",
       "version_major": 2,
       "version_minor": 0
      },
      "text/plain": [
       "HBox(children=(IntProgress(value=0, description='Performing validation', max=50), HTML(value='')))"
      ]
     },
     "metadata": {},
     "output_type": "display_data"
    },
    {
     "data": {
      "application/vnd.jupyter.widget-view+json": {
       "model_id": "5ff3d6ec3d534d5d97b3ad863887f5af",
       "version_major": 2,
       "version_minor": 0
      },
      "text/plain": [
       "HBox(children=(IntProgress(value=0, description='Performing validation', max=50), HTML(value='')))"
      ]
     },
     "metadata": {},
     "output_type": "display_data"
    },
    {
     "data": {
      "application/vnd.jupyter.widget-view+json": {
       "model_id": "8a1ebbc8e4b54bd3ab3f69ebf5389806",
       "version_major": 2,
       "version_minor": 0
      },
      "text/plain": [
       "HBox(children=(IntProgress(value=0, description='Performing validation', max=50), HTML(value='')))"
      ]
     },
     "metadata": {},
     "output_type": "display_data"
    },
    {
     "data": {
      "application/vnd.jupyter.widget-view+json": {
       "model_id": "f42d3fe8dac64e6f935356a3bcc4bcc4",
       "version_major": 2,
       "version_minor": 0
      },
      "text/plain": [
       "HBox(children=(IntProgress(value=0, description='Performing validation', max=50), HTML(value='')))"
      ]
     },
     "metadata": {},
     "output_type": "display_data"
    },
    {
     "data": {
      "application/vnd.jupyter.widget-view+json": {
       "model_id": "fe25583096944991903a7063d563f324",
       "version_major": 2,
       "version_minor": 0
      },
      "text/plain": [
       "HBox(children=(IntProgress(value=0, description='Performing validation', max=50), HTML(value='')))"
      ]
     },
     "metadata": {},
     "output_type": "display_data"
    },
    {
     "data": {
      "application/vnd.jupyter.widget-view+json": {
       "model_id": "5c358c779dbc496596743a136513c83f",
       "version_major": 2,
       "version_minor": 0
      },
      "text/plain": [
       "HBox(children=(IntProgress(value=0, description='Performing validation', max=50), HTML(value='')))"
      ]
     },
     "metadata": {},
     "output_type": "display_data"
    },
    {
     "data": {
      "application/vnd.jupyter.widget-view+json": {
       "model_id": "d09562700c4f4fbcb561edec5c1daaa6",
       "version_major": 2,
       "version_minor": 0
      },
      "text/plain": [
       "HBox(children=(IntProgress(value=0, description='Performing validation', max=50), HTML(value='')))"
      ]
     },
     "metadata": {},
     "output_type": "display_data"
    },
    {
     "data": {
      "application/vnd.jupyter.widget-view+json": {
       "model_id": "e9bd056df47a4ee68123ad72c38f61e0",
       "version_major": 2,
       "version_minor": 0
      },
      "text/plain": [
       "HBox(children=(IntProgress(value=0, description='Performing validation', max=50), HTML(value='')))"
      ]
     },
     "metadata": {},
     "output_type": "display_data"
    },
    {
     "data": {
      "application/vnd.jupyter.widget-view+json": {
       "model_id": "7fd469747ff5414a8ea4f3a62a24278e",
       "version_major": 2,
       "version_minor": 0
      },
      "text/plain": [
       "HBox(children=(IntProgress(value=0, description='Performing validation', max=50), HTML(value='')))"
      ]
     },
     "metadata": {},
     "output_type": "display_data"
    },
    {
     "data": {
      "application/vnd.jupyter.widget-view+json": {
       "model_id": "08724dabc4db4a1ab43939d3046617c2",
       "version_major": 2,
       "version_minor": 0
      },
      "text/plain": [
       "HBox(children=(IntProgress(value=0, description='Performing validation', max=50), HTML(value='')))"
      ]
     },
     "metadata": {},
     "output_type": "display_data"
    },
    {
     "data": {
      "application/vnd.jupyter.widget-view+json": {
       "model_id": "69ce33865f27400aa2f80010ea80d474",
       "version_major": 2,
       "version_minor": 0
      },
      "text/plain": [
       "HBox(children=(IntProgress(value=0, description='Performing validation', max=50), HTML(value='')))"
      ]
     },
     "metadata": {},
     "output_type": "display_data"
    },
    {
     "data": {
      "application/vnd.jupyter.widget-view+json": {
       "model_id": "8bafac31d2ac439f8cf79643f62659ca",
       "version_major": 2,
       "version_minor": 0
      },
      "text/plain": [
       "HBox(children=(IntProgress(value=0, description='Performing validation', max=50), HTML(value='')))"
      ]
     },
     "metadata": {},
     "output_type": "display_data"
    },
    {
     "name": "stdout",
     "output_type": "stream",
     "text": [
      "\n"
     ]
    },
    {
     "data": {
      "application/vnd.jupyter.widget-view+json": {
       "model_id": "622d91062a764ff1bd33c0254a208d15",
       "version_major": 2,
       "version_minor": 0
      },
      "text/plain": [
       "HBox(children=(IntProgress(value=0, description='Epoch 23', max=2500), HTML(value='')))"
      ]
     },
     "metadata": {},
     "output_type": "display_data"
    },
    {
     "data": {
      "application/vnd.jupyter.widget-view+json": {
       "model_id": "745bfce2eef6441d85386a37ffc10a89",
       "version_major": 2,
       "version_minor": 0
      },
      "text/plain": [
       "HBox(children=(IntProgress(value=0, description='Performing validation', max=50), HTML(value='')))"
      ]
     },
     "metadata": {},
     "output_type": "display_data"
    },
    {
     "data": {
      "application/vnd.jupyter.widget-view+json": {
       "model_id": "141a6e909bdf4a67a4fd077b9e0ebe24",
       "version_major": 2,
       "version_minor": 0
      },
      "text/plain": [
       "HBox(children=(IntProgress(value=0, description='Performing validation', max=50), HTML(value='')))"
      ]
     },
     "metadata": {},
     "output_type": "display_data"
    },
    {
     "data": {
      "application/vnd.jupyter.widget-view+json": {
       "model_id": "8422f3613ee244febfa58a724d1ca9a6",
       "version_major": 2,
       "version_minor": 0
      },
      "text/plain": [
       "HBox(children=(IntProgress(value=0, description='Performing validation', max=50), HTML(value='')))"
      ]
     },
     "metadata": {},
     "output_type": "display_data"
    },
    {
     "data": {
      "application/vnd.jupyter.widget-view+json": {
       "model_id": "618e98d9d2ea4e92809c71a0f97d43fe",
       "version_major": 2,
       "version_minor": 0
      },
      "text/plain": [
       "HBox(children=(IntProgress(value=0, description='Performing validation', max=50), HTML(value='')))"
      ]
     },
     "metadata": {},
     "output_type": "display_data"
    },
    {
     "data": {
      "application/vnd.jupyter.widget-view+json": {
       "model_id": "a9a92ed11a9b42c8ad997c924688cd0f",
       "version_major": 2,
       "version_minor": 0
      },
      "text/plain": [
       "HBox(children=(IntProgress(value=0, description='Performing validation', max=50), HTML(value='')))"
      ]
     },
     "metadata": {},
     "output_type": "display_data"
    },
    {
     "data": {
      "application/vnd.jupyter.widget-view+json": {
       "model_id": "e1f0777bfcab442a9112730aa0036b87",
       "version_major": 2,
       "version_minor": 0
      },
      "text/plain": [
       "HBox(children=(IntProgress(value=0, description='Performing validation', max=50), HTML(value='')))"
      ]
     },
     "metadata": {},
     "output_type": "display_data"
    },
    {
     "data": {
      "application/vnd.jupyter.widget-view+json": {
       "model_id": "c5dd798c382c4948b2416d2510866470",
       "version_major": 2,
       "version_minor": 0
      },
      "text/plain": [
       "HBox(children=(IntProgress(value=0, description='Performing validation', max=50), HTML(value='')))"
      ]
     },
     "metadata": {},
     "output_type": "display_data"
    },
    {
     "data": {
      "application/vnd.jupyter.widget-view+json": {
       "model_id": "5a929582af1c495fbf5092df140712d9",
       "version_major": 2,
       "version_minor": 0
      },
      "text/plain": [
       "HBox(children=(IntProgress(value=0, description='Performing validation', max=50), HTML(value='')))"
      ]
     },
     "metadata": {},
     "output_type": "display_data"
    },
    {
     "data": {
      "application/vnd.jupyter.widget-view+json": {
       "model_id": "5a42c14f76f74b5a87f7b0d86bd6c89b",
       "version_major": 2,
       "version_minor": 0
      },
      "text/plain": [
       "HBox(children=(IntProgress(value=0, description='Performing validation', max=50), HTML(value='')))"
      ]
     },
     "metadata": {},
     "output_type": "display_data"
    },
    {
     "data": {
      "application/vnd.jupyter.widget-view+json": {
       "model_id": "603db57dc3bf42afad07da8f1ba1e233",
       "version_major": 2,
       "version_minor": 0
      },
      "text/plain": [
       "HBox(children=(IntProgress(value=0, description='Performing validation', max=50), HTML(value='')))"
      ]
     },
     "metadata": {},
     "output_type": "display_data"
    },
    {
     "data": {
      "application/vnd.jupyter.widget-view+json": {
       "model_id": "95a19d22bc4f4520bd87ae504e12b57f",
       "version_major": 2,
       "version_minor": 0
      },
      "text/plain": [
       "HBox(children=(IntProgress(value=0, description='Performing validation', max=50), HTML(value='')))"
      ]
     },
     "metadata": {},
     "output_type": "display_data"
    },
    {
     "data": {
      "application/vnd.jupyter.widget-view+json": {
       "model_id": "e8df096678634374bffd611933a5ab2e",
       "version_major": 2,
       "version_minor": 0
      },
      "text/plain": [
       "HBox(children=(IntProgress(value=0, description='Performing validation', max=50), HTML(value='')))"
      ]
     },
     "metadata": {},
     "output_type": "display_data"
    },
    {
     "data": {
      "application/vnd.jupyter.widget-view+json": {
       "model_id": "f1ba0c5f017e45ada839b319ead164ce",
       "version_major": 2,
       "version_minor": 0
      },
      "text/plain": [
       "HBox(children=(IntProgress(value=0, description='Performing validation', max=50), HTML(value='')))"
      ]
     },
     "metadata": {},
     "output_type": "display_data"
    },
    {
     "data": {
      "application/vnd.jupyter.widget-view+json": {
       "model_id": "d653a7bdce31472f8e772644f01f56dd",
       "version_major": 2,
       "version_minor": 0
      },
      "text/plain": [
       "HBox(children=(IntProgress(value=0, description='Performing validation', max=50), HTML(value='')))"
      ]
     },
     "metadata": {},
     "output_type": "display_data"
    },
    {
     "data": {
      "application/vnd.jupyter.widget-view+json": {
       "model_id": "8e11322143df403093a2a6b5cef965a8",
       "version_major": 2,
       "version_minor": 0
      },
      "text/plain": [
       "HBox(children=(IntProgress(value=0, description='Performing validation', max=50), HTML(value='')))"
      ]
     },
     "metadata": {},
     "output_type": "display_data"
    },
    {
     "data": {
      "application/vnd.jupyter.widget-view+json": {
       "model_id": "011e5266c6074d2da222bf62196b9558",
       "version_major": 2,
       "version_minor": 0
      },
      "text/plain": [
       "HBox(children=(IntProgress(value=0, description='Performing validation', max=50), HTML(value='')))"
      ]
     },
     "metadata": {},
     "output_type": "display_data"
    },
    {
     "data": {
      "application/vnd.jupyter.widget-view+json": {
       "model_id": "8a37b86cc2914e8db329f6e81f323cb7",
       "version_major": 2,
       "version_minor": 0
      },
      "text/plain": [
       "HBox(children=(IntProgress(value=0, description='Performing validation', max=50), HTML(value='')))"
      ]
     },
     "metadata": {},
     "output_type": "display_data"
    },
    {
     "data": {
      "application/vnd.jupyter.widget-view+json": {
       "model_id": "13356b80aa314b85a767e3f68017eeed",
       "version_major": 2,
       "version_minor": 0
      },
      "text/plain": [
       "HBox(children=(IntProgress(value=0, description='Performing validation', max=50), HTML(value='')))"
      ]
     },
     "metadata": {},
     "output_type": "display_data"
    },
    {
     "data": {
      "application/vnd.jupyter.widget-view+json": {
       "model_id": "5d252a9d7489408d9ff521c7e5c74f6d",
       "version_major": 2,
       "version_minor": 0
      },
      "text/plain": [
       "HBox(children=(IntProgress(value=0, description='Performing validation', max=50), HTML(value='')))"
      ]
     },
     "metadata": {},
     "output_type": "display_data"
    },
    {
     "data": {
      "application/vnd.jupyter.widget-view+json": {
       "model_id": "104d6857e6e649198d99a3a2c5661f1f",
       "version_major": 2,
       "version_minor": 0
      },
      "text/plain": [
       "HBox(children=(IntProgress(value=0, description='Performing validation', max=50), HTML(value='')))"
      ]
     },
     "metadata": {},
     "output_type": "display_data"
    },
    {
     "data": {
      "application/vnd.jupyter.widget-view+json": {
       "model_id": "f7d73ed3547040b1b3a4acf5db6b7568",
       "version_major": 2,
       "version_minor": 0
      },
      "text/plain": [
       "HBox(children=(IntProgress(value=0, description='Performing validation', max=50), HTML(value='')))"
      ]
     },
     "metadata": {},
     "output_type": "display_data"
    },
    {
     "data": {
      "application/vnd.jupyter.widget-view+json": {
       "model_id": "42b562e3d5d8452cbaf82f3e43c57ee3",
       "version_major": 2,
       "version_minor": 0
      },
      "text/plain": [
       "HBox(children=(IntProgress(value=0, description='Performing validation', max=50), HTML(value='')))"
      ]
     },
     "metadata": {},
     "output_type": "display_data"
    },
    {
     "data": {
      "application/vnd.jupyter.widget-view+json": {
       "model_id": "5ea9d376213a42e7812aa276849c6b5b",
       "version_major": 2,
       "version_minor": 0
      },
      "text/plain": [
       "HBox(children=(IntProgress(value=0, description='Performing validation', max=50), HTML(value='')))"
      ]
     },
     "metadata": {},
     "output_type": "display_data"
    },
    {
     "data": {
      "application/vnd.jupyter.widget-view+json": {
       "model_id": "40e40fbffa464b33ac0cb8301d3d2ea1",
       "version_major": 2,
       "version_minor": 0
      },
      "text/plain": [
       "HBox(children=(IntProgress(value=0, description='Performing validation', max=50), HTML(value='')))"
      ]
     },
     "metadata": {},
     "output_type": "display_data"
    },
    {
     "data": {
      "application/vnd.jupyter.widget-view+json": {
       "model_id": "78ddf2717da14b42a27a182a290be016",
       "version_major": 2,
       "version_minor": 0
      },
      "text/plain": [
       "HBox(children=(IntProgress(value=0, description='Performing validation', max=50), HTML(value='')))"
      ]
     },
     "metadata": {},
     "output_type": "display_data"
    },
    {
     "name": "stdout",
     "output_type": "stream",
     "text": [
      "\n"
     ]
    },
    {
     "data": {
      "application/vnd.jupyter.widget-view+json": {
       "model_id": "0b53a9d9c6ac41ca9c9257cb7e6dafd4",
       "version_major": 2,
       "version_minor": 0
      },
      "text/plain": [
       "HBox(children=(IntProgress(value=0, description='Epoch 24', max=2500), HTML(value='')))"
      ]
     },
     "metadata": {},
     "output_type": "display_data"
    },
    {
     "data": {
      "application/vnd.jupyter.widget-view+json": {
       "model_id": "d856f381f70d470c83515617f5c4dd65",
       "version_major": 2,
       "version_minor": 0
      },
      "text/plain": [
       "HBox(children=(IntProgress(value=0, description='Performing validation', max=50), HTML(value='')))"
      ]
     },
     "metadata": {},
     "output_type": "display_data"
    },
    {
     "data": {
      "application/vnd.jupyter.widget-view+json": {
       "model_id": "fcfbfc4a370a433db44ac03dfae29eea",
       "version_major": 2,
       "version_minor": 0
      },
      "text/plain": [
       "HBox(children=(IntProgress(value=0, description='Performing validation', max=50), HTML(value='')))"
      ]
     },
     "metadata": {},
     "output_type": "display_data"
    },
    {
     "data": {
      "application/vnd.jupyter.widget-view+json": {
       "model_id": "6a5f537c3fc3472dbab5c40cc6e077b8",
       "version_major": 2,
       "version_minor": 0
      },
      "text/plain": [
       "HBox(children=(IntProgress(value=0, description='Performing validation', max=50), HTML(value='')))"
      ]
     },
     "metadata": {},
     "output_type": "display_data"
    }
   ],
   "source": [
    "net.train()\n",
    "\n",
    "epochs_num = 60\n",
    "# scheduler = AdaptiveCyclicCosineAnnealing(CONFIG.lr,  optimizer, 200, CONFIG.train_batches_num, snapshots_num=8)\n",
    "\n",
    "\n",
    "train_losses = {}\n",
    "train_coeffs = {}\n",
    "valid_losses = {}\n",
    "valid_coeffs = {}\n",
    "step = 0\n",
    "run_validation_every_n_steps = 100\n",
    "\n",
    "examples_savedir = os.path.join(LOGS_SAVE_DIR, 'visual')\n",
    "try:\n",
    "    os.makedirs(examples_savedir)\n",
    "except OSError:\n",
    "    pass\n",
    "\n",
    "    \n",
    "VISUAL_EXAMPLES_EVERY = 50\n",
    "TRAIN_PLOT_EVERY = 50\n",
    "partial_loss = 0\n",
    "partial_coeff = 0\n",
    "loss = None\n",
    "net.train()\n",
    "visualizer = Visualizer(CONFIG, metric_used='Dice Coefficient', include_lr=True, examples_savedir=examples_savedir)\n",
    "logger = Logger(CONFIG, metric_used='Dice Coefficient', save_dir=LOGS_SAVE_DIR)\n",
    "for epoch in range(epochs_num):\n",
    "    epoch = epoch + loaded_epoch\n",
    "    iterator = tqdm(trainer.train_loader, desc=f'Epoch {epoch + 1}')\n",
    "    train_loss = 0\n",
    "    valid_loss = None\n",
    "    cnt = 0\n",
    "    for batch in iterator:\n",
    "        cnt += 1\n",
    "        optimizer.zero_grad()\n",
    "        out, loss, coeff = trainer.train_step(batch)\n",
    "#         loss = train_d_loss\n",
    "#         with amp.scale_loss(loss, optimizer) as scaled_loss:\n",
    "#             scaled_loss.backward()\n",
    "        optimizer.step()\n",
    "#         scheduler.step(loss, net, train_d_loss.cpu().data.numpy(), epoch)\n",
    "        train_d_coeff = coeff.cpu().data.numpy()\n",
    "        train_losses[step] = loss.cpu().data.numpy()\n",
    "        train_coeffs[step] = train_d_coeff\n",
    "        \n",
    "        train_loss += train_losses[step]\n",
    "        partial_loss += train_losses[step]\n",
    "        partial_coeff += train_d_coeff\n",
    "#         update_lr_plot(step, lr=scheduler.lr)\n",
    "        logger.update(step, train_losses[step], train_coeffs[step])\n",
    "        visualizer.update_lr(step, lr=CONFIG.lr)\n",
    "        if step % TRAIN_PLOT_EVERY == 0:\n",
    "            visualizer.update_loss_and_metric(step, partial_loss/TRAIN_PLOT_EVERY, partial_coeff/TRAIN_PLOT_EVERY)\n",
    "            partial_loss = 0\n",
    "            partial_coeff = 0\n",
    "        if step % VISUAL_EXAMPLES_EVERY == 0:\n",
    "            img = np.rollaxis(out[0].cpu().data.numpy(), 1, 4)\n",
    "            visualizer.update_examples_plot(step,\n",
    "                                img,\n",
    "                                out[1].cpu().data.numpy(),\n",
    "                                out[2].cpu().data.numpy())\n",
    "\n",
    "        if cnt == 0 or step % run_validation_every_n_steps == 0:\n",
    "            valid_loss = 0\n",
    "            v_cnt = 0\n",
    "            valid_d_coeff = 0\n",
    "            with torch.no_grad():\n",
    "               \n",
    "                for v_batch in tqdm(trainer.valid_loader, desc='Performing validation'):\n",
    "                    v_cnt += 1\n",
    "                    out, valid_l, coeff = trainer.valid_step(v_batch)\n",
    "                    valid_d_coeff += coeff.cpu().data.numpy()\n",
    "                    valid_loss += valid_l.cpu().data.numpy()\n",
    "            valid_d_coeff = valid_d_coeff / v_cnt\n",
    "            valid_loss = valid_loss / v_cnt\n",
    "            valid_losses[step] = valid_loss\n",
    "            valid_coeffs[step] = valid_d_coeff\n",
    "            logger.update(step, valid_loss, valid_d_coeff, True)\n",
    "            visualizer.update_loss_and_metric(step, valid_loss, valid_d_coeff, True)\n",
    "        \n",
    "        iterator.set_description(\n",
    "            'Epoch: %d \\n TLoss: %.3f, VLoss: %s'%(\n",
    "                epoch + 1, train_loss / cnt,\n",
    "                'None' if valid_loss is None else '%.3f'%(valid_loss)))\n",
    "        \n",
    "        step += 1\n",
    "    train_loss = train_loss / cnt\n",
    "    \n",
    "    torch.save({\n",
    "            'epoch': epoch,\n",
    "            'model_state_dict': net.state_dict(),\n",
    "            'optimizer_state_dict': optimizer.state_dict(),\n",
    "            't_losses': train_losses,\n",
    "            'v_losses': valid_losses,\n",
    "            'config':CONFIG}, os.path.join(MODEL_SAVE_DIR, get_model_name(CONFIG, epoch, train_loss, valid_loss))\n",
    "            )\n",
    "    torch.cuda.empty_cache()\n"
   ]
  },
  {
   "cell_type": "code",
   "execution_count": null,
   "metadata": {},
   "outputs": [],
   "source": []
  }
 ],
 "metadata": {
  "kernelspec": {
   "display_name": "kaggle",
   "language": "python",
   "name": "kaggle"
  },
  "language_info": {
   "codemirror_mode": {
    "name": "ipython",
    "version": 3
   },
   "file_extension": ".py",
   "mimetype": "text/x-python",
   "name": "python",
   "nbconvert_exporter": "python",
   "pygments_lexer": "ipython3",
   "version": "3.6.8"
  },
  "toc": {
   "base_numbering": 1,
   "nav_menu": {},
   "number_sections": true,
   "sideBar": true,
   "skip_h1_title": false,
   "title_cell": "Table of Contents",
   "title_sidebar": "Contents",
   "toc_cell": false,
   "toc_position": {},
   "toc_section_display": true,
   "toc_window_display": false
  },
  "varInspector": {
   "cols": {
    "lenName": 16,
    "lenType": 16,
    "lenVar": 40
   },
   "kernels_config": {
    "python": {
     "delete_cmd_postfix": "",
     "delete_cmd_prefix": "del ",
     "library": "var_list.py",
     "varRefreshCmd": "print(var_dic_list())"
    },
    "r": {
     "delete_cmd_postfix": ") ",
     "delete_cmd_prefix": "rm(",
     "library": "var_list.r",
     "varRefreshCmd": "cat(var_dic_list()) "
    }
   },
   "types_to_exclude": [
    "module",
    "function",
    "builtin_function_or_method",
    "instance",
    "_Feature"
   ],
   "window_display": false
  }
 },
 "nbformat": 4,
 "nbformat_minor": 2
}
