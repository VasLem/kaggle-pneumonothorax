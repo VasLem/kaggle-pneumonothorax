{
 "cells": [
  {
   "cell_type": "code",
   "execution_count": 1,
   "metadata": {},
   "outputs": [],
   "source": [
    "%load_ext autoreload\n",
    "%autoreload 2"
   ]
  },
  {
   "cell_type": "code",
   "execution_count": 2,
   "metadata": {},
   "outputs": [],
   "source": [
    "import os\n",
    "import sys\n",
    "\n",
    "import cv2\n",
    "import datetime\n",
    "import matplotlib.pyplot as plt\n",
    "import numpy as np\n",
    "import pandas as pd\n",
    "import pickle\n",
    "import pretrainedmodels.utils as utils\n",
    "import torch\n",
    "import torch.optim as optim\n",
    "from apex import amp\n",
    "from easydict import EasyDict\n",
    "from numpy.random import choice, seed\n",
    "from PIL import Image\n",
    "from pretrainedmodels import xception\n",
    "from torch import nn\n",
    "from torch.utils.data import Dataset, SequentialSampler\n",
    "from torchvision import transforms as tt\n",
    "from torchvision.transforms.functional import to_tensor\n",
    "from tqdm import tqdm_notebook as tqdm\n",
    "from unet.unet_model import UNet\n",
    "from custom_pytorch import custom_layers\n",
    "from custom_pytorch.custom_samplers import SubsetRandomSampler"
   ]
  },
  {
   "cell_type": "code",
   "execution_count": 3,
   "metadata": {},
   "outputs": [],
   "source": [
    "DATA_PATH = \"../../input/pneumonothorax-data/\"\n",
    "TRAIN_PATH = os.path.join(DATA_PATH, 'train')\n",
    "TEST_PATH = os.path.join(DATA_PATH, 'test')\n",
    "MODEL_SAVE_DIR = \"../../input/models/pneumonothorax\"\n",
    "try:\n",
    "    os.makedirs(MODEL_SAVE_DIR)\n",
    "except OSError:\n",
    "    pass"
   ]
  },
  {
   "cell_type": "code",
   "execution_count": 4,
   "metadata": {},
   "outputs": [
    {
     "name": "stdout",
     "output_type": "stream",
     "text": [
      "Training folder data size: 10712\n",
      "Testing folder data size: 1377\n"
     ]
    }
   ],
   "source": [
    "train_folder_size = len(os.listdir(os.path.join(TRAIN_PATH, 'images')))\n",
    "test_folder_size = len(os.listdir(os.path.join(TEST_PATH, 'images')))\n",
    "print('Training folder data size:', train_folder_size)\n",
    "print('Testing folder data size:', test_folder_size)"
   ]
  },
  {
   "cell_type": "code",
   "execution_count": 5,
   "metadata": {},
   "outputs": [],
   "source": [
    "class PneumothoraxDataset(Dataset):\n",
    "    def __init__(self, path, train, feat_transforms=None, train_aug_transforms=None, metadata_encoder=None):\n",
    "        super().__init__()\n",
    "        self.train = train\n",
    "        self.path = path\n",
    "        self.aug_transforms = train_aug_transforms\n",
    "        self.metadata = pd.read_csv(os.path.join(self.path, 'metadata.csv'), index_col='ImageId')\n",
    "        self.feat_transforms = feat_transforms\n",
    "        from sklearn.preprocessing import OneHotEncoder\n",
    "        metadata_subset = self.metadata[['PatientSex', 'ViewPosition']]\n",
    "        if metadata_encoder is None:\n",
    "            self.encoder = OneHotEncoder(sparse=False)\n",
    "            self.encoder.fit(metadata_subset.to_numpy().tolist())\n",
    "        \n",
    "        encoded = self.encoder.transform(metadata_subset.to_numpy().tolist())\n",
    "        self.metadata = pd.DataFrame(encoded, index=list(metadata_subset.index.values))\n",
    "\n",
    "    def __len__(self):\n",
    "        return len(self.metadata)\n",
    "    \n",
    "    def __iter__(self):\n",
    "        for fil in os.listdir(os.path.join(self.path, 'images')):\n",
    "            img = Image.open(os.path.join(self.path, 'images', fil))\n",
    "            metadata = self.metadata.loc[os.path.splitext(fil)[0]].values.astype(int)\n",
    "            t_img = img\n",
    "            if self.train:\n",
    "                try:\n",
    "                    mask = cv2.imread(os.path.join(self.path, 'masks', fil))\n",
    "                except OSError:\n",
    "                    mask = np.zeros(imgs[-1].size[::-1], np.uint8)\n",
    "                if self.aug_transforms is not None:\n",
    "                    transformed = self.aug_transforms(image=img, mask=mask)\n",
    "                    img = transformed['image']\n",
    "                    mask = transformed['mask']\n",
    "                    t_img = img\n",
    "                if self.feat_transforms is not None:\n",
    "                    t_img = self.feat_transforms(Image.fromarray(img, 'L'))\n",
    "                yield img,\\\n",
    "                    t_img, metadata, mask\n",
    "            else:\n",
    "                if self.feat_transforms is not None:\n",
    "                    t_img = self.feat_transforms(Image.fromarray(img, 'L'))\n",
    "                yield img,\\\n",
    "                    t_img, metadata\n",
    "                \n",
    "    def __getitem__(self, index):\n",
    "        if not isinstance(index, list):\n",
    "            index = [index]\n",
    "        imgs = []\n",
    "        metadata = []\n",
    "        masks = []\n",
    "        fils = os.listdir(os.path.join(self.path, 'images'))\n",
    "        for fil_index in index:\n",
    "            fil = fils[fil_index]\n",
    "            imgs.append(Image.open(os.path.join(self.path, 'images', fil)).convert('L'))\n",
    "            metadata.append(self.metadata.loc[os.path.splitext(fil)[0]].values.astype(int))\n",
    "            if self.train:\n",
    "                try:\n",
    "                    masks.append(cv2.imread(os.path.join(self.path, 'masks', fil), 0))\n",
    "                    if masks[-1] is None:\n",
    "                        masks = masks[:-1]\n",
    "                        raise OSError\n",
    "                except OSError:\n",
    "                    masks.append(np.zeros(imgs[-1].size[::-1], np.uint8))\n",
    "        \n",
    "        t_imgs = imgs\n",
    "        if len(index) == 1:\n",
    "            if self.feat_transforms is not None:\n",
    "                t_imgs = self.feat_transforms(Image.fromarray(imgs[0], 'L'))\n",
    "            \n",
    "            metadata = metadata[0]\n",
    "            if self.train:\n",
    "                if self.aug_transforms is not None:\n",
    "                    transformed = self.aug_transforms(\n",
    "                        image=np.array(imgs[0]), mask=masks[0])\n",
    "                    imgs = transformed['image']\n",
    "                    masks = transformed['mask']\n",
    "                else:\n",
    "                    imgs = np.array(imgs[0])\n",
    "                    masks = masks[0]\n",
    "        else:\n",
    "\n",
    "            if self.train:\n",
    "                imgs = [np.array(im) for im in imgs]\n",
    "                if self.aug_transforms is not None:\n",
    "                    transformed = [self.aug_transforms(\n",
    "                        image=image, mask=mask)\n",
    "                                   for image, mask in zip(imgs, masks)]\n",
    "                    imgs = [trans['image'] for trans in transformed]\n",
    "\n",
    "                    masks = [trans['mask'] for trans in transformed]\n",
    "            else:\n",
    "                imgs = [np.array(img) for img in imgs]\n",
    "            if self.feat_transforms is not None:\n",
    "                t_imgs = torch.stack([self.feat_transforms(Image.fromarray(img), 'L') for img in imgs])\n",
    "            metadata = metadata[0]\n",
    "        if self.train:\n",
    "            return imgs, t_imgs, metadata, masks\n",
    "        return imgs, t_imgs, metadata\n",
    "    \n",
    "def collate_fn(batch): \n",
    "    images = [item[0] for item in batch]\n",
    "    t_images = [item[1] for item in batch]\n",
    "    metadata = [item[2] for item in batch]\n",
    "    masks = [item[3] for item in batch]\n",
    "    return [images, t_images, metadata, masks]"
   ]
  },
  {
   "cell_type": "code",
   "execution_count": 6,
   "metadata": {},
   "outputs": [],
   "source": [
    "\n",
    "CONFIG = EasyDict(dict(TRAIN_SIZE=15000,\n",
    "                       TRAIN_AUG_RATIO=3, #through augmentation\n",
    "                       VALID_SIZE=50, # by random selection, will not participate at all in training\n",
    "                       BATCH_SIZE=8,\n",
    "                       RANDOM_SEED=42,\n",
    "                       LR=0.0001,\n",
    "                       MOMENTUM=0.9,\n",
    "                       WEIGHT_DECAY=0.9\n",
    "                       ))"
   ]
  },
  {
   "cell_type": "code",
   "execution_count": 7,
   "metadata": {},
   "outputs": [
    {
     "name": "stdout",
     "output_type": "stream",
     "text": [
      "Selected optimization level O1:  Insert automatic casts around Pytorch functions and Tensor methods.\n",
      "\n",
      "Defaults for this optimization level are:\n",
      "enabled                : True\n",
      "opt_level              : O1\n",
      "cast_model_type        : None\n",
      "patch_torch_functions  : True\n",
      "keep_batchnorm_fp32    : None\n",
      "master_weights         : None\n",
      "loss_scale             : dynamic\n",
      "Processing user overrides (additional kwargs that are not None)...\n",
      "After processing overrides, optimization options are:\n",
      "enabled                : True\n",
      "opt_level              : O1\n",
      "cast_model_type        : None\n",
      "patch_torch_functions  : True\n",
      "keep_batchnorm_fp32    : None\n",
      "master_weights         : None\n",
      "loss_scale             : dynamic\n"
     ]
    },
    {
     "data": {
      "text/plain": [
       "(NeuralNet(\n",
       "   (bbox_layer): BBoxLayer(\n",
       "     (mapping_conv): Conv2d(2048, 16, kernel_size=(1, 1), stride=(1, 1))\n",
       "     (mapping_linear): Linear(in_features=100, out_features=100, bias=True)\n",
       "     (mapping_activation): Sigmoid()\n",
       "     (metadata_linear): Linear(in_features=4, out_features=100, bias=True)\n",
       "     (metadata_activation): Sigmoid()\n",
       "     (inputs_conv): Sequential(\n",
       "       (0): Conv2d(1, 4, kernel_size=(3, 3), stride=(1, 1))\n",
       "       (1): ZeroPad2d(padding=(1, 1, 1, 1), value=0.0)\n",
       "     )\n",
       "     (inputs_activation): Sigmoid()\n",
       "     (bboxes_layer): Conv2d(4, 4, kernel_size=(10, 10), stride=(1, 1))\n",
       "     (padding): ZeroPad2d(padding=(4, 5, 4, 5), value=0.0)\n",
       "   )\n",
       "   (features_model): Xception(\n",
       "     (conv1): Conv2d(3, 32, kernel_size=(3, 3), stride=(2, 2), bias=False)\n",
       "     (bn1): BatchNorm2d(32, eps=1e-05, momentum=0.1, affine=True, track_running_stats=True)\n",
       "     (relu): ReLU(inplace)\n",
       "     (conv2): Conv2d(32, 64, kernel_size=(3, 3), stride=(1, 1), bias=False)\n",
       "     (bn2): BatchNorm2d(64, eps=1e-05, momentum=0.1, affine=True, track_running_stats=True)\n",
       "     (block1): Block(\n",
       "       (skip): Conv2d(64, 128, kernel_size=(1, 1), stride=(2, 2), bias=False)\n",
       "       (skipbn): BatchNorm2d(128, eps=1e-05, momentum=0.1, affine=True, track_running_stats=True)\n",
       "       (relu): ReLU(inplace)\n",
       "       (rep): Sequential(\n",
       "         (0): SeparableConv2d(\n",
       "           (conv1): Conv2d(64, 64, kernel_size=(3, 3), stride=(1, 1), padding=(1, 1), groups=64, bias=False)\n",
       "           (pointwise): Conv2d(64, 128, kernel_size=(1, 1), stride=(1, 1), bias=False)\n",
       "         )\n",
       "         (1): BatchNorm2d(128, eps=1e-05, momentum=0.1, affine=True, track_running_stats=True)\n",
       "         (2): ReLU(inplace)\n",
       "         (3): SeparableConv2d(\n",
       "           (conv1): Conv2d(128, 128, kernel_size=(3, 3), stride=(1, 1), padding=(1, 1), groups=128, bias=False)\n",
       "           (pointwise): Conv2d(128, 128, kernel_size=(1, 1), stride=(1, 1), bias=False)\n",
       "         )\n",
       "         (4): BatchNorm2d(128, eps=1e-05, momentum=0.1, affine=True, track_running_stats=True)\n",
       "         (5): MaxPool2d(kernel_size=3, stride=2, padding=1, dilation=1, ceil_mode=False)\n",
       "       )\n",
       "     )\n",
       "     (block2): Block(\n",
       "       (skip): Conv2d(128, 256, kernel_size=(1, 1), stride=(2, 2), bias=False)\n",
       "       (skipbn): BatchNorm2d(256, eps=1e-05, momentum=0.1, affine=True, track_running_stats=True)\n",
       "       (relu): ReLU(inplace)\n",
       "       (rep): Sequential(\n",
       "         (0): ReLU()\n",
       "         (1): SeparableConv2d(\n",
       "           (conv1): Conv2d(128, 128, kernel_size=(3, 3), stride=(1, 1), padding=(1, 1), groups=128, bias=False)\n",
       "           (pointwise): Conv2d(128, 256, kernel_size=(1, 1), stride=(1, 1), bias=False)\n",
       "         )\n",
       "         (2): BatchNorm2d(256, eps=1e-05, momentum=0.1, affine=True, track_running_stats=True)\n",
       "         (3): ReLU(inplace)\n",
       "         (4): SeparableConv2d(\n",
       "           (conv1): Conv2d(256, 256, kernel_size=(3, 3), stride=(1, 1), padding=(1, 1), groups=256, bias=False)\n",
       "           (pointwise): Conv2d(256, 256, kernel_size=(1, 1), stride=(1, 1), bias=False)\n",
       "         )\n",
       "         (5): BatchNorm2d(256, eps=1e-05, momentum=0.1, affine=True, track_running_stats=True)\n",
       "         (6): MaxPool2d(kernel_size=3, stride=2, padding=1, dilation=1, ceil_mode=False)\n",
       "       )\n",
       "     )\n",
       "     (block3): Block(\n",
       "       (skip): Conv2d(256, 728, kernel_size=(1, 1), stride=(2, 2), bias=False)\n",
       "       (skipbn): BatchNorm2d(728, eps=1e-05, momentum=0.1, affine=True, track_running_stats=True)\n",
       "       (relu): ReLU(inplace)\n",
       "       (rep): Sequential(\n",
       "         (0): ReLU()\n",
       "         (1): SeparableConv2d(\n",
       "           (conv1): Conv2d(256, 256, kernel_size=(3, 3), stride=(1, 1), padding=(1, 1), groups=256, bias=False)\n",
       "           (pointwise): Conv2d(256, 728, kernel_size=(1, 1), stride=(1, 1), bias=False)\n",
       "         )\n",
       "         (2): BatchNorm2d(728, eps=1e-05, momentum=0.1, affine=True, track_running_stats=True)\n",
       "         (3): ReLU(inplace)\n",
       "         (4): SeparableConv2d(\n",
       "           (conv1): Conv2d(728, 728, kernel_size=(3, 3), stride=(1, 1), padding=(1, 1), groups=728, bias=False)\n",
       "           (pointwise): Conv2d(728, 728, kernel_size=(1, 1), stride=(1, 1), bias=False)\n",
       "         )\n",
       "         (5): BatchNorm2d(728, eps=1e-05, momentum=0.1, affine=True, track_running_stats=True)\n",
       "         (6): MaxPool2d(kernel_size=3, stride=2, padding=1, dilation=1, ceil_mode=False)\n",
       "       )\n",
       "     )\n",
       "     (block4): Block(\n",
       "       (relu): ReLU(inplace)\n",
       "       (rep): Sequential(\n",
       "         (0): ReLU()\n",
       "         (1): SeparableConv2d(\n",
       "           (conv1): Conv2d(728, 728, kernel_size=(3, 3), stride=(1, 1), padding=(1, 1), groups=728, bias=False)\n",
       "           (pointwise): Conv2d(728, 728, kernel_size=(1, 1), stride=(1, 1), bias=False)\n",
       "         )\n",
       "         (2): BatchNorm2d(728, eps=1e-05, momentum=0.1, affine=True, track_running_stats=True)\n",
       "         (3): ReLU(inplace)\n",
       "         (4): SeparableConv2d(\n",
       "           (conv1): Conv2d(728, 728, kernel_size=(3, 3), stride=(1, 1), padding=(1, 1), groups=728, bias=False)\n",
       "           (pointwise): Conv2d(728, 728, kernel_size=(1, 1), stride=(1, 1), bias=False)\n",
       "         )\n",
       "         (5): BatchNorm2d(728, eps=1e-05, momentum=0.1, affine=True, track_running_stats=True)\n",
       "         (6): ReLU(inplace)\n",
       "         (7): SeparableConv2d(\n",
       "           (conv1): Conv2d(728, 728, kernel_size=(3, 3), stride=(1, 1), padding=(1, 1), groups=728, bias=False)\n",
       "           (pointwise): Conv2d(728, 728, kernel_size=(1, 1), stride=(1, 1), bias=False)\n",
       "         )\n",
       "         (8): BatchNorm2d(728, eps=1e-05, momentum=0.1, affine=True, track_running_stats=True)\n",
       "       )\n",
       "     )\n",
       "     (block5): Block(\n",
       "       (relu): ReLU(inplace)\n",
       "       (rep): Sequential(\n",
       "         (0): ReLU()\n",
       "         (1): SeparableConv2d(\n",
       "           (conv1): Conv2d(728, 728, kernel_size=(3, 3), stride=(1, 1), padding=(1, 1), groups=728, bias=False)\n",
       "           (pointwise): Conv2d(728, 728, kernel_size=(1, 1), stride=(1, 1), bias=False)\n",
       "         )\n",
       "         (2): BatchNorm2d(728, eps=1e-05, momentum=0.1, affine=True, track_running_stats=True)\n",
       "         (3): ReLU(inplace)\n",
       "         (4): SeparableConv2d(\n",
       "           (conv1): Conv2d(728, 728, kernel_size=(3, 3), stride=(1, 1), padding=(1, 1), groups=728, bias=False)\n",
       "           (pointwise): Conv2d(728, 728, kernel_size=(1, 1), stride=(1, 1), bias=False)\n",
       "         )\n",
       "         (5): BatchNorm2d(728, eps=1e-05, momentum=0.1, affine=True, track_running_stats=True)\n",
       "         (6): ReLU(inplace)\n",
       "         (7): SeparableConv2d(\n",
       "           (conv1): Conv2d(728, 728, kernel_size=(3, 3), stride=(1, 1), padding=(1, 1), groups=728, bias=False)\n",
       "           (pointwise): Conv2d(728, 728, kernel_size=(1, 1), stride=(1, 1), bias=False)\n",
       "         )\n",
       "         (8): BatchNorm2d(728, eps=1e-05, momentum=0.1, affine=True, track_running_stats=True)\n",
       "       )\n",
       "     )\n",
       "     (block6): Block(\n",
       "       (relu): ReLU(inplace)\n",
       "       (rep): Sequential(\n",
       "         (0): ReLU()\n",
       "         (1): SeparableConv2d(\n",
       "           (conv1): Conv2d(728, 728, kernel_size=(3, 3), stride=(1, 1), padding=(1, 1), groups=728, bias=False)\n",
       "           (pointwise): Conv2d(728, 728, kernel_size=(1, 1), stride=(1, 1), bias=False)\n",
       "         )\n",
       "         (2): BatchNorm2d(728, eps=1e-05, momentum=0.1, affine=True, track_running_stats=True)\n",
       "         (3): ReLU(inplace)\n",
       "         (4): SeparableConv2d(\n",
       "           (conv1): Conv2d(728, 728, kernel_size=(3, 3), stride=(1, 1), padding=(1, 1), groups=728, bias=False)\n",
       "           (pointwise): Conv2d(728, 728, kernel_size=(1, 1), stride=(1, 1), bias=False)\n",
       "         )\n",
       "         (5): BatchNorm2d(728, eps=1e-05, momentum=0.1, affine=True, track_running_stats=True)\n",
       "         (6): ReLU(inplace)\n",
       "         (7): SeparableConv2d(\n",
       "           (conv1): Conv2d(728, 728, kernel_size=(3, 3), stride=(1, 1), padding=(1, 1), groups=728, bias=False)\n",
       "           (pointwise): Conv2d(728, 728, kernel_size=(1, 1), stride=(1, 1), bias=False)\n",
       "         )\n",
       "         (8): BatchNorm2d(728, eps=1e-05, momentum=0.1, affine=True, track_running_stats=True)\n",
       "       )\n",
       "     )\n",
       "     (block7): Block(\n",
       "       (relu): ReLU(inplace)\n",
       "       (rep): Sequential(\n",
       "         (0): ReLU()\n",
       "         (1): SeparableConv2d(\n",
       "           (conv1): Conv2d(728, 728, kernel_size=(3, 3), stride=(1, 1), padding=(1, 1), groups=728, bias=False)\n",
       "           (pointwise): Conv2d(728, 728, kernel_size=(1, 1), stride=(1, 1), bias=False)\n",
       "         )\n",
       "         (2): BatchNorm2d(728, eps=1e-05, momentum=0.1, affine=True, track_running_stats=True)\n",
       "         (3): ReLU(inplace)\n",
       "         (4): SeparableConv2d(\n",
       "           (conv1): Conv2d(728, 728, kernel_size=(3, 3), stride=(1, 1), padding=(1, 1), groups=728, bias=False)\n",
       "           (pointwise): Conv2d(728, 728, kernel_size=(1, 1), stride=(1, 1), bias=False)\n",
       "         )\n",
       "         (5): BatchNorm2d(728, eps=1e-05, momentum=0.1, affine=True, track_running_stats=True)\n",
       "         (6): ReLU(inplace)\n",
       "         (7): SeparableConv2d(\n",
       "           (conv1): Conv2d(728, 728, kernel_size=(3, 3), stride=(1, 1), padding=(1, 1), groups=728, bias=False)\n",
       "           (pointwise): Conv2d(728, 728, kernel_size=(1, 1), stride=(1, 1), bias=False)\n",
       "         )\n",
       "         (8): BatchNorm2d(728, eps=1e-05, momentum=0.1, affine=True, track_running_stats=True)\n",
       "       )\n",
       "     )\n",
       "     (block8): Block(\n",
       "       (relu): ReLU(inplace)\n",
       "       (rep): Sequential(\n",
       "         (0): ReLU()\n",
       "         (1): SeparableConv2d(\n",
       "           (conv1): Conv2d(728, 728, kernel_size=(3, 3), stride=(1, 1), padding=(1, 1), groups=728, bias=False)\n",
       "           (pointwise): Conv2d(728, 728, kernel_size=(1, 1), stride=(1, 1), bias=False)\n",
       "         )\n",
       "         (2): BatchNorm2d(728, eps=1e-05, momentum=0.1, affine=True, track_running_stats=True)\n",
       "         (3): ReLU(inplace)\n",
       "         (4): SeparableConv2d(\n",
       "           (conv1): Conv2d(728, 728, kernel_size=(3, 3), stride=(1, 1), padding=(1, 1), groups=728, bias=False)\n",
       "           (pointwise): Conv2d(728, 728, kernel_size=(1, 1), stride=(1, 1), bias=False)\n",
       "         )\n",
       "         (5): BatchNorm2d(728, eps=1e-05, momentum=0.1, affine=True, track_running_stats=True)\n",
       "         (6): ReLU(inplace)\n",
       "         (7): SeparableConv2d(\n",
       "           (conv1): Conv2d(728, 728, kernel_size=(3, 3), stride=(1, 1), padding=(1, 1), groups=728, bias=False)\n",
       "           (pointwise): Conv2d(728, 728, kernel_size=(1, 1), stride=(1, 1), bias=False)\n",
       "         )\n",
       "         (8): BatchNorm2d(728, eps=1e-05, momentum=0.1, affine=True, track_running_stats=True)\n",
       "       )\n",
       "     )\n",
       "     (block9): Block(\n",
       "       (relu): ReLU(inplace)\n",
       "       (rep): Sequential(\n",
       "         (0): ReLU()\n",
       "         (1): SeparableConv2d(\n",
       "           (conv1): Conv2d(728, 728, kernel_size=(3, 3), stride=(1, 1), padding=(1, 1), groups=728, bias=False)\n",
       "           (pointwise): Conv2d(728, 728, kernel_size=(1, 1), stride=(1, 1), bias=False)\n",
       "         )\n",
       "         (2): BatchNorm2d(728, eps=1e-05, momentum=0.1, affine=True, track_running_stats=True)\n",
       "         (3): ReLU(inplace)\n",
       "         (4): SeparableConv2d(\n",
       "           (conv1): Conv2d(728, 728, kernel_size=(3, 3), stride=(1, 1), padding=(1, 1), groups=728, bias=False)\n",
       "           (pointwise): Conv2d(728, 728, kernel_size=(1, 1), stride=(1, 1), bias=False)\n",
       "         )\n",
       "         (5): BatchNorm2d(728, eps=1e-05, momentum=0.1, affine=True, track_running_stats=True)\n",
       "         (6): ReLU(inplace)\n",
       "         (7): SeparableConv2d(\n",
       "           (conv1): Conv2d(728, 728, kernel_size=(3, 3), stride=(1, 1), padding=(1, 1), groups=728, bias=False)\n",
       "           (pointwise): Conv2d(728, 728, kernel_size=(1, 1), stride=(1, 1), bias=False)\n",
       "         )\n",
       "         (8): BatchNorm2d(728, eps=1e-05, momentum=0.1, affine=True, track_running_stats=True)\n",
       "       )\n",
       "     )\n",
       "     (block10): Block(\n",
       "       (relu): ReLU(inplace)\n",
       "       (rep): Sequential(\n",
       "         (0): ReLU()\n",
       "         (1): SeparableConv2d(\n",
       "           (conv1): Conv2d(728, 728, kernel_size=(3, 3), stride=(1, 1), padding=(1, 1), groups=728, bias=False)\n",
       "           (pointwise): Conv2d(728, 728, kernel_size=(1, 1), stride=(1, 1), bias=False)\n",
       "         )\n",
       "         (2): BatchNorm2d(728, eps=1e-05, momentum=0.1, affine=True, track_running_stats=True)\n",
       "         (3): ReLU(inplace)\n",
       "         (4): SeparableConv2d(\n",
       "           (conv1): Conv2d(728, 728, kernel_size=(3, 3), stride=(1, 1), padding=(1, 1), groups=728, bias=False)\n",
       "           (pointwise): Conv2d(728, 728, kernel_size=(1, 1), stride=(1, 1), bias=False)\n",
       "         )\n",
       "         (5): BatchNorm2d(728, eps=1e-05, momentum=0.1, affine=True, track_running_stats=True)\n",
       "         (6): ReLU(inplace)\n",
       "         (7): SeparableConv2d(\n",
       "           (conv1): Conv2d(728, 728, kernel_size=(3, 3), stride=(1, 1), padding=(1, 1), groups=728, bias=False)\n",
       "           (pointwise): Conv2d(728, 728, kernel_size=(1, 1), stride=(1, 1), bias=False)\n",
       "         )\n",
       "         (8): BatchNorm2d(728, eps=1e-05, momentum=0.1, affine=True, track_running_stats=True)\n",
       "       )\n",
       "     )\n",
       "     (block11): Block(\n",
       "       (relu): ReLU(inplace)\n",
       "       (rep): Sequential(\n",
       "         (0): ReLU()\n",
       "         (1): SeparableConv2d(\n",
       "           (conv1): Conv2d(728, 728, kernel_size=(3, 3), stride=(1, 1), padding=(1, 1), groups=728, bias=False)\n",
       "           (pointwise): Conv2d(728, 728, kernel_size=(1, 1), stride=(1, 1), bias=False)\n",
       "         )\n",
       "         (2): BatchNorm2d(728, eps=1e-05, momentum=0.1, affine=True, track_running_stats=True)\n",
       "         (3): ReLU(inplace)\n",
       "         (4): SeparableConv2d(\n",
       "           (conv1): Conv2d(728, 728, kernel_size=(3, 3), stride=(1, 1), padding=(1, 1), groups=728, bias=False)\n",
       "           (pointwise): Conv2d(728, 728, kernel_size=(1, 1), stride=(1, 1), bias=False)\n",
       "         )\n",
       "         (5): BatchNorm2d(728, eps=1e-05, momentum=0.1, affine=True, track_running_stats=True)\n",
       "         (6): ReLU(inplace)\n",
       "         (7): SeparableConv2d(\n",
       "           (conv1): Conv2d(728, 728, kernel_size=(3, 3), stride=(1, 1), padding=(1, 1), groups=728, bias=False)\n",
       "           (pointwise): Conv2d(728, 728, kernel_size=(1, 1), stride=(1, 1), bias=False)\n",
       "         )\n",
       "         (8): BatchNorm2d(728, eps=1e-05, momentum=0.1, affine=True, track_running_stats=True)\n",
       "       )\n",
       "     )\n",
       "     (block12): Block(\n",
       "       (skip): Conv2d(728, 1024, kernel_size=(1, 1), stride=(2, 2), bias=False)\n",
       "       (skipbn): BatchNorm2d(1024, eps=1e-05, momentum=0.1, affine=True, track_running_stats=True)\n",
       "       (relu): ReLU(inplace)\n",
       "       (rep): Sequential(\n",
       "         (0): ReLU()\n",
       "         (1): SeparableConv2d(\n",
       "           (conv1): Conv2d(728, 728, kernel_size=(3, 3), stride=(1, 1), padding=(1, 1), groups=728, bias=False)\n",
       "           (pointwise): Conv2d(728, 728, kernel_size=(1, 1), stride=(1, 1), bias=False)\n",
       "         )\n",
       "         (2): BatchNorm2d(728, eps=1e-05, momentum=0.1, affine=True, track_running_stats=True)\n",
       "         (3): ReLU(inplace)\n",
       "         (4): SeparableConv2d(\n",
       "           (conv1): Conv2d(728, 728, kernel_size=(3, 3), stride=(1, 1), padding=(1, 1), groups=728, bias=False)\n",
       "           (pointwise): Conv2d(728, 1024, kernel_size=(1, 1), stride=(1, 1), bias=False)\n",
       "         )\n",
       "         (5): BatchNorm2d(1024, eps=1e-05, momentum=0.1, affine=True, track_running_stats=True)\n",
       "         (6): MaxPool2d(kernel_size=3, stride=2, padding=1, dilation=1, ceil_mode=False)\n",
       "       )\n",
       "     )\n",
       "     (conv3): SeparableConv2d(\n",
       "       (conv1): Conv2d(1024, 1024, kernel_size=(3, 3), stride=(1, 1), padding=(1, 1), groups=1024, bias=False)\n",
       "       (pointwise): Conv2d(1024, 1536, kernel_size=(1, 1), stride=(1, 1), bias=False)\n",
       "     )\n",
       "     (bn3): BatchNorm2d(1536, eps=1e-05, momentum=0.1, affine=True, track_running_stats=True)\n",
       "     (conv4): SeparableConv2d(\n",
       "       (conv1): Conv2d(1536, 1536, kernel_size=(3, 3), stride=(1, 1), padding=(1, 1), groups=1536, bias=False)\n",
       "       (pointwise): Conv2d(1536, 2048, kernel_size=(1, 1), stride=(1, 1), bias=False)\n",
       "     )\n",
       "     (bn4): BatchNorm2d(2048, eps=1e-05, momentum=0.1, affine=True, track_running_stats=True)\n",
       "     (last_linear): Linear(in_features=2048, out_features=1000, bias=True)\n",
       "   )\n",
       "   (segmentor): UNet(\n",
       "     (inc): inconv(\n",
       "       (conv): double_conv(\n",
       "         (conv): Sequential(\n",
       "           (0): Conv2d(1, 64, kernel_size=(3, 3), stride=(1, 1), padding=(1, 1))\n",
       "           (1): BatchNorm2d(64, eps=1e-05, momentum=0.1, affine=True, track_running_stats=True)\n",
       "           (2): ReLU(inplace)\n",
       "           (3): Conv2d(64, 64, kernel_size=(3, 3), stride=(1, 1), padding=(1, 1))\n",
       "           (4): BatchNorm2d(64, eps=1e-05, momentum=0.1, affine=True, track_running_stats=True)\n",
       "           (5): ReLU(inplace)\n",
       "         )\n",
       "       )\n",
       "     )\n",
       "     (down1): down(\n",
       "       (mpconv): Sequential(\n",
       "         (0): MaxPool2d(kernel_size=2, stride=2, padding=0, dilation=1, ceil_mode=False)\n",
       "         (1): double_conv(\n",
       "           (conv): Sequential(\n",
       "             (0): Conv2d(64, 128, kernel_size=(3, 3), stride=(1, 1), padding=(1, 1))\n",
       "             (1): BatchNorm2d(128, eps=1e-05, momentum=0.1, affine=True, track_running_stats=True)\n",
       "             (2): ReLU(inplace)\n",
       "             (3): Conv2d(128, 128, kernel_size=(3, 3), stride=(1, 1), padding=(1, 1))\n",
       "             (4): BatchNorm2d(128, eps=1e-05, momentum=0.1, affine=True, track_running_stats=True)\n",
       "             (5): ReLU(inplace)\n",
       "           )\n",
       "         )\n",
       "       )\n",
       "     )\n",
       "     (down2): down(\n",
       "       (mpconv): Sequential(\n",
       "         (0): MaxPool2d(kernel_size=2, stride=2, padding=0, dilation=1, ceil_mode=False)\n",
       "         (1): double_conv(\n",
       "           (conv): Sequential(\n",
       "             (0): Conv2d(128, 256, kernel_size=(3, 3), stride=(1, 1), padding=(1, 1))\n",
       "             (1): BatchNorm2d(256, eps=1e-05, momentum=0.1, affine=True, track_running_stats=True)\n",
       "             (2): ReLU(inplace)\n",
       "             (3): Conv2d(256, 256, kernel_size=(3, 3), stride=(1, 1), padding=(1, 1))\n",
       "             (4): BatchNorm2d(256, eps=1e-05, momentum=0.1, affine=True, track_running_stats=True)\n",
       "             (5): ReLU(inplace)\n",
       "           )\n",
       "         )\n",
       "       )\n",
       "     )\n",
       "     (down3): down(\n",
       "       (mpconv): Sequential(\n",
       "         (0): MaxPool2d(kernel_size=2, stride=2, padding=0, dilation=1, ceil_mode=False)\n",
       "         (1): double_conv(\n",
       "           (conv): Sequential(\n",
       "             (0): Conv2d(256, 512, kernel_size=(3, 3), stride=(1, 1), padding=(1, 1))\n",
       "             (1): BatchNorm2d(512, eps=1e-05, momentum=0.1, affine=True, track_running_stats=True)\n",
       "             (2): ReLU(inplace)\n",
       "             (3): Conv2d(512, 512, kernel_size=(3, 3), stride=(1, 1), padding=(1, 1))\n",
       "             (4): BatchNorm2d(512, eps=1e-05, momentum=0.1, affine=True, track_running_stats=True)\n",
       "             (5): ReLU(inplace)\n",
       "           )\n",
       "         )\n",
       "       )\n",
       "     )\n",
       "     (down4): down(\n",
       "       (mpconv): Sequential(\n",
       "         (0): MaxPool2d(kernel_size=2, stride=2, padding=0, dilation=1, ceil_mode=False)\n",
       "         (1): double_conv(\n",
       "           (conv): Sequential(\n",
       "             (0): Conv2d(512, 512, kernel_size=(3, 3), stride=(1, 1), padding=(1, 1))\n",
       "             (1): BatchNorm2d(512, eps=1e-05, momentum=0.1, affine=True, track_running_stats=True)\n",
       "             (2): ReLU(inplace)\n",
       "             (3): Conv2d(512, 512, kernel_size=(3, 3), stride=(1, 1), padding=(1, 1))\n",
       "             (4): BatchNorm2d(512, eps=1e-05, momentum=0.1, affine=True, track_running_stats=True)\n",
       "             (5): ReLU(inplace)\n",
       "           )\n",
       "         )\n",
       "       )\n",
       "     )\n",
       "     (up1): up(\n",
       "       (up): Upsample(scale_factor=2.0, mode=bilinear)\n",
       "       (conv): double_conv(\n",
       "         (conv): Sequential(\n",
       "           (0): Conv2d(1024, 256, kernel_size=(3, 3), stride=(1, 1), padding=(1, 1))\n",
       "           (1): BatchNorm2d(256, eps=1e-05, momentum=0.1, affine=True, track_running_stats=True)\n",
       "           (2): ReLU(inplace)\n",
       "           (3): Conv2d(256, 256, kernel_size=(3, 3), stride=(1, 1), padding=(1, 1))\n",
       "           (4): BatchNorm2d(256, eps=1e-05, momentum=0.1, affine=True, track_running_stats=True)\n",
       "           (5): ReLU(inplace)\n",
       "         )\n",
       "       )\n",
       "     )\n",
       "     (up2): up(\n",
       "       (up): Upsample(scale_factor=2.0, mode=bilinear)\n",
       "       (conv): double_conv(\n",
       "         (conv): Sequential(\n",
       "           (0): Conv2d(512, 128, kernel_size=(3, 3), stride=(1, 1), padding=(1, 1))\n",
       "           (1): BatchNorm2d(128, eps=1e-05, momentum=0.1, affine=True, track_running_stats=True)\n",
       "           (2): ReLU(inplace)\n",
       "           (3): Conv2d(128, 128, kernel_size=(3, 3), stride=(1, 1), padding=(1, 1))\n",
       "           (4): BatchNorm2d(128, eps=1e-05, momentum=0.1, affine=True, track_running_stats=True)\n",
       "           (5): ReLU(inplace)\n",
       "         )\n",
       "       )\n",
       "     )\n",
       "     (up3): up(\n",
       "       (up): Upsample(scale_factor=2.0, mode=bilinear)\n",
       "       (conv): double_conv(\n",
       "         (conv): Sequential(\n",
       "           (0): Conv2d(256, 64, kernel_size=(3, 3), stride=(1, 1), padding=(1, 1))\n",
       "           (1): BatchNorm2d(64, eps=1e-05, momentum=0.1, affine=True, track_running_stats=True)\n",
       "           (2): ReLU(inplace)\n",
       "           (3): Conv2d(64, 64, kernel_size=(3, 3), stride=(1, 1), padding=(1, 1))\n",
       "           (4): BatchNorm2d(64, eps=1e-05, momentum=0.1, affine=True, track_running_stats=True)\n",
       "           (5): ReLU(inplace)\n",
       "         )\n",
       "       )\n",
       "     )\n",
       "     (up4): up(\n",
       "       (up): Upsample(scale_factor=2.0, mode=bilinear)\n",
       "       (conv): double_conv(\n",
       "         (conv): Sequential(\n",
       "           (0): Conv2d(128, 64, kernel_size=(3, 3), stride=(1, 1), padding=(1, 1))\n",
       "           (1): BatchNorm2d(64, eps=1e-05, momentum=0.1, affine=True, track_running_stats=True)\n",
       "           (2): ReLU(inplace)\n",
       "           (3): Conv2d(64, 64, kernel_size=(3, 3), stride=(1, 1), padding=(1, 1))\n",
       "           (4): BatchNorm2d(64, eps=1e-05, momentum=0.1, affine=True, track_running_stats=True)\n",
       "           (5): ReLU(inplace)\n",
       "         )\n",
       "       )\n",
       "     )\n",
       "     (outc): outconv(\n",
       "       (conv): Conv2d(64, 1, kernel_size=(1, 1), stride=(1, 1))\n",
       "     )\n",
       "   )\n",
       " ), SGD (\n",
       " Parameter Group 0\n",
       "     dampening: 0\n",
       "     lr: 0.0001\n",
       "     momentum: 0.9\n",
       "     nesterov: False\n",
       "     weight_decay: 0.9\n",
       " ))"
      ]
     },
     "execution_count": 7,
     "metadata": {},
     "output_type": "execute_result"
    }
   ],
   "source": [
    "seed(CONFIG.RANDOM_SEED)\n",
    "from torch import functional as F\n",
    "def pad_div32(tensor):\n",
    "    \"\"\"\n",
    "    Pads last 2 dimensions of a tensor so they can be divisible with 32\n",
    "    \"\"\"\n",
    "    h, w = tensor.size()[-2:]\n",
    "    if h < 32:\n",
    "        y_p = 32 - h\n",
    "    else:\n",
    "        y_p = 32 - (h % 32)\n",
    "    if w < 32:\n",
    "        x_p = 32 - w\n",
    "    else:\n",
    "        x_p = 32 - (w % 32)\n",
    "    pads = (x_p // 2, x_p - x_p // 2, y_p // 2, y_p - y_p // 2)\n",
    "    return nn.ZeroPad2d(pads)(tensor), pads\n",
    "\n",
    "    \n",
    "class NeuralNet(nn.Module):\n",
    "    def __init__(self):\n",
    "        super().__init__()\n",
    "        self.bbox_layer = custom_layers.BBoxLayer(1, (2048, 10, 10), 4)\n",
    "        self.features_model = xception(pretrained='imagenet').cuda()\n",
    "        for param in self.features_model.parameters():\n",
    "            param.requires_grad = False\n",
    "        self.segmentor = UNet(1, 1)\n",
    "\n",
    "    def forward(self, inputs, t_inputs, metadata_inputs):\n",
    "        \n",
    "        feature_map_outputs = self.features_model.features(t_inputs)\n",
    "        bboxes_mask = self.bbox_layer(inputs, feature_map_outputs, metadata_inputs)\n",
    "        bboxes_group = self.bbox_layer.get_bboxes()\n",
    "        masks = []\n",
    "        for bboxes, inp in zip(bboxes_group, inputs):\n",
    "            mask_output = torch.zeros_like(inp)\n",
    "            for bbox in bboxes:\n",
    "                mask_input, pads = pad_div32(\n",
    "                    inp[..., int(bbox[0][1]): int(bbox[2][1]),\n",
    "                        int(bbox[0][0]): int(bbox[2][0])])\n",
    "                mask = self.segmentor(mask_input.unsqueeze(0).repeat(2, 1, 1, 1))\n",
    "                mask_output[..., int(bbox[0][1]): int(bbox[2][1]),\n",
    "                        int(bbox[0][0]): int(bbox[2][0])] += mask[0, 0, pads[2]: -pads[3], pads[0]: -pads[1]]\n",
    "            masks.append(mask_output)\n",
    "        if len(masks) == 1:\n",
    "            masks = masks[0]\n",
    "        else:\n",
    "            masks = torch.stack(masks)\n",
    "        return masks, bboxes_mask\n",
    "\n",
    "net = NeuralNet().cuda()\n",
    "optimizer = optim.SGD(\n",
    "    net.parameters(), lr=CONFIG.LR, momentum=CONFIG.MOMENTUM, weight_decay=CONFIG.WEIGHT_DECAY)\n",
    "amp.initialize(net, optimizer)"
   ]
  },
  {
   "cell_type": "code",
   "execution_count": 8,
   "metadata": {},
   "outputs": [],
   "source": [
    "from albumentations import (\n",
    "    PadIfNeeded,\n",
    "    HorizontalFlip,\n",
    "    VerticalFlip,\n",
    "    CenterCrop,    \n",
    "    Crop,\n",
    "    Compose,\n",
    "    Transpose,\n",
    "    RandomRotate90,\n",
    "    ElasticTransform,\n",
    "    GridDistortion, \n",
    "    OpticalDistortion,\n",
    "    RandomSizedCrop,\n",
    "    OneOf,\n",
    "    CLAHE,\n",
    "    RandomBrightnessContrast,    \n",
    "    RandomGamma    \n",
    ")\n",
    "from albumentations.pytorch.transforms import ToTensor as AlbToTensor\n",
    "\n",
    "inputs_transformations = Compose([   \n",
    "    VerticalFlip(p=0.3),\n",
    "    OneOf([\n",
    "        ElasticTransform(p=0.5, alpha=120, sigma=120 * 0.05, alpha_affine=120 * 0.03),\n",
    "        GridDistortion(p=0.5),\n",
    "        OpticalDistortion(p=1, distort_limit=2, shift_limit=0.5)                  \n",
    "        ], p=0.8),\n",
    "    CLAHE(p=0.5),\n",
    "    RandomBrightnessContrast(p=0.5),    \n",
    "    RandomGamma(p=0.5),\n",
    "    AlbToTensor()])\n",
    "\n"
   ]
  },
  {
   "cell_type": "code",
   "execution_count": 9,
   "metadata": {},
   "outputs": [],
   "source": [
    "\n",
    "dataset = PneumothoraxDataset(TRAIN_PATH, train=True)\n",
    "\n",
    "valid_indices = choice(len(dataset), size=CONFIG.VALID_SIZE, replace=False)\n",
    "train_indices = np.setdiff1d(range(len(dataset)), valid_indices)\n",
    "train_sampler = SubsetRandomSampler(train_indices, replacement=True, num_samples=CONFIG.TRAIN_SIZE)\n",
    "valid_sampler = SubsetRandomSampler(valid_indices, replacement=False)"
   ]
  },
  {
   "cell_type": "code",
   "execution_count": 10,
   "metadata": {},
   "outputs": [],
   "source": [
    "train_loader = torch.utils.data.DataLoader(\n",
    "    dataset, batch_size=CONFIG.BATCH_SIZE, sampler=train_sampler,\n",
    "    collate_fn=collate_fn, pin_memory=False, drop_last=False, timeout=0, worker_init_fn=None)\n",
    "valid_loader = torch.utils.data.DataLoader(\n",
    "    dataset, batch_size=CONFIG.BATCH_SIZE, sampler=valid_sampler,\n",
    "    collate_fn=collate_fn, pin_memory=False, drop_last=False, timeout=0, worker_init_fn=None)"
   ]
  },
  {
   "cell_type": "code",
   "execution_count": 11,
   "metadata": {},
   "outputs": [],
   "source": [
    "from custom_pytorch.custom_layers.bbox_layer import create_bboxes_mask_from_mask"
   ]
  },
  {
   "cell_type": "code",
   "execution_count": 12,
   "metadata": {},
   "outputs": [
    {
     "data": {
      "application/vnd.jupyter.widget-view+json": {
       "model_id": "5063760943ae4be194eaef0c64b00f4f",
       "version_major": 2,
       "version_minor": 0
      },
      "text/plain": [
       "HBox(children=(IntProgress(value=0, description='Epoch 1', max=1875), HTML(value='')))"
      ]
     },
     "metadata": {},
     "output_type": "display_data"
    },
    {
     "name": "stderr",
     "output_type": "stream",
     "text": [
      "/home/vaslem/Code/kaggle/.venv/lib/python3.6/site-packages/torch/nn/functional.py:1386: UserWarning: nn.functional.sigmoid is deprecated. Use torch.sigmoid instead.\n",
      "  warnings.warn(\"nn.functional.sigmoid is deprecated. Use torch.sigmoid instead.\")\n"
     ]
    },
    {
     "data": {
      "application/vnd.jupyter.widget-view+json": {
       "model_id": "4e6dd2c2e88a4f299cfb81674c7dd5bc",
       "version_major": 2,
       "version_minor": 0
      },
      "text/plain": [
       "HBox(children=(IntProgress(value=0, description='Performing validation', max=7), HTML(value='')))"
      ]
     },
     "metadata": {},
     "output_type": "display_data"
    },
    {
     "data": {
      "application/vnd.jupyter.widget-view+json": {
       "model_id": "5cd38bd2198941829a436019ae4ecfcc",
       "version_major": 2,
       "version_minor": 0
      },
      "text/plain": [
       "HBox(children=(IntProgress(value=0, description='Performing validation', max=7), HTML(value='')))"
      ]
     },
     "metadata": {},
     "output_type": "display_data"
    },
    {
     "data": {
      "application/vnd.jupyter.widget-view+json": {
       "model_id": "c6a379339b2e4d4abbfe66b2e64b7dbe",
       "version_major": 2,
       "version_minor": 0
      },
      "text/plain": [
       "HBox(children=(IntProgress(value=0, description='Performing validation', max=7), HTML(value='')))"
      ]
     },
     "metadata": {},
     "output_type": "display_data"
    },
    {
     "data": {
      "application/vnd.jupyter.widget-view+json": {
       "model_id": "608108949d2649de8bca63075bdce03f",
       "version_major": 2,
       "version_minor": 0
      },
      "text/plain": [
       "HBox(children=(IntProgress(value=0, description='Performing validation', max=7), HTML(value='')))"
      ]
     },
     "metadata": {},
     "output_type": "display_data"
    },
    {
     "data": {
      "application/vnd.jupyter.widget-view+json": {
       "model_id": "ffb365bbc2af4bc9b021c4bcb916ed2d",
       "version_major": 2,
       "version_minor": 0
      },
      "text/plain": [
       "HBox(children=(IntProgress(value=0, description='Performing validation', max=7), HTML(value='')))"
      ]
     },
     "metadata": {},
     "output_type": "display_data"
    },
    {
     "data": {
      "application/vnd.jupyter.widget-view+json": {
       "model_id": "783fb43cf34847d0ae75a889817e42e4",
       "version_major": 2,
       "version_minor": 0
      },
      "text/plain": [
       "HBox(children=(IntProgress(value=0, description='Performing validation', max=7), HTML(value='')))"
      ]
     },
     "metadata": {},
     "output_type": "display_data"
    },
    {
     "data": {
      "application/vnd.jupyter.widget-view+json": {
       "model_id": "51e885a01983499fa79036931d9b91e6",
       "version_major": 2,
       "version_minor": 0
      },
      "text/plain": [
       "HBox(children=(IntProgress(value=0, description='Performing validation', max=7), HTML(value='')))"
      ]
     },
     "metadata": {},
     "output_type": "display_data"
    },
    {
     "data": {
      "application/vnd.jupyter.widget-view+json": {
       "model_id": "e89cf5a9c4fc4b3796a66c74a676a323",
       "version_major": 2,
       "version_minor": 0
      },
      "text/plain": [
       "HBox(children=(IntProgress(value=0, description='Performing validation', max=7), HTML(value='')))"
      ]
     },
     "metadata": {},
     "output_type": "display_data"
    },
    {
     "data": {
      "application/vnd.jupyter.widget-view+json": {
       "model_id": "8154d24840ca4025a8a435c168f70fb8",
       "version_major": 2,
       "version_minor": 0
      },
      "text/plain": [
       "HBox(children=(IntProgress(value=0, description='Performing validation', max=7), HTML(value='')))"
      ]
     },
     "metadata": {},
     "output_type": "display_data"
    },
    {
     "data": {
      "application/vnd.jupyter.widget-view+json": {
       "model_id": "91697824b32f43b0923ef5a17b8dfcae",
       "version_major": 2,
       "version_minor": 0
      },
      "text/plain": [
       "HBox(children=(IntProgress(value=0, description='Performing validation', max=7), HTML(value='')))"
      ]
     },
     "metadata": {},
     "output_type": "display_data"
    },
    {
     "data": {
      "application/vnd.jupyter.widget-view+json": {
       "model_id": "73eca645d5f844dd92f6e8d0ee18f775",
       "version_major": 2,
       "version_minor": 0
      },
      "text/plain": [
       "HBox(children=(IntProgress(value=0, description='Performing validation', max=7), HTML(value='')))"
      ]
     },
     "metadata": {},
     "output_type": "display_data"
    },
    {
     "data": {
      "application/vnd.jupyter.widget-view+json": {
       "model_id": "ff261b5990a24ec8a04e590fad8c60a4",
       "version_major": 2,
       "version_minor": 0
      },
      "text/plain": [
       "HBox(children=(IntProgress(value=0, description='Performing validation', max=7), HTML(value='')))"
      ]
     },
     "metadata": {},
     "output_type": "display_data"
    },
    {
     "data": {
      "application/vnd.jupyter.widget-view+json": {
       "model_id": "23291560bdd34d578a39298e8db66753",
       "version_major": 2,
       "version_minor": 0
      },
      "text/plain": [
       "HBox(children=(IntProgress(value=0, description='Performing validation', max=7), HTML(value='')))"
      ]
     },
     "metadata": {},
     "output_type": "display_data"
    },
    {
     "data": {
      "application/vnd.jupyter.widget-view+json": {
       "model_id": "4261a99156be45d59baed548fb8e0116",
       "version_major": 2,
       "version_minor": 0
      },
      "text/plain": [
       "HBox(children=(IntProgress(value=0, description='Performing validation', max=7), HTML(value='')))"
      ]
     },
     "metadata": {},
     "output_type": "display_data"
    },
    {
     "data": {
      "application/vnd.jupyter.widget-view+json": {
       "model_id": "09dbcc3443054ebea0315ba699397a97",
       "version_major": 2,
       "version_minor": 0
      },
      "text/plain": [
       "HBox(children=(IntProgress(value=0, description='Performing validation', max=7), HTML(value='')))"
      ]
     },
     "metadata": {},
     "output_type": "display_data"
    },
    {
     "data": {
      "application/vnd.jupyter.widget-view+json": {
       "model_id": "ed92174ab44449828afba2f66efd3943",
       "version_major": 2,
       "version_minor": 0
      },
      "text/plain": [
       "HBox(children=(IntProgress(value=0, description='Performing validation', max=7), HTML(value='')))"
      ]
     },
     "metadata": {},
     "output_type": "display_data"
    },
    {
     "data": {
      "application/vnd.jupyter.widget-view+json": {
       "model_id": "bed2e04609854ff786702ce53b65fd13",
       "version_major": 2,
       "version_minor": 0
      },
      "text/plain": [
       "HBox(children=(IntProgress(value=0, description='Performing validation', max=7), HTML(value='')))"
      ]
     },
     "metadata": {},
     "output_type": "display_data"
    },
    {
     "data": {
      "application/vnd.jupyter.widget-view+json": {
       "model_id": "3fe97501ec3a44df85672a1e4c18a731",
       "version_major": 2,
       "version_minor": 0
      },
      "text/plain": [
       "HBox(children=(IntProgress(value=0, description='Performing validation', max=7), HTML(value='')))"
      ]
     },
     "metadata": {},
     "output_type": "display_data"
    },
    {
     "data": {
      "application/vnd.jupyter.widget-view+json": {
       "model_id": "d09fc62de31d485fb272240981bca07b",
       "version_major": 2,
       "version_minor": 0
      },
      "text/plain": [
       "HBox(children=(IntProgress(value=0, description='Performing validation', max=7), HTML(value='')))"
      ]
     },
     "metadata": {},
     "output_type": "display_data"
    },
    {
     "name": "stdout",
     "output_type": "stream",
     "text": [
      "\n"
     ]
    },
    {
     "data": {
      "application/vnd.jupyter.widget-view+json": {
       "model_id": "ad4fb224e5f641549d7e756da0302535",
       "version_major": 2,
       "version_minor": 0
      },
      "text/plain": [
       "HBox(children=(IntProgress(value=0, description='Epoch 2', max=1875), HTML(value='')))"
      ]
     },
     "metadata": {},
     "output_type": "display_data"
    },
    {
     "data": {
      "application/vnd.jupyter.widget-view+json": {
       "model_id": "fba8d849e2324dd48db0a03f339954c3",
       "version_major": 2,
       "version_minor": 0
      },
      "text/plain": [
       "HBox(children=(IntProgress(value=0, description='Performing validation', max=7), HTML(value='')))"
      ]
     },
     "metadata": {},
     "output_type": "display_data"
    },
    {
     "data": {
      "application/vnd.jupyter.widget-view+json": {
       "model_id": "1f5260bf5cff4056bd5f25080beaf87a",
       "version_major": 2,
       "version_minor": 0
      },
      "text/plain": [
       "HBox(children=(IntProgress(value=0, description='Performing validation', max=7), HTML(value='')))"
      ]
     },
     "metadata": {},
     "output_type": "display_data"
    },
    {
     "data": {
      "application/vnd.jupyter.widget-view+json": {
       "model_id": "a3cdbe5f6f9949f1a55d6e6ba6835b55",
       "version_major": 2,
       "version_minor": 0
      },
      "text/plain": [
       "HBox(children=(IntProgress(value=0, description='Performing validation', max=7), HTML(value='')))"
      ]
     },
     "metadata": {},
     "output_type": "display_data"
    },
    {
     "data": {
      "application/vnd.jupyter.widget-view+json": {
       "model_id": "e92ea87b481545569eac9c113547afe3",
       "version_major": 2,
       "version_minor": 0
      },
      "text/plain": [
       "HBox(children=(IntProgress(value=0, description='Performing validation', max=7), HTML(value='')))"
      ]
     },
     "metadata": {},
     "output_type": "display_data"
    },
    {
     "data": {
      "application/vnd.jupyter.widget-view+json": {
       "model_id": "3dfd75e7e2bb47579fe5a82c3415287d",
       "version_major": 2,
       "version_minor": 0
      },
      "text/plain": [
       "HBox(children=(IntProgress(value=0, description='Performing validation', max=7), HTML(value='')))"
      ]
     },
     "metadata": {},
     "output_type": "display_data"
    },
    {
     "data": {
      "application/vnd.jupyter.widget-view+json": {
       "model_id": "74dba30454ad4550b6ef9a42ebcebba9",
       "version_major": 2,
       "version_minor": 0
      },
      "text/plain": [
       "HBox(children=(IntProgress(value=0, description='Performing validation', max=7), HTML(value='')))"
      ]
     },
     "metadata": {},
     "output_type": "display_data"
    },
    {
     "data": {
      "application/vnd.jupyter.widget-view+json": {
       "model_id": "20daed29d6d3444fb90ee37402c5d174",
       "version_major": 2,
       "version_minor": 0
      },
      "text/plain": [
       "HBox(children=(IntProgress(value=0, description='Performing validation', max=7), HTML(value='')))"
      ]
     },
     "metadata": {},
     "output_type": "display_data"
    },
    {
     "data": {
      "application/vnd.jupyter.widget-view+json": {
       "model_id": "f79811415f224167a69a4e26430f60b6",
       "version_major": 2,
       "version_minor": 0
      },
      "text/plain": [
       "HBox(children=(IntProgress(value=0, description='Performing validation', max=7), HTML(value='')))"
      ]
     },
     "metadata": {},
     "output_type": "display_data"
    },
    {
     "data": {
      "application/vnd.jupyter.widget-view+json": {
       "model_id": "023d7cb9458c405eaf3ced6bdc8c52c2",
       "version_major": 2,
       "version_minor": 0
      },
      "text/plain": [
       "HBox(children=(IntProgress(value=0, description='Performing validation', max=7), HTML(value='')))"
      ]
     },
     "metadata": {},
     "output_type": "display_data"
    },
    {
     "data": {
      "application/vnd.jupyter.widget-view+json": {
       "model_id": "0fe39971967d49deb8f8a7bb6f4e28e1",
       "version_major": 2,
       "version_minor": 0
      },
      "text/plain": [
       "HBox(children=(IntProgress(value=0, description='Performing validation', max=7), HTML(value='')))"
      ]
     },
     "metadata": {},
     "output_type": "display_data"
    },
    {
     "data": {
      "application/vnd.jupyter.widget-view+json": {
       "model_id": "2a074e99fef0420fa39da60a8c5b0321",
       "version_major": 2,
       "version_minor": 0
      },
      "text/plain": [
       "HBox(children=(IntProgress(value=0, description='Performing validation', max=7), HTML(value='')))"
      ]
     },
     "metadata": {},
     "output_type": "display_data"
    },
    {
     "data": {
      "application/vnd.jupyter.widget-view+json": {
       "model_id": "d7def0169943466fa46abc49c8b6c39a",
       "version_major": 2,
       "version_minor": 0
      },
      "text/plain": [
       "HBox(children=(IntProgress(value=0, description='Performing validation', max=7), HTML(value='')))"
      ]
     },
     "metadata": {},
     "output_type": "display_data"
    },
    {
     "data": {
      "application/vnd.jupyter.widget-view+json": {
       "model_id": "12b44f310d74482a8e78ee12e13e521f",
       "version_major": 2,
       "version_minor": 0
      },
      "text/plain": [
       "HBox(children=(IntProgress(value=0, description='Performing validation', max=7), HTML(value='')))"
      ]
     },
     "metadata": {},
     "output_type": "display_data"
    },
    {
     "data": {
      "application/vnd.jupyter.widget-view+json": {
       "model_id": "24d935a116ef4bc6ace55a442b990c3b",
       "version_major": 2,
       "version_minor": 0
      },
      "text/plain": [
       "HBox(children=(IntProgress(value=0, description='Performing validation', max=7), HTML(value='')))"
      ]
     },
     "metadata": {},
     "output_type": "display_data"
    },
    {
     "data": {
      "application/vnd.jupyter.widget-view+json": {
       "model_id": "d660e7f0e6dd4c7b8871dec623287c82",
       "version_major": 2,
       "version_minor": 0
      },
      "text/plain": [
       "HBox(children=(IntProgress(value=0, description='Performing validation', max=7), HTML(value='')))"
      ]
     },
     "metadata": {},
     "output_type": "display_data"
    },
    {
     "data": {
      "application/vnd.jupyter.widget-view+json": {
       "model_id": "ee3213cb6e3245c3880e799acc5d895c",
       "version_major": 2,
       "version_minor": 0
      },
      "text/plain": [
       "HBox(children=(IntProgress(value=0, description='Performing validation', max=7), HTML(value='')))"
      ]
     },
     "metadata": {},
     "output_type": "display_data"
    },
    {
     "data": {
      "application/vnd.jupyter.widget-view+json": {
       "model_id": "cbcf1dd5ffdb41adafea6b2232dc084f",
       "version_major": 2,
       "version_minor": 0
      },
      "text/plain": [
       "HBox(children=(IntProgress(value=0, description='Performing validation', max=7), HTML(value='')))"
      ]
     },
     "metadata": {},
     "output_type": "display_data"
    },
    {
     "data": {
      "application/vnd.jupyter.widget-view+json": {
       "model_id": "b35ec5b3b4eb4523a1f83bbd4f8cdb16",
       "version_major": 2,
       "version_minor": 0
      },
      "text/plain": [
       "HBox(children=(IntProgress(value=0, description='Performing validation', max=7), HTML(value='')))"
      ]
     },
     "metadata": {},
     "output_type": "display_data"
    },
    {
     "data": {
      "application/vnd.jupyter.widget-view+json": {
       "model_id": "b74d1d3d1e80404ea60f38b5683fb3ce",
       "version_major": 2,
       "version_minor": 0
      },
      "text/plain": [
       "HBox(children=(IntProgress(value=0, description='Performing validation', max=7), HTML(value='')))"
      ]
     },
     "metadata": {},
     "output_type": "display_data"
    },
    {
     "name": "stdout",
     "output_type": "stream",
     "text": [
      "\n"
     ]
    },
    {
     "data": {
      "application/vnd.jupyter.widget-view+json": {
       "model_id": "1acce7890946426db2e8cea8d2b9fb28",
       "version_major": 2,
       "version_minor": 0
      },
      "text/plain": [
       "HBox(children=(IntProgress(value=0, description='Epoch 3', max=1875), HTML(value='')))"
      ]
     },
     "metadata": {},
     "output_type": "display_data"
    },
    {
     "data": {
      "application/vnd.jupyter.widget-view+json": {
       "model_id": "bf241ee45a7e46fdaf260c75d6db9793",
       "version_major": 2,
       "version_minor": 0
      },
      "text/plain": [
       "HBox(children=(IntProgress(value=0, description='Performing validation', max=7), HTML(value='')))"
      ]
     },
     "metadata": {},
     "output_type": "display_data"
    },
    {
     "data": {
      "application/vnd.jupyter.widget-view+json": {
       "model_id": "a201ec810c1045cc8b47d7e565c52513",
       "version_major": 2,
       "version_minor": 0
      },
      "text/plain": [
       "HBox(children=(IntProgress(value=0, description='Performing validation', max=7), HTML(value='')))"
      ]
     },
     "metadata": {},
     "output_type": "display_data"
    },
    {
     "data": {
      "application/vnd.jupyter.widget-view+json": {
       "model_id": "f4212f154bfd45808d0cf953db01d25a",
       "version_major": 2,
       "version_minor": 0
      },
      "text/plain": [
       "HBox(children=(IntProgress(value=0, description='Performing validation', max=7), HTML(value='')))"
      ]
     },
     "metadata": {},
     "output_type": "display_data"
    },
    {
     "data": {
      "application/vnd.jupyter.widget-view+json": {
       "model_id": "b6b4ca227d0a40a8bd32bbcfa0ac561f",
       "version_major": 2,
       "version_minor": 0
      },
      "text/plain": [
       "HBox(children=(IntProgress(value=0, description='Performing validation', max=7), HTML(value='')))"
      ]
     },
     "metadata": {},
     "output_type": "display_data"
    },
    {
     "data": {
      "application/vnd.jupyter.widget-view+json": {
       "model_id": "dd9fb258dba445f0a6bf3550d29779f7",
       "version_major": 2,
       "version_minor": 0
      },
      "text/plain": [
       "HBox(children=(IntProgress(value=0, description='Performing validation', max=7), HTML(value='')))"
      ]
     },
     "metadata": {},
     "output_type": "display_data"
    },
    {
     "data": {
      "application/vnd.jupyter.widget-view+json": {
       "model_id": "8b2f6d8cb8e24d89b4337fdac54f2028",
       "version_major": 2,
       "version_minor": 0
      },
      "text/plain": [
       "HBox(children=(IntProgress(value=0, description='Performing validation', max=7), HTML(value='')))"
      ]
     },
     "metadata": {},
     "output_type": "display_data"
    },
    {
     "data": {
      "application/vnd.jupyter.widget-view+json": {
       "model_id": "213dbfbe880e4f708f204d1628935ef3",
       "version_major": 2,
       "version_minor": 0
      },
      "text/plain": [
       "HBox(children=(IntProgress(value=0, description='Performing validation', max=7), HTML(value='')))"
      ]
     },
     "metadata": {},
     "output_type": "display_data"
    },
    {
     "data": {
      "application/vnd.jupyter.widget-view+json": {
       "model_id": "d313eded36e548a395c1e56b1dfb2669",
       "version_major": 2,
       "version_minor": 0
      },
      "text/plain": [
       "HBox(children=(IntProgress(value=0, description='Performing validation', max=7), HTML(value='')))"
      ]
     },
     "metadata": {},
     "output_type": "display_data"
    },
    {
     "data": {
      "application/vnd.jupyter.widget-view+json": {
       "model_id": "58795e6f42414df7babe402e0d760311",
       "version_major": 2,
       "version_minor": 0
      },
      "text/plain": [
       "HBox(children=(IntProgress(value=0, description='Performing validation', max=7), HTML(value='')))"
      ]
     },
     "metadata": {},
     "output_type": "display_data"
    },
    {
     "data": {
      "application/vnd.jupyter.widget-view+json": {
       "model_id": "f7c79235f4c84adb93756fbf8d11a519",
       "version_major": 2,
       "version_minor": 0
      },
      "text/plain": [
       "HBox(children=(IntProgress(value=0, description='Performing validation', max=7), HTML(value='')))"
      ]
     },
     "metadata": {},
     "output_type": "display_data"
    },
    {
     "data": {
      "application/vnd.jupyter.widget-view+json": {
       "model_id": "a0384a0e0ed249c28f1ad756962a50db",
       "version_major": 2,
       "version_minor": 0
      },
      "text/plain": [
       "HBox(children=(IntProgress(value=0, description='Performing validation', max=7), HTML(value='')))"
      ]
     },
     "metadata": {},
     "output_type": "display_data"
    },
    {
     "data": {
      "application/vnd.jupyter.widget-view+json": {
       "model_id": "6d81167cd9074d5681e02a92b6340600",
       "version_major": 2,
       "version_minor": 0
      },
      "text/plain": [
       "HBox(children=(IntProgress(value=0, description='Performing validation', max=7), HTML(value='')))"
      ]
     },
     "metadata": {},
     "output_type": "display_data"
    },
    {
     "data": {
      "application/vnd.jupyter.widget-view+json": {
       "model_id": "e16c6a0074ba441bafaf783366a41d17",
       "version_major": 2,
       "version_minor": 0
      },
      "text/plain": [
       "HBox(children=(IntProgress(value=0, description='Performing validation', max=7), HTML(value='')))"
      ]
     },
     "metadata": {},
     "output_type": "display_data"
    },
    {
     "data": {
      "application/vnd.jupyter.widget-view+json": {
       "model_id": "f09322333618453595a97a957a182666",
       "version_major": 2,
       "version_minor": 0
      },
      "text/plain": [
       "HBox(children=(IntProgress(value=0, description='Performing validation', max=7), HTML(value='')))"
      ]
     },
     "metadata": {},
     "output_type": "display_data"
    },
    {
     "data": {
      "application/vnd.jupyter.widget-view+json": {
       "model_id": "69fe70d276e6460bbda982deb6cde20c",
       "version_major": 2,
       "version_minor": 0
      },
      "text/plain": [
       "HBox(children=(IntProgress(value=0, description='Performing validation', max=7), HTML(value='')))"
      ]
     },
     "metadata": {},
     "output_type": "display_data"
    },
    {
     "data": {
      "application/vnd.jupyter.widget-view+json": {
       "model_id": "0d271d1bc4cc4c06a129807e852c9512",
       "version_major": 2,
       "version_minor": 0
      },
      "text/plain": [
       "HBox(children=(IntProgress(value=0, description='Performing validation', max=7), HTML(value='')))"
      ]
     },
     "metadata": {},
     "output_type": "display_data"
    },
    {
     "data": {
      "application/vnd.jupyter.widget-view+json": {
       "model_id": "1d0953c6f86043b08b0e9e495bb8e14a",
       "version_major": 2,
       "version_minor": 0
      },
      "text/plain": [
       "HBox(children=(IntProgress(value=0, description='Performing validation', max=7), HTML(value='')))"
      ]
     },
     "metadata": {},
     "output_type": "display_data"
    },
    {
     "data": {
      "application/vnd.jupyter.widget-view+json": {
       "model_id": "7549bc3f453c4d6bbf7879c3f8b1cb7f",
       "version_major": 2,
       "version_minor": 0
      },
      "text/plain": [
       "HBox(children=(IntProgress(value=0, description='Performing validation', max=7), HTML(value='')))"
      ]
     },
     "metadata": {},
     "output_type": "display_data"
    },
    {
     "data": {
      "application/vnd.jupyter.widget-view+json": {
       "model_id": "22831e9e053248b7a97cd7d6efd3268c",
       "version_major": 2,
       "version_minor": 0
      },
      "text/plain": [
       "HBox(children=(IntProgress(value=0, description='Performing validation', max=7), HTML(value='')))"
      ]
     },
     "metadata": {},
     "output_type": "display_data"
    },
    {
     "name": "stdout",
     "output_type": "stream",
     "text": [
      "\n"
     ]
    },
    {
     "data": {
      "application/vnd.jupyter.widget-view+json": {
       "model_id": "302d0267b56040408541a86ee9cc256e",
       "version_major": 2,
       "version_minor": 0
      },
      "text/plain": [
       "HBox(children=(IntProgress(value=0, description='Epoch 4', max=1875), HTML(value='')))"
      ]
     },
     "metadata": {},
     "output_type": "display_data"
    },
    {
     "ename": "KeyboardInterrupt",
     "evalue": "",
     "output_type": "error",
     "traceback": [
      "\u001b[0;31m---------------------------------------------------------------------------\u001b[0m",
      "\u001b[0;31mKeyboardInterrupt\u001b[0m                         Traceback (most recent call last)",
      "\u001b[0;32m<ipython-input-12-4c19cf452022>\u001b[0m in \u001b[0;36m<module>\u001b[0;34m\u001b[0m\n\u001b[1;32m     61\u001b[0m         \u001b[0mcnt\u001b[0m \u001b[0;34m+=\u001b[0m \u001b[0;36m1\u001b[0m\u001b[0;34m\u001b[0m\u001b[0;34m\u001b[0m\u001b[0m\n\u001b[1;32m     62\u001b[0m         \u001b[0moptimizer\u001b[0m\u001b[0;34m.\u001b[0m\u001b[0mzero_grad\u001b[0m\u001b[0;34m(\u001b[0m\u001b[0;34m)\u001b[0m\u001b[0;34m\u001b[0m\u001b[0;34m\u001b[0m\u001b[0m\n\u001b[0;32m---> 63\u001b[0;31m         \u001b[0mloss\u001b[0m \u001b[0;34m=\u001b[0m \u001b[0mperform_batch_operation\u001b[0m\u001b[0;34m(\u001b[0m\u001b[0mbatch\u001b[0m\u001b[0;34m)\u001b[0m\u001b[0;34m\u001b[0m\u001b[0;34m\u001b[0m\u001b[0m\n\u001b[0m\u001b[1;32m     64\u001b[0m \u001b[0;34m\u001b[0m\u001b[0m\n\u001b[1;32m     65\u001b[0m         \u001b[0mloss\u001b[0m\u001b[0;34m.\u001b[0m\u001b[0mbackward\u001b[0m\u001b[0;34m(\u001b[0m\u001b[0;34m)\u001b[0m\u001b[0;34m\u001b[0m\u001b[0;34m\u001b[0m\u001b[0m\n",
      "\u001b[0;32m<ipython-input-12-4c19cf452022>\u001b[0m in \u001b[0;36mperform_batch_operation\u001b[0;34m(batch)\u001b[0m\n\u001b[1;32m     40\u001b[0m         metadata = torch.stack(\n\u001b[1;32m     41\u001b[0m             [from_numpy(metadata).unsqueeze(0) for _ in range(CONFIG.TRAIN_AUG_RATIO)]).float().cuda()\n\u001b[0;32m---> 42\u001b[0;31m         \u001b[0mout_masks\u001b[0m\u001b[0;34m,\u001b[0m \u001b[0mout_bboxes_masks\u001b[0m \u001b[0;34m=\u001b[0m \u001b[0mnet\u001b[0m\u001b[0;34m(\u001b[0m\u001b[0maug_images\u001b[0m\u001b[0;34m,\u001b[0m \u001b[0maug_t_images\u001b[0m\u001b[0;34m,\u001b[0m \u001b[0mmetadata\u001b[0m\u001b[0;34m)\u001b[0m\u001b[0;34m\u001b[0m\u001b[0;34m\u001b[0m\u001b[0m\n\u001b[0m\u001b[1;32m     43\u001b[0m         \u001b[0ml1\u001b[0m \u001b[0;34m=\u001b[0m \u001b[0;36m0.7\u001b[0m \u001b[0;34m*\u001b[0m \u001b[0mloss_function\u001b[0m\u001b[0;34m(\u001b[0m\u001b[0mout_masks\u001b[0m\u001b[0;34m.\u001b[0m\u001b[0mview\u001b[0m\u001b[0;34m(\u001b[0m\u001b[0;36m1\u001b[0m\u001b[0;34m,\u001b[0m \u001b[0;34m-\u001b[0m\u001b[0;36m1\u001b[0m\u001b[0;34m)\u001b[0m\u001b[0;34m.\u001b[0m\u001b[0mfloat\u001b[0m\u001b[0;34m(\u001b[0m\u001b[0;34m)\u001b[0m\u001b[0;34m,\u001b[0m \u001b[0maug_masks\u001b[0m\u001b[0;34m.\u001b[0m\u001b[0mview\u001b[0m\u001b[0;34m(\u001b[0m\u001b[0;36m1\u001b[0m\u001b[0;34m,\u001b[0m \u001b[0;34m-\u001b[0m\u001b[0;36m1\u001b[0m\u001b[0;34m)\u001b[0m\u001b[0;34m.\u001b[0m\u001b[0mfloat\u001b[0m\u001b[0;34m(\u001b[0m\u001b[0;34m)\u001b[0m\u001b[0;34m)\u001b[0m\u001b[0;34m\u001b[0m\u001b[0;34m\u001b[0m\u001b[0m\n\u001b[1;32m     44\u001b[0m         \u001b[0ml2\u001b[0m \u001b[0;34m=\u001b[0m \u001b[0;36m0.3\u001b[0m \u001b[0;34m*\u001b[0m \u001b[0mloss_function\u001b[0m\u001b[0;34m(\u001b[0m\u001b[0mout_bboxes_masks\u001b[0m\u001b[0;34m.\u001b[0m\u001b[0mview\u001b[0m\u001b[0;34m(\u001b[0m\u001b[0;36m1\u001b[0m\u001b[0;34m,\u001b[0m \u001b[0;34m-\u001b[0m\u001b[0;36m1\u001b[0m\u001b[0;34m)\u001b[0m\u001b[0;34m.\u001b[0m\u001b[0mfloat\u001b[0m\u001b[0;34m(\u001b[0m\u001b[0;34m)\u001b[0m\u001b[0;34m,\u001b[0m \u001b[0mbboxes_masks\u001b[0m\u001b[0;34m.\u001b[0m\u001b[0mview\u001b[0m\u001b[0;34m(\u001b[0m\u001b[0;36m1\u001b[0m\u001b[0;34m,\u001b[0m \u001b[0;34m-\u001b[0m\u001b[0;36m1\u001b[0m\u001b[0;34m)\u001b[0m\u001b[0;34m.\u001b[0m\u001b[0mfloat\u001b[0m\u001b[0;34m(\u001b[0m\u001b[0;34m)\u001b[0m\u001b[0;34m)\u001b[0m\u001b[0;34m\u001b[0m\u001b[0;34m\u001b[0m\u001b[0m\n",
      "\u001b[0;32m~/Code/kaggle/.venv/lib/python3.6/site-packages/torch/nn/modules/module.py\u001b[0m in \u001b[0;36m__call__\u001b[0;34m(self, *input, **kwargs)\u001b[0m\n\u001b[1;32m    491\u001b[0m             \u001b[0mresult\u001b[0m \u001b[0;34m=\u001b[0m \u001b[0mself\u001b[0m\u001b[0;34m.\u001b[0m\u001b[0m_slow_forward\u001b[0m\u001b[0;34m(\u001b[0m\u001b[0;34m*\u001b[0m\u001b[0minput\u001b[0m\u001b[0;34m,\u001b[0m \u001b[0;34m**\u001b[0m\u001b[0mkwargs\u001b[0m\u001b[0;34m)\u001b[0m\u001b[0;34m\u001b[0m\u001b[0;34m\u001b[0m\u001b[0m\n\u001b[1;32m    492\u001b[0m         \u001b[0;32melse\u001b[0m\u001b[0;34m:\u001b[0m\u001b[0;34m\u001b[0m\u001b[0;34m\u001b[0m\u001b[0m\n\u001b[0;32m--> 493\u001b[0;31m             \u001b[0mresult\u001b[0m \u001b[0;34m=\u001b[0m \u001b[0mself\u001b[0m\u001b[0;34m.\u001b[0m\u001b[0mforward\u001b[0m\u001b[0;34m(\u001b[0m\u001b[0;34m*\u001b[0m\u001b[0minput\u001b[0m\u001b[0;34m,\u001b[0m \u001b[0;34m**\u001b[0m\u001b[0mkwargs\u001b[0m\u001b[0;34m)\u001b[0m\u001b[0;34m\u001b[0m\u001b[0;34m\u001b[0m\u001b[0m\n\u001b[0m\u001b[1;32m    494\u001b[0m         \u001b[0;32mfor\u001b[0m \u001b[0mhook\u001b[0m \u001b[0;32min\u001b[0m \u001b[0mself\u001b[0m\u001b[0;34m.\u001b[0m\u001b[0m_forward_hooks\u001b[0m\u001b[0;34m.\u001b[0m\u001b[0mvalues\u001b[0m\u001b[0;34m(\u001b[0m\u001b[0;34m)\u001b[0m\u001b[0;34m:\u001b[0m\u001b[0;34m\u001b[0m\u001b[0;34m\u001b[0m\u001b[0m\n\u001b[1;32m    495\u001b[0m             \u001b[0mhook_result\u001b[0m \u001b[0;34m=\u001b[0m \u001b[0mhook\u001b[0m\u001b[0;34m(\u001b[0m\u001b[0mself\u001b[0m\u001b[0;34m,\u001b[0m \u001b[0minput\u001b[0m\u001b[0;34m,\u001b[0m \u001b[0mresult\u001b[0m\u001b[0;34m)\u001b[0m\u001b[0;34m\u001b[0m\u001b[0;34m\u001b[0m\u001b[0m\n",
      "\u001b[0;32m<ipython-input-7-f4f64cc78e85>\u001b[0m in \u001b[0;36mforward\u001b[0;34m(self, inputs, t_inputs, metadata_inputs)\u001b[0m\n\u001b[1;32m     31\u001b[0m         \u001b[0mfeature_map_outputs\u001b[0m \u001b[0;34m=\u001b[0m \u001b[0mself\u001b[0m\u001b[0;34m.\u001b[0m\u001b[0mfeatures_model\u001b[0m\u001b[0;34m.\u001b[0m\u001b[0mfeatures\u001b[0m\u001b[0;34m(\u001b[0m\u001b[0mt_inputs\u001b[0m\u001b[0;34m)\u001b[0m\u001b[0;34m\u001b[0m\u001b[0;34m\u001b[0m\u001b[0m\n\u001b[1;32m     32\u001b[0m         \u001b[0mbboxes_mask\u001b[0m \u001b[0;34m=\u001b[0m \u001b[0mself\u001b[0m\u001b[0;34m.\u001b[0m\u001b[0mbbox_layer\u001b[0m\u001b[0;34m(\u001b[0m\u001b[0minputs\u001b[0m\u001b[0;34m,\u001b[0m \u001b[0mfeature_map_outputs\u001b[0m\u001b[0;34m,\u001b[0m \u001b[0mmetadata_inputs\u001b[0m\u001b[0;34m)\u001b[0m\u001b[0;34m\u001b[0m\u001b[0;34m\u001b[0m\u001b[0m\n\u001b[0;32m---> 33\u001b[0;31m         \u001b[0mbboxes_group\u001b[0m \u001b[0;34m=\u001b[0m \u001b[0mself\u001b[0m\u001b[0;34m.\u001b[0m\u001b[0mbbox_layer\u001b[0m\u001b[0;34m.\u001b[0m\u001b[0mget_bboxes\u001b[0m\u001b[0;34m(\u001b[0m\u001b[0;34m)\u001b[0m\u001b[0;34m\u001b[0m\u001b[0;34m\u001b[0m\u001b[0m\n\u001b[0m\u001b[1;32m     34\u001b[0m         \u001b[0mmasks\u001b[0m \u001b[0;34m=\u001b[0m \u001b[0;34m[\u001b[0m\u001b[0;34m]\u001b[0m\u001b[0;34m\u001b[0m\u001b[0;34m\u001b[0m\u001b[0m\n\u001b[1;32m     35\u001b[0m         \u001b[0;32mfor\u001b[0m \u001b[0mbboxes\u001b[0m\u001b[0;34m,\u001b[0m \u001b[0minp\u001b[0m \u001b[0;32min\u001b[0m \u001b[0mzip\u001b[0m\u001b[0;34m(\u001b[0m\u001b[0mbboxes_group\u001b[0m\u001b[0;34m,\u001b[0m \u001b[0minputs\u001b[0m\u001b[0;34m)\u001b[0m\u001b[0;34m:\u001b[0m\u001b[0;34m\u001b[0m\u001b[0;34m\u001b[0m\u001b[0m\n",
      "\u001b[0;32m~/Code/kaggle/custom-pytorch/custom_pytorch/custom_layers/bbox_layer.py\u001b[0m in \u001b[0;36mget_bboxes\u001b[0;34m(self, outputs)\u001b[0m\n\u001b[1;32m    122\u001b[0m         \u001b[0mbboxes\u001b[0m \u001b[0;34m=\u001b[0m \u001b[0;34m[\u001b[0m\u001b[0;34m]\u001b[0m\u001b[0;34m\u001b[0m\u001b[0;34m\u001b[0m\u001b[0m\n\u001b[1;32m    123\u001b[0m         \u001b[0;32mfor\u001b[0m \u001b[0mout\u001b[0m \u001b[0;32min\u001b[0m \u001b[0moutputs\u001b[0m\u001b[0;34m:\u001b[0m\u001b[0;34m\u001b[0m\u001b[0;34m\u001b[0m\u001b[0m\n\u001b[0;32m--> 124\u001b[0;31m             \u001b[0mul_locs\u001b[0m \u001b[0;34m=\u001b[0m \u001b[0mself\u001b[0m\u001b[0;34m.\u001b[0m\u001b[0m_get_centroids\u001b[0m\u001b[0;34m(\u001b[0m\u001b[0mout\u001b[0m\u001b[0;34m[\u001b[0m\u001b[0;36m0\u001b[0m\u001b[0;34m,\u001b[0m \u001b[0;34m:\u001b[0m\u001b[0;34m,\u001b[0m \u001b[0;34m:\u001b[0m\u001b[0;34m]\u001b[0m\u001b[0;34m)\u001b[0m\u001b[0;34m\u001b[0m\u001b[0;34m\u001b[0m\u001b[0m\n\u001b[0m\u001b[1;32m    125\u001b[0m             \u001b[0mur_locs\u001b[0m \u001b[0;34m=\u001b[0m \u001b[0mself\u001b[0m\u001b[0;34m.\u001b[0m\u001b[0m_get_centroids\u001b[0m\u001b[0;34m(\u001b[0m\u001b[0mout\u001b[0m\u001b[0;34m[\u001b[0m\u001b[0;36m1\u001b[0m\u001b[0;34m,\u001b[0m \u001b[0;34m:\u001b[0m\u001b[0;34m,\u001b[0m \u001b[0;34m:\u001b[0m\u001b[0;34m]\u001b[0m\u001b[0;34m)\u001b[0m\u001b[0;34m\u001b[0m\u001b[0;34m\u001b[0m\u001b[0m\n\u001b[1;32m    126\u001b[0m             \u001b[0mbl_locs\u001b[0m \u001b[0;34m=\u001b[0m \u001b[0mself\u001b[0m\u001b[0;34m.\u001b[0m\u001b[0m_get_centroids\u001b[0m\u001b[0;34m(\u001b[0m\u001b[0mout\u001b[0m\u001b[0;34m[\u001b[0m\u001b[0;36m2\u001b[0m\u001b[0;34m,\u001b[0m \u001b[0;34m:\u001b[0m\u001b[0;34m,\u001b[0m \u001b[0;34m:\u001b[0m\u001b[0;34m]\u001b[0m\u001b[0;34m)\u001b[0m\u001b[0;34m\u001b[0m\u001b[0;34m\u001b[0m\u001b[0m\n",
      "\u001b[0;32m~/Code/kaggle/custom-pytorch/custom_pytorch/custom_layers/bbox_layer.py\u001b[0m in \u001b[0;36m_get_centroids\u001b[0;34m(self, img)\u001b[0m\n\u001b[1;32m     62\u001b[0m     \u001b[0;32mdef\u001b[0m \u001b[0m_get_centroids\u001b[0m\u001b[0;34m(\u001b[0m\u001b[0mself\u001b[0m\u001b[0;34m,\u001b[0m \u001b[0mimg\u001b[0m\u001b[0;34m)\u001b[0m\u001b[0;34m:\u001b[0m\u001b[0;34m\u001b[0m\u001b[0;34m\u001b[0m\u001b[0m\n\u001b[1;32m     63\u001b[0m         _, _, _, centroids = cv2.connectedComponentsWithStats(\n\u001b[0;32m---> 64\u001b[0;31m             (img > 0.5).astype(np.uint8))\n\u001b[0m\u001b[1;32m     65\u001b[0m \u001b[0;34m\u001b[0m\u001b[0m\n\u001b[1;32m     66\u001b[0m         \u001b[0;32mreturn\u001b[0m \u001b[0;34m[\u001b[0m\u001b[0mtuple\u001b[0m\u001b[0;34m(\u001b[0m\u001b[0mloc\u001b[0m\u001b[0;34m)\u001b[0m \u001b[0;32mfor\u001b[0m \u001b[0mloc\u001b[0m \u001b[0;32min\u001b[0m \u001b[0mcentroids\u001b[0m\u001b[0;34m]\u001b[0m\u001b[0;34m\u001b[0m\u001b[0;34m\u001b[0m\u001b[0m\n",
      "\u001b[0;31mKeyboardInterrupt\u001b[0m: "
     ]
    }
   ],
   "source": [
    "net.train()\n",
    "loss_function = torch.nn.BCEWithLogitsLoss()\n",
    "from torch import from_numpy\n",
    "epochs_num = 20\n",
    "feats_transforms = utils.TransformImage(net.features_model)\n",
    "\n",
    "def get_model_name(epoch, train_loss, valid_loss):\n",
    "    return \"D_%s_DS_%d_Ep_%d_TL_%.2f_VL_%.2f.pkl\"%(\n",
    "        str(datetime.datetime.now()).replace(' ', '_'),\n",
    "        CONFIG.TRAIN_SIZE, epoch, train_loss, valid_loss)\n",
    "\n",
    "def create_augmented_images(image, t_image, mask):\n",
    "    res_images = []\n",
    "    res_masks = []\n",
    "    res_t_images = []\n",
    "    \n",
    "    for cnt in range(CONFIG.TRAIN_AUG_RATIO):\n",
    "        res = inputs_transformations(image=image, mask=mask)\n",
    "        res_images.append(res['image'].unsqueeze(0))\n",
    "        res_t_images.append(feats_transforms(Image.fromarray(res['image'].data.numpy(), 'RGB')))\n",
    "        res_masks.append(res['mask'])\n",
    "    return torch.stack(res_images), torch.stack(res_t_images), torch.stack(res_masks)\n",
    "        \n",
    "        \n",
    "\n",
    "def perform_batch_operation(batch):\n",
    "    images = batch[0]\n",
    "    t_images = batch[1]\n",
    "    metadatas = batch[2]\n",
    "    masks = batch[3]\n",
    "    loss = None\n",
    "    \n",
    "    for cnt, (image, t_image, mask, metadata) in enumerate(zip(images, t_images, masks, metadatas)):\n",
    "        aug_images, aug_t_images, aug_masks = create_augmented_images(image, t_image, mask)\n",
    "        aug_images = aug_images.float().cuda()\n",
    "        aug_t_images = aug_t_images.float().cuda()\n",
    "        bboxes_masks = torch.stack([from_numpy(\n",
    "            create_bboxes_mask_from_mask(mask.data.numpy()[0, ...])) for mask in aug_masks]).float().cuda()\n",
    "        aug_masks = aug_masks.cuda()\n",
    "        metadata = torch.stack(\n",
    "            [from_numpy(metadata).unsqueeze(0) for _ in range(CONFIG.TRAIN_AUG_RATIO)]).float().cuda()\n",
    "        out_masks, out_bboxes_masks = net(aug_images, aug_t_images, metadata)\n",
    "        l1 = 0.7 * loss_function(out_masks.view(1, -1).float(), aug_masks.view(1, -1).float())\n",
    "        l2 = 0.3 * loss_function(out_bboxes_masks.view(1, -1).float(), bboxes_masks.view(1, -1).float())\n",
    "        l = l1 + l2\n",
    "        if loss is None:\n",
    "            loss = l\n",
    "        else:\n",
    "            loss += l\n",
    "    return loss\n",
    "train_losses = {}\n",
    "valid_losses = {}\n",
    "step = 0\n",
    "run_validation_every_n_steps = 100\n",
    "for epoch in range(epochs_num):\n",
    "    iterator = tqdm(train_loader, desc=f'Epoch {epoch + 1}')\n",
    "    train_loss = 0\n",
    "    valid_loss = None\n",
    "    cnt = 0\n",
    "    for batch in iterator:\n",
    "        cnt += 1\n",
    "        optimizer.zero_grad()\n",
    "        loss = perform_batch_operation(batch)\n",
    "        \n",
    "        loss.backward()\n",
    "        \n",
    "        optimizer.step()\n",
    "        loss = loss.cpu().data.numpy()\n",
    "        train_losses[step] = loss\n",
    "        train_loss += loss\n",
    "        \n",
    "        if cnt == 0 or step % run_validation_every_n_steps == 0:\n",
    "            with torch.no_grad():\n",
    "                valid_loss = 0\n",
    "                v_cnt = 0\n",
    "                for batch in tqdm(valid_loader, desc='Performing validation'):\n",
    "                    v_cnt += 1\n",
    "                    loss = perform_batch_operation(batch)\n",
    "                    valid_loss += loss.cpu().data.numpy()\n",
    "                valid_loss = valid_loss / min(\n",
    "                    CONFIG.VALID_SIZE, CONFIG.BATCH_SIZE * v_cnt * CONFIG.TRAIN_AUG_RATIO)\n",
    "                valid_losses[step] = valid_loss\n",
    "        iterator.set_description(\n",
    "            'Epoch: %d \\n TLoss: %.3f, VLoss: %s'%(\n",
    "                epoch + 1, train_loss / min(CONFIG.TRAIN_SIZE, CONFIG.BATCH_SIZE * CONFIG.TRAIN_AUG_RATIO * cnt),\n",
    "                'None' if valid_loss is None else '%.3f'%(valid_loss)))\n",
    "        step += 1\n",
    "    train_loss = train_loss / CONFIG.TRAIN_SIZE\n",
    "    torch.save({\n",
    "            'epoch': epoch,\n",
    "            'model_state_dict': net.state_dict(),\n",
    "            'optimizer_state_dict': optimizer.state_dict(),\n",
    "            't_losses': train_losses,\n",
    "            'v_losses': valid_losses,\n",
    "            'config':CONFIG}, os.path.join(MODEL_SAVE_DIR, get_model_name(epoch, train_loss, valid_loss))\n",
    "            )\n",
    "    \n",
    "            \n",
    "    \n",
    "    "
   ]
  },
  {
   "cell_type": "code",
   "execution_count": null,
   "metadata": {},
   "outputs": [],
   "source": [
    "masks[0]"
   ]
  },
  {
   "cell_type": "code",
   "execution_count": null,
   "metadata": {},
   "outputs": [],
   "source": [
    "'1.2.276.0.7230010.3.1.4.8323329.14292.1517875250.605080' in dataset.metadata.index"
   ]
  },
  {
   "cell_type": "code",
   "execution_count": null,
   "metadata": {},
   "outputs": [],
   "source": [
    "len(dataset.metadata)"
   ]
  },
  {
   "cell_type": "code",
   "execution_count": null,
   "metadata": {},
   "outputs": [],
   "source": [
    "plt.plot(sorted(train_losses), [train_losses[key] for key in sorted(train_losses)])"
   ]
  },
  {
   "cell_type": "code",
   "execution_count": null,
   "metadata": {},
   "outputs": [],
   "source": [
    "from torchviz import make_dot\n",
    "make_dot(out, params=dict(net.named_parameters()))"
   ]
  },
  {
   "cell_type": "code",
   "execution_count": null,
   "metadata": {},
   "outputs": [],
   "source": [
    "net.features_model"
   ]
  },
  {
   "cell_type": "code",
   "execution_count": null,
   "metadata": {},
   "outputs": [],
   "source": [
    "train_losses"
   ]
  },
  {
   "cell_type": "code",
   "execution_count": null,
   "metadata": {},
   "outputs": [],
   "source": [
    "valid_losses"
   ]
  },
  {
   "cell_type": "code",
   "execution_count": null,
   "metadata": {},
   "outputs": [],
   "source": []
  }
 ],
 "metadata": {
  "kernelspec": {
   "display_name": "kaggle",
   "language": "python",
   "name": "kaggle"
  },
  "language_info": {
   "codemirror_mode": {
    "name": "ipython",
    "version": 3
   },
   "file_extension": ".py",
   "mimetype": "text/x-python",
   "name": "python",
   "nbconvert_exporter": "python",
   "pygments_lexer": "ipython3",
   "version": "3.6.8"
  },
  "toc": {
   "base_numbering": 1,
   "nav_menu": {},
   "number_sections": true,
   "sideBar": true,
   "skip_h1_title": false,
   "title_cell": "Table of Contents",
   "title_sidebar": "Contents",
   "toc_cell": false,
   "toc_position": {},
   "toc_section_display": true,
   "toc_window_display": false
  },
  "varInspector": {
   "cols": {
    "lenName": 16,
    "lenType": 16,
    "lenVar": 40
   },
   "kernels_config": {
    "python": {
     "delete_cmd_postfix": "",
     "delete_cmd_prefix": "del ",
     "library": "var_list.py",
     "varRefreshCmd": "print(var_dic_list())"
    },
    "r": {
     "delete_cmd_postfix": ") ",
     "delete_cmd_prefix": "rm(",
     "library": "var_list.r",
     "varRefreshCmd": "cat(var_dic_list()) "
    }
   },
   "types_to_exclude": [
    "module",
    "function",
    "builtin_function_or_method",
    "instance",
    "_Feature"
   ],
   "window_display": false
  }
 },
 "nbformat": 4,
 "nbformat_minor": 2
}
