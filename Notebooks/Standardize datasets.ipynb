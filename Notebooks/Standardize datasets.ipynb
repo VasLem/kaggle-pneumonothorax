{
 "cells": [
  {
   "cell_type": "code",
   "execution_count": 1,
   "metadata": {},
   "outputs": [],
   "source": [
    "import matplotlib.pyplot as plt\n",
    "import pydicom\n",
    "import pandas as pd\n",
    "import cv2\n",
    "import numpy as np"
   ]
  },
  {
   "cell_type": "code",
   "execution_count": 2,
   "metadata": {},
   "outputs": [],
   "source": [
    "import sys\n",
    "sys.path.insert(0, '../../input/siim-acr-pneumothorax-segmentation')\n",
    "import fastai\n",
    "from mask_functions import rle2mask, mask2rle"
   ]
  },
  {
   "cell_type": "code",
   "execution_count": 3,
   "metadata": {},
   "outputs": [],
   "source": [
    "import os\n",
    "DATA_DIR = '../../input/pneumonothorax-data'\n",
    "TRAIN_DIR = os.path.join(DATA_DIR, 'dicom-images-train')\n",
    "NEW_TRAIN_DIR = os.path.join(DATA_DIR, 'train','images')\n",
    "TEST_DIR = os.path.join(DATA_DIR, 'dicom-images-test')\n",
    "NEW_TEST_DIR = os.path.join(DATA_DIR, 'test', 'images')\n",
    "ANNOT_PATH = os.path.join(DATA_DIR, \"train-rle.csv\")\n",
    "NEW_ANNOT_DIR = os.path.join(DATA_DIR, 'train', 'masks')\n",
    "\n",
    "NEW_TRAIN_METADATA_PATH = os.path.join(DATA_DIR, 'train','metadata.csv')\n",
    "NEW_TEST_METADATA_PATH = os.path.join(DATA_DIR, 'test','metadata.csv')\n",
    "def create_dir(direc):\n",
    "    try:\n",
    "        os.makedirs(direc)\n",
    "    except OSError:\n",
    "        pass\n",
    "create_dir(NEW_TRAIN_DIR)\n",
    "create_dir(NEW_TEST_DIR)\n",
    "create_dir(NEW_ANNOT_DIR)\n"
   ]
  },
  {
   "cell_type": "code",
   "execution_count": 4,
   "metadata": {},
   "outputs": [],
   "source": [
    "\n",
    "\n",
    "def drop_unusable_cols(metadata):\n",
    "    metadata.replace('', np.nan, inplace=True)\n",
    "    metadata.dropna(how='all', axis=1, inplace=True)\n",
    "    for col in metadata:\n",
    "        try:\n",
    "            if col != 'ImageId' and (metadata[col].nunique() == 1 or\n",
    "                metadata[col].nunique() == len(metadata[col])):\n",
    "                metadata.drop(col, axis=1, inplace=True)\n",
    "        except TypeError:\n",
    "            pass\n",
    "def convert_datasets(img_dir, annot_path, img_save_dir, mask_save_dir, metadata_save_path):\n",
    "    metadata = {}\n",
    "    if annot_path:\n",
    "        annotation = pd.read_csv(annot_path, index_col='ImageId')\n",
    "    for root, _, fils in os.walk(img_dir):\n",
    "        for fil in fils:\n",
    "            fil = os.path.join(root, fils[0])\n",
    "            image_id = os.path.splitext(os.path.basename(fil))[0]\n",
    "            dataset = pydicom.dcmread(fil)\n",
    "            if not metadata:\n",
    "                metadata = {k: [] for k in dataset.trait_names() if k[0].isupper() and k != 'PixelData'}\n",
    "                metadata['ImageId'] = []\n",
    "            cv2.imwrite(os.path.join(img_save_dir, image_id + '.png'), dataset.pixel_array)\n",
    "            for name in metadata:\n",
    "                if name != 'ImageId':\n",
    "                    metadata[name].append(getattr(dataset, name))\n",
    "            metadata['ImageId'].append(image_id)\n",
    "            if annot_path:\n",
    "                try:\n",
    "                    rle_code = annotation.loc[image_id, :][0][1:]\n",
    "                    if rle_code == '-1':\n",
    "                        continue\n",
    "                    rle_mask = rle2mask(\n",
    "                        rle_code,\n",
    "                        dataset.pixel_array.shape[1], dataset.pixel_array.shape[0]).T\n",
    "                    cv2.imwrite(os.path.join(mask_save_dir, image_id + '.png'), rle_mask)\n",
    "                except KeyError:\n",
    "                    pass\n",
    "    metadata = pd.DataFrame(metadata)\n",
    "    drop_unusable_cols(metadata)\n",
    "    metadata.to_csv(metadata_save_path, index=False)\n",
    "    return metadata\n"
   ]
  },
  {
   "cell_type": "code",
   "execution_count": 5,
   "metadata": {},
   "outputs": [],
   "source": [
    "test_metadata = convert_datasets(TEST_DIR, None, NEW_TEST_DIR, None, NEW_TEST_METADATA_PATH)"
   ]
  },
  {
   "cell_type": "code",
   "execution_count": 6,
   "metadata": {},
   "outputs": [],
   "source": [
    "train_metadata = convert_datasets(TRAIN_DIR, ANNOT_PATH, NEW_TRAIN_DIR, NEW_ANNOT_DIR, NEW_TRAIN_METADATA_PATH)"
   ]
  },
  {
   "cell_type": "code",
   "execution_count": 7,
   "metadata": {},
   "outputs": [
    {
     "data": {
      "text/html": [
       "<div>\n",
       "<style scoped>\n",
       "    .dataframe tbody tr th:only-of-type {\n",
       "        vertical-align: middle;\n",
       "    }\n",
       "\n",
       "    .dataframe tbody tr th {\n",
       "        vertical-align: top;\n",
       "    }\n",
       "\n",
       "    .dataframe thead th {\n",
       "        text-align: right;\n",
       "    }\n",
       "</style>\n",
       "<table border=\"1\" class=\"dataframe\">\n",
       "  <thead>\n",
       "    <tr style=\"text-align: right;\">\n",
       "      <th></th>\n",
       "      <th>PatientAge</th>\n",
       "      <th>PatientSex</th>\n",
       "      <th>PixelSpacing</th>\n",
       "      <th>SeriesDescription</th>\n",
       "      <th>ViewPosition</th>\n",
       "      <th>ImageId</th>\n",
       "    </tr>\n",
       "  </thead>\n",
       "  <tbody>\n",
       "    <tr>\n",
       "      <th>0</th>\n",
       "      <td>81</td>\n",
       "      <td>M</td>\n",
       "      <td>[0.14300000000000002, 0.14300000000000002]</td>\n",
       "      <td>view: PA</td>\n",
       "      <td>PA</td>\n",
       "      <td>1.2.276.0.7230010.3.1.4.8323329.5797.151787519...</td>\n",
       "    </tr>\n",
       "    <tr>\n",
       "      <th>1</th>\n",
       "      <td>26</td>\n",
       "      <td>M</td>\n",
       "      <td>[0.14300000000000002, 0.14300000000000002]</td>\n",
       "      <td>view: PA</td>\n",
       "      <td>PA</td>\n",
       "      <td>1.2.276.0.7230010.3.1.4.8323329.5798.151787519...</td>\n",
       "    </tr>\n",
       "    <tr>\n",
       "      <th>2</th>\n",
       "      <td>58</td>\n",
       "      <td>M</td>\n",
       "      <td>[0.168, 0.168]</td>\n",
       "      <td>view: AP</td>\n",
       "      <td>AP</td>\n",
       "      <td>1.2.276.0.7230010.3.1.4.8323329.5799.151787519...</td>\n",
       "    </tr>\n",
       "    <tr>\n",
       "      <th>3</th>\n",
       "      <td>51</td>\n",
       "      <td>F</td>\n",
       "      <td>[0.19431099999999998, 0.19431099999999998]</td>\n",
       "      <td>view: PA</td>\n",
       "      <td>PA</td>\n",
       "      <td>1.2.276.0.7230010.3.1.4.8323329.580.1517875163...</td>\n",
       "    </tr>\n",
       "    <tr>\n",
       "      <th>4</th>\n",
       "      <td>68</td>\n",
       "      <td>F</td>\n",
       "      <td>[0.171, 0.171]</td>\n",
       "      <td>view: AP</td>\n",
       "      <td>AP</td>\n",
       "      <td>1.2.276.0.7230010.3.1.4.8323329.5800.151787519...</td>\n",
       "    </tr>\n",
       "  </tbody>\n",
       "</table>\n",
       "</div>"
      ],
      "text/plain": [
       "  PatientAge PatientSex                                PixelSpacing  \\\n",
       "0         81          M  [0.14300000000000002, 0.14300000000000002]   \n",
       "1         26          M  [0.14300000000000002, 0.14300000000000002]   \n",
       "2         58          M                              [0.168, 0.168]   \n",
       "3         51          F  [0.19431099999999998, 0.19431099999999998]   \n",
       "4         68          F                              [0.171, 0.171]   \n",
       "\n",
       "  SeriesDescription ViewPosition  \\\n",
       "0          view: PA           PA   \n",
       "1          view: PA           PA   \n",
       "2          view: AP           AP   \n",
       "3          view: PA           PA   \n",
       "4          view: AP           AP   \n",
       "\n",
       "                                             ImageId  \n",
       "0  1.2.276.0.7230010.3.1.4.8323329.5797.151787519...  \n",
       "1  1.2.276.0.7230010.3.1.4.8323329.5798.151787519...  \n",
       "2  1.2.276.0.7230010.3.1.4.8323329.5799.151787519...  \n",
       "3  1.2.276.0.7230010.3.1.4.8323329.580.1517875163...  \n",
       "4  1.2.276.0.7230010.3.1.4.8323329.5800.151787519...  "
      ]
     },
     "execution_count": 7,
     "metadata": {},
     "output_type": "execute_result"
    }
   ],
   "source": [
    "test_metadata.head()"
   ]
  },
  {
   "cell_type": "code",
   "execution_count": null,
   "metadata": {},
   "outputs": [],
   "source": []
  }
 ],
 "metadata": {
  "kernelspec": {
   "display_name": "kaggle",
   "language": "python",
   "name": "kaggle"
  },
  "language_info": {
   "codemirror_mode": {
    "name": "ipython",
    "version": 3
   },
   "file_extension": ".py",
   "mimetype": "text/x-python",
   "name": "python",
   "nbconvert_exporter": "python",
   "pygments_lexer": "ipython3",
   "version": "3.6.8"
  },
  "toc": {
   "base_numbering": 1,
   "nav_menu": {},
   "number_sections": true,
   "sideBar": true,
   "skip_h1_title": false,
   "title_cell": "Table of Contents",
   "title_sidebar": "Contents",
   "toc_cell": false,
   "toc_position": {},
   "toc_section_display": true,
   "toc_window_display": false
  },
  "varInspector": {
   "cols": {
    "lenName": 16,
    "lenType": 16,
    "lenVar": 40
   },
   "kernels_config": {
    "python": {
     "delete_cmd_postfix": "",
     "delete_cmd_prefix": "del ",
     "library": "var_list.py",
     "varRefreshCmd": "print(var_dic_list())"
    },
    "r": {
     "delete_cmd_postfix": ") ",
     "delete_cmd_prefix": "rm(",
     "library": "var_list.r",
     "varRefreshCmd": "cat(var_dic_list()) "
    }
   },
   "types_to_exclude": [
    "module",
    "function",
    "builtin_function_or_method",
    "instance",
    "_Feature"
   ],
   "window_display": false
  }
 },
 "nbformat": 4,
 "nbformat_minor": 2
}
